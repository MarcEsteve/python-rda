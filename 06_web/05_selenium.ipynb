{
 "cells": [
  {
   "cell_type": "markdown",
   "id": "207ee536-2093-41d0-8258-27f4485ca76b",
   "metadata": {},
   "source": [
    "# Selenium para Automatizar navegador web"
   ]
  },
  {
   "cell_type": "markdown",
   "id": "6a3cdf70-cf38-42f9-94b2-0cbcd61a1e02",
   "metadata": {},
   "source": [
    "### Importaciones"
   ]
  },
  {
   "cell_type": "code",
   "execution_count": 2,
   "id": "31d856e7-18c0-4b83-8864-c8f12b03d399",
   "metadata": {},
   "outputs": [],
   "source": [
    "from selenium import webdriver\n",
    "from selenium.webdriver.common.by import By\n",
    "from selenium.webdriver.firefox.service import Service\n",
    "from webdriver_manager.firefox import GeckoDriverManager"
   ]
  },
  {
   "cell_type": "markdown",
   "id": "6dc07526-4089-4920-8842-845ab80adf34",
   "metadata": {},
   "source": [
    "### Instalamos webdriver para Firefox"
   ]
  },
  {
   "cell_type": "code",
   "execution_count": 56,
   "id": "fda33675-ea37-496e-9a07-69376bfd0180",
   "metadata": {},
   "outputs": [],
   "source": [
    "driver = webdriver.Firefox(service=Service(GeckoDriverManager().install()))"
   ]
  },
  {
   "cell_type": "markdown",
   "id": "aecf976d-34a6-4ce4-8175-ea4b0d7f92df",
   "metadata": {},
   "source": [
    "### Abrimos navegador Firefox y realizaremos búsqueda en Google"
   ]
  },
  {
   "cell_type": "code",
   "execution_count": 96,
   "id": "33c0fbf7-f6ea-48b8-95fd-ce33c62995f6",
   "metadata": {},
   "outputs": [],
   "source": [
    "driver.get(\"https://google.com\")"
   ]
  },
  {
   "cell_type": "code",
   "execution_count": 98,
   "id": "24e45421-08f0-488d-b63f-5854c098acaf",
   "metadata": {},
   "outputs": [],
   "source": [
    "elem = driver.find_element(By.CSS_SELECTOR, '#APjFqb') "
   ]
  },
  {
   "cell_type": "code",
   "execution_count": 92,
   "id": "ffb82eb2-0157-4bf2-8774-7213ec4301ed",
   "metadata": {},
   "outputs": [],
   "source": [
    "# Para por ejemplo Bing: https://www.bing.com/?setlang=es tenemos el selector '#sb_form_q'"
   ]
  },
  {
   "cell_type": "code",
   "execution_count": 100,
   "id": "13eec2de-f41a-4c43-b407-0c765002a254",
   "metadata": {},
   "outputs": [
    {
     "data": {
      "text/plain": [
       "<selenium.webdriver.remote.webelement.WebElement (session=\"7a104a14aed15f2da43f56ad7ea7ebda\", element=\"f.4D2464480C5C571D38979164830CF254.d.313D45EE7FBCA1B28119577493C04063.e.18\")>"
      ]
     },
     "execution_count": 100,
     "metadata": {},
     "output_type": "execute_result"
    }
   ],
   "source": [
    "elem"
   ]
  },
  {
   "cell_type": "code",
   "execution_count": 102,
   "id": "2cb18f5d-4f03-47d8-b309-37ee5132d12e",
   "metadata": {},
   "outputs": [],
   "source": [
    "elem.click()"
   ]
  },
  {
   "cell_type": "code",
   "execution_count": 104,
   "id": "d864fd09-e4d1-42eb-9868-68bb4ad88f87",
   "metadata": {},
   "outputs": [],
   "source": [
    "elem.send_keys('Temperatura en Madrid')"
   ]
  },
  {
   "cell_type": "code",
   "execution_count": 106,
   "id": "6a3a02a7-2bb8-4ad7-9381-5aa6dcbe77ae",
   "metadata": {},
   "outputs": [],
   "source": [
    "elem.submit()"
   ]
  },
  {
   "cell_type": "code",
   "execution_count": 48,
   "id": "d11e2f86-b075-48b7-a571-e088adc56cda",
   "metadata": {},
   "outputs": [],
   "source": [
    "driver.back()"
   ]
  },
  {
   "cell_type": "code",
   "execution_count": 45,
   "id": "1e10ecc8-5fd1-42ff-b09a-cf1f90a36445",
   "metadata": {},
   "outputs": [],
   "source": [
    "driver.forward()"
   ]
  },
  {
   "cell_type": "code",
   "execution_count": 69,
   "id": "7d50e5cc-7561-4fe0-a674-4a944579eed0",
   "metadata": {},
   "outputs": [],
   "source": [
    "elem.clear()"
   ]
  },
  {
   "cell_type": "code",
   "execution_count": 71,
   "id": "23497704-abdf-4686-8fdc-d8f2d9009099",
   "metadata": {},
   "outputs": [],
   "source": [
    "driver.refresh()"
   ]
  },
  {
   "cell_type": "code",
   "execution_count": 73,
   "id": "5feed32f-30f0-46bf-966b-5dc4a1f9e713",
   "metadata": {},
   "outputs": [],
   "source": [
    "driver.quit()"
   ]
  },
  {
   "cell_type": "markdown",
   "id": "ca526d59-e66d-49be-8f9e-723592f09761",
   "metadata": {},
   "source": [
    "## Otros navegadores"
   ]
  },
  {
   "cell_type": "markdown",
   "id": "4080a386-a3a1-4ff5-8d43-61fc738a6932",
   "metadata": {},
   "source": [
    "### Chrome"
   ]
  },
  {
   "cell_type": "code",
   "execution_count": 94,
   "id": "ffc3f0df-1c42-49bc-95db-7eefe7a2e488",
   "metadata": {},
   "outputs": [],
   "source": [
    "from selenium import webdriver\n",
    "from selenium.webdriver.chrome.service import Service\n",
    "from webdriver_manager.chrome import ChromeDriverManager\n",
    "\n",
    "driver = webdriver.Chrome(service=Service(ChromeDriverManager().install()))"
   ]
  },
  {
   "cell_type": "code",
   "execution_count": null,
   "id": "1d228518-fa73-439d-9078-b112d4022bb0",
   "metadata": {},
   "outputs": [],
   "source": []
  }
 ],
 "metadata": {
  "kernelspec": {
   "display_name": "Python [conda env:base] *",
   "language": "python",
   "name": "conda-base-py"
  },
  "language_info": {
   "codemirror_mode": {
    "name": "ipython",
    "version": 3
   },
   "file_extension": ".py",
   "mimetype": "text/x-python",
   "name": "python",
   "nbconvert_exporter": "python",
   "pygments_lexer": "ipython3",
   "version": "3.12.7"
  }
 },
 "nbformat": 4,
 "nbformat_minor": 5
}
