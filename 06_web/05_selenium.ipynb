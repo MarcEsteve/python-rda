{
 "cells": [
  {
   "cell_type": "markdown",
   "id": "207ee536-2093-41d0-8258-27f4485ca76b",
   "metadata": {},
   "source": [
    "# Selenium para Automatizar navegador web"
   ]
  },
  {
   "cell_type": "markdown",
   "id": "6a3cdf70-cf38-42f9-94b2-0cbcd61a1e02",
   "metadata": {},
   "source": [
    "### Importaciones"
   ]
  },
  {
   "cell_type": "code",
   "execution_count": 110,
   "id": "31d856e7-18c0-4b83-8864-c8f12b03d399",
   "metadata": {},
   "outputs": [],
   "source": [
    "from selenium import webdriver\n",
    "from selenium.webdriver.common.by import By\n",
    "from selenium.webdriver.firefox.service import Service\n",
    "from webdriver_manager.firefox import GeckoDriverManager"
   ]
  },
  {
   "cell_type": "markdown",
   "id": "6dc07526-4089-4920-8842-845ab80adf34",
   "metadata": {},
   "source": [
    "### Instalamos webdriver para Firefox"
   ]
  },
  {
   "cell_type": "code",
   "execution_count": 112,
   "id": "fda33675-ea37-496e-9a07-69376bfd0180",
   "metadata": {},
   "outputs": [],
   "source": [
    "driver = webdriver.Firefox(service=Service(GeckoDriverManager().install()))"
   ]
  },
  {
   "cell_type": "markdown",
   "id": "aecf976d-34a6-4ce4-8175-ea4b0d7f92df",
   "metadata": {},
   "source": [
    "### Abrimos navegador Firefox y realizaremos búsqueda en Google"
   ]
  },
  {
   "cell_type": "code",
   "execution_count": 114,
   "id": "33c0fbf7-f6ea-48b8-95fd-ce33c62995f6",
   "metadata": {},
   "outputs": [],
   "source": [
    "driver.get(\"https://www.google.com\")"
   ]
  },
  {
   "cell_type": "code",
   "execution_count": 152,
   "id": "24e45421-08f0-488d-b63f-5854c098acaf",
   "metadata": {},
   "outputs": [],
   "source": [
    "elem = driver.find_element(By.CSS_SELECTOR, '#APjFqb')"
   ]
  },
  {
   "cell_type": "code",
   "execution_count": 134,
   "id": "13eec2de-f41a-4c43-b407-0c765002a254",
   "metadata": {},
   "outputs": [
    {
     "data": {
      "text/plain": [
       "<selenium.webdriver.remote.webelement.WebElement (session=\"c3387ff3-adfd-4a4f-bcca-2e6f86fd0d6d\", element=\"98b50c65-57fd-4f7d-ac21-aab3e6d56266\")>"
      ]
     },
     "execution_count": 134,
     "metadata": {},
     "output_type": "execute_result"
    }
   ],
   "source": [
    "elem"
   ]
  },
  {
   "cell_type": "code",
   "execution_count": 154,
   "id": "2cb18f5d-4f03-47d8-b309-37ee5132d12e",
   "metadata": {},
   "outputs": [],
   "source": [
    "elem.click()"
   ]
  },
  {
   "cell_type": "code",
   "execution_count": 156,
   "id": "d864fd09-e4d1-42eb-9868-68bb4ad88f87",
   "metadata": {},
   "outputs": [],
   "source": [
    "elem.send_keys('Temperatura en Madrid')"
   ]
  },
  {
   "cell_type": "code",
   "execution_count": 140,
   "id": "6a3a02a7-2bb8-4ad7-9381-5aa6dcbe77ae",
   "metadata": {},
   "outputs": [],
   "source": [
    "elem.submit()"
   ]
  },
  {
   "cell_type": "code",
   "execution_count": 148,
   "id": "d11e2f86-b075-48b7-a571-e088adc56cda",
   "metadata": {},
   "outputs": [],
   "source": [
    "driver.back()"
   ]
  },
  {
   "cell_type": "code",
   "execution_count": 144,
   "id": "1e10ecc8-5fd1-42ff-b09a-cf1f90a36445",
   "metadata": {},
   "outputs": [],
   "source": [
    "driver.forward()"
   ]
  },
  {
   "cell_type": "code",
   "execution_count": 158,
   "id": "7d50e5cc-7561-4fe0-a674-4a944579eed0",
   "metadata": {},
   "outputs": [],
   "source": [
    "elem.clear()"
   ]
  },
  {
   "cell_type": "code",
   "execution_count": 160,
   "id": "23497704-abdf-4686-8fdc-d8f2d9009099",
   "metadata": {},
   "outputs": [],
   "source": [
    "driver.refresh()"
   ]
  },
  {
   "cell_type": "code",
   "execution_count": 108,
   "id": "5feed32f-30f0-46bf-966b-5dc4a1f9e713",
   "metadata": {},
   "outputs": [],
   "source": [
    "driver.quit()"
   ]
  }
 ],
 "metadata": {
  "kernelspec": {
   "display_name": "Python [conda env:base] *",
   "language": "python",
   "name": "conda-base-py"
  },
  "language_info": {
   "codemirror_mode": {
    "name": "ipython",
    "version": 3
   },
   "file_extension": ".py",
   "mimetype": "text/x-python",
   "name": "python",
   "nbconvert_exporter": "python",
   "pygments_lexer": "ipython3",
   "version": "3.12.7"
  }
 },
 "nbformat": 4,
 "nbformat_minor": 5
}
