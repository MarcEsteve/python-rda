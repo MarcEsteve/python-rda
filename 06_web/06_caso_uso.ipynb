{
 "cells": [
  {
   "cell_type": "markdown",
   "id": "5d5f5cf5-2d26-44f2-a384-7b9971f375ca",
   "metadata": {},
   "source": [
    "# Automatización Inserción Web Selenium"
   ]
  },
  {
   "cell_type": "code",
   "execution_count": 57,
   "id": "ddf9d1d4-85b0-43d0-8468-afae58b0dfd0",
   "metadata": {},
   "outputs": [],
   "source": [
    "from selenium import webdriver\n",
    "from selenium.webdriver.common.by import By\n",
    "from selenium.webdriver.firefox.service import Service\n",
    "from webdriver_manager.firefox import GeckoDriverManager\n",
    "\n",
    "driver = webdriver.Firefox(service=Service(GeckoDriverManager().install())) # Iniciamos el driver de Firefox"
   ]
  },
  {
   "cell_type": "code",
   "execution_count": 59,
   "id": "b0afd608-772f-4bdb-ac61-7b8bdc524281",
   "metadata": {},
   "outputs": [],
   "source": [
    "driver.get(\"https://ventas27122020.bubbleapps.io/version-test\")"
   ]
  },
  {
   "cell_type": "code",
   "execution_count": 61,
   "id": "e4749174-0327-4977-bb6a-00c7dfe8b8b4",
   "metadata": {},
   "outputs": [],
   "source": [
    "selector = 'div.bubble-r-line:nth-child(2) > div:nth-child(1) > input:nth-child(1)'\n",
    "\n",
    "elem = driver.find_element(By.CSS_SELECTOR, selector)"
   ]
  },
  {
   "cell_type": "code",
   "execution_count": 63,
   "id": "2da2a208-1434-4230-8340-944db75ebea4",
   "metadata": {},
   "outputs": [],
   "source": [
    "elem.click()"
   ]
  },
  {
   "cell_type": "code",
   "execution_count": 69,
   "id": "a059ce38-cf79-4e7c-b39e-3302166e070f",
   "metadata": {},
   "outputs": [],
   "source": [
    "elem.send_keys('Marc')"
   ]
  },
  {
   "cell_type": "code",
   "execution_count": 89,
   "id": "cd1ca062-aced-480c-a4a6-8603906698ed",
   "metadata": {},
   "outputs": [],
   "source": [
    "elem.clear()"
   ]
  },
  {
   "cell_type": "markdown",
   "id": "2e6d895f-ed9c-4041-a18e-7634942d0dd4",
   "metadata": {},
   "source": [
    "### Elementos de cada campo de texto + Guardar"
   ]
  },
  {
   "cell_type": "code",
   "execution_count": 199,
   "id": "93e7a564-5c78-4b2c-8671-c49ed0ecd411",
   "metadata": {},
   "outputs": [],
   "source": [
    "elemComercial = driver.find_element(By.CSS_SELECTOR, 'div.bubble-r-line:nth-child(2) > div:nth-child(1) > input:nth-child(1)') \n",
    "elemLineaProducto = driver.find_element(By.CSS_SELECTOR, 'div.bubble-r-line:nth-child(2) > div:nth-child(2) > input:nth-child(1)')\n",
    "elemUnidades = driver.find_element(By.CSS_SELECTOR, 'div.bubble-r-line:nth-child(3) > div:nth-child(1) > input:nth-child(1)') \n",
    "elemFecha = driver.find_element(By.CSS_SELECTOR, 'div.bubble-r-line:nth-child(4) > div:nth-child(1) > input:nth-child(1)') \n",
    "elemCodigoProducto = driver.find_element(By.CSS_SELECTOR, 'div.bubble-r-line:nth-child(4) > div:nth-child(2) > input:nth-child(2)') \n",
    "elemPais = driver.find_element(By.CSS_SELECTOR, 'div.bubble-r-line:nth-child(4) > div:nth-child(2) > input:nth-child(1)') \n",
    "elemPrecioUnitario = driver.find_element(By.CSS_SELECTOR, 'div.bubble-r-line:nth-child(5) > div:nth-child(1) > input:nth-child(2)') \n",
    "elemVentaTotal = driver.find_element(By.CSS_SELECTOR, 'div.bubble-r-line:nth-child(5) > div:nth-child(1) > input:nth-child(1)') "
   ]
  },
  {
   "cell_type": "code",
   "execution_count": 83,
   "id": "4388d8ae-2d96-4537-9eb4-2f10bbdb17af",
   "metadata": {},
   "outputs": [],
   "source": [
    "elemGuardar = driver.find_element(By.CSS_SELECTOR, '.clickable-element')"
   ]
  },
  {
   "cell_type": "markdown",
   "id": "e41279e6-75aa-4e01-9443-8854905d55e5",
   "metadata": {},
   "source": [
    "### Utilizamos un DataFrame con el que rellenaremos los campos"
   ]
  },
  {
   "cell_type": "code",
   "execution_count": 77,
   "id": "3cca133f-4a8b-4f23-938e-62fc921c2964",
   "metadata": {},
   "outputs": [
    {
     "data": {
      "text/html": [
       "<div>\n",
       "<style scoped>\n",
       "    .dataframe tbody tr th:only-of-type {\n",
       "        vertical-align: middle;\n",
       "    }\n",
       "\n",
       "    .dataframe tbody tr th {\n",
       "        vertical-align: top;\n",
       "    }\n",
       "\n",
       "    .dataframe thead th {\n",
       "        text-align: right;\n",
       "    }\n",
       "</style>\n",
       "<table border=\"1\" class=\"dataframe\">\n",
       "  <thead>\n",
       "    <tr style=\"text-align: right;\">\n",
       "      <th></th>\n",
       "      <th>Comercial</th>\n",
       "      <th>Unidades</th>\n",
       "      <th>Precio Unitario</th>\n",
       "      <th>Total Venta</th>\n",
       "      <th>Fecha</th>\n",
       "      <th>Línea de Producto</th>\n",
       "      <th>Código de Producto</th>\n",
       "      <th>País</th>\n",
       "      <th>Territorio</th>\n",
       "      <th>Beneficio</th>\n",
       "    </tr>\n",
       "  </thead>\n",
       "  <tbody>\n",
       "    <tr>\n",
       "      <th>0</th>\n",
       "      <td>José A</td>\n",
       "      <td>31</td>\n",
       "      <td>100.00</td>\n",
       "      <td>4305.28</td>\n",
       "      <td>2022-01-04</td>\n",
       "      <td>Classic Cars</td>\n",
       "      <td>S10_4962</td>\n",
       "      <td>France</td>\n",
       "      <td>EMEA</td>\n",
       "      <td>861.0560</td>\n",
       "    </tr>\n",
       "    <tr>\n",
       "      <th>1</th>\n",
       "      <td>Esteban F</td>\n",
       "      <td>39</td>\n",
       "      <td>100.00</td>\n",
       "      <td>4164.42</td>\n",
       "      <td>2022-01-04</td>\n",
       "      <td>Trucks and Buses</td>\n",
       "      <td>S18_2319</td>\n",
       "      <td>France</td>\n",
       "      <td>EMEA</td>\n",
       "      <td>3331.5360</td>\n",
       "    </tr>\n",
       "    <tr>\n",
       "      <th>2</th>\n",
       "      <td>Luis M</td>\n",
       "      <td>45</td>\n",
       "      <td>68.67</td>\n",
       "      <td>3090.15</td>\n",
       "      <td>2022-01-04</td>\n",
       "      <td>Trucks and Buses</td>\n",
       "      <td>S18_2432</td>\n",
       "      <td>France</td>\n",
       "      <td>EMEA</td>\n",
       "      <td>2194.0065</td>\n",
       "    </tr>\n",
       "    <tr>\n",
       "      <th>3</th>\n",
       "      <td>María G</td>\n",
       "      <td>48</td>\n",
       "      <td>100.00</td>\n",
       "      <td>8209.44</td>\n",
       "      <td>2022-01-04</td>\n",
       "      <td>Classic Cars</td>\n",
       "      <td>S18_3232</td>\n",
       "      <td>France</td>\n",
       "      <td>EMEA</td>\n",
       "      <td>1806.0768</td>\n",
       "    </tr>\n",
       "    <tr>\n",
       "      <th>4</th>\n",
       "      <td>Iván M</td>\n",
       "      <td>41</td>\n",
       "      <td>100.00</td>\n",
       "      <td>4815.45</td>\n",
       "      <td>2022-01-04</td>\n",
       "      <td>Trucks and Buses</td>\n",
       "      <td>S18_4600</td>\n",
       "      <td>France</td>\n",
       "      <td>EMEA</td>\n",
       "      <td>3756.0510</td>\n",
       "    </tr>\n",
       "  </tbody>\n",
       "</table>\n",
       "</div>"
      ],
      "text/plain": [
       "   Comercial  Unidades  Precio Unitario  Total Venta      Fecha  \\\n",
       "0     José A        31           100.00      4305.28 2022-01-04   \n",
       "1  Esteban F        39           100.00      4164.42 2022-01-04   \n",
       "2     Luis M        45            68.67      3090.15 2022-01-04   \n",
       "3    María G        48           100.00      8209.44 2022-01-04   \n",
       "4     Iván M        41           100.00      4815.45 2022-01-04   \n",
       "\n",
       "  Línea de Producto Código de Producto    País Territorio  Beneficio  \n",
       "0      Classic Cars           S10_4962  France       EMEA   861.0560  \n",
       "1  Trucks and Buses           S18_2319  France       EMEA  3331.5360  \n",
       "2  Trucks and Buses           S18_2432  France       EMEA  2194.0065  \n",
       "3      Classic Cars           S18_3232  France       EMEA  1806.0768  \n",
       "4  Trucks and Buses           S18_4600  France       EMEA  3756.0510  "
      ]
     },
     "execution_count": 77,
     "metadata": {},
     "output_type": "execute_result"
    }
   ],
   "source": [
    "import pandas as pd\n",
    "df_ventas = pd.read_excel('C:/Users/artha/OneDrive/Escritorio/AKKODIS/python-rda/06_web/Ventas_productos_automóvil.xlsx')\n",
    "df_ventas.head()"
   ]
  },
  {
   "cell_type": "markdown",
   "id": "1efb08d5-723c-4432-bb3c-d6e5f1dddfe7",
   "metadata": {},
   "source": [
    "### Ahora insertamos el primer registro en el CRM de Ventas"
   ]
  },
  {
   "cell_type": "code",
   "execution_count": 205,
   "id": "78a527a2-0abd-4d42-9890-4fdaee64758e",
   "metadata": {},
   "outputs": [],
   "source": [
    "elemComercial.send_keys(str(df_ventas['Comercial'][0]))\n",
    "elemLineaProducto.send_keys(str(df_ventas['Línea de Producto'][0]))\n",
    "elemUnidades.send_keys(str(df_ventas['Unidades'][0]))\n",
    "elemFecha.send_keys(str(df_ventas['Fecha'][0])) \n",
    "elemCodigoProducto.send_keys(df_ventas['Código de Producto'][0])\n",
    "elemPais.send_keys(df_ventas['País'][0])\n",
    "elemPrecioUnitario.send_keys(df_ventas['Precio Unitario'][0])\n",
    "elemVentaTotal.send_keys(str(df_ventas['Total Venta'][0]))\n",
    "elemGuardar.click() # Guardamos el registro en la página web"
   ]
  },
  {
   "cell_type": "code",
   "execution_count": 203,
   "id": "d7bf4890-1f28-496a-9a9b-b340ba8427a3",
   "metadata": {},
   "outputs": [],
   "source": [
    "elemComercial.clear()\n",
    "elemLineaProducto.clear()\n",
    "elemUnidades.clear() # Limpiamos el campo de texto de Unidades\n",
    "elemFecha.clear() # Limpiamos el campo de texto de Fecha\n",
    "elemCodigoProducto.clear() # Limpiamos el campo de texto de Código de Producto\n",
    "elemPais.clear() # Limpiamos el campo de texto de País\n",
    "elemPrecioUnitario.clear() # Limpiamos el campo de texto de Precio Unitario\n",
    "elemVentaTotal.clear() # Limpiamos el campo de texto de V"
   ]
  },
  {
   "cell_type": "code",
   "execution_count": 207,
   "id": "94872c67-bdcc-4fb7-b0ec-57ce8120daba",
   "metadata": {},
   "outputs": [],
   "source": [
    "elemGuardar.click() # Guardamos el registro en la página web"
   ]
  },
  {
   "cell_type": "markdown",
   "id": "225992b7-798c-4738-853e-ac141830ab70",
   "metadata": {},
   "source": [
    "### Insertamos todos los registros de df_ventas"
   ]
  },
  {
   "cell_type": "code",
   "execution_count": 212,
   "id": "2efe78c3-3ed0-482e-be85-6ce299ff495e",
   "metadata": {},
   "outputs": [
    {
     "ename": "KeyboardInterrupt",
     "evalue": "",
     "output_type": "error",
     "traceback": [
      "\u001b[1;31m---------------------------------------------------------------------------\u001b[0m",
      "\u001b[1;31mKeyboardInterrupt\u001b[0m                         Traceback (most recent call last)",
      "Cell \u001b[1;32mIn[212], line 19\u001b[0m\n\u001b[0;32m     17\u001b[0m elemPais\u001b[38;5;241m.\u001b[39mclear() \u001b[38;5;66;03m# Limpiamos el campo de texto de País\u001b[39;00m\n\u001b[0;32m     18\u001b[0m elemPrecioUnitario\u001b[38;5;241m.\u001b[39mclear() \u001b[38;5;66;03m# Limpiamos el campo de texto de Precio Unitario\u001b[39;00m\n\u001b[1;32m---> 19\u001b[0m elemVentaTotal\u001b[38;5;241m.\u001b[39mclear() \u001b[38;5;66;03m# Limpiamos el campo de texto de V\u001b[39;00m\n\u001b[0;32m     21\u001b[0m elemGuardar\u001b[38;5;241m.\u001b[39mclick()\n",
      "File \u001b[1;32m~\\anaconda3\\Lib\\site-packages\\selenium\\webdriver\\remote\\webelement.py:154\u001b[0m, in \u001b[0;36mWebElement.clear\u001b[1;34m(self)\u001b[0m\n\u001b[0;32m    146\u001b[0m \u001b[38;5;28;01mdef\u001b[39;00m \u001b[38;5;21mclear\u001b[39m(\u001b[38;5;28mself\u001b[39m) \u001b[38;5;241m-\u001b[39m\u001b[38;5;241m>\u001b[39m \u001b[38;5;28;01mNone\u001b[39;00m:\n\u001b[0;32m    147\u001b[0m \u001b[38;5;250m    \u001b[39m\u001b[38;5;124;03m\"\"\"Clears the text if it's a text entry element.\u001b[39;00m\n\u001b[0;32m    148\u001b[0m \n\u001b[0;32m    149\u001b[0m \u001b[38;5;124;03m    Example:\u001b[39;00m\n\u001b[1;32m   (...)\u001b[0m\n\u001b[0;32m    152\u001b[0m \u001b[38;5;124;03m    >>> text_field.clear()\u001b[39;00m\n\u001b[0;32m    153\u001b[0m \u001b[38;5;124;03m    \"\"\"\u001b[39;00m\n\u001b[1;32m--> 154\u001b[0m     \u001b[38;5;28mself\u001b[39m\u001b[38;5;241m.\u001b[39m_execute(Command\u001b[38;5;241m.\u001b[39mCLEAR_ELEMENT)\n",
      "File \u001b[1;32m~\\anaconda3\\Lib\\site-packages\\selenium\\webdriver\\remote\\webelement.py:572\u001b[0m, in \u001b[0;36mWebElement._execute\u001b[1;34m(self, command, params)\u001b[0m\n\u001b[0;32m    570\u001b[0m     params \u001b[38;5;241m=\u001b[39m {}\n\u001b[0;32m    571\u001b[0m params[\u001b[38;5;124m\"\u001b[39m\u001b[38;5;124mid\u001b[39m\u001b[38;5;124m\"\u001b[39m] \u001b[38;5;241m=\u001b[39m \u001b[38;5;28mself\u001b[39m\u001b[38;5;241m.\u001b[39m_id\n\u001b[1;32m--> 572\u001b[0m \u001b[38;5;28;01mreturn\u001b[39;00m \u001b[38;5;28mself\u001b[39m\u001b[38;5;241m.\u001b[39m_parent\u001b[38;5;241m.\u001b[39mexecute(command, params)\n",
      "File \u001b[1;32m~\\anaconda3\\Lib\\site-packages\\selenium\\webdriver\\remote\\webdriver.py:427\u001b[0m, in \u001b[0;36mWebDriver.execute\u001b[1;34m(self, driver_command, params)\u001b[0m\n\u001b[0;32m    424\u001b[0m     \u001b[38;5;28;01melif\u001b[39;00m \u001b[38;5;124m\"\u001b[39m\u001b[38;5;124msessionId\u001b[39m\u001b[38;5;124m\"\u001b[39m \u001b[38;5;129;01mnot\u001b[39;00m \u001b[38;5;129;01min\u001b[39;00m params:\n\u001b[0;32m    425\u001b[0m         params[\u001b[38;5;124m\"\u001b[39m\u001b[38;5;124msessionId\u001b[39m\u001b[38;5;124m\"\u001b[39m] \u001b[38;5;241m=\u001b[39m \u001b[38;5;28mself\u001b[39m\u001b[38;5;241m.\u001b[39msession_id\n\u001b[1;32m--> 427\u001b[0m response \u001b[38;5;241m=\u001b[39m \u001b[38;5;28mself\u001b[39m\u001b[38;5;241m.\u001b[39mcommand_executor\u001b[38;5;241m.\u001b[39mexecute(driver_command, params)\n\u001b[0;32m    428\u001b[0m \u001b[38;5;28;01mif\u001b[39;00m response:\n\u001b[0;32m    429\u001b[0m     \u001b[38;5;28mself\u001b[39m\u001b[38;5;241m.\u001b[39merror_handler\u001b[38;5;241m.\u001b[39mcheck_response(response)\n",
      "File \u001b[1;32m~\\anaconda3\\Lib\\site-packages\\selenium\\webdriver\\remote\\remote_connection.py:404\u001b[0m, in \u001b[0;36mRemoteConnection.execute\u001b[1;34m(self, command, params)\u001b[0m\n\u001b[0;32m    402\u001b[0m trimmed \u001b[38;5;241m=\u001b[39m \u001b[38;5;28mself\u001b[39m\u001b[38;5;241m.\u001b[39m_trim_large_entries(params)\n\u001b[0;32m    403\u001b[0m LOGGER\u001b[38;5;241m.\u001b[39mdebug(\u001b[38;5;124m\"\u001b[39m\u001b[38;5;132;01m%s\u001b[39;00m\u001b[38;5;124m \u001b[39m\u001b[38;5;132;01m%s\u001b[39;00m\u001b[38;5;124m \u001b[39m\u001b[38;5;132;01m%s\u001b[39;00m\u001b[38;5;124m\"\u001b[39m, command_info[\u001b[38;5;241m0\u001b[39m], url, \u001b[38;5;28mstr\u001b[39m(trimmed))\n\u001b[1;32m--> 404\u001b[0m \u001b[38;5;28;01mreturn\u001b[39;00m \u001b[38;5;28mself\u001b[39m\u001b[38;5;241m.\u001b[39m_request(command_info[\u001b[38;5;241m0\u001b[39m], url, body\u001b[38;5;241m=\u001b[39mdata)\n",
      "File \u001b[1;32m~\\anaconda3\\Lib\\site-packages\\selenium\\webdriver\\remote\\remote_connection.py:428\u001b[0m, in \u001b[0;36mRemoteConnection._request\u001b[1;34m(self, method, url, body)\u001b[0m\n\u001b[0;32m    425\u001b[0m     body \u001b[38;5;241m=\u001b[39m \u001b[38;5;28;01mNone\u001b[39;00m\n\u001b[0;32m    427\u001b[0m \u001b[38;5;28;01mif\u001b[39;00m \u001b[38;5;28mself\u001b[39m\u001b[38;5;241m.\u001b[39m_client_config\u001b[38;5;241m.\u001b[39mkeep_alive:\n\u001b[1;32m--> 428\u001b[0m     response \u001b[38;5;241m=\u001b[39m \u001b[38;5;28mself\u001b[39m\u001b[38;5;241m.\u001b[39m_conn\u001b[38;5;241m.\u001b[39mrequest(method, url, body\u001b[38;5;241m=\u001b[39mbody, headers\u001b[38;5;241m=\u001b[39mheaders, timeout\u001b[38;5;241m=\u001b[39m\u001b[38;5;28mself\u001b[39m\u001b[38;5;241m.\u001b[39m_client_config\u001b[38;5;241m.\u001b[39mtimeout)\n\u001b[0;32m    429\u001b[0m     statuscode \u001b[38;5;241m=\u001b[39m response\u001b[38;5;241m.\u001b[39mstatus\n\u001b[0;32m    430\u001b[0m \u001b[38;5;28;01melse\u001b[39;00m:\n",
      "File \u001b[1;32m~\\anaconda3\\Lib\\site-packages\\urllib3\\_request_methods.py:143\u001b[0m, in \u001b[0;36mRequestMethods.request\u001b[1;34m(self, method, url, body, fields, headers, json, **urlopen_kw)\u001b[0m\n\u001b[0;32m    135\u001b[0m     \u001b[38;5;28;01mreturn\u001b[39;00m \u001b[38;5;28mself\u001b[39m\u001b[38;5;241m.\u001b[39mrequest_encode_url(\n\u001b[0;32m    136\u001b[0m         method,\n\u001b[0;32m    137\u001b[0m         url,\n\u001b[1;32m   (...)\u001b[0m\n\u001b[0;32m    140\u001b[0m         \u001b[38;5;241m*\u001b[39m\u001b[38;5;241m*\u001b[39murlopen_kw,\n\u001b[0;32m    141\u001b[0m     )\n\u001b[0;32m    142\u001b[0m \u001b[38;5;28;01melse\u001b[39;00m:\n\u001b[1;32m--> 143\u001b[0m     \u001b[38;5;28;01mreturn\u001b[39;00m \u001b[38;5;28mself\u001b[39m\u001b[38;5;241m.\u001b[39mrequest_encode_body(\n\u001b[0;32m    144\u001b[0m         method, url, fields\u001b[38;5;241m=\u001b[39mfields, headers\u001b[38;5;241m=\u001b[39mheaders, \u001b[38;5;241m*\u001b[39m\u001b[38;5;241m*\u001b[39murlopen_kw\n\u001b[0;32m    145\u001b[0m     )\n",
      "File \u001b[1;32m~\\anaconda3\\Lib\\site-packages\\urllib3\\_request_methods.py:278\u001b[0m, in \u001b[0;36mRequestMethods.request_encode_body\u001b[1;34m(self, method, url, fields, headers, encode_multipart, multipart_boundary, **urlopen_kw)\u001b[0m\n\u001b[0;32m    274\u001b[0m     extra_kw[\u001b[38;5;124m\"\u001b[39m\u001b[38;5;124mheaders\u001b[39m\u001b[38;5;124m\"\u001b[39m]\u001b[38;5;241m.\u001b[39msetdefault(\u001b[38;5;124m\"\u001b[39m\u001b[38;5;124mContent-Type\u001b[39m\u001b[38;5;124m\"\u001b[39m, content_type)\n\u001b[0;32m    276\u001b[0m extra_kw\u001b[38;5;241m.\u001b[39mupdate(urlopen_kw)\n\u001b[1;32m--> 278\u001b[0m \u001b[38;5;28;01mreturn\u001b[39;00m \u001b[38;5;28mself\u001b[39m\u001b[38;5;241m.\u001b[39murlopen(method, url, \u001b[38;5;241m*\u001b[39m\u001b[38;5;241m*\u001b[39mextra_kw)\n",
      "File \u001b[1;32m~\\anaconda3\\Lib\\site-packages\\urllib3\\poolmanager.py:443\u001b[0m, in \u001b[0;36mPoolManager.urlopen\u001b[1;34m(self, method, url, redirect, **kw)\u001b[0m\n\u001b[0;32m    441\u001b[0m     response \u001b[38;5;241m=\u001b[39m conn\u001b[38;5;241m.\u001b[39murlopen(method, url, \u001b[38;5;241m*\u001b[39m\u001b[38;5;241m*\u001b[39mkw)\n\u001b[0;32m    442\u001b[0m \u001b[38;5;28;01melse\u001b[39;00m:\n\u001b[1;32m--> 443\u001b[0m     response \u001b[38;5;241m=\u001b[39m conn\u001b[38;5;241m.\u001b[39murlopen(method, u\u001b[38;5;241m.\u001b[39mrequest_uri, \u001b[38;5;241m*\u001b[39m\u001b[38;5;241m*\u001b[39mkw)\n\u001b[0;32m    445\u001b[0m redirect_location \u001b[38;5;241m=\u001b[39m redirect \u001b[38;5;129;01mand\u001b[39;00m response\u001b[38;5;241m.\u001b[39mget_redirect_location()\n\u001b[0;32m    446\u001b[0m \u001b[38;5;28;01mif\u001b[39;00m \u001b[38;5;129;01mnot\u001b[39;00m redirect_location:\n",
      "File \u001b[1;32m~\\anaconda3\\Lib\\site-packages\\urllib3\\connectionpool.py:789\u001b[0m, in \u001b[0;36mHTTPConnectionPool.urlopen\u001b[1;34m(self, method, url, body, headers, retries, redirect, assert_same_host, timeout, pool_timeout, release_conn, chunked, body_pos, preload_content, decode_content, **response_kw)\u001b[0m\n\u001b[0;32m    786\u001b[0m response_conn \u001b[38;5;241m=\u001b[39m conn \u001b[38;5;28;01mif\u001b[39;00m \u001b[38;5;129;01mnot\u001b[39;00m release_conn \u001b[38;5;28;01melse\u001b[39;00m \u001b[38;5;28;01mNone\u001b[39;00m\n\u001b[0;32m    788\u001b[0m \u001b[38;5;66;03m# Make the request on the HTTPConnection object\u001b[39;00m\n\u001b[1;32m--> 789\u001b[0m response \u001b[38;5;241m=\u001b[39m \u001b[38;5;28mself\u001b[39m\u001b[38;5;241m.\u001b[39m_make_request(\n\u001b[0;32m    790\u001b[0m     conn,\n\u001b[0;32m    791\u001b[0m     method,\n\u001b[0;32m    792\u001b[0m     url,\n\u001b[0;32m    793\u001b[0m     timeout\u001b[38;5;241m=\u001b[39mtimeout_obj,\n\u001b[0;32m    794\u001b[0m     body\u001b[38;5;241m=\u001b[39mbody,\n\u001b[0;32m    795\u001b[0m     headers\u001b[38;5;241m=\u001b[39mheaders,\n\u001b[0;32m    796\u001b[0m     chunked\u001b[38;5;241m=\u001b[39mchunked,\n\u001b[0;32m    797\u001b[0m     retries\u001b[38;5;241m=\u001b[39mretries,\n\u001b[0;32m    798\u001b[0m     response_conn\u001b[38;5;241m=\u001b[39mresponse_conn,\n\u001b[0;32m    799\u001b[0m     preload_content\u001b[38;5;241m=\u001b[39mpreload_content,\n\u001b[0;32m    800\u001b[0m     decode_content\u001b[38;5;241m=\u001b[39mdecode_content,\n\u001b[0;32m    801\u001b[0m     \u001b[38;5;241m*\u001b[39m\u001b[38;5;241m*\u001b[39mresponse_kw,\n\u001b[0;32m    802\u001b[0m )\n\u001b[0;32m    804\u001b[0m \u001b[38;5;66;03m# Everything went great!\u001b[39;00m\n\u001b[0;32m    805\u001b[0m clean_exit \u001b[38;5;241m=\u001b[39m \u001b[38;5;28;01mTrue\u001b[39;00m\n",
      "File \u001b[1;32m~\\anaconda3\\Lib\\site-packages\\urllib3\\connectionpool.py:536\u001b[0m, in \u001b[0;36mHTTPConnectionPool._make_request\u001b[1;34m(self, conn, method, url, body, headers, retries, timeout, chunked, response_conn, preload_content, decode_content, enforce_content_length)\u001b[0m\n\u001b[0;32m    534\u001b[0m \u001b[38;5;66;03m# Receive the response from the server\u001b[39;00m\n\u001b[0;32m    535\u001b[0m \u001b[38;5;28;01mtry\u001b[39;00m:\n\u001b[1;32m--> 536\u001b[0m     response \u001b[38;5;241m=\u001b[39m conn\u001b[38;5;241m.\u001b[39mgetresponse()\n\u001b[0;32m    537\u001b[0m \u001b[38;5;28;01mexcept\u001b[39;00m (BaseSSLError, \u001b[38;5;167;01mOSError\u001b[39;00m) \u001b[38;5;28;01mas\u001b[39;00m e:\n\u001b[0;32m    538\u001b[0m     \u001b[38;5;28mself\u001b[39m\u001b[38;5;241m.\u001b[39m_raise_timeout(err\u001b[38;5;241m=\u001b[39me, url\u001b[38;5;241m=\u001b[39murl, timeout_value\u001b[38;5;241m=\u001b[39mread_timeout)\n",
      "File \u001b[1;32m~\\anaconda3\\Lib\\site-packages\\urllib3\\connection.py:507\u001b[0m, in \u001b[0;36mHTTPConnection.getresponse\u001b[1;34m(self)\u001b[0m\n\u001b[0;32m    504\u001b[0m \u001b[38;5;28;01mfrom\u001b[39;00m \u001b[38;5;21;01m.\u001b[39;00m\u001b[38;5;21;01mresponse\u001b[39;00m \u001b[38;5;28;01mimport\u001b[39;00m HTTPResponse\n\u001b[0;32m    506\u001b[0m \u001b[38;5;66;03m# Get the response from http.client.HTTPConnection\u001b[39;00m\n\u001b[1;32m--> 507\u001b[0m httplib_response \u001b[38;5;241m=\u001b[39m \u001b[38;5;28msuper\u001b[39m()\u001b[38;5;241m.\u001b[39mgetresponse()\n\u001b[0;32m    509\u001b[0m \u001b[38;5;28;01mtry\u001b[39;00m:\n\u001b[0;32m    510\u001b[0m     assert_header_parsing(httplib_response\u001b[38;5;241m.\u001b[39mmsg)\n",
      "File \u001b[1;32m~\\anaconda3\\Lib\\http\\client.py:1428\u001b[0m, in \u001b[0;36mHTTPConnection.getresponse\u001b[1;34m(self)\u001b[0m\n\u001b[0;32m   1426\u001b[0m \u001b[38;5;28;01mtry\u001b[39;00m:\n\u001b[0;32m   1427\u001b[0m     \u001b[38;5;28;01mtry\u001b[39;00m:\n\u001b[1;32m-> 1428\u001b[0m         response\u001b[38;5;241m.\u001b[39mbegin()\n\u001b[0;32m   1429\u001b[0m     \u001b[38;5;28;01mexcept\u001b[39;00m \u001b[38;5;167;01mConnectionError\u001b[39;00m:\n\u001b[0;32m   1430\u001b[0m         \u001b[38;5;28mself\u001b[39m\u001b[38;5;241m.\u001b[39mclose()\n",
      "File \u001b[1;32m~\\anaconda3\\Lib\\http\\client.py:331\u001b[0m, in \u001b[0;36mHTTPResponse.begin\u001b[1;34m(self)\u001b[0m\n\u001b[0;32m    329\u001b[0m \u001b[38;5;66;03m# read until we get a non-100 response\u001b[39;00m\n\u001b[0;32m    330\u001b[0m \u001b[38;5;28;01mwhile\u001b[39;00m \u001b[38;5;28;01mTrue\u001b[39;00m:\n\u001b[1;32m--> 331\u001b[0m     version, status, reason \u001b[38;5;241m=\u001b[39m \u001b[38;5;28mself\u001b[39m\u001b[38;5;241m.\u001b[39m_read_status()\n\u001b[0;32m    332\u001b[0m     \u001b[38;5;28;01mif\u001b[39;00m status \u001b[38;5;241m!=\u001b[39m CONTINUE:\n\u001b[0;32m    333\u001b[0m         \u001b[38;5;28;01mbreak\u001b[39;00m\n",
      "File \u001b[1;32m~\\anaconda3\\Lib\\http\\client.py:292\u001b[0m, in \u001b[0;36mHTTPResponse._read_status\u001b[1;34m(self)\u001b[0m\n\u001b[0;32m    291\u001b[0m \u001b[38;5;28;01mdef\u001b[39;00m \u001b[38;5;21m_read_status\u001b[39m(\u001b[38;5;28mself\u001b[39m):\n\u001b[1;32m--> 292\u001b[0m     line \u001b[38;5;241m=\u001b[39m \u001b[38;5;28mstr\u001b[39m(\u001b[38;5;28mself\u001b[39m\u001b[38;5;241m.\u001b[39mfp\u001b[38;5;241m.\u001b[39mreadline(_MAXLINE \u001b[38;5;241m+\u001b[39m \u001b[38;5;241m1\u001b[39m), \u001b[38;5;124m\"\u001b[39m\u001b[38;5;124miso-8859-1\u001b[39m\u001b[38;5;124m\"\u001b[39m)\n\u001b[0;32m    293\u001b[0m     \u001b[38;5;28;01mif\u001b[39;00m \u001b[38;5;28mlen\u001b[39m(line) \u001b[38;5;241m>\u001b[39m _MAXLINE:\n\u001b[0;32m    294\u001b[0m         \u001b[38;5;28;01mraise\u001b[39;00m LineTooLong(\u001b[38;5;124m\"\u001b[39m\u001b[38;5;124mstatus line\u001b[39m\u001b[38;5;124m\"\u001b[39m)\n",
      "File \u001b[1;32m~\\anaconda3\\Lib\\socket.py:720\u001b[0m, in \u001b[0;36mSocketIO.readinto\u001b[1;34m(self, b)\u001b[0m\n\u001b[0;32m    718\u001b[0m \u001b[38;5;28;01mwhile\u001b[39;00m \u001b[38;5;28;01mTrue\u001b[39;00m:\n\u001b[0;32m    719\u001b[0m     \u001b[38;5;28;01mtry\u001b[39;00m:\n\u001b[1;32m--> 720\u001b[0m         \u001b[38;5;28;01mreturn\u001b[39;00m \u001b[38;5;28mself\u001b[39m\u001b[38;5;241m.\u001b[39m_sock\u001b[38;5;241m.\u001b[39mrecv_into(b)\n\u001b[0;32m    721\u001b[0m     \u001b[38;5;28;01mexcept\u001b[39;00m timeout:\n\u001b[0;32m    722\u001b[0m         \u001b[38;5;28mself\u001b[39m\u001b[38;5;241m.\u001b[39m_timeout_occurred \u001b[38;5;241m=\u001b[39m \u001b[38;5;28;01mTrue\u001b[39;00m\n",
      "\u001b[1;31mKeyboardInterrupt\u001b[0m: "
     ]
    }
   ],
   "source": [
    "for i in range(len(df_ventas)):\n",
    "    elemComercial.send_keys(str(df_ventas['Comercial'][i]))\n",
    "    elemLineaProducto.send_keys(str(df_ventas['Línea de Producto'][i]))\n",
    "    elemUnidades.send_keys(str(df_ventas['Unidades'][i]))\n",
    "    elemFecha.send_keys(str(df_ventas['Fecha'][i])) \n",
    "    elemCodigoProducto.send_keys(df_ventas['Código de Producto'][i])\n",
    "    elemPais.send_keys(df_ventas['País'][i])\n",
    "    elemPrecioUnitario.send_keys(df_ventas['Precio Unitario'][i])\n",
    "    elemVentaTotal.send_keys(str(df_ventas['Total Venta'][i]))\n",
    "    elemGuardar.click() # Guardamos el registro en la página web\n",
    "\n",
    "    elemComercial.clear() # Limpiamos el campo de texto de Comercial\n",
    "    elemLineaProducto.clear() # Limpiamos el campo de texto de Línea de Producto\n",
    "    elemUnidades.clear() # Limpiamos el campo de texto de Unidades\n",
    "    elemFecha.clear() # Limpiamos el campo de texto de Fecha\n",
    "    elemCodigoProducto.clear() # Limpiamos el campo de texto de Código de Producto\n",
    "    elemPais.clear() # Limpiamos el campo de texto de País\n",
    "    elemPrecioUnitario.clear() # Limpiamos el campo de texto de Precio Unitario\n",
    "    elemVentaTotal.clear() # Limpiamos el campo de texto de V\n",
    "\n",
    "    elemGuardar.click() # Guardamos el registro en la página web"
   ]
  },
  {
   "cell_type": "code",
   "execution_count": 215,
   "id": "5eadda0d-5e79-4fea-a242-3b2a9a8e685b",
   "metadata": {},
   "outputs": [],
   "source": [
    "driver.quit()"
   ]
  }
 ],
 "metadata": {
  "kernelspec": {
   "display_name": "Python [conda env:base] *",
   "language": "python",
   "name": "conda-base-py"
  },
  "language_info": {
   "codemirror_mode": {
    "name": "ipython",
    "version": 3
   },
   "file_extension": ".py",
   "mimetype": "text/x-python",
   "name": "python",
   "nbconvert_exporter": "python",
   "pygments_lexer": "ipython3",
   "version": "3.12.7"
  }
 },
 "nbformat": 4,
 "nbformat_minor": 5
}
