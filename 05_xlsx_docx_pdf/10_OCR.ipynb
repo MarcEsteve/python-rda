{
 "cells": [
  {
   "cell_type": "markdown",
   "id": "14598965-25df-4b13-bb8e-28cbe8497181",
   "metadata": {},
   "source": [
    "# Tesseract"
   ]
  },
  {
   "cell_type": "code",
   "execution_count": 1,
   "id": "455d5c1e-3ed5-4ef6-8182-8b30caa6ddd2",
   "metadata": {},
   "outputs": [],
   "source": [
    "import pytesseract"
   ]
  },
  {
   "cell_type": "code",
   "execution_count": 3,
   "id": "23c4658d-265a-4e05-b6d2-b35b6fd9644e",
   "metadata": {},
   "outputs": [],
   "source": [
    "pytesseract.pytesseract.tesseract_cmd = r\"C:\\Program Files\\Tesseract-OCR\\tesseract.exe\""
   ]
  },
  {
   "cell_type": "code",
   "execution_count": 5,
   "id": "9745ef8e-912c-494e-8f87-5f9dd173ec9a",
   "metadata": {},
   "outputs": [
    {
     "name": "stdout",
     "output_type": "stream",
     "text": [
      "5.5.0.20241111\n"
     ]
    }
   ],
   "source": [
    "print(pytesseract.get_tesseract_version())"
   ]
  },
  {
   "cell_type": "code",
   "execution_count": 7,
   "id": "118e8525-aa87-4bfc-bb70-5179e955f900",
   "metadata": {},
   "outputs": [],
   "source": [
    "from pdf2image import convert_from_path\n",
    "import os"
   ]
  },
  {
   "cell_type": "code",
   "execution_count": 9,
   "id": "5b903158-e641-4017-b66e-8060e591b9fa",
   "metadata": {},
   "outputs": [
    {
     "name": "stdout",
     "output_type": "stream",
     "text": [
      "True\n"
     ]
    }
   ],
   "source": [
    "print(os.path.exists('C:/Users/artha/OneDrive/Escritorio/AKKODIS/python-rda/05_xlsx_docx_pdf/quijote-imagen-ocr.pdf'))"
   ]
  },
  {
   "cell_type": "markdown",
   "id": "9dca151b-da5d-4d07-b0d0-541ac591c8bd",
   "metadata": {},
   "source": [
    "# Poppler"
   ]
  },
  {
   "cell_type": "code",
   "execution_count": 11,
   "id": "600045d4-98b3-4bb7-ab0e-4b1926c8dfae",
   "metadata": {},
   "outputs": [],
   "source": [
    "ruta_poppler = r\"C:/Program Files/poppler-24.08.0/Library/bin\""
   ]
  },
  {
   "cell_type": "code",
   "execution_count": 13,
   "id": "92eefac5-5ea5-4a2f-8854-ea01d0c6963b",
   "metadata": {},
   "outputs": [],
   "source": [
    "imagenes = convert_from_path(r\"C:/Users/artha/OneDrive/Escritorio/AKKODIS/python-rda/05_xlsx_docx_pdf/quijote-imagen-ocr.pdf\", poppler_path=ruta_poppler)"
   ]
  },
  {
   "cell_type": "markdown",
   "id": "7ce01a8a-f79a-45f8-9852-3929a6df9880",
   "metadata": {},
   "source": [
    "# Uso práctico con el PDF con imagen del texto del Quijote"
   ]
  },
  {
   "cell_type": "code",
   "execution_count": 15,
   "id": "acc66c70-762c-471f-b072-93ae78721f5e",
   "metadata": {},
   "outputs": [
    {
     "data": {
      "text/plain": [
       "0"
      ]
     },
     "execution_count": 15,
     "metadata": {},
     "output_type": "execute_result"
    }
   ],
   "source": [
    "os.system(\"pip install pytesseract pdf2image\")  # Instalar las librerías necesarias\n",
    "os.system(\"cls\")  # Limpiar la consola"
   ]
  },
  {
   "cell_type": "code",
   "execution_count": 17,
   "id": "68c67e43-1997-473b-a92a-6c98dc500a8d",
   "metadata": {},
   "outputs": [],
   "source": [
    "ruta_pdf = \"C:/Users/artha/OneDrive/Escritorio/AKKODIS/python-rda/05_xlsx_docx_pdf/quijote-imagen-ocr.pdf\""
   ]
  },
  {
   "cell_type": "code",
   "execution_count": 25,
   "id": "11de7145-de8e-4541-af63-9403a975c76c",
   "metadata": {},
   "outputs": [],
   "source": [
    "# ruta_poppler = r\"C:/Program Files/poppler-24.08.0/Library/bin\""
   ]
  },
  {
   "cell_type": "code",
   "execution_count": 19,
   "id": "b42a2a80-6ad8-4cfa-9ff3-de17628e2341",
   "metadata": {},
   "outputs": [],
   "source": [
    "imagenes = convert_from_path(ruta_pdf, poppler_path=ruta_poppler)"
   ]
  },
  {
   "cell_type": "code",
   "execution_count": 23,
   "id": "e102742b-ea0f-4136-8d39-e62a7769bc42",
   "metadata": {},
   "outputs": [],
   "source": [
    "os.makedirs(\"imagenes_temp\", exist_ok=True)"
   ]
  },
  {
   "cell_type": "code",
   "execution_count": 25,
   "id": "f3bd7bcc-3c34-42ed-ae58-736d1cdc7a2c",
   "metadata": {},
   "outputs": [],
   "source": [
    "texto_extraido = \"\""
   ]
  },
  {
   "cell_type": "code",
   "execution_count": 27,
   "id": "240d93ec-89bd-4c6a-a122-5532c830716c",
   "metadata": {},
   "outputs": [],
   "source": [
    "for i, imagen in enumerate(imagenes):\n",
    "    ruta_imagen = f\"imagenes_temp/pagina_{i + 1}.png\"\n",
    "    imagen.save(ruta_imagen, \"PNG\")  # Guardar imagen temporalmente\n",
    "    \n",
    "    # Aplicar OCR con Tesseract\n",
    "    texto = pytesseract.image_to_string(imagen, lang=\"eng\")  # OCR en español\n",
    "    texto_extraido += f\"\\n--- Página {i + 1} ---\\n\" + texto"
   ]
  },
  {
   "cell_type": "code",
   "execution_count": 29,
   "id": "cb80b324-ce4a-4c10-9571-e20a84eb086c",
   "metadata": {},
   "outputs": [],
   "source": [
    "with open(\"texto_extraido.txt\", \"w\", encoding=\"utf-8\") as f:\n",
    "    f.write(texto_extraido)"
   ]
  },
  {
   "cell_type": "code",
   "execution_count": null,
   "id": "79f6dea4-4b75-4eef-bb16-74be86e89c0d",
   "metadata": {},
   "outputs": [],
   "source": []
  }
 ],
 "metadata": {
  "kernelspec": {
   "display_name": "Python [conda env:base] *",
   "language": "python",
   "name": "conda-base-py"
  },
  "language_info": {
   "codemirror_mode": {
    "name": "ipython",
    "version": 3
   },
   "file_extension": ".py",
   "mimetype": "text/x-python",
   "name": "python",
   "nbconvert_exporter": "python",
   "pygments_lexer": "ipython3",
   "version": "3.12.7"
  }
 },
 "nbformat": 4,
 "nbformat_minor": 5
}
