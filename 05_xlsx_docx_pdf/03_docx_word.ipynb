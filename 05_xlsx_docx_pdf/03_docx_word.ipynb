{
 "cells": [
  {
   "cell_type": "markdown",
   "id": "afb0af53-cd7b-4339-826d-694e63c4bf9c",
   "metadata": {},
   "source": [
    "# Lectura"
   ]
  },
  {
   "cell_type": "code",
   "execution_count": 1,
   "id": "d4edff96-bdef-4641-81d3-5942f9ecd8ed",
   "metadata": {},
   "outputs": [],
   "source": [
    "import docx"
   ]
  },
  {
   "cell_type": "code",
   "execution_count": 3,
   "id": "e38c77f5-fc66-4e8b-bcfd-bc7b1cfb1eea",
   "metadata": {},
   "outputs": [],
   "source": [
    "ruta= 'C:/Users/artha/OneDrive/Escritorio/AKKODIS/python-rda/05_xlsx_docx_pdf/tecnologias_emergentes.docx' #Cargamos el documento docx"
   ]
  },
  {
   "cell_type": "code",
   "execution_count": 5,
   "id": "accdc930-5e11-4cf8-8711-4eb87bc974f6",
   "metadata": {},
   "outputs": [],
   "source": [
    "d = docx.Document(ruta) #Lista con los párrafos del documento"
   ]
  },
  {
   "cell_type": "code",
   "execution_count": 7,
   "id": "5fa79bdf-0ae7-4358-b512-5d4e4399bee6",
   "metadata": {},
   "outputs": [
    {
     "data": {
      "text/plain": [
       "[<docx.text.paragraph.Paragraph at 0x20a86696a50>,\n",
       " <docx.text.paragraph.Paragraph at 0x20a86696a80>,\n",
       " <docx.text.paragraph.Paragraph at 0x20a86696c60>,\n",
       " <docx.text.paragraph.Paragraph at 0x20a86696c90>,\n",
       " <docx.text.paragraph.Paragraph at 0x20a86696ab0>,\n",
       " <docx.text.paragraph.Paragraph at 0x20a866956d0>,\n",
       " <docx.text.paragraph.Paragraph at 0x20a86696cc0>,\n",
       " <docx.text.paragraph.Paragraph at 0x20a86696cf0>,\n",
       " <docx.text.paragraph.Paragraph at 0x20a86696ae0>,\n",
       " <docx.text.paragraph.Paragraph at 0x20a86696b10>,\n",
       " <docx.text.paragraph.Paragraph at 0x20a86696b40>,\n",
       " <docx.text.paragraph.Paragraph at 0x20a86696ba0>,\n",
       " <docx.text.paragraph.Paragraph at 0x20a86696bd0>,\n",
       " <docx.text.paragraph.Paragraph at 0x20a86696b70>,\n",
       " <docx.text.paragraph.Paragraph at 0x20a86695880>,\n",
       " <docx.text.paragraph.Paragraph at 0x20a86696c00>,\n",
       " <docx.text.paragraph.Paragraph at 0x20a86696c30>,\n",
       " <docx.text.paragraph.Paragraph at 0x20a86695640>,\n",
       " <docx.text.paragraph.Paragraph at 0x20a86695280>,\n",
       " <docx.text.paragraph.Paragraph at 0x20a86695bb0>,\n",
       " <docx.text.paragraph.Paragraph at 0x20a86696090>,\n",
       " <docx.text.paragraph.Paragraph at 0x20a866960c0>,\n",
       " <docx.text.paragraph.Paragraph at 0x20a86696060>,\n",
       " <docx.text.paragraph.Paragraph at 0x20a86695190>,\n",
       " <docx.text.paragraph.Paragraph at 0x20a866960f0>,\n",
       " <docx.text.paragraph.Paragraph at 0x20a866949e0>,\n",
       " <docx.text.paragraph.Paragraph at 0x20a86694d10>,\n",
       " <docx.text.paragraph.Paragraph at 0x20a86694980>,\n",
       " <docx.text.paragraph.Paragraph at 0x20a86694a70>,\n",
       " <docx.text.paragraph.Paragraph at 0x20a86694ad0>,\n",
       " <docx.text.paragraph.Paragraph at 0x20a86694b30>,\n",
       " <docx.text.paragraph.Paragraph at 0x20a86694b90>,\n",
       " <docx.text.paragraph.Paragraph at 0x20a86694bf0>,\n",
       " <docx.text.paragraph.Paragraph at 0x20a86694c80>,\n",
       " <docx.text.paragraph.Paragraph at 0x20a86694cb0>,\n",
       " <docx.text.paragraph.Paragraph at 0x20a86694d40>,\n",
       " <docx.text.paragraph.Paragraph at 0x20a86694e30>,\n",
       " <docx.text.paragraph.Paragraph at 0x20a86694e00>,\n",
       " <docx.text.paragraph.Paragraph at 0x20a86694e90>,\n",
       " <docx.text.paragraph.Paragraph at 0x20a86694f20>,\n",
       " <docx.text.paragraph.Paragraph at 0x20a86694ef0>,\n",
       " <docx.text.paragraph.Paragraph at 0x20a86694fe0>,\n",
       " <docx.text.paragraph.Paragraph at 0x20a866950a0>,\n",
       " <docx.text.paragraph.Paragraph at 0x20a86695100>,\n",
       " <docx.text.paragraph.Paragraph at 0x20a866950d0>,\n",
       " <docx.text.paragraph.Paragraph at 0x20a86695220>,\n",
       " <docx.text.paragraph.Paragraph at 0x20a866951f0>,\n",
       " <docx.text.paragraph.Paragraph at 0x20a866952b0>,\n",
       " <docx.text.paragraph.Paragraph at 0x20a86695310>,\n",
       " <docx.text.paragraph.Paragraph at 0x20a86695370>,\n",
       " <docx.text.paragraph.Paragraph at 0x20a86695460>,\n",
       " <docx.text.paragraph.Paragraph at 0x20a86695400>,\n",
       " <docx.text.paragraph.Paragraph at 0x20a866954c0>,\n",
       " <docx.text.paragraph.Paragraph at 0x20a86695520>,\n",
       " <docx.text.paragraph.Paragraph at 0x20a86695610>,\n",
       " <docx.text.paragraph.Paragraph at 0x20a866955e0>,\n",
       " <docx.text.paragraph.Paragraph at 0x20a866956a0>,\n",
       " <docx.text.paragraph.Paragraph at 0x20a86695730>,\n",
       " <docx.text.paragraph.Paragraph at 0x20a866957c0>,\n",
       " <docx.text.paragraph.Paragraph at 0x20a86695970>,\n",
       " <docx.text.paragraph.Paragraph at 0x20a86695910>,\n",
       " <docx.text.paragraph.Paragraph at 0x20a86695940>,\n",
       " <docx.text.paragraph.Paragraph at 0x20a86695a00>,\n",
       " <docx.text.paragraph.Paragraph at 0x20a86695a60>,\n",
       " <docx.text.paragraph.Paragraph at 0x20a86695ac0>,\n",
       " <docx.text.paragraph.Paragraph at 0x20a86695b20>,\n",
       " <docx.text.paragraph.Paragraph at 0x20a86695be0>,\n",
       " <docx.text.paragraph.Paragraph at 0x20a86695c40>,\n",
       " <docx.text.paragraph.Paragraph at 0x20a86695cd0>,\n",
       " <docx.text.paragraph.Paragraph at 0x20a86695dc0>,\n",
       " <docx.text.paragraph.Paragraph at 0x20a86695e20>,\n",
       " <docx.text.paragraph.Paragraph at 0x20a86695eb0>,\n",
       " <docx.text.paragraph.Paragraph at 0x20a86696270>,\n",
       " <docx.text.paragraph.Paragraph at 0x20a86696300>,\n",
       " <docx.text.paragraph.Paragraph at 0x20a86696360>,\n",
       " <docx.text.paragraph.Paragraph at 0x20a866963c0>,\n",
       " <docx.text.paragraph.Paragraph at 0x20a86696420>,\n",
       " <docx.text.paragraph.Paragraph at 0x20a86696480>,\n",
       " <docx.text.paragraph.Paragraph at 0x20a866964e0>,\n",
       " <docx.text.paragraph.Paragraph at 0x20a86696540>,\n",
       " <docx.text.paragraph.Paragraph at 0x20a866965d0>,\n",
       " <docx.text.paragraph.Paragraph at 0x20a86696630>,\n",
       " <docx.text.paragraph.Paragraph at 0x20a86696690>,\n",
       " <docx.text.paragraph.Paragraph at 0x20a866966f0>,\n",
       " <docx.text.paragraph.Paragraph at 0x20a86696750>,\n",
       " <docx.text.paragraph.Paragraph at 0x20a866967b0>,\n",
       " <docx.text.paragraph.Paragraph at 0x20a86696810>,\n",
       " <docx.text.paragraph.Paragraph at 0x20a86696870>,\n",
       " <docx.text.paragraph.Paragraph at 0x20a866968d0>,\n",
       " <docx.text.paragraph.Paragraph at 0x20a86696930>,\n",
       " <docx.text.paragraph.Paragraph at 0x20a86696990>,\n",
       " <docx.text.paragraph.Paragraph at 0x20a866969f0>,\n",
       " <docx.text.paragraph.Paragraph at 0x20a86696d50>,\n",
       " <docx.text.paragraph.Paragraph at 0x20a86696db0>,\n",
       " <docx.text.paragraph.Paragraph at 0x20a86696e10>,\n",
       " <docx.text.paragraph.Paragraph at 0x20a86696e70>,\n",
       " <docx.text.paragraph.Paragraph at 0x20a86696ed0>,\n",
       " <docx.text.paragraph.Paragraph at 0x20a86696f30>,\n",
       " <docx.text.paragraph.Paragraph at 0x20a86696f90>,\n",
       " <docx.text.paragraph.Paragraph at 0x20a86696ff0>,\n",
       " <docx.text.paragraph.Paragraph at 0x20a86697050>,\n",
       " <docx.text.paragraph.Paragraph at 0x20a866970b0>,\n",
       " <docx.text.paragraph.Paragraph at 0x20a86697110>,\n",
       " <docx.text.paragraph.Paragraph at 0x20a86697170>,\n",
       " <docx.text.paragraph.Paragraph at 0x20a866971d0>,\n",
       " <docx.text.paragraph.Paragraph at 0x20a86697230>,\n",
       " <docx.text.paragraph.Paragraph at 0x20a86697290>,\n",
       " <docx.text.paragraph.Paragraph at 0x20a866972f0>,\n",
       " <docx.text.paragraph.Paragraph at 0x20a86697350>,\n",
       " <docx.text.paragraph.Paragraph at 0x20a866973b0>,\n",
       " <docx.text.paragraph.Paragraph at 0x20a86697410>,\n",
       " <docx.text.paragraph.Paragraph at 0x20a86697470>,\n",
       " <docx.text.paragraph.Paragraph at 0x20a866974d0>,\n",
       " <docx.text.paragraph.Paragraph at 0x20a86697530>,\n",
       " <docx.text.paragraph.Paragraph at 0x20a86697590>,\n",
       " <docx.text.paragraph.Paragraph at 0x20a866975f0>,\n",
       " <docx.text.paragraph.Paragraph at 0x20a86697650>,\n",
       " <docx.text.paragraph.Paragraph at 0x20a866976b0>,\n",
       " <docx.text.paragraph.Paragraph at 0x20a86697710>,\n",
       " <docx.text.paragraph.Paragraph at 0x20a86697770>,\n",
       " <docx.text.paragraph.Paragraph at 0x20a866977d0>,\n",
       " <docx.text.paragraph.Paragraph at 0x20a86697830>,\n",
       " <docx.text.paragraph.Paragraph at 0x20a86697890>]"
      ]
     },
     "execution_count": 7,
     "metadata": {},
     "output_type": "execute_result"
    }
   ],
   "source": [
    "d.paragraphs #Texto del primer párrafo"
   ]
  },
  {
   "cell_type": "code",
   "execution_count": 9,
   "id": "65e76c94-3e58-42c1-8025-ee5d80bc6e11",
   "metadata": {},
   "outputs": [
    {
     "data": {
      "text/plain": [
       "'Tecnologías Emergentes 2025'"
      ]
     },
     "execution_count": 9,
     "metadata": {},
     "output_type": "execute_result"
    }
   ],
   "source": [
    "d.paragraphs[0].text"
   ]
  },
  {
   "cell_type": "code",
   "execution_count": 11,
   "id": "11bda2d1-dbb0-4e3f-88f8-da4a84141696",
   "metadata": {},
   "outputs": [],
   "source": [
    "p= d.paragraphs[2]"
   ]
  },
  {
   "cell_type": "code",
   "execution_count": 13,
   "id": "980bca05-93c7-46b6-8e07-53a592564e23",
   "metadata": {},
   "outputs": [
    {
     "data": {
      "text/plain": [
       "'“'"
      ]
     },
     "execution_count": 13,
     "metadata": {},
     "output_type": "execute_result"
    }
   ],
   "source": [
    "p.runs[0].text"
   ]
  },
  {
   "cell_type": "code",
   "execution_count": 15,
   "id": "a97aac12-eacf-4fcf-9b5a-75316bcae966",
   "metadata": {},
   "outputs": [
    {
     "data": {
      "text/plain": [
       "'El año 2025 marcará un punto de inflexión en la '"
      ]
     },
     "execution_count": 15,
     "metadata": {},
     "output_type": "execute_result"
    }
   ],
   "source": [
    "p.runs[1].text"
   ]
  },
  {
   "cell_type": "code",
   "execution_count": 17,
   "id": "930bf412-a5e6-40a9-8093-976786373149",
   "metadata": {},
   "outputs": [
    {
     "data": {
      "text/plain": [
       "'evolución de diversas tecnologías emergentes'"
      ]
     },
     "execution_count": 17,
     "metadata": {},
     "output_type": "execute_result"
    }
   ],
   "source": [
    "p.runs[2].text"
   ]
  },
  {
   "cell_type": "code",
   "execution_count": 19,
   "id": "2609692c-e026-49fd-b95d-c312b050f7a7",
   "metadata": {},
   "outputs": [
    {
     "name": "stdout",
     "output_type": "stream",
     "text": [
      "Tecnologías Emergentes 2025\n",
      "Introducción\n",
      "“El año 2025 marcará un punto de inflexión en la evolución de diversas tecnologías emergentes.”\n",
      "Con avances significativos en inteligencia artificial, computación cuántica, biotecnología y sostenibilidad, las empresas y la sociedad en general experimentarán cambios transformadores. \n",
      "Este documento explora las principales innovaciones que se esperan en los próximos años y su impacto en la economía global.\n",
      "\n",
      "\n",
      "\n",
      "\n",
      "\n",
      "\n",
      "\n",
      "\n",
      "\n",
      "\n",
      "\n",
      "\n",
      "\n",
      "\n",
      "\n",
      "\n",
      "\n",
      "Inteligencia Artificial (IA) y Automatización\n",
      "La inteligencia artificial seguirá revolucionando sectores como la salud, la educación y la industria. Modelos avanzados de IA generativa permitirán una interacción más natural entre humanos y máquinas, mientras que la automatización impulsada por IA optimizará la eficiencia en tareas complejas. Se espera que:\n",
      "Las herramientas de IA se integren más en el ámbito educativo, personalizando el aprendizaje.\n",
      "La robótica avanzada en la medicina mejore los procedimientos quirúrgicos y la atención al paciente.\n",
      "Los algoritmos predictivos permitan una mejor gestión de recursos en sectores como la energía y el transporte.\n",
      "\n",
      "\n",
      "\n",
      "\n",
      "\n",
      "\n",
      "\n",
      "\n",
      "\n",
      "\n",
      "\n",
      "\n",
      "\n",
      "\n",
      "\n",
      "\n",
      "\n",
      "\n",
      "Computación Cuántica\n",
      "La computación cuántica avanza a pasos agigantados, con empresas tecnológicas invirtiendo en el desarrollo de procesadores cuánticos más estables y accesibles. En 2025, se prevé:\n",
      "Mayor integración de la computación cuántica en la resolución de problemas logísticos y financieros.\n",
      "Avances en criptografía cuántica para mejorar la seguridad en la transmisión de datos.\n",
      "Simulaciones moleculares más precisas, acelerando el descubrimiento de nuevos materiales y fármacos.\n",
      "\n",
      "\n",
      "\n",
      "\n",
      "\n",
      "\n",
      "\n",
      "\n",
      "\n",
      "\n",
      "\n",
      "\n",
      "\n",
      "\n",
      "\n",
      "\n",
      "\n",
      "\n",
      "\n",
      "\n",
      "Biotecnología y Medicina Personalizada\n",
      "El desarrollo de la biotecnología permitirá tratamientos más efectivos y personalizados para diversas enfermedades. La combinación de IA y biología sintética posibilitará avances como:\n",
      "Terapias génicas más accesibles y con menores efectos secundarios.\n",
      "Diagnósticos médicos en tiempo real mediante sensores y dispositivos portátiles.\n",
      "Impresión 3D de tejidos y órganos para mejorar la disponibilidad de trasplantes.\n",
      "\n",
      "\n",
      "\n",
      "\n",
      "\n",
      "\n",
      "\n",
      "\n",
      "\n",
      "\n",
      "\n",
      "\n",
      "\n",
      "\n",
      "\n",
      "\n",
      "\n",
      "\n",
      "\n",
      "\n",
      "Sostenibilidad y Energías Renovables\n",
      "Con la crisis climática en el centro del debate mundial, 2025 será un año clave para la transición energética y el desarrollo de soluciones más sostenibles. Entre los avances más esperados destacan:\n",
      "Mayor eficiencia en el almacenamiento de energía con baterías de nueva generación.\n",
      "Uso masivo de hidrógeno verde como fuente de energía limpia.\n",
      "Aplicación de nanotecnología para mejorar la captura y reutilización de CO2.\n",
      "\n",
      "\n",
      "\n",
      "\n",
      "\n",
      "\n",
      "\n",
      "\n",
      "\n",
      "\n",
      "\n",
      "\n",
      "\n",
      "\n",
      "\n",
      "\n",
      "\n",
      "\n",
      "\n",
      "\n",
      "Conclusión\n",
      "El impacto de estas tecnologías en la sociedad dependerá de cómo sean reguladas e implementadas. La colaboración entre gobiernos, empresas y científicos será clave para asegurar un desarrollo tecnológico ético y sostenible. 2025 promete ser un año de innovaciones que cambiarán la forma en que vivimos y trabajamos, abriendo nuevas oportunidades y desafíos para el futuro.\n",
      "\n"
     ]
    }
   ],
   "source": [
    "#Lectura completa\n",
    "def coger_texto(fichero):\n",
    "    doc= docx.Document(fichero)\n",
    "    texto_completo = []\n",
    "    for parrafo in doc.paragraphs:\n",
    "        texto_completo.append(parrafo.text)\n",
    "    return \"\\n\".join(texto_completo)\n",
    "\n",
    "print(coger_texto(ruta))"
   ]
  },
  {
   "cell_type": "code",
   "execution_count": 21,
   "id": "55bb645b-b3b7-425a-9a22-6c4834606b69",
   "metadata": {},
   "outputs": [],
   "source": [
    "# Coger texto sin líneas vacías\n",
    "def coger_texto(fichero):\n",
    "    doc = docx.Document(fichero)\n",
    "    texto_completo = []\n",
    "    \n",
    "    for parrafo in doc.paragraphs:\n",
    "        texto = parrafo.text.strip()  # Eliminar espacios y saltos de línea al inicio y al final\n",
    "        \n",
    "        if texto:  # Solo agregamos el párrafo si no está vacío\n",
    "            texto_completo.append(texto)\n",
    "    \n",
    "    return \"\\n\\n\".join(texto_completo)  # Usar doble salto de línea para mejor separación"
   ]
  },
  {
   "cell_type": "code",
   "execution_count": 23,
   "id": "c22be83e-ac70-45fd-bd6c-c1db6cf11467",
   "metadata": {},
   "outputs": [
    {
     "name": "stdout",
     "output_type": "stream",
     "text": [
      "Tecnologías Emergentes 2025\n",
      "\n",
      "Introducción\n",
      "\n",
      "“El año 2025 marcará un punto de inflexión en la evolución de diversas tecnologías emergentes.”\n",
      "\n",
      "Con avances significativos en inteligencia artificial, computación cuántica, biotecnología y sostenibilidad, las empresas y la sociedad en general experimentarán cambios transformadores.\n",
      "\n",
      "Este documento explora las principales innovaciones que se esperan en los próximos años y su impacto en la economía global.\n",
      "\n",
      "Inteligencia Artificial (IA) y Automatización\n",
      "\n",
      "La inteligencia artificial seguirá revolucionando sectores como la salud, la educación y la industria. Modelos avanzados de IA generativa permitirán una interacción más natural entre humanos y máquinas, mientras que la automatización impulsada por IA optimizará la eficiencia en tareas complejas. Se espera que:\n",
      "\n",
      "Las herramientas de IA se integren más en el ámbito educativo, personalizando el aprendizaje.\n",
      "\n",
      "La robótica avanzada en la medicina mejore los procedimientos quirúrgicos y la atención al paciente.\n",
      "\n",
      "Los algoritmos predictivos permitan una mejor gestión de recursos en sectores como la energía y el transporte.\n",
      "\n",
      "Computación Cuántica\n",
      "\n",
      "La computación cuántica avanza a pasos agigantados, con empresas tecnológicas invirtiendo en el desarrollo de procesadores cuánticos más estables y accesibles. En 2025, se prevé:\n",
      "\n",
      "Mayor integración de la computación cuántica en la resolución de problemas logísticos y financieros.\n",
      "\n",
      "Avances en criptografía cuántica para mejorar la seguridad en la transmisión de datos.\n",
      "\n",
      "Simulaciones moleculares más precisas, acelerando el descubrimiento de nuevos materiales y fármacos.\n",
      "\n",
      "Biotecnología y Medicina Personalizada\n",
      "\n",
      "El desarrollo de la biotecnología permitirá tratamientos más efectivos y personalizados para diversas enfermedades. La combinación de IA y biología sintética posibilitará avances como:\n",
      "\n",
      "Terapias génicas más accesibles y con menores efectos secundarios.\n",
      "\n",
      "Diagnósticos médicos en tiempo real mediante sensores y dispositivos portátiles.\n",
      "\n",
      "Impresión 3D de tejidos y órganos para mejorar la disponibilidad de trasplantes.\n",
      "\n",
      "Sostenibilidad y Energías Renovables\n",
      "\n",
      "Con la crisis climática en el centro del debate mundial, 2025 será un año clave para la transición energética y el desarrollo de soluciones más sostenibles. Entre los avances más esperados destacan:\n",
      "\n",
      "Mayor eficiencia en el almacenamiento de energía con baterías de nueva generación.\n",
      "\n",
      "Uso masivo de hidrógeno verde como fuente de energía limpia.\n",
      "\n",
      "Aplicación de nanotecnología para mejorar la captura y reutilización de CO2.\n",
      "\n",
      "Conclusión\n",
      "\n",
      "El impacto de estas tecnologías en la sociedad dependerá de cómo sean reguladas e implementadas. La colaboración entre gobiernos, empresas y científicos será clave para asegurar un desarrollo tecnológico ético y sostenible. 2025 promete ser un año de innovaciones que cambiarán la forma en que vivimos y trabajamos, abriendo nuevas oportunidades y desafíos para el futuro.\n"
     ]
    }
   ],
   "source": [
    "print(coger_texto(ruta))"
   ]
  },
  {
   "cell_type": "markdown",
   "id": "0cfbfd2a-e192-4793-8d94-afdc6f075259",
   "metadata": {},
   "source": [
    "# Edición"
   ]
  },
  {
   "cell_type": "code",
   "execution_count": 26,
   "id": "592bdbcc-6aee-4d54-81e9-0838a888e72a",
   "metadata": {},
   "outputs": [],
   "source": [
    "p.runs[1].bold = True #Negrita, para cursiva seria italic y underline para subrayado, por ejemplo"
   ]
  },
  {
   "cell_type": "code",
   "execution_count": 28,
   "id": "3ebf8595-da78-4bc9-95a6-e5eb71f92624",
   "metadata": {},
   "outputs": [],
   "source": [
    "p.runs[2].text = 'otro texto' #Cambiamos el texto del segundo run del párrafo p"
   ]
  },
  {
   "cell_type": "code",
   "execution_count": 30,
   "id": "72d6ea61-b11e-444d-8529-68fbe951a9b3",
   "metadata": {},
   "outputs": [],
   "source": [
    "d.save(r'C:/Users/artha/OneDrive/Escritorio/AKKODIS/python-rda/05_xlsx_docx_pdf/tecnologias_emergentes_v2.docx') #Guardamos el documento"
   ]
  },
  {
   "cell_type": "markdown",
   "id": "217109b0-9663-478d-8ea6-4eebaa62bbd9",
   "metadata": {},
   "source": [
    "# Creación de ficheros"
   ]
  },
  {
   "cell_type": "code",
   "execution_count": 48,
   "id": "e43c8c71-a9fa-4c0a-a7e6-12ba584659a8",
   "metadata": {},
   "outputs": [],
   "source": [
    "nuevo_d = docx.Document() #Creamos un documento en blanco"
   ]
  },
  {
   "cell_type": "code",
   "execution_count": 50,
   "id": "4158d901-201f-4371-9192-c87721625868",
   "metadata": {},
   "outputs": [
    {
     "data": {
      "text/plain": [
       "<docx.text.paragraph.Paragraph at 0x25ede0c30b0>"
      ]
     },
     "execution_count": 50,
     "metadata": {},
     "output_type": "execute_result"
    }
   ],
   "source": [
    "nuevo_d.add_paragraph('Este es el primer párrafo de mi documento')"
   ]
  },
  {
   "cell_type": "code",
   "execution_count": 52,
   "id": "68af5dc5-f54c-4a26-a05d-d1b30c6e87e2",
   "metadata": {},
   "outputs": [
    {
     "data": {
      "text/plain": [
       "<docx.text.paragraph.Paragraph at 0x25edfc47680>"
      ]
     },
     "execution_count": 52,
     "metadata": {},
     "output_type": "execute_result"
    }
   ],
   "source": [
    "nuevo_d.add_paragraph('Este es el segundo párrafo de mi documento')"
   ]
  },
  {
   "cell_type": "code",
   "execution_count": 54,
   "id": "0283b6e0-1dd8-477c-b2c1-c027a0b7acf7",
   "metadata": {},
   "outputs": [],
   "source": [
    "nuevo_d.save(r'C:/Users/artha/OneDrive/Escritorio/AKKODIS/python-rda/05_xlsx_docx_pdf/nuevo_documento.docx') #Guardamos el documento"
   ]
  },
  {
   "cell_type": "code",
   "execution_count": 58,
   "id": "e2e87dcc-f43c-41cc-92ec-ceba18417848",
   "metadata": {},
   "outputs": [],
   "source": [
    "p = nuevo_d.paragraphs[0] #Cogemos el primer párrafo\n",
    "p.add_run('Este es un nuevo segmento añadido al primer párrafo') #Añadimos un nuevo segmento al párrafo\n",
    "p.runs[1].underline = True #Subrayamos el nuevo segmento\n",
    "nuevo_d.save(r'C:/Users/artha/OneDrive/Escritorio/AKKODIS/python-rda/05_xlsx_docx_pdf/nuevo_documento.docx') #Guardamos el documento"
   ]
  }
 ],
 "metadata": {
  "kernelspec": {
   "display_name": "Python [conda env:base] *",
   "language": "python",
   "name": "conda-base-py"
  },
  "language_info": {
   "codemirror_mode": {
    "name": "ipython",
    "version": 3
   },
   "file_extension": ".py",
   "mimetype": "text/x-python",
   "name": "python",
   "nbconvert_exporter": "python",
   "pygments_lexer": "ipython3",
   "version": "3.12.7"
  }
 },
 "nbformat": 4,
 "nbformat_minor": 5
}
