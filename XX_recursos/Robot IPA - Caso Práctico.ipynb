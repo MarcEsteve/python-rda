{
 "cells": [
  {
   "cell_type": "markdown",
   "metadata": {},
   "source": [
    "# 1. Automatización Lectura Ficheros Excel (Ventas)"
   ]
  },
  {
   "cell_type": "code",
   "execution_count": 13,
   "metadata": {},
   "outputs": [],
   "source": [
    "import pandas as pd"
   ]
  },
  {
   "cell_type": "code",
   "execution_count": 23,
   "metadata": {},
   "outputs": [],
   "source": [
    "df_ventas = pd.read_excel('./Inputs/Ventas_productos_automóvil.xlsx')"
   ]
  },
  {
   "cell_type": "code",
   "execution_count": 25,
   "metadata": {
    "scrolled": true
   },
   "outputs": [
    {
     "data": {
      "text/html": [
       "<div>\n",
       "<style scoped>\n",
       "    .dataframe tbody tr th:only-of-type {\n",
       "        vertical-align: middle;\n",
       "    }\n",
       "\n",
       "    .dataframe tbody tr th {\n",
       "        vertical-align: top;\n",
       "    }\n",
       "\n",
       "    .dataframe thead th {\n",
       "        text-align: right;\n",
       "    }\n",
       "</style>\n",
       "<table border=\"1\" class=\"dataframe\">\n",
       "  <thead>\n",
       "    <tr style=\"text-align: right;\">\n",
       "      <th></th>\n",
       "      <th>Comercial</th>\n",
       "      <th>Unidades</th>\n",
       "      <th>Precio Unitario</th>\n",
       "      <th>Total Venta</th>\n",
       "      <th>Fecha</th>\n",
       "      <th>Línea de Producto</th>\n",
       "      <th>Código de Producto</th>\n",
       "      <th>País</th>\n",
       "      <th>Territorio</th>\n",
       "      <th>Beneficio</th>\n",
       "    </tr>\n",
       "  </thead>\n",
       "  <tbody>\n",
       "    <tr>\n",
       "      <th>0</th>\n",
       "      <td>José A</td>\n",
       "      <td>31</td>\n",
       "      <td>100.00</td>\n",
       "      <td>4305.28</td>\n",
       "      <td>2022-01-04</td>\n",
       "      <td>Classic Cars</td>\n",
       "      <td>S10_4962</td>\n",
       "      <td>France</td>\n",
       "      <td>EMEA</td>\n",
       "      <td>861.0560</td>\n",
       "    </tr>\n",
       "    <tr>\n",
       "      <th>1</th>\n",
       "      <td>Esteban F</td>\n",
       "      <td>39</td>\n",
       "      <td>100.00</td>\n",
       "      <td>4164.42</td>\n",
       "      <td>2022-01-04</td>\n",
       "      <td>Trucks and Buses</td>\n",
       "      <td>S18_2319</td>\n",
       "      <td>France</td>\n",
       "      <td>EMEA</td>\n",
       "      <td>3331.5360</td>\n",
       "    </tr>\n",
       "    <tr>\n",
       "      <th>2</th>\n",
       "      <td>Luis M</td>\n",
       "      <td>45</td>\n",
       "      <td>68.67</td>\n",
       "      <td>3090.15</td>\n",
       "      <td>2022-01-04</td>\n",
       "      <td>Trucks and Buses</td>\n",
       "      <td>S18_2432</td>\n",
       "      <td>France</td>\n",
       "      <td>EMEA</td>\n",
       "      <td>2194.0065</td>\n",
       "    </tr>\n",
       "    <tr>\n",
       "      <th>3</th>\n",
       "      <td>María G</td>\n",
       "      <td>48</td>\n",
       "      <td>100.00</td>\n",
       "      <td>8209.44</td>\n",
       "      <td>2022-01-04</td>\n",
       "      <td>Classic Cars</td>\n",
       "      <td>S18_3232</td>\n",
       "      <td>France</td>\n",
       "      <td>EMEA</td>\n",
       "      <td>1806.0768</td>\n",
       "    </tr>\n",
       "    <tr>\n",
       "      <th>4</th>\n",
       "      <td>Iván M</td>\n",
       "      <td>41</td>\n",
       "      <td>100.00</td>\n",
       "      <td>4815.45</td>\n",
       "      <td>2022-01-04</td>\n",
       "      <td>Trucks and Buses</td>\n",
       "      <td>S18_4600</td>\n",
       "      <td>France</td>\n",
       "      <td>EMEA</td>\n",
       "      <td>3756.0510</td>\n",
       "    </tr>\n",
       "  </tbody>\n",
       "</table>\n",
       "</div>"
      ],
      "text/plain": [
       "   Comercial  Unidades  Precio Unitario  Total Venta      Fecha  \\\n",
       "0     José A        31           100.00      4305.28 2022-01-04   \n",
       "1  Esteban F        39           100.00      4164.42 2022-01-04   \n",
       "2     Luis M        45            68.67      3090.15 2022-01-04   \n",
       "3    María G        48           100.00      8209.44 2022-01-04   \n",
       "4     Iván M        41           100.00      4815.45 2022-01-04   \n",
       "\n",
       "  Línea de Producto Código de Producto    País Territorio  Beneficio  \n",
       "0      Classic Cars           S10_4962  France       EMEA   861.0560  \n",
       "1  Trucks and Buses           S18_2319  France       EMEA  3331.5360  \n",
       "2  Trucks and Buses           S18_2432  France       EMEA  2194.0065  \n",
       "3      Classic Cars           S18_3232  France       EMEA  1806.0768  \n",
       "4  Trucks and Buses           S18_4600  France       EMEA  3756.0510  "
      ]
     },
     "execution_count": 25,
     "metadata": {},
     "output_type": "execute_result"
    }
   ],
   "source": [
    "df_ventas.head()"
   ]
  },
  {
   "cell_type": "markdown",
   "metadata": {},
   "source": [
    "# 2. Automatización Lectura Ficheros PDF (Facturas)"
   ]
  },
  {
   "cell_type": "code",
   "execution_count": 4,
   "metadata": {},
   "outputs": [],
   "source": [
    "import PyPDF2 #Instalar previamente con pip install PyPDF2"
   ]
  },
  {
   "cell_type": "code",
   "execution_count": 5,
   "metadata": {},
   "outputs": [],
   "source": [
    "pdfFile = open('.\\Inputs\\Factura proveedor 1.pdf','rb') #rb para especificar formato binario"
   ]
  },
  {
   "cell_type": "code",
   "execution_count": 6,
   "metadata": {},
   "outputs": [],
   "source": [
    "lector = PyPDF2.PdfFileReader(pdfFile) #Creamos el objeto \"lector\" capaz de leer el fichero pdf cargado en pdfFile"
   ]
  },
  {
   "cell_type": "code",
   "execution_count": 7,
   "metadata": {},
   "outputs": [
    {
     "data": {
      "text/plain": [
       "1"
      ]
     },
     "execution_count": 7,
     "metadata": {},
     "output_type": "execute_result"
    }
   ],
   "source": [
    "lector.numPages #Número de páginas del pdf"
   ]
  },
  {
   "cell_type": "code",
   "execution_count": 8,
   "metadata": {},
   "outputs": [],
   "source": [
    "pag = lector.getPage(0) #Cogemos la primero página del pdf, el índice 0 es la primera"
   ]
  },
  {
   "cell_type": "code",
   "execution_count": 9,
   "metadata": {},
   "outputs": [
    {
     "data": {
      "text/plain": [
       "'Spare parts automóvil\\nFecha\\n30/06/2023\\n1554545\\nNº de factura\\n1\\nCliente\\nEnvie a\\nIPA_Curso_IPD_Empresa\\nB-38111000\\nAv Enseñanza, 1\\nUnidades\\nPrecio Unitario\\nPrecio\\n2\\n350,00\\n700,00\\n10\\n250,00\\n2500,00\\n0,00\\n0,00\\n0,00\\nObservaciones / Instrucciones de pago:\\nTotal parcial\\n3200,00\\nDescuento\\n0,00\\nSubtotal menos descuento\\n3200,00\\nIVA\\n21,00%\\nTotal impuestos\\n672,00\\nEnvío\\n0,00\\n\\nDescripción\\nFactura 1\\nParagolpes traseros\\n<Condiciones de pago (vencidas en el recibo, vencidas en 60 días)>\\nIván Pinar\\nEducación Online\\nEspejos retrovisores\\n'"
      ]
     },
     "execution_count": 9,
     "metadata": {},
     "output_type": "execute_result"
    }
   ],
   "source": [
    "pag.extractText()"
   ]
  },
  {
   "cell_type": "code",
   "execution_count": 10,
   "metadata": {},
   "outputs": [],
   "source": [
    "indice_final = pag.extractText().find('\\n') #Identificamos donde se encuentra el primer salto de línea puesto que hasta ahí llegaría el nombre del proveedor"
   ]
  },
  {
   "cell_type": "code",
   "execution_count": 11,
   "metadata": {},
   "outputs": [],
   "source": [
    "proveedor_factura = pag.extractText()[0:indice_final]"
   ]
  },
  {
   "cell_type": "code",
   "execution_count": 12,
   "metadata": {},
   "outputs": [
    {
     "data": {
      "text/plain": [
       "'Spare parts automóvil'"
      ]
     },
     "execution_count": 12,
     "metadata": {},
     "output_type": "execute_result"
    }
   ],
   "source": [
    "proveedor_factura"
   ]
  },
  {
   "cell_type": "markdown",
   "metadata": {},
   "source": [
    "## 2.1 Bucle para recorrer todos los ficheros pdf"
   ]
  },
  {
   "cell_type": "code",
   "execution_count": 13,
   "metadata": {},
   "outputs": [],
   "source": [
    "import glob\n",
    "import os"
   ]
  },
  {
   "cell_type": "code",
   "execution_count": 14,
   "metadata": {},
   "outputs": [],
   "source": [
    "lista_ficheros_pdf = glob.glob(\".\\Inputs\\*.pdf\")"
   ]
  },
  {
   "cell_type": "code",
   "execution_count": 15,
   "metadata": {},
   "outputs": [
    {
     "data": {
      "text/plain": [
       "['.\\\\Inputs\\\\Factura proveedor 1.pdf',\n",
       " '.\\\\Inputs\\\\Factura proveedor 7.pdf',\n",
       " '.\\\\Inputs\\\\Factura proveedor 9.pdf',\n",
       " '.\\\\Inputs\\\\Factura proveedor 10.pdf',\n",
       " '.\\\\Inputs\\\\Factura proveedor 2.pdf',\n",
       " '.\\\\Inputs\\\\Factura proveedor 3.pdf',\n",
       " '.\\\\Inputs\\\\Factura proveedor 4.pdf',\n",
       " '.\\\\Inputs\\\\Factura proveedor 8.pdf',\n",
       " '.\\\\Inputs\\\\Factura proveedor 5.pdf',\n",
       " '.\\\\Inputs\\\\Factura proveedor 6.pdf']"
      ]
     },
     "execution_count": 15,
     "metadata": {},
     "output_type": "execute_result"
    }
   ],
   "source": [
    "lista_ficheros_pdf"
   ]
  },
  {
   "cell_type": "code",
   "execution_count": 16,
   "metadata": {},
   "outputs": [],
   "source": [
    "#Nos quedamos solo con los nombres del fichero pdf\n",
    "lista_ficheros_pdf = list(map(lambda x: x.replace('.\\\\Inputs\\\\',''),lista_ficheros_pdf))"
   ]
  },
  {
   "cell_type": "code",
   "execution_count": 17,
   "metadata": {},
   "outputs": [
    {
     "data": {
      "text/plain": [
       "['Factura proveedor 1.pdf',\n",
       " 'Factura proveedor 7.pdf',\n",
       " 'Factura proveedor 9.pdf',\n",
       " 'Factura proveedor 10.pdf',\n",
       " 'Factura proveedor 2.pdf',\n",
       " 'Factura proveedor 3.pdf',\n",
       " 'Factura proveedor 4.pdf',\n",
       " 'Factura proveedor 8.pdf',\n",
       " 'Factura proveedor 5.pdf',\n",
       " 'Factura proveedor 6.pdf']"
      ]
     },
     "execution_count": 17,
     "metadata": {},
     "output_type": "execute_result"
    }
   ],
   "source": [
    "lista_ficheros_pdf"
   ]
  },
  {
   "cell_type": "code",
   "execution_count": 18,
   "metadata": {},
   "outputs": [],
   "source": [
    "lista_proveedor = []\n",
    "\n",
    "for fichero in lista_ficheros_pdf:\n",
    "    pdfFile = open(os.path.join(\".\\Inputs\",fichero),'rb')\n",
    "    lector = PyPDF2.PdfFileReader(pdfFile)\n",
    "    pag = lector.getPage(0)\n",
    "    indice_final = pag.extractText().find('\\n')\n",
    "    proveedor_factura = pag.extractText()[0:indice_final]\n",
    "    lista_proveedor.append(proveedor_factura)"
   ]
  },
  {
   "cell_type": "code",
   "execution_count": 19,
   "metadata": {},
   "outputs": [
    {
     "data": {
      "text/plain": [
       "['Spare parts automóvil',\n",
       " 'Spare parts automóvil',\n",
       " 'Spare parts automóvil',\n",
       " 'Spare parts automóvil',\n",
       " 'Componentes electrónicos SL',\n",
       " 'Componentes electrónicos SL',\n",
       " 'Componentes electrónicos SL',\n",
       " 'Componentes electrónicos SL',\n",
       " 'Car components SL',\n",
       " 'Car components SL']"
      ]
     },
     "execution_count": 19,
     "metadata": {},
     "output_type": "execute_result"
    }
   ],
   "source": [
    "lista_proveedor"
   ]
  },
  {
   "cell_type": "code",
   "execution_count": 20,
   "metadata": {},
   "outputs": [],
   "source": [
    "diccionario_factura_proveedor = dict(zip(lista_ficheros_pdf, lista_proveedor))"
   ]
  },
  {
   "cell_type": "code",
   "execution_count": 21,
   "metadata": {},
   "outputs": [
    {
     "data": {
      "text/plain": [
       "{'Factura proveedor 1.pdf': 'Spare parts automóvil',\n",
       " 'Factura proveedor 7.pdf': 'Spare parts automóvil',\n",
       " 'Factura proveedor 9.pdf': 'Spare parts automóvil',\n",
       " 'Factura proveedor 10.pdf': 'Spare parts automóvil',\n",
       " 'Factura proveedor 2.pdf': 'Componentes electrónicos SL',\n",
       " 'Factura proveedor 3.pdf': 'Componentes electrónicos SL',\n",
       " 'Factura proveedor 4.pdf': 'Componentes electrónicos SL',\n",
       " 'Factura proveedor 8.pdf': 'Componentes electrónicos SL',\n",
       " 'Factura proveedor 5.pdf': 'Car components SL',\n",
       " 'Factura proveedor 6.pdf': 'Car components SL'}"
      ]
     },
     "execution_count": 21,
     "metadata": {},
     "output_type": "execute_result"
    }
   ],
   "source": [
    "diccionario_factura_proveedor"
   ]
  },
  {
   "cell_type": "markdown",
   "metadata": {},
   "source": [
    "# 3. Automatización Organización de Ficheros"
   ]
  },
  {
   "cell_type": "code",
   "execution_count": 22,
   "metadata": {},
   "outputs": [],
   "source": [
    "Carpeta_organización_facturas = \"Facturas por proveedor\""
   ]
  },
  {
   "cell_type": "code",
   "execution_count": 23,
   "metadata": {},
   "outputs": [],
   "source": [
    "#Creamos nueva carpeta dentro de Outputs llamada \"Facturas por proveedor\"\n",
    "os.mkdir(os.path.join(\".\\Outputs\", Carpeta_organización_facturas)) "
   ]
  },
  {
   "cell_type": "code",
   "execution_count": 24,
   "metadata": {},
   "outputs": [],
   "source": [
    "#Verificamos los diferentes proveedores que hay\n",
    "proveedores_unicos = list(set(lista_proveedor))"
   ]
  },
  {
   "cell_type": "code",
   "execution_count": 25,
   "metadata": {},
   "outputs": [
    {
     "data": {
      "text/plain": [
       "['Car components SL', 'Spare parts automóvil', 'Componentes electrónicos SL']"
      ]
     },
     "execution_count": 25,
     "metadata": {},
     "output_type": "execute_result"
    }
   ],
   "source": [
    "proveedores_unicos"
   ]
  },
  {
   "cell_type": "code",
   "execution_count": 26,
   "metadata": {},
   "outputs": [],
   "source": [
    "#Creamos una subcarpeta por cada proveedor\n",
    "for p in proveedores_unicos:\n",
    "    os.mkdir(os.path.join(\".\\Outputs\", Carpeta_organización_facturas,p)) "
   ]
  },
  {
   "cell_type": "code",
   "execution_count": 27,
   "metadata": {},
   "outputs": [],
   "source": [
    "#Mover cada factura de la carpeta input a la carpeta del output de cada proveedor\n",
    "import shutil\n",
    "#shutil.copyfile(ruta original con extensión fichero, ruta objetivo con extensión fichero)\n",
    "for factura_key, factura_value in diccionario_factura_proveedor.items():\n",
    "    shutil.copyfile(os.path.join(\".\\Inputs\",factura_key), os.path.join(\".\\Outputs\", Carpeta_organización_facturas,factura_value,factura_key)) "
   ]
  },
  {
   "cell_type": "markdown",
   "metadata": {},
   "source": [
    "# 4. Automatización Inserción Web Selenium"
   ]
  },
  {
   "cell_type": "code",
   "execution_count": 29,
   "metadata": {},
   "outputs": [],
   "source": [
    "from selenium import webdriver #Instar con cmd: pip install selenium\n",
    "from selenium.webdriver.common.by import By\n",
    "from selenium.webdriver.chrome.service import Service\n",
    "from webdriver_manager.chrome import ChromeDriverManager #pip3 install webdriver-manager"
   ]
  },
  {
   "cell_type": "code",
   "execution_count": 30,
   "metadata": {},
   "outputs": [],
   "source": [
    "driver = webdriver.Chrome(service=Service(ChromeDriverManager().install()))"
   ]
  },
  {
   "cell_type": "code",
   "execution_count": 31,
   "metadata": {},
   "outputs": [],
   "source": [
    "driver.get(\"https://ventas27122020.bubbleapps.io/\")"
   ]
  },
  {
   "cell_type": "code",
   "execution_count": 32,
   "metadata": {},
   "outputs": [],
   "source": [
    "elem = driver.find_element(By.CSS_SELECTOR, 'body > div.main-page.bubble-element.Page > div:nth-child(2) > div > input')"
   ]
  },
  {
   "cell_type": "code",
   "execution_count": 8,
   "metadata": {},
   "outputs": [
    {
     "data": {
      "text/plain": [
       "<selenium.webdriver.remote.webelement.WebElement (session=\"d013f8bb249abc277b8659a3dbec9a74\", element=\"e34a4ca0-3137-4486-8537-514740a090d4\")>"
      ]
     },
     "execution_count": 8,
     "metadata": {},
     "output_type": "execute_result"
    }
   ],
   "source": [
    "elem"
   ]
  },
  {
   "cell_type": "code",
   "execution_count": 12,
   "metadata": {},
   "outputs": [],
   "source": [
    "#Si queremos simular un click\n",
    "elem.click()"
   ]
  },
  {
   "cell_type": "code",
   "execution_count": 13,
   "metadata": {},
   "outputs": [],
   "source": [
    "#Si queremos insertar datos\n",
    "elem.send_keys('Iván')"
   ]
  },
  {
   "cell_type": "code",
   "execution_count": 38,
   "metadata": {},
   "outputs": [],
   "source": [
    "#Obtener todos los elementos web\n",
    "elemComercial = driver.find_element(By.CSS_SELECTOR, 'div.bubble-r-line:nth-child(2) > div:nth-child(1) > input:nth-child(1)')\n",
    "elemLineaProducto = driver.find_element(By.CSS_SELECTOR, 'body > div.main-page.bubble-element.Page > div:nth-child(3) > div > input')\n",
    "elemUnidades = driver.find_element(By.CSS_SELECTOR, 'body > div.main-page.bubble-element.Page > div:nth-child(4) > div > input')\n",
    "elemFecha = driver.find_element(By.CSS_SELECTOR, 'body > div.main-page.bubble-element.Page > div:nth-child(5) > div > input')\n",
    "elemCodProducto = driver.find_element(By.CSS_SELECTOR, 'body > div.main-page.bubble-element.Page > div:nth-child(6) > div > input:nth-child(2)')\n",
    "elemPais = driver.find_element(By.CSS_SELECTOR, 'body > div.main-page.bubble-element.Page > div:nth-child(6) > div > input:nth-child(1)')\n",
    "elemPrecUnitario = driver.find_element(By.CSS_SELECTOR, 'body > div.main-page.bubble-element.Page > div:nth-child(7) > div > input:nth-child(2)')\n",
    "elemVentaTotal = driver.find_element(By.CSS_SELECTOR, 'body > div.main-page.bubble-element.Page > div:nth-child(7) > div > input:nth-child(1)')\n",
    "elemGuardar = driver.find_element(By.CSS_SELECTOR, '.clickable-element')"
   ]
  },
  {
   "cell_type": "code",
   "execution_count": 23,
   "metadata": {},
   "outputs": [
    {
     "data": {
      "text/html": [
       "<div>\n",
       "<style scoped>\n",
       "    .dataframe tbody tr th:only-of-type {\n",
       "        vertical-align: middle;\n",
       "    }\n",
       "\n",
       "    .dataframe tbody tr th {\n",
       "        vertical-align: top;\n",
       "    }\n",
       "\n",
       "    .dataframe thead th {\n",
       "        text-align: right;\n",
       "    }\n",
       "</style>\n",
       "<table border=\"1\" class=\"dataframe\">\n",
       "  <thead>\n",
       "    <tr style=\"text-align: right;\">\n",
       "      <th></th>\n",
       "      <th>Comercial</th>\n",
       "      <th>Unidades</th>\n",
       "      <th>Precio Unitario</th>\n",
       "      <th>Total Venta</th>\n",
       "      <th>Fecha</th>\n",
       "      <th>Línea de Producto</th>\n",
       "      <th>Código de Producto</th>\n",
       "      <th>País</th>\n",
       "      <th>Territorio</th>\n",
       "      <th>Beneficio</th>\n",
       "    </tr>\n",
       "  </thead>\n",
       "  <tbody>\n",
       "    <tr>\n",
       "      <th>0</th>\n",
       "      <td>José A</td>\n",
       "      <td>31</td>\n",
       "      <td>100.00</td>\n",
       "      <td>4305.28</td>\n",
       "      <td>2022-01-04</td>\n",
       "      <td>Classic Cars</td>\n",
       "      <td>S10_4962</td>\n",
       "      <td>France</td>\n",
       "      <td>EMEA</td>\n",
       "      <td>861.0560</td>\n",
       "    </tr>\n",
       "    <tr>\n",
       "      <th>1</th>\n",
       "      <td>Esteban F</td>\n",
       "      <td>39</td>\n",
       "      <td>100.00</td>\n",
       "      <td>4164.42</td>\n",
       "      <td>2022-01-04</td>\n",
       "      <td>Trucks and Buses</td>\n",
       "      <td>S18_2319</td>\n",
       "      <td>France</td>\n",
       "      <td>EMEA</td>\n",
       "      <td>3331.5360</td>\n",
       "    </tr>\n",
       "    <tr>\n",
       "      <th>2</th>\n",
       "      <td>Luis M</td>\n",
       "      <td>45</td>\n",
       "      <td>68.67</td>\n",
       "      <td>3090.15</td>\n",
       "      <td>2022-01-04</td>\n",
       "      <td>Trucks and Buses</td>\n",
       "      <td>S18_2432</td>\n",
       "      <td>France</td>\n",
       "      <td>EMEA</td>\n",
       "      <td>2194.0065</td>\n",
       "    </tr>\n",
       "    <tr>\n",
       "      <th>3</th>\n",
       "      <td>María G</td>\n",
       "      <td>48</td>\n",
       "      <td>100.00</td>\n",
       "      <td>8209.44</td>\n",
       "      <td>2022-01-04</td>\n",
       "      <td>Classic Cars</td>\n",
       "      <td>S18_3232</td>\n",
       "      <td>France</td>\n",
       "      <td>EMEA</td>\n",
       "      <td>1806.0768</td>\n",
       "    </tr>\n",
       "    <tr>\n",
       "      <th>4</th>\n",
       "      <td>Iván M</td>\n",
       "      <td>41</td>\n",
       "      <td>100.00</td>\n",
       "      <td>4815.45</td>\n",
       "      <td>2022-01-04</td>\n",
       "      <td>Trucks and Buses</td>\n",
       "      <td>S18_4600</td>\n",
       "      <td>France</td>\n",
       "      <td>EMEA</td>\n",
       "      <td>3756.0510</td>\n",
       "    </tr>\n",
       "  </tbody>\n",
       "</table>\n",
       "</div>"
      ],
      "text/plain": [
       "   Comercial  Unidades  Precio Unitario  Total Venta      Fecha  \\\n",
       "0     José A        31           100.00      4305.28 2022-01-04   \n",
       "1  Esteban F        39           100.00      4164.42 2022-01-04   \n",
       "2     Luis M        45            68.67      3090.15 2022-01-04   \n",
       "3    María G        48           100.00      8209.44 2022-01-04   \n",
       "4     Iván M        41           100.00      4815.45 2022-01-04   \n",
       "\n",
       "  Línea de Producto Código de Producto    País Territorio  Beneficio  \n",
       "0      Classic Cars           S10_4962  France       EMEA   861.0560  \n",
       "1  Trucks and Buses           S18_2319  France       EMEA  3331.5360  \n",
       "2  Trucks and Buses           S18_2432  France       EMEA  2194.0065  \n",
       "3      Classic Cars           S18_3232  France       EMEA  1806.0768  \n",
       "4  Trucks and Buses           S18_4600  France       EMEA  3756.0510  "
      ]
     },
     "execution_count": 23,
     "metadata": {},
     "output_type": "execute_result"
    }
   ],
   "source": [
    "df_ventas.head()"
   ]
  },
  {
   "cell_type": "code",
   "execution_count": 40,
   "metadata": {},
   "outputs": [],
   "source": [
    "#Inserción datos primer registro df_ventas\n",
    "elemComercial.send_keys(df_ventas['Comercial'][0])\n",
    "elemLineaProducto.send_keys(df_ventas['Línea de Producto'][0])\n",
    "elemUnidades.send_keys(str(df_ventas['Unidades'][0])) #Enviar como string los campos no string\n",
    "elemFecha.send_keys(str(df_ventas['Fecha'][0]))\n",
    "elemCodProducto.send_keys(df_ventas['Código de Producto'][0])\n",
    "elemPais.send_keys(df_ventas['País'][0])\n",
    "elemPrecUnitario.send_keys(str(df_ventas['Precio Unitario'][0]))\n",
    "elemVentaTotal.send_keys(str(df_ventas['Total Venta'][0]))\n",
    "elemGuardar.click()"
   ]
  },
  {
   "cell_type": "code",
   "execution_count": 41,
   "metadata": {},
   "outputs": [
    {
     "ename": "KeyboardInterrupt",
     "evalue": "",
     "output_type": "error",
     "traceback": [
      "\u001b[1;31m---------------------------------------------------------------------------\u001b[0m",
      "\u001b[1;31mKeyboardInterrupt\u001b[0m                         Traceback (most recent call last)",
      "\u001b[1;32m<ipython-input-41-0dae50bd8858>\u001b[0m in \u001b[0;36m<module>\u001b[1;34m\u001b[0m\n\u001b[0;32m     18\u001b[0m     \u001b[0melemPais\u001b[0m\u001b[1;33m.\u001b[0m\u001b[0mclear\u001b[0m\u001b[1;33m(\u001b[0m\u001b[1;33m)\u001b[0m\u001b[1;33m\u001b[0m\u001b[1;33m\u001b[0m\u001b[0m\n\u001b[0;32m     19\u001b[0m     \u001b[0melemPrecUnitario\u001b[0m\u001b[1;33m.\u001b[0m\u001b[0mclear\u001b[0m\u001b[1;33m(\u001b[0m\u001b[1;33m)\u001b[0m\u001b[1;33m\u001b[0m\u001b[1;33m\u001b[0m\u001b[0m\n\u001b[1;32m---> 20\u001b[1;33m     \u001b[0melemVentaTotal\u001b[0m\u001b[1;33m.\u001b[0m\u001b[0mclear\u001b[0m\u001b[1;33m(\u001b[0m\u001b[1;33m)\u001b[0m\u001b[1;33m\u001b[0m\u001b[1;33m\u001b[0m\u001b[0m\n\u001b[0m\u001b[0;32m     21\u001b[0m \u001b[1;33m\u001b[0m\u001b[0m\n",
      "\u001b[1;32m~\\Anaconda3\\lib\\site-packages\\selenium\\webdriver\\remote\\webelement.py\u001b[0m in \u001b[0;36mclear\u001b[1;34m(self)\u001b[0m\n\u001b[0;32m    108\u001b[0m     \u001b[1;32mdef\u001b[0m \u001b[0mclear\u001b[0m\u001b[1;33m(\u001b[0m\u001b[0mself\u001b[0m\u001b[1;33m)\u001b[0m \u001b[1;33m->\u001b[0m \u001b[1;32mNone\u001b[0m\u001b[1;33m:\u001b[0m\u001b[1;33m\u001b[0m\u001b[1;33m\u001b[0m\u001b[0m\n\u001b[0;32m    109\u001b[0m         \u001b[1;34m\"\"\"Clears the text if it's a text entry element.\"\"\"\u001b[0m\u001b[1;33m\u001b[0m\u001b[1;33m\u001b[0m\u001b[0m\n\u001b[1;32m--> 110\u001b[1;33m         \u001b[0mself\u001b[0m\u001b[1;33m.\u001b[0m\u001b[0m_execute\u001b[0m\u001b[1;33m(\u001b[0m\u001b[0mCommand\u001b[0m\u001b[1;33m.\u001b[0m\u001b[0mCLEAR_ELEMENT\u001b[0m\u001b[1;33m)\u001b[0m\u001b[1;33m\u001b[0m\u001b[1;33m\u001b[0m\u001b[0m\n\u001b[0m\u001b[0;32m    111\u001b[0m \u001b[1;33m\u001b[0m\u001b[0m\n\u001b[0;32m    112\u001b[0m     \u001b[1;32mdef\u001b[0m \u001b[0mget_property\u001b[0m\u001b[1;33m(\u001b[0m\u001b[0mself\u001b[0m\u001b[1;33m,\u001b[0m \u001b[0mname\u001b[0m\u001b[1;33m)\u001b[0m \u001b[1;33m->\u001b[0m \u001b[0mUnion\u001b[0m\u001b[1;33m[\u001b[0m\u001b[0mstr\u001b[0m\u001b[1;33m,\u001b[0m \u001b[0mbool\u001b[0m\u001b[1;33m,\u001b[0m \u001b[0mWebElement\u001b[0m\u001b[1;33m,\u001b[0m \u001b[0mdict\u001b[0m\u001b[1;33m]\u001b[0m\u001b[1;33m:\u001b[0m\u001b[1;33m\u001b[0m\u001b[1;33m\u001b[0m\u001b[0m\n",
      "\u001b[1;32m~\\Anaconda3\\lib\\site-packages\\selenium\\webdriver\\remote\\webelement.py\u001b[0m in \u001b[0;36m_execute\u001b[1;34m(self, command, params)\u001b[0m\n\u001b[0;32m    771\u001b[0m             \u001b[0mparams\u001b[0m \u001b[1;33m=\u001b[0m \u001b[1;33m{\u001b[0m\u001b[1;33m}\u001b[0m\u001b[1;33m\u001b[0m\u001b[1;33m\u001b[0m\u001b[0m\n\u001b[0;32m    772\u001b[0m         \u001b[0mparams\u001b[0m\u001b[1;33m[\u001b[0m\u001b[1;34m'id'\u001b[0m\u001b[1;33m]\u001b[0m \u001b[1;33m=\u001b[0m \u001b[0mself\u001b[0m\u001b[1;33m.\u001b[0m\u001b[0m_id\u001b[0m\u001b[1;33m\u001b[0m\u001b[1;33m\u001b[0m\u001b[0m\n\u001b[1;32m--> 773\u001b[1;33m         \u001b[1;32mreturn\u001b[0m \u001b[0mself\u001b[0m\u001b[1;33m.\u001b[0m\u001b[0m_parent\u001b[0m\u001b[1;33m.\u001b[0m\u001b[0mexecute\u001b[0m\u001b[1;33m(\u001b[0m\u001b[0mcommand\u001b[0m\u001b[1;33m,\u001b[0m \u001b[0mparams\u001b[0m\u001b[1;33m)\u001b[0m\u001b[1;33m\u001b[0m\u001b[1;33m\u001b[0m\u001b[0m\n\u001b[0m\u001b[0;32m    774\u001b[0m \u001b[1;33m\u001b[0m\u001b[0m\n\u001b[0;32m    775\u001b[0m     \u001b[1;32mdef\u001b[0m \u001b[0mfind_element\u001b[0m\u001b[1;33m(\u001b[0m\u001b[0mself\u001b[0m\u001b[1;33m,\u001b[0m \u001b[0mby\u001b[0m\u001b[1;33m=\u001b[0m\u001b[0mBy\u001b[0m\u001b[1;33m.\u001b[0m\u001b[0mID\u001b[0m\u001b[1;33m,\u001b[0m \u001b[0mvalue\u001b[0m\u001b[1;33m=\u001b[0m\u001b[1;32mNone\u001b[0m\u001b[1;33m)\u001b[0m\u001b[1;33m:\u001b[0m\u001b[1;33m\u001b[0m\u001b[1;33m\u001b[0m\u001b[0m\n",
      "\u001b[1;32m~\\Anaconda3\\lib\\site-packages\\selenium\\webdriver\\remote\\webdriver.py\u001b[0m in \u001b[0;36mexecute\u001b[1;34m(self, driver_command, params)\u001b[0m\n\u001b[0;32m    426\u001b[0m \u001b[1;33m\u001b[0m\u001b[0m\n\u001b[0;32m    427\u001b[0m         \u001b[0mparams\u001b[0m \u001b[1;33m=\u001b[0m \u001b[0mself\u001b[0m\u001b[1;33m.\u001b[0m\u001b[0m_wrap_value\u001b[0m\u001b[1;33m(\u001b[0m\u001b[0mparams\u001b[0m\u001b[1;33m)\u001b[0m\u001b[1;33m\u001b[0m\u001b[1;33m\u001b[0m\u001b[0m\n\u001b[1;32m--> 428\u001b[1;33m         \u001b[0mresponse\u001b[0m \u001b[1;33m=\u001b[0m \u001b[0mself\u001b[0m\u001b[1;33m.\u001b[0m\u001b[0mcommand_executor\u001b[0m\u001b[1;33m.\u001b[0m\u001b[0mexecute\u001b[0m\u001b[1;33m(\u001b[0m\u001b[0mdriver_command\u001b[0m\u001b[1;33m,\u001b[0m \u001b[0mparams\u001b[0m\u001b[1;33m)\u001b[0m\u001b[1;33m\u001b[0m\u001b[1;33m\u001b[0m\u001b[0m\n\u001b[0m\u001b[0;32m    429\u001b[0m         \u001b[1;32mif\u001b[0m \u001b[0mresponse\u001b[0m\u001b[1;33m:\u001b[0m\u001b[1;33m\u001b[0m\u001b[1;33m\u001b[0m\u001b[0m\n\u001b[0;32m    430\u001b[0m             \u001b[0mself\u001b[0m\u001b[1;33m.\u001b[0m\u001b[0merror_handler\u001b[0m\u001b[1;33m.\u001b[0m\u001b[0mcheck_response\u001b[0m\u001b[1;33m(\u001b[0m\u001b[0mresponse\u001b[0m\u001b[1;33m)\u001b[0m\u001b[1;33m\u001b[0m\u001b[1;33m\u001b[0m\u001b[0m\n",
      "\u001b[1;32m~\\Anaconda3\\lib\\site-packages\\selenium\\webdriver\\remote\\remote_connection.py\u001b[0m in \u001b[0;36mexecute\u001b[1;34m(self, command, params)\u001b[0m\n\u001b[0;32m    345\u001b[0m         \u001b[0mdata\u001b[0m \u001b[1;33m=\u001b[0m \u001b[0mutils\u001b[0m\u001b[1;33m.\u001b[0m\u001b[0mdump_json\u001b[0m\u001b[1;33m(\u001b[0m\u001b[0mparams\u001b[0m\u001b[1;33m)\u001b[0m\u001b[1;33m\u001b[0m\u001b[1;33m\u001b[0m\u001b[0m\n\u001b[0;32m    346\u001b[0m         \u001b[0murl\u001b[0m \u001b[1;33m=\u001b[0m \u001b[1;34mf\"{self._url}{path}\"\u001b[0m\u001b[1;33m\u001b[0m\u001b[1;33m\u001b[0m\u001b[0m\n\u001b[1;32m--> 347\u001b[1;33m         \u001b[1;32mreturn\u001b[0m \u001b[0mself\u001b[0m\u001b[1;33m.\u001b[0m\u001b[0m_request\u001b[0m\u001b[1;33m(\u001b[0m\u001b[0mcommand_info\u001b[0m\u001b[1;33m[\u001b[0m\u001b[1;36m0\u001b[0m\u001b[1;33m]\u001b[0m\u001b[1;33m,\u001b[0m \u001b[0murl\u001b[0m\u001b[1;33m,\u001b[0m \u001b[0mbody\u001b[0m\u001b[1;33m=\u001b[0m\u001b[0mdata\u001b[0m\u001b[1;33m)\u001b[0m\u001b[1;33m\u001b[0m\u001b[1;33m\u001b[0m\u001b[0m\n\u001b[0m\u001b[0;32m    348\u001b[0m \u001b[1;33m\u001b[0m\u001b[0m\n\u001b[0;32m    349\u001b[0m     \u001b[1;32mdef\u001b[0m \u001b[0m_request\u001b[0m\u001b[1;33m(\u001b[0m\u001b[0mself\u001b[0m\u001b[1;33m,\u001b[0m \u001b[0mmethod\u001b[0m\u001b[1;33m,\u001b[0m \u001b[0murl\u001b[0m\u001b[1;33m,\u001b[0m \u001b[0mbody\u001b[0m\u001b[1;33m=\u001b[0m\u001b[1;32mNone\u001b[0m\u001b[1;33m)\u001b[0m\u001b[1;33m:\u001b[0m\u001b[1;33m\u001b[0m\u001b[1;33m\u001b[0m\u001b[0m\n",
      "\u001b[1;32m~\\Anaconda3\\lib\\site-packages\\selenium\\webdriver\\remote\\remote_connection.py\u001b[0m in \u001b[0;36m_request\u001b[1;34m(self, method, url, body)\u001b[0m\n\u001b[0;32m    367\u001b[0m \u001b[1;33m\u001b[0m\u001b[0m\n\u001b[0;32m    368\u001b[0m         \u001b[1;32mif\u001b[0m \u001b[0mself\u001b[0m\u001b[1;33m.\u001b[0m\u001b[0mkeep_alive\u001b[0m\u001b[1;33m:\u001b[0m\u001b[1;33m\u001b[0m\u001b[1;33m\u001b[0m\u001b[0m\n\u001b[1;32m--> 369\u001b[1;33m             \u001b[0mresponse\u001b[0m \u001b[1;33m=\u001b[0m \u001b[0mself\u001b[0m\u001b[1;33m.\u001b[0m\u001b[0m_conn\u001b[0m\u001b[1;33m.\u001b[0m\u001b[0mrequest\u001b[0m\u001b[1;33m(\u001b[0m\u001b[0mmethod\u001b[0m\u001b[1;33m,\u001b[0m \u001b[0murl\u001b[0m\u001b[1;33m,\u001b[0m \u001b[0mbody\u001b[0m\u001b[1;33m=\u001b[0m\u001b[0mbody\u001b[0m\u001b[1;33m,\u001b[0m \u001b[0mheaders\u001b[0m\u001b[1;33m=\u001b[0m\u001b[0mheaders\u001b[0m\u001b[1;33m)\u001b[0m\u001b[1;33m\u001b[0m\u001b[1;33m\u001b[0m\u001b[0m\n\u001b[0m\u001b[0;32m    370\u001b[0m             \u001b[0mstatuscode\u001b[0m \u001b[1;33m=\u001b[0m \u001b[0mresponse\u001b[0m\u001b[1;33m.\u001b[0m\u001b[0mstatus\u001b[0m\u001b[1;33m\u001b[0m\u001b[1;33m\u001b[0m\u001b[0m\n\u001b[0;32m    371\u001b[0m         \u001b[1;32melse\u001b[0m\u001b[1;33m:\u001b[0m\u001b[1;33m\u001b[0m\u001b[1;33m\u001b[0m\u001b[0m\n",
      "\u001b[1;32m~\\Anaconda3\\lib\\site-packages\\urllib3\\request.py\u001b[0m in \u001b[0;36mrequest\u001b[1;34m(self, method, url, fields, headers, **urlopen_kw)\u001b[0m\n\u001b[0;32m     76\u001b[0m             )\n\u001b[0;32m     77\u001b[0m         \u001b[1;32melse\u001b[0m\u001b[1;33m:\u001b[0m\u001b[1;33m\u001b[0m\u001b[1;33m\u001b[0m\u001b[0m\n\u001b[1;32m---> 78\u001b[1;33m             return self.request_encode_body(\n\u001b[0m\u001b[0;32m     79\u001b[0m                 \u001b[0mmethod\u001b[0m\u001b[1;33m,\u001b[0m \u001b[0murl\u001b[0m\u001b[1;33m,\u001b[0m \u001b[0mfields\u001b[0m\u001b[1;33m=\u001b[0m\u001b[0mfields\u001b[0m\u001b[1;33m,\u001b[0m \u001b[0mheaders\u001b[0m\u001b[1;33m=\u001b[0m\u001b[0mheaders\u001b[0m\u001b[1;33m,\u001b[0m \u001b[1;33m**\u001b[0m\u001b[0murlopen_kw\u001b[0m\u001b[1;33m\u001b[0m\u001b[1;33m\u001b[0m\u001b[0m\n\u001b[0;32m     80\u001b[0m             )\n",
      "\u001b[1;32m~\\Anaconda3\\lib\\site-packages\\urllib3\\request.py\u001b[0m in \u001b[0;36mrequest_encode_body\u001b[1;34m(self, method, url, fields, headers, encode_multipart, multipart_boundary, **urlopen_kw)\u001b[0m\n\u001b[0;32m    168\u001b[0m         \u001b[0mextra_kw\u001b[0m\u001b[1;33m.\u001b[0m\u001b[0mupdate\u001b[0m\u001b[1;33m(\u001b[0m\u001b[0murlopen_kw\u001b[0m\u001b[1;33m)\u001b[0m\u001b[1;33m\u001b[0m\u001b[1;33m\u001b[0m\u001b[0m\n\u001b[0;32m    169\u001b[0m \u001b[1;33m\u001b[0m\u001b[0m\n\u001b[1;32m--> 170\u001b[1;33m         \u001b[1;32mreturn\u001b[0m \u001b[0mself\u001b[0m\u001b[1;33m.\u001b[0m\u001b[0murlopen\u001b[0m\u001b[1;33m(\u001b[0m\u001b[0mmethod\u001b[0m\u001b[1;33m,\u001b[0m \u001b[0murl\u001b[0m\u001b[1;33m,\u001b[0m \u001b[1;33m**\u001b[0m\u001b[0mextra_kw\u001b[0m\u001b[1;33m)\u001b[0m\u001b[1;33m\u001b[0m\u001b[1;33m\u001b[0m\u001b[0m\n\u001b[0m",
      "\u001b[1;32m~\\Anaconda3\\lib\\site-packages\\urllib3\\poolmanager.py\u001b[0m in \u001b[0;36murlopen\u001b[1;34m(self, method, url, redirect, **kw)\u001b[0m\n\u001b[0;32m    374\u001b[0m             \u001b[0mresponse\u001b[0m \u001b[1;33m=\u001b[0m \u001b[0mconn\u001b[0m\u001b[1;33m.\u001b[0m\u001b[0murlopen\u001b[0m\u001b[1;33m(\u001b[0m\u001b[0mmethod\u001b[0m\u001b[1;33m,\u001b[0m \u001b[0murl\u001b[0m\u001b[1;33m,\u001b[0m \u001b[1;33m**\u001b[0m\u001b[0mkw\u001b[0m\u001b[1;33m)\u001b[0m\u001b[1;33m\u001b[0m\u001b[1;33m\u001b[0m\u001b[0m\n\u001b[0;32m    375\u001b[0m         \u001b[1;32melse\u001b[0m\u001b[1;33m:\u001b[0m\u001b[1;33m\u001b[0m\u001b[1;33m\u001b[0m\u001b[0m\n\u001b[1;32m--> 376\u001b[1;33m             \u001b[0mresponse\u001b[0m \u001b[1;33m=\u001b[0m \u001b[0mconn\u001b[0m\u001b[1;33m.\u001b[0m\u001b[0murlopen\u001b[0m\u001b[1;33m(\u001b[0m\u001b[0mmethod\u001b[0m\u001b[1;33m,\u001b[0m \u001b[0mu\u001b[0m\u001b[1;33m.\u001b[0m\u001b[0mrequest_uri\u001b[0m\u001b[1;33m,\u001b[0m \u001b[1;33m**\u001b[0m\u001b[0mkw\u001b[0m\u001b[1;33m)\u001b[0m\u001b[1;33m\u001b[0m\u001b[1;33m\u001b[0m\u001b[0m\n\u001b[0m\u001b[0;32m    377\u001b[0m \u001b[1;33m\u001b[0m\u001b[0m\n\u001b[0;32m    378\u001b[0m         \u001b[0mredirect_location\u001b[0m \u001b[1;33m=\u001b[0m \u001b[0mredirect\u001b[0m \u001b[1;32mand\u001b[0m \u001b[0mresponse\u001b[0m\u001b[1;33m.\u001b[0m\u001b[0mget_redirect_location\u001b[0m\u001b[1;33m(\u001b[0m\u001b[1;33m)\u001b[0m\u001b[1;33m\u001b[0m\u001b[1;33m\u001b[0m\u001b[0m\n",
      "\u001b[1;32m~\\Anaconda3\\lib\\site-packages\\urllib3\\connectionpool.py\u001b[0m in \u001b[0;36murlopen\u001b[1;34m(self, method, url, body, headers, retries, redirect, assert_same_host, timeout, pool_timeout, release_conn, chunked, body_pos, **response_kw)\u001b[0m\n\u001b[0;32m    701\u001b[0m \u001b[1;33m\u001b[0m\u001b[0m\n\u001b[0;32m    702\u001b[0m             \u001b[1;31m# Make the request on the httplib connection object.\u001b[0m\u001b[1;33m\u001b[0m\u001b[1;33m\u001b[0m\u001b[1;33m\u001b[0m\u001b[0m\n\u001b[1;32m--> 703\u001b[1;33m             httplib_response = self._make_request(\n\u001b[0m\u001b[0;32m    704\u001b[0m                 \u001b[0mconn\u001b[0m\u001b[1;33m,\u001b[0m\u001b[1;33m\u001b[0m\u001b[1;33m\u001b[0m\u001b[0m\n\u001b[0;32m    705\u001b[0m                 \u001b[0mmethod\u001b[0m\u001b[1;33m,\u001b[0m\u001b[1;33m\u001b[0m\u001b[1;33m\u001b[0m\u001b[0m\n",
      "\u001b[1;32m~\\Anaconda3\\lib\\site-packages\\urllib3\\connectionpool.py\u001b[0m in \u001b[0;36m_make_request\u001b[1;34m(self, conn, method, url, timeout, chunked, **httplib_request_kw)\u001b[0m\n\u001b[0;32m    447\u001b[0m                     \u001b[1;31m# Python 3 (including for exceptions like SystemExit).\u001b[0m\u001b[1;33m\u001b[0m\u001b[1;33m\u001b[0m\u001b[1;33m\u001b[0m\u001b[0m\n\u001b[0;32m    448\u001b[0m                     \u001b[1;31m# Otherwise it looks like a bug in the code.\u001b[0m\u001b[1;33m\u001b[0m\u001b[1;33m\u001b[0m\u001b[1;33m\u001b[0m\u001b[0m\n\u001b[1;32m--> 449\u001b[1;33m                     \u001b[0msix\u001b[0m\u001b[1;33m.\u001b[0m\u001b[0mraise_from\u001b[0m\u001b[1;33m(\u001b[0m\u001b[0me\u001b[0m\u001b[1;33m,\u001b[0m \u001b[1;32mNone\u001b[0m\u001b[1;33m)\u001b[0m\u001b[1;33m\u001b[0m\u001b[1;33m\u001b[0m\u001b[0m\n\u001b[0m\u001b[0;32m    450\u001b[0m         \u001b[1;32mexcept\u001b[0m \u001b[1;33m(\u001b[0m\u001b[0mSocketTimeout\u001b[0m\u001b[1;33m,\u001b[0m \u001b[0mBaseSSLError\u001b[0m\u001b[1;33m,\u001b[0m \u001b[0mSocketError\u001b[0m\u001b[1;33m)\u001b[0m \u001b[1;32mas\u001b[0m \u001b[0me\u001b[0m\u001b[1;33m:\u001b[0m\u001b[1;33m\u001b[0m\u001b[1;33m\u001b[0m\u001b[0m\n\u001b[0;32m    451\u001b[0m             \u001b[0mself\u001b[0m\u001b[1;33m.\u001b[0m\u001b[0m_raise_timeout\u001b[0m\u001b[1;33m(\u001b[0m\u001b[0merr\u001b[0m\u001b[1;33m=\u001b[0m\u001b[0me\u001b[0m\u001b[1;33m,\u001b[0m \u001b[0murl\u001b[0m\u001b[1;33m=\u001b[0m\u001b[0murl\u001b[0m\u001b[1;33m,\u001b[0m \u001b[0mtimeout_value\u001b[0m\u001b[1;33m=\u001b[0m\u001b[0mread_timeout\u001b[0m\u001b[1;33m)\u001b[0m\u001b[1;33m\u001b[0m\u001b[1;33m\u001b[0m\u001b[0m\n",
      "\u001b[1;32m~\\Anaconda3\\lib\\site-packages\\urllib3\\packages\\six.py\u001b[0m in \u001b[0;36mraise_from\u001b[1;34m(value, from_value)\u001b[0m\n",
      "\u001b[1;32m~\\Anaconda3\\lib\\site-packages\\urllib3\\connectionpool.py\u001b[0m in \u001b[0;36m_make_request\u001b[1;34m(self, conn, method, url, timeout, chunked, **httplib_request_kw)\u001b[0m\n\u001b[0;32m    442\u001b[0m                 \u001b[1;31m# Python 3\u001b[0m\u001b[1;33m\u001b[0m\u001b[1;33m\u001b[0m\u001b[1;33m\u001b[0m\u001b[0m\n\u001b[0;32m    443\u001b[0m                 \u001b[1;32mtry\u001b[0m\u001b[1;33m:\u001b[0m\u001b[1;33m\u001b[0m\u001b[1;33m\u001b[0m\u001b[0m\n\u001b[1;32m--> 444\u001b[1;33m                     \u001b[0mhttplib_response\u001b[0m \u001b[1;33m=\u001b[0m \u001b[0mconn\u001b[0m\u001b[1;33m.\u001b[0m\u001b[0mgetresponse\u001b[0m\u001b[1;33m(\u001b[0m\u001b[1;33m)\u001b[0m\u001b[1;33m\u001b[0m\u001b[1;33m\u001b[0m\u001b[0m\n\u001b[0m\u001b[0;32m    445\u001b[0m                 \u001b[1;32mexcept\u001b[0m \u001b[0mBaseException\u001b[0m \u001b[1;32mas\u001b[0m \u001b[0me\u001b[0m\u001b[1;33m:\u001b[0m\u001b[1;33m\u001b[0m\u001b[1;33m\u001b[0m\u001b[0m\n\u001b[0;32m    446\u001b[0m                     \u001b[1;31m# Remove the TypeError from the exception chain in\u001b[0m\u001b[1;33m\u001b[0m\u001b[1;33m\u001b[0m\u001b[1;33m\u001b[0m\u001b[0m\n",
      "\u001b[1;32m~\\Anaconda3\\lib\\http\\client.py\u001b[0m in \u001b[0;36mgetresponse\u001b[1;34m(self)\u001b[0m\n\u001b[0;32m   1330\u001b[0m         \u001b[1;32mtry\u001b[0m\u001b[1;33m:\u001b[0m\u001b[1;33m\u001b[0m\u001b[1;33m\u001b[0m\u001b[0m\n\u001b[0;32m   1331\u001b[0m             \u001b[1;32mtry\u001b[0m\u001b[1;33m:\u001b[0m\u001b[1;33m\u001b[0m\u001b[1;33m\u001b[0m\u001b[0m\n\u001b[1;32m-> 1332\u001b[1;33m                 \u001b[0mresponse\u001b[0m\u001b[1;33m.\u001b[0m\u001b[0mbegin\u001b[0m\u001b[1;33m(\u001b[0m\u001b[1;33m)\u001b[0m\u001b[1;33m\u001b[0m\u001b[1;33m\u001b[0m\u001b[0m\n\u001b[0m\u001b[0;32m   1333\u001b[0m             \u001b[1;32mexcept\u001b[0m \u001b[0mConnectionError\u001b[0m\u001b[1;33m:\u001b[0m\u001b[1;33m\u001b[0m\u001b[1;33m\u001b[0m\u001b[0m\n\u001b[0;32m   1334\u001b[0m                 \u001b[0mself\u001b[0m\u001b[1;33m.\u001b[0m\u001b[0mclose\u001b[0m\u001b[1;33m(\u001b[0m\u001b[1;33m)\u001b[0m\u001b[1;33m\u001b[0m\u001b[1;33m\u001b[0m\u001b[0m\n",
      "\u001b[1;32m~\\Anaconda3\\lib\\http\\client.py\u001b[0m in \u001b[0;36mbegin\u001b[1;34m(self)\u001b[0m\n\u001b[0;32m    301\u001b[0m         \u001b[1;31m# read until we get a non-100 response\u001b[0m\u001b[1;33m\u001b[0m\u001b[1;33m\u001b[0m\u001b[1;33m\u001b[0m\u001b[0m\n\u001b[0;32m    302\u001b[0m         \u001b[1;32mwhile\u001b[0m \u001b[1;32mTrue\u001b[0m\u001b[1;33m:\u001b[0m\u001b[1;33m\u001b[0m\u001b[1;33m\u001b[0m\u001b[0m\n\u001b[1;32m--> 303\u001b[1;33m             \u001b[0mversion\u001b[0m\u001b[1;33m,\u001b[0m \u001b[0mstatus\u001b[0m\u001b[1;33m,\u001b[0m \u001b[0mreason\u001b[0m \u001b[1;33m=\u001b[0m \u001b[0mself\u001b[0m\u001b[1;33m.\u001b[0m\u001b[0m_read_status\u001b[0m\u001b[1;33m(\u001b[0m\u001b[1;33m)\u001b[0m\u001b[1;33m\u001b[0m\u001b[1;33m\u001b[0m\u001b[0m\n\u001b[0m\u001b[0;32m    304\u001b[0m             \u001b[1;32mif\u001b[0m \u001b[0mstatus\u001b[0m \u001b[1;33m!=\u001b[0m \u001b[0mCONTINUE\u001b[0m\u001b[1;33m:\u001b[0m\u001b[1;33m\u001b[0m\u001b[1;33m\u001b[0m\u001b[0m\n\u001b[0;32m    305\u001b[0m                 \u001b[1;32mbreak\u001b[0m\u001b[1;33m\u001b[0m\u001b[1;33m\u001b[0m\u001b[0m\n",
      "\u001b[1;32m~\\Anaconda3\\lib\\http\\client.py\u001b[0m in \u001b[0;36m_read_status\u001b[1;34m(self)\u001b[0m\n\u001b[0;32m    262\u001b[0m \u001b[1;33m\u001b[0m\u001b[0m\n\u001b[0;32m    263\u001b[0m     \u001b[1;32mdef\u001b[0m \u001b[0m_read_status\u001b[0m\u001b[1;33m(\u001b[0m\u001b[0mself\u001b[0m\u001b[1;33m)\u001b[0m\u001b[1;33m:\u001b[0m\u001b[1;33m\u001b[0m\u001b[1;33m\u001b[0m\u001b[0m\n\u001b[1;32m--> 264\u001b[1;33m         \u001b[0mline\u001b[0m \u001b[1;33m=\u001b[0m \u001b[0mstr\u001b[0m\u001b[1;33m(\u001b[0m\u001b[0mself\u001b[0m\u001b[1;33m.\u001b[0m\u001b[0mfp\u001b[0m\u001b[1;33m.\u001b[0m\u001b[0mreadline\u001b[0m\u001b[1;33m(\u001b[0m\u001b[0m_MAXLINE\u001b[0m \u001b[1;33m+\u001b[0m \u001b[1;36m1\u001b[0m\u001b[1;33m)\u001b[0m\u001b[1;33m,\u001b[0m \u001b[1;34m\"iso-8859-1\"\u001b[0m\u001b[1;33m)\u001b[0m\u001b[1;33m\u001b[0m\u001b[1;33m\u001b[0m\u001b[0m\n\u001b[0m\u001b[0;32m    265\u001b[0m         \u001b[1;32mif\u001b[0m \u001b[0mlen\u001b[0m\u001b[1;33m(\u001b[0m\u001b[0mline\u001b[0m\u001b[1;33m)\u001b[0m \u001b[1;33m>\u001b[0m \u001b[0m_MAXLINE\u001b[0m\u001b[1;33m:\u001b[0m\u001b[1;33m\u001b[0m\u001b[1;33m\u001b[0m\u001b[0m\n\u001b[0;32m    266\u001b[0m             \u001b[1;32mraise\u001b[0m \u001b[0mLineTooLong\u001b[0m\u001b[1;33m(\u001b[0m\u001b[1;34m\"status line\"\u001b[0m\u001b[1;33m)\u001b[0m\u001b[1;33m\u001b[0m\u001b[1;33m\u001b[0m\u001b[0m\n",
      "\u001b[1;32m~\\Anaconda3\\lib\\socket.py\u001b[0m in \u001b[0;36mreadinto\u001b[1;34m(self, b)\u001b[0m\n\u001b[0;32m    667\u001b[0m         \u001b[1;32mwhile\u001b[0m \u001b[1;32mTrue\u001b[0m\u001b[1;33m:\u001b[0m\u001b[1;33m\u001b[0m\u001b[1;33m\u001b[0m\u001b[0m\n\u001b[0;32m    668\u001b[0m             \u001b[1;32mtry\u001b[0m\u001b[1;33m:\u001b[0m\u001b[1;33m\u001b[0m\u001b[1;33m\u001b[0m\u001b[0m\n\u001b[1;32m--> 669\u001b[1;33m                 \u001b[1;32mreturn\u001b[0m \u001b[0mself\u001b[0m\u001b[1;33m.\u001b[0m\u001b[0m_sock\u001b[0m\u001b[1;33m.\u001b[0m\u001b[0mrecv_into\u001b[0m\u001b[1;33m(\u001b[0m\u001b[0mb\u001b[0m\u001b[1;33m)\u001b[0m\u001b[1;33m\u001b[0m\u001b[1;33m\u001b[0m\u001b[0m\n\u001b[0m\u001b[0;32m    670\u001b[0m             \u001b[1;32mexcept\u001b[0m \u001b[0mtimeout\u001b[0m\u001b[1;33m:\u001b[0m\u001b[1;33m\u001b[0m\u001b[1;33m\u001b[0m\u001b[0m\n\u001b[0;32m    671\u001b[0m                 \u001b[0mself\u001b[0m\u001b[1;33m.\u001b[0m\u001b[0m_timeout_occurred\u001b[0m \u001b[1;33m=\u001b[0m \u001b[1;32mTrue\u001b[0m\u001b[1;33m\u001b[0m\u001b[1;33m\u001b[0m\u001b[0m\n",
      "\u001b[1;31mKeyboardInterrupt\u001b[0m: "
     ]
    }
   ],
   "source": [
    "#Inserción todos los registros df_ventas\n",
    "for i in df_ventas.index:\n",
    "    elemComercial.send_keys(df_ventas['Comercial'][i])\n",
    "    elemLineaProducto.send_keys(df_ventas['Línea de Producto'][i])\n",
    "    elemUnidades.send_keys(str(df_ventas['Unidades'][i])) #Enviar como string los campos no string\n",
    "    elemFecha.send_keys(str(df_ventas['Fecha'][i]))\n",
    "    elemCodProducto.send_keys(df_ventas['Código de Producto'][i])\n",
    "    elemPais.send_keys(df_ventas['País'][0])\n",
    "    elemPrecUnitario.send_keys(str(df_ventas['Precio Unitario'][i]))\n",
    "    elemVentaTotal.send_keys(str(df_ventas['Total Venta'][i]))\n",
    "    elemGuardar.click()\n",
    "    #Limpiar los campos para la siguiente inserción\n",
    "    elemComercial.clear()\n",
    "    elemLineaProducto.clear()\n",
    "    elemUnidades.clear()\n",
    "    elemFecha.clear()\n",
    "    elemCodProducto.clear()\n",
    "    elemPais.clear()\n",
    "    elemPrecUnitario.clear()\n",
    "    elemVentaTotal.clear()\n",
    "    "
   ]
  },
  {
   "cell_type": "markdown",
   "metadata": {},
   "source": [
    "# 5. Automatización Web Búsqueda Marketplace"
   ]
  },
  {
   "cell_type": "code",
   "execution_count": 42,
   "metadata": {},
   "outputs": [],
   "source": [
    "import bs4\n",
    "import requests\n",
    "import lxml\n",
    "import json"
   ]
  },
  {
   "cell_type": "code",
   "execution_count": 43,
   "metadata": {},
   "outputs": [],
   "source": [
    "#Conveniente definir el elemento headers a la hora de leer desde la web para que el navegador piense que somos un humano\n",
    "headers = {\n",
    "    \"User-Agent\":\n",
    "    \"Mozilla/5.0 (Windows NT 10.0; Win64; x64) AppleWebKit/537.36 (KHTML, like Gecko) Chrome/70.0.3538.102 Safari/537.36 Edge/18.19582\"\n",
    "}"
   ]
  },
  {
   "cell_type": "code",
   "execution_count": 44,
   "metadata": {},
   "outputs": [],
   "source": [
    "#Obtener el contenido en retailer https://www.oscaro.es/ para la búsqueda de productos para el coche\n",
    "res = requests.get(\"https://www.oscaro.es/filtro-de-aceite-7-g\",headers=headers)"
   ]
  },
  {
   "cell_type": "code",
   "execution_count": 45,
   "metadata": {},
   "outputs": [],
   "source": [
    "#Creamos objeto BeautifulSoup\n",
    "soup = bs4.BeautifulSoup(res.text, 'lxml')"
   ]
  },
  {
   "cell_type": "code",
   "execution_count": 46,
   "metadata": {},
   "outputs": [
    {
     "data": {
      "text/plain": [
       "<!DOCTYPE html>\n",
       "<html lang=\"es-es\">\n",
       "<head>\n",
       "<meta charset=\"utf-8\"/>\n",
       "<meta content=\"width=device-width, initial-scale=1\" name=\"viewport\"/>\n",
       "<title>Filtro de aceite al mejor precio - Oscaro.es</title>\n",
       "<!-- ____  _____ _________    ____  ____ \n",
       "        / __ \\/ ___// ____/   |  / __ \\/ __ \\\n",
       "       / / / /\\__ \\/ /   / /| | / /_/ / / / /\n",
       "      / /_/ /___/ / /___/ ___ |/ _, _/ /_/ / \n",
       "      \\____//____/\\____/_/  |_/_/ |_|\\____/  \n",
       "    -->\n",
       "<meta content=\"index, follow\" name=\"robots\"/>\n",
       "<meta content=\"Oscaro entrega en 48 h recambios de automÃ³vil de origen con descuento\" name=\"Abstract\"/>\n",
       "<meta content=\"Â¡Pide tus recambios de automÃ³vil por Internet!\" name=\"Subject\"/>\n",
       "<meta content=\"Filtro de aceite de coche al mejor precio, piezas nuevas y de origen : las mejores marcas - EnvÃ­o en punto de entrega o a domicilio - Oscaro.es\" name=\"description\"/>\n",
       "<meta content=\"es-es\" name=\"Language\"/>\n",
       "<meta content=\"website\" property=\"og:type\"/>\n",
       "<meta content=\"Filtro de aceite al mejor precio - Oscaro.es\" property=\"og:title\"/>\n",
       "<meta content=\"Filtro de aceite de coche al mejor precio, piezas nuevas y de origen : las mejores marcas - EnvÃ­o en punto de entrega o a domicilio - Oscaro.es\" property=\"og:description\"/>\n",
       "<meta content=\"https://oscaro.media/mu/layout/logo/logo-opengraph.png\" property=\"og:image\"/>\n",
       "<meta content=\"https://www.oscaro.es/filtro-de-aceite-7-g\" property=\"og:url\"/>\n",
       "<meta content=\"Oscaro.es\" property=\"og:site_name\"/>\n",
       "<meta content=\"Filtro de aceite al mejor precio - Oscaro.es\" name=\"twitter:title\"/>\n",
       "<meta content=\"Filtro de aceite de coche al mejor precio, piezas nuevas y de origen : las mejores marcas - EnvÃ­o en punto de entrega o a domicilio - Oscaro.es\" name=\"twitter:description\"/>\n",
       "<meta content=\"https://oscaro.media/mu/layout/logo/logo-opengraph.png\" name=\"twitter:image\"/>\n",
       "<meta content=\"summary_large_image\" name=\"twitter:card\"/>\n",
       "<meta content=\"Oscaro logo\" name=\"twitter:image:alt\"/>\n",
       "<meta content=\"app-id=1589069545D\" name=\"apple-itunes-app\"/>\n",
       "<link href=\"https://www.oscaro.com/filtre-a-huile-7-g\" hreflang=\"fr-FR\" rel=\"alternate\"/><link href=\"https://www.oscaro.es/filtro-de-aceite-7-g\" hreflang=\"es-ES\" rel=\"alternate\"/><link href=\"https://www.oscaro.be/fr/filtre-a-huile\" hreflang=\"fr-BE\" rel=\"alternate\"/><link href=\"https://www.oscaro.pt/pt/filtro-de-oleo\" hreflang=\"pt-PT\" rel=\"alternate\"/><link href=\"https://www.oscaro.de/olfilter-7-g\" hreflang=\"de-DE\" rel=\"alternate\"/>\n",
       "<link href=\"https://www.oscaro.es/filtro-de-aceite-7-g\" rel=\"canonical\"/>\n",
       "<link href=\"https://www.oscaro.es/filtro-de-aceite-7-g?page=2\" rel=\"next\"/>\n",
       "<meta content=\"telephone=no\" name=\"format-detection\"/>\n",
       "<meta content=\"yes\" name=\"apple-mobile-web-app-capable\"/>\n",
       "<link href=\"https://oscaro.media/yd/5.7.27/css/yoda.css\" rel=\"stylesheet\"/>\n",
       "<link as=\"font\" crossorigin=\"anonymous\" href=\"https://oscaro.media/mu/fonts/opensans/OpenSans-Regular.woff2\" rel=\"preload\" type=\"font/woff2\"/>\n",
       "<link as=\"font\" crossorigin=\"anonymous\" href=\"https://oscaro.media/mu/fonts/opensans/OpenSans-Bold.woff2\" rel=\"preload\" type=\"font/woff2\"/>\n",
       "<link as=\"font\" crossorigin=\"anonymous\" href=\"https://oscaro.media/mu/fonts/opensans/OpenSans-Italic.woff2\" rel=\"preload\" type=\"font/woff2\"/>\n",
       "<link as=\"font\" crossorigin=\"anonymous\" href=\"https://oscaro.media/mu/fonts/opensans/OpenSans-SemiBold.woff2\" rel=\"preload\" type=\"font/woff2\"/>\n",
       "<link as=\"font\" crossorigin=\"anonymous\" href=\"https://oscaro.media/mu/fonts/opensans/OpenSans-ExtraBold.woff2\" rel=\"preload\" type=\"font/woff2\"/>\n",
       "<link as=\"font\" crossorigin=\"anonymous\" href=\"https://oscaro.media/mu/fonts/opensans/OpenSans-ExtraBold-Italic.woff2\" rel=\"preload\" type=\"font/woff2\"/>\n",
       "<link as=\"font\" crossorigin=\"anonymous\" href=\"https://oscaro.media/yd/5.7.27/fonts/icoscaro.woff2\" rel=\"preload\" type=\"font/woff2\"/><link as=\"image\" href=\"https://oscaro.media/yd/5.7.27/img/common/sprite/dist/svg/sprite-supplier.svg\" rel=\"preload\" type=\"image/svg+xml\"/><link as=\"image\" href=\"https://oscaro.media/yd/5.7.27/img/common/sprite/dist/svg/sprite-common.svg\" rel=\"preload\" type=\"image/svg+xml\"/><link as=\"image\" href=\"https://oscaro.media/yd/5.7.27/img/common/sprite/dist/jpg/sprite-category.jpg\" rel=\"preload\" type=\"image/jpeg\"/>\n",
       "<link href=\"https://oscaro.media/mu/layout/favicon/blue/favicon.ico\" rel=\"shortcut icon\" type=\"image/x-icon\"/>\n",
       "<link href=\"https://oscaro.media/mu/layout/favicon/blue/icoscaro76.png\" rel=\"icon\" type=\"image/png\"/>\n",
       "<link href=\"https://oscaro.media/mu/layout/favicon/blue/icoscaro76.png\" rel=\"apple-touch-icon\" sizes=\"76x76\" type=\"image/png\"/>\n",
       "<link href=\"https://oscaro.media/mu/layout/favicon/blue/icoscaro120.png\" rel=\"apple-touch-icon\" sizes=\"120x120\" type=\"image/png\"/>\n",
       "<link href=\"https://oscaro.media/mu/layout/favicon/blue/icoscaro152.png\" rel=\"apple-touch-icon\" sizes=\"152x152\" type=\"image/png\"/>\n",
       "<script>\n",
       "      window.dataLayer = window.dataLayer || [];\n",
       "      \n",
       "      window.dataLayer.push({event: 'optimize.activate', raw_display: 'true'});\n",
       "      \n",
       "    </script>\n",
       "<script async=\"\" src=\"https://www.googleoptimize.com/optimize.js?id=OPT-P34KRHV\"></script>\n",
       "<script type=\"application/ld+json\">{\"@context\":\"https://schema.org\",\"@type\":\"FAQPage\",\"mainEntity\":[{\"@type\":\"Question\",\"name\":\"Â¿CuÃ¡l es el papel de tu filtro de aceite?\",\"acceptedAnswer\":{\"@type\":\"Answer\",\"text\":\"El filtro de aceite es una parte muy importante de la vida de su motor y no debe ser descuidado. Garantiza la pureza del aceite del motor y reduce la fricciÃ³n. Filtra las partÃ­culas metÃ¡licas, el polvo y los residuos del proceso de combustiÃ³n. Si se acumulan impurezas en el aceite del motor, Ã©ste se atascarÃ¡. Los daÃ±os causados pueden ser irreversibles. El cartucho filtrante se coloca directamente en el motor o dentro de una carcasa de filtro.\\nPara activar la compatibilidad con el lector de pantalla, pulse Ctrl+Alt+Z Para los atajos de teclado, pulse Ctrl+barra\"}},{\"@type\":\"Question\",\"name\":\"Â¿CÃ³mo se cambia el filtro de aceite?\",\"acceptedAnswer\":{\"@type\":\"Answer\",\"text\":\"El filtro de aceite es una parte muy importante de la vida de su motor, por lo que no debe ser descuidado. Garantiza la pureza del aceite del motor y reduce la fricciÃ³n. Filtra las partÃ­culas metÃ¡licas, el polvo y los residuos de la combustiÃ³n. Si se acumulan impurezas en el aceite del motor, Ã©ste se atasca. Los daÃ±os causados pueden ser irreversibles. Se trata de un cartucho filtrante que se coloca directamente en el motor o en una carcasa diseÃ±ada para ello.\"}},{\"@type\":\"Question\",\"name\":\"Â¿Por quÃ© cambiar el filtro de aceite?\",\"acceptedAnswer\":{\"@type\":\"Answer\",\"text\":\"Al evitar que las partÃ­culas o los residuos de la combustiÃ³n lleguen al aceite de su motor, el filtro de aceite garantiza un rendimiento Ã³ptimo y duradero de su motor. Es importante cambiarlo porque puede obstruirse o daÃ±ar la lubricaciÃ³n. El aceite que ya no se filtra provoca un desgaste prematuro de su motor, hasta 30 veces mÃ¡s rÃ¡pido que el desgaste normal.\"}}]}</script>\n",
       "</head>\n",
       "<body class=\"country-es nojs\" id=\"body\">\n",
       "<iframe height=\"0\" src=\"https://www.googletagmanager.com/ns.html?id=GTM-TB4F5JH\" style=\"display:none;visibility:hidden\" width=\"0\"></iframe>\n",
       "<script type=\"application/javascript\">\n",
       "      document.body.classList.remove(\"nojs\");\n",
       "      document.body.classList.add((!(('ontouchstart' in window) || window.DocumentTouch && document instanceof DocumentTouch) && \"no-\") + \"touchevents\");\n",
       "        if (/[\\?&]vident=[^&]+/.test(location.hash)) {\n",
       "        document.body.classList.add(\"loading-products\");\n",
       "      }\n",
       "      \n",
       "    </script>\n",
       "<div id=\"root\"><main><div class=\"opcom-html\" style=\"color:#ffffff;background-color:#F95E4C\"><span class=\"hidden-xs\">ENVÃO GRATIS A PARTIR DE 99â¬* EN UN PUNTO DE RECOGIDA</span><span class=\"show-xs\">ENVÃO GRATIS A PARTIR DE 99â¬* EN UN PUNTO DE RECOGIDA</span></div><header class=\"oscaro\"><span hidden=\"\"></span><nav class=\"header-nav\"><span class=\"burger-toggle\"><span></span><span></span><span></span></span><a class=\"logo\" href=\"https://www.oscaro.es/\" name=\"Oscaro\"><img alt=\"Oscaro es lÃ­der en repuestos nuevos y originales al mejor precio\" src=\"https://oscaro.media/mu/layout/logo/OSCARO_New_UI_White.svg\" width=\"100%\"/></a><ul><li class=\"seek\"><span class=\"ico-search show-xs\"></span><div class=\"popin-fullpage-wrapper hidden-xs\"><form autocomplete=\"off\" class=\"form-search-ico\" name=\"search-engine\"><div class=\"form-item search\"><div class=\"input\"><input class=\"data-hj-allow\" id=\"search-input-header\" name=\"q\" placeholder=\"Ej.: BaterÃ­a, GDB1330, â¦\" type=\"text\" value=\"Filtro de aceite\"/><button class=\"ico-search\" type=\"submit\" value=\"ok\"></button></div></div></form></div></li><li class=\"help\"><a class=\"header-link ico-faq\" href=\"/es/faq\" name=\"help-link\"><span>Ayuda y contacto</span></a></li><li class=\"account\"><a class=\"header-link ico-user\" data-account=\"off\" href=\"/es/account/home\" name=\"logged-off\" rel=\"nofollow\"><span>Mi cuenta</span></a></li><li class=\"basket\"><a class=\"header-link ico-cart\" data-count=\"0\" href=\"/es/cart\" name=\"cart-link\" rel=\"nofollow\"><span>Mi cesta</span></a></li></ul></nav><div class=\"dropdown-header\"><span class=\"ico-cross\"></span><ul class=\"header-nav-repeat\"><li class=\"help\"><a class=\"header-link ico-faq\" href=\"/es/faq\" name=\"help-link-repeat\"><span>Ayuda y contacto</span></a></li><li class=\"account\"><a class=\"header-link ico-user\" data-account=\"off\" href=\"/es/account/home\" name=\"logged-off-repeat\" rel=\"nofollow\"><span>Mi cuenta</span></a></li><li class=\"basket\"><a class=\"header-link ico-cart\" data-count=\"0\" href=\"/es/cart\" name=\"cart-link-repeat\" rel=\"nofollow\"><span>Mi cesta</span></a></li></ul><ul class=\"products-nav\"><li class=\"dropdown-header-item\"><span class=\"dropdown-header-item-link ico-chevron-down right-ico\">Recambios de coche</span></li><li><a href=\"https://www.oscaro.es/aceite-de-motor-1862-g\">Aceite de motor</a></li><li class=\"dropdown-header-item related\" id=\"0\"><span class=\"dropdown-header-item-link ico-chevron-down right-ico\">Equipamiento para ruedas</span><div class=\"cat small\"><span class=\"close ico-chevron-left\">Volver</span><span class=\"ico-cross\"></span><ul class=\"items-cat\"><li><a href=\"https://www.oscaro.es/cadenas-10745-gu\">Cadenas para nieve</a></li><li><a href=\"https://www.oscaro.es/tapacubos-ruedas-1436-gu\">Tapacubos de rueda</a></li><li><a href=\"https://www.oscaro.es/equipamiento-para-ruedas-702700-c\">Equipamientos y herramientas</a></li></ul></div></li><li class=\"dropdown-header-item related\" id=\"1\"><span class=\"dropdown-header-item-link ico-chevron-down right-ico\">Accesorios y limpieza</span><div class=\"cat small\"><span class=\"close ico-chevron-left\">Volver</span><span class=\"ico-cross\"></span><ul class=\"items-cat\"><li><a href=\"https://www.oscaro.es/enganche-y-transporte-702675-c\">Barras de techo y transporte</a></li><li><a href=\"https://www.oscaro.es/accesorios-y-equipos-702666-c\">Accesorios y equipamiento</a></li><li><a href=\"https://www.oscaro.es/mantenimiento-y-limpieza-702667-c\">Mantenimiento y limpieza</a></li></ul></div></li><li><a href=\"https://www.oscaro.es/herramientas-702627-c\">Herramientas</a></li></ul></div></header><div class=\"flex-container\"><div class=\"navbox-bg nav-products\"><div class=\"car-selector\"><p class=\"genart-title\">Filtro de aceite</p><p class=\"form-title\">Selecciona tu vehÃ­culo</p><form class=\"plate\"><div class=\"fieldset\"><div class=\"form-item input-plate\" data-country=\"E\"><div class=\"input\"><input id=\"vehicle-input-plate\" placeholder=\"0001BBB\" type=\"text\" value=\"\"/></div></div><button class=\"btn-secondary btn-submit\" type=\"submit\">Ok</button></div></form><div class=\"car-link-container\"><button class=\"car-link ico-chevron-right\"><span>Por modelo</span></button><button class=\"car-link ico-chevron-right\"><span>Por nÃºmero de bastidor</span></button></div></div></div><a class=\"ico-chevron-left back-breadcrumb\" href=\"https://www.oscaro.es/\">Todos los recambios de coche</a><div class=\"container breadcrumb-order shorter-container\"><nav class=\"navigation-breadcrumb\"><ul class=\"breadcrumb-list-tertiary\" itemscope=\"\" itemtype=\"http://schema.org/BreadcrumbList\"><li class=\"breadcrumb-item\" itemprop=\"itemListElement\" itemscope=\"\" itemtype=\"http://schema.org/ListItem\"><a href=\"https://www.oscaro.es/\" itemprop=\"item\"><span itemprop=\"name\">PÃ¡gina de inicio</span><meta content=\"https://www.oscaro.es/\" itemprop=\"url\"/></a><meta content=\"1\" itemprop=\"position\"/></li><li class=\"breadcrumb-item\" itemprop=\"itemListElement\" itemscope=\"\" itemtype=\"http://schema.org/ListItem\"><a href=\"https://www.oscaro.es/filtros-y-aceite-702615-c\" itemprop=\"item\"><span itemprop=\"name\">Filtros y aceite</span><meta content=\"https://www.oscaro.es/filtros-y-aceite-702615-c\" itemprop=\"url\"/></a><meta content=\"2\" itemprop=\"position\"/></li><li class=\"breadcrumb-item\" itemprop=\"itemListElement\" itemscope=\"\" itemtype=\"http://schema.org/ListItem\"><a href=\"https://www.oscaro.es/filtro-702617-sc\" itemprop=\"item\"><span itemprop=\"name\">Filtro</span><meta content=\"https://www.oscaro.es/filtro-702617-sc\" itemprop=\"url\"/></a><meta content=\"3\" itemprop=\"position\"/></li><li class=\"breadcrumb-item\" itemprop=\"itemListElement\" itemscope=\"\" itemtype=\"http://schema.org/ListItem\"><div itemid=\"https://www.oscaro.es/filtro-de-aceite-7-g\" itemprop=\"item\" itemscope=\"\" itemtype=\"http://schema.org/Thing\"><span itemprop=\"name\">Filtro de aceite</span></div><meta content=\"4\" itemprop=\"position\"/><meta content=\"Filtro de aceite\" itemprop=\"name\"/></li></ul></nav></div><div class=\"container home-products nav-products\"><h1 class=\"boxed-title\">Filtro de aceite</h1><div class=\"border-box genart-description\"><h2 class=\"home-products-title\">Â¿CuÃ¡l es el papel de tu filtro de aceite?</h2><p>El filtro de aceite es una parte muy importante de la vida de su motor y no debe ser descuidado. Garantiza la pureza del aceite del motor y reduce la fricciÃ³n. Filtra las partÃ­culas metÃ¡licas, el polvo y los residuos del proceso de combustiÃ³n. Si se acumulan impurezas en el aceite del motor, Ã©ste se atascarÃ¡. Los daÃ±os causados pueden ser irreversibles. El cartucho filtrante se coloca directamente en el motor o dentro de una carcasa de filtro.\n",
       "Para activar la compatibilidad con el lector de pantalla, pulse Ctrl+Alt+Z Para los atajos de teclado, pulse Ctrl+barra</p><h2 class=\"home-products-title\">Â¿CÃ³mo se cambia el filtro de aceite?</h2><p>El filtro de aceite es una parte muy importante de la vida de su motor, por lo que no debe ser descuidado. Garantiza la pureza del aceite del motor y reduce la fricciÃ³n. Filtra las partÃ­culas metÃ¡licas, el polvo y los residuos de la combustiÃ³n. Si se acumulan impurezas en el aceite del motor, Ã©ste se atasca. Los daÃ±os causados pueden ser irreversibles. Se trata de un cartucho filtrante que se coloca directamente en el motor o en una carcasa diseÃ±ada para ello.</p><h2 class=\"home-products-title\">Â¿Por quÃ© cambiar el filtro de aceite?</h2><p>Al evitar que las partÃ­culas o los residuos de la combustiÃ³n lleguen al aceite de su motor, el filtro de aceite garantiza un rendimiento Ã³ptimo y duradero de su motor. Es importante cambiarlo porque puede obstruirse o daÃ±ar la lubricaciÃ³n. El aceite que ya no se filtra provoca un desgaste prematuro de su motor, hasta 30 veces mÃ¡s rÃ¡pido que el desgaste normal.</p></div><div id=\"navigationProducts\"><h2 class=\"bold\">Productos para Filtro de aceite</h2><div class=\"best-product\"><article class=\"product-card\"><a class=\"product-card-figure\" href=\"https://www.oscaro.es/filtro-de-aceite-bosch-0-986-452-000-83145-7-p\"><img alt=\"BOSCH 0 986 452 000\" loading=\"lazy\" src=\"https://oscaro.media/catalog/images/oscjpg/normal/30/0986452000_1.jpg\"/></a><h3 class=\"product-card-title\"><a href=\"https://www.oscaro.es/filtro-de-aceite-bosch-0-986-452-000-83145-7-p\"><span class=\"product-name\">BOSCH - </span> <span>0 986 452 000</span><span> - Filtro de aceite</span></a></h3><p class=\"product-card-info\"><span class=\"price\"> 11,90 â¬ </span></p></article><article class=\"product-card\"><a class=\"product-card-figure\" href=\"https://www.oscaro.es/filtro-de-aceite-ufi-filters-spa-23-162-02-428619-7-p\"><img alt=\"UFI FILTERS SPA 23.162.02\" loading=\"lazy\" src=\"https://oscaro.media/catalog/images/jpg/normal/137/23.102.00.jpg\"/></a><h3 class=\"product-card-title\"><a href=\"https://www.oscaro.es/filtro-de-aceite-ufi-filters-spa-23-162-02-428619-7-p\"><span class=\"product-name\">UFI FILTERS SPA - </span> <span>23.162.02</span><span> - Filtro de aceite</span></a></h3><p class=\"product-card-info\"><span class=\"price\"> 15,50 â¬ </span></p></article><article class=\"product-card\"><a class=\"product-card-figure\" href=\"https://www.oscaro.es/filtro-de-aceite-bosch-0-451-103-084-70129-7-p\"><img alt=\"BOSCH 0 451 103 084\" loading=\"lazy\" src=\"https://oscaro.media/catalog/images/oscjpg/normal/30/0451103084_1.jpg\"/></a><h3 class=\"product-card-title\"><a href=\"https://www.oscaro.es/filtro-de-aceite-bosch-0-451-103-084-70129-7-p\"><span class=\"product-name\">BOSCH - </span> <span>0 451 103 084</span><span> - Filtro de aceite</span></a></h3><p class=\"product-card-info\"><span class=\"price\"> 9,10 â¬ </span></p></article><article class=\"product-card\"><a class=\"product-card-figure\" href=\"https://www.oscaro.es/filtro-de-aceite-quinton-hazell-qfl0366-11691162-7-p\"><img alt=\"QUINTON HAZELL QFL0366\" loading=\"lazy\" src=\"https://oscaro.media/catalog/images/jpg/normal/57/tj_qfl0366.jpg\"/></a><h3 class=\"product-card-title\"><a href=\"https://www.oscaro.es/filtro-de-aceite-quinton-hazell-qfl0366-11691162-7-p\"><span class=\"product-name\">QUINTON HAZELL - </span> <span>QFL0366</span><span> - Filtro de aceite</span></a></h3><p class=\"product-card-info\"><span class=\"price\"> 8,70 â¬ </span></p></article><article class=\"product-card\"><a class=\"product-card-figure\" href=\"https://www.oscaro.es/filtro-de-aceite-mann-filter-w-9144-1370275-7-p\"><img alt=\"MANN-FILTER W 914/4\" loading=\"lazy\" src=\"https://oscaro.media/catalog/images/osc360/1370275/normal/1370275.jpg\"/></a><h3 class=\"product-card-title\"><a href=\"https://www.oscaro.es/filtro-de-aceite-mann-filter-w-9144-1370275-7-p\"><span class=\"product-name\">MANN-FILTER - </span> <span>W 914/4</span><span> - Filtro de aceite</span></a></h3><p class=\"product-card-info\"><span class=\"price\"> 10,20 â¬ </span></p></article><article class=\"product-card\"><a class=\"product-card-figure\" href=\"https://www.oscaro.es/filtro-de-aceite-blue-print-adb112123-11388971-7-p\"><img alt=\"Blue Print ADB112123\" loading=\"lazy\" src=\"https://oscaro.media/catalog/images/jpg/normal/350/adb112123_1.jpg\"/></a><h3 class=\"product-card-title\"><a href=\"https://www.oscaro.es/filtro-de-aceite-blue-print-adb112123-11388971-7-p\"><span class=\"product-name\">Blue Print - </span> <span>ADB112123</span><span> - Filtro de aceite</span></a></h3><p class=\"product-card-info\"><span class=\"price\"> 16,30 â¬ </span></p></article><article class=\"product-card\"><a class=\"product-card-figure\" href=\"https://www.oscaro.es/filtro-de-aceite-mann-filter-wp-931-1375363-7-p\"><img alt=\"MANN-FILTER WP 931\" loading=\"lazy\" src=\"https://oscaro.media/catalog/images/osc360/1375363/normal/1375363.jpg\"/></a><h3 class=\"product-card-title\"><a href=\"https://www.oscaro.es/filtro-de-aceite-mann-filter-wp-931-1375363-7-p\"><span class=\"product-name\">MANN-FILTER - </span> <span>WP 931</span><span> - Filtro de aceite</span></a></h3><p class=\"product-card-info\"><span class=\"price\"> 17,40 â¬ </span></p></article><article class=\"product-card\"><a class=\"product-card-figure\" href=\"https://www.oscaro.es/filtro-de-aceite-purflux-ls939-3828826-7-p\"><img alt=\"PURFLUX LS939\" loading=\"lazy\" src=\"https://oscaro.media/catalog/images/osc360/3828826/normal/3828826.jpg\"/></a><h3 class=\"product-card-title\"><a href=\"https://www.oscaro.es/filtro-de-aceite-purflux-ls939-3828826-7-p\"><span class=\"product-name\">PURFLUX - </span> <span>LS939</span><span> - Filtro de aceite</span></a></h3><p class=\"product-card-info\"><span class=\"price\"> 11,90 â¬ </span></p></article><article class=\"product-card\"><a class=\"product-card-figure\" href=\"https://www.oscaro.es/filtro-de-aceite-bosch-0-451-103-093-70134-7-p\"><img alt=\"BOSCH 0 451 103 093\" loading=\"lazy\" src=\"https://oscaro.media/catalog/images/osc360/70134/normal/70134.jpg\"/></a><h3 class=\"product-card-title\"><a href=\"https://www.oscaro.es/filtro-de-aceite-bosch-0-451-103-093-70134-7-p\"><span class=\"product-name\">BOSCH - </span> <span>0 451 103 093</span><span> - Filtro de aceite</span></a></h3><p class=\"product-card-info\"><span class=\"price\"> 8,80 â¬ </span></p></article><article class=\"product-card\"><a class=\"product-card-figure\" href=\"https://www.oscaro.es/filtro-de-aceite-mann-filter-w-7143-1370125-7-p\"><img alt=\"MANN-FILTER W 714/3\" loading=\"lazy\" src=\"https://oscaro.media/catalog/images/osc360/1370125/normal/1370125.jpg\"/></a><h3 class=\"product-card-title\"><a href=\"https://www.oscaro.es/filtro-de-aceite-mann-filter-w-7143-1370125-7-p\"><span class=\"product-name\">MANN-FILTER - </span> <span>W 714/3</span><span> - Filtro de aceite</span></a></h3><p class=\"product-card-info\"><span class=\"price\"> 9,80 â¬ </span></p></article><article class=\"product-card\"><a class=\"product-card-figure\" href=\"https://www.oscaro.es/filtro-de-aceite-bosch-0-451-103-367-70317-7-p\"><img alt=\"BOSCH 0 451 103 367\" loading=\"lazy\" src=\"https://oscaro.media/catalog/images/oscjpg/normal/30/0451103367_1.jpg\"/></a><h3 class=\"product-card-title\"><a href=\"https://www.oscaro.es/filtro-de-aceite-bosch-0-451-103-367-70317-7-p\"><span class=\"product-name\">BOSCH - </span> <span>0 451 103 367</span><span> - Filtro de aceite</span></a></h3><p class=\"product-card-info\"><span class=\"price\"> 16,30 â¬ </span></p></article><article class=\"product-card\"><a class=\"product-card-figure\" href=\"https://www.oscaro.es/filtro-de-aceite-bosch-f-026-407-126-5434433-7-p\"><img alt=\"BOSCH F 026 407 126\" loading=\"lazy\" src=\"https://oscaro.media/catalog/images/oscjpg/normal/30/f026407126_1.jpg\"/></a><h3 class=\"product-card-title\"><a href=\"https://www.oscaro.es/filtro-de-aceite-bosch-f-026-407-126-5434433-7-p\"><span class=\"product-name\">BOSCH - </span> <span>F 026 407 126</span><span> - Filtro de aceite</span></a></h3><p class=\"product-card-info\"><span class=\"price\"> 14,30 â¬ </span></p></article></div><ul class=\"pager\"><li class=\"prev disabled\"><a class=\"ico-chevron-left\" href=\"https://www.oscaro.es/filtro-de-aceite-7-g\">A<!-- -->n<!-- -->t<!-- -->e<!-- -->r<!-- -->i<!-- -->o<!-- -->r</a></li><li class=\"current\"><a href=\"https://www.oscaro.es/filtro-de-aceite-7-g\">1</a></li><li><a href=\"https://www.oscaro.es/filtro-de-aceite-7-g?page=2\">2</a></li><li><span>â¦</span></li><li><a href=\"https://www.oscaro.es/filtro-de-aceite-7-g?page=369\">369</a></li><li class=\"next\"><a class=\"ico-chevron-right\" href=\"https://www.oscaro.es/filtro-de-aceite-7-g?page=2\">S<!-- -->i<!-- -->g<!-- -->u<!-- -->i<!-- -->e<!-- -->n<!-- -->t<!-- -->e</a></li></ul></div><div class=\"listnav-single-container\" id=\"linksList\"><div class=\"listnav-single\"><h2>Marcas de coche mÃ¡s buscadas</h2><ul class=\"unstyled\"><li><a href=\"https://www.oscaro.es/filtro-de-aceite-renault-7-178-gv\">RENAULT</a></li><li><a href=\"https://www.oscaro.es/filtro-de-aceite-peugeot-7-168-gv\">PEUGEOT</a></li><li><a href=\"https://www.oscaro.es/filtro-de-aceite-citroen-7-49-gv\">CITROÃN</a></li><li><a href=\"https://www.oscaro.es/filtro-de-aceite-volkswagen-7-230-gv\">VOLKSWAGEN</a></li><li><a href=\"https://www.oscaro.es/filtro-de-aceite-bmw-7-33-gv\">BMW</a></li><li><a href=\"https://www.oscaro.es/filtro-de-aceite-ford-7-77-gv\">FORD</a></li><li><a href=\"https://www.oscaro.es/filtro-de-aceite-audi-7-21-gv\">AUDI</a></li><li><a href=\"https://www.oscaro.es/filtro-de-aceite-mercedes-benz-7-140-gv\">MERCEDES-BENZ</a></li><li><a href=\"https://www.oscaro.es/filtro-de-aceite-opel-7-163-gv\">OPEL</a></li><li><a href=\"https://www.oscaro.es/filtro-de-aceite-seat-7-192-gv\">SEAT</a></li><li><a href=\"https://www.oscaro.es/filtro-de-aceite-fiat-7-76-gv\">FIAT</a></li><li><a href=\"https://www.oscaro.es/filtro-de-aceite-nissan-7-158-gv\">NISSAN</a></li><li><a href=\"https://www.oscaro.es/filtro-de-aceite-toyota-7-220-gv\">TOYOTA</a></li><li><a href=\"https://www.oscaro.es/filtro-de-aceite-dacia-7-54-gv\">DACIA</a></li><li><a href=\"https://www.oscaro.es/filtro-de-aceite-hyundai-7-100-gv\">HYUNDAI</a></li><li><a href=\"https://www.oscaro.es/filtro-de-aceite-kia-7-114-gv\">KIA</a></li><li><a href=\"https://www.oscaro.es/filtro-de-aceite-alfa-romeo-7-12-gv\">ALFA ROMEO</a></li><li><a href=\"https://www.oscaro.es/filtro-de-aceite-mini-7-141-gv\">MINI</a></li><li><a href=\"https://www.oscaro.es/filtro-de-aceite-skoda-7-200-gv\">SKODA</a></li><li><a href=\"https://www.oscaro.es/filtro-de-aceite-suzuki-7-208-gv\">SUZUKI</a></li><li><a href=\"https://www.oscaro.es/filtro-de-aceite-honda-7-98-gv\">HONDA</a></li><li><a href=\"https://www.oscaro.es/filtro-de-aceite-volvo-7-231-gv\">VOLVO</a></li><li><a href=\"https://www.oscaro.es/filtro-de-aceite-mitsubishi-7-142-gv\">MITSUBISHI</a></li><li><a href=\"https://www.oscaro.es/filtro-de-aceite-mazda-7-137-gv\">MAZDA</a></li></ul><a class=\"ico-chevron-right right-ico\">Todas las marcas de coche</a></div></div><div class=\"listnav-single-container\"><div class=\"listnav-single\"><h2>Otros productos que podrÃ­an interesarte</h2><ul class=\"unstyled\"><li><a href=\"https://www.oscaro.es/aceite-de-motor-1862-g\">Aceite de motor</a></li><li><a href=\"https://www.oscaro.es/filtro-combustible-9-g\">Filtro combustible</a></li><li><a href=\"https://www.oscaro.es/filtro-de-aire-8-g\">Filtro de aire</a></li><li><a href=\"https://www.oscaro.es/filtro-aire-habitaculo-424-g\">Filtro, aire habitÃ¡culo</a></li><li><a href=\"https://www.oscaro.es/anillo-de-junta-tapon-roscado-de-vaciado-de-aceite-135-g\">Anillo de junta, tapÃ³n roscado de vaciado de aceite</a></li><li><a href=\"https://www.oscaro.es/tapon-del-cambio-de-aceite-593-g\">TapÃ³n del cambio de aceite</a></li><li><a href=\"https://www.oscaro.es/filtro-hidraulico-direccion-417-g\">Filtro hidrÃ¡ulico, direcciÃ³n</a></li><li><a href=\"https://www.oscaro.es/kit-para-el-cambio-de-aceite-10107-gu\">Kit para el cambio de aceite</a></li><li><a href=\"https://www.oscaro.es/llave-para-filtros-10987-gu\">Llave para filtros</a></li></ul></div></div><div class=\"listnav-single\"><h2>Ir a la pÃ¡gina</h2><ul class=\"links-pagination\"><li class=\"bold\"><a href=\"https://www.oscaro.es/filtro-de-aceite-7-g\">1</a></li><li><a href=\"https://www.oscaro.es/filtro-de-aceite-7-g?page=2\">2</a></li><li><a href=\"https://www.oscaro.es/filtro-de-aceite-7-g?page=3\">3</a></li><li><a href=\"https://www.oscaro.es/filtro-de-aceite-7-g?page=10\">10</a></li><li><a href=\"https://www.oscaro.es/filtro-de-aceite-7-g?page=20\">20</a></li><li><a href=\"https://www.oscaro.es/filtro-de-aceite-7-g?page=30\">30</a></li><li><a href=\"https://www.oscaro.es/filtro-de-aceite-7-g?page=40\">40</a></li><li><a href=\"https://www.oscaro.es/filtro-de-aceite-7-g?page=50\">50</a></li><li><a href=\"https://www.oscaro.es/filtro-de-aceite-7-g?page=60\">60</a></li><li><a href=\"https://www.oscaro.es/filtro-de-aceite-7-g?page=70\">70</a></li><li><a href=\"https://www.oscaro.es/filtro-de-aceite-7-g?page=80\">80</a></li><li><a href=\"https://www.oscaro.es/filtro-de-aceite-7-g?page=90\">90</a></li><li><a href=\"https://www.oscaro.es/filtro-de-aceite-7-g?page=100\">100</a></li><li><a href=\"https://www.oscaro.es/filtro-de-aceite-7-g?page=200\">200</a></li><li><a href=\"https://www.oscaro.es/filtro-de-aceite-7-g?page=300\">300</a></li><li><a href=\"https://www.oscaro.es/filtro-de-aceite-7-g?page=369\">369</a></li></ul></div></div></div><div class=\"container shorter-container\"><nav class=\"seo-breadcrumb\"><ul class=\"breadcrumb-list-tertiary\" itemscope=\"\" itemtype=\"http://schema.org/BreadcrumbList\"><li class=\"breadcrumb-item\" itemprop=\"itemListElement\" itemscope=\"\" itemtype=\"http://schema.org/ListItem\"><a href=\"https://www.oscaro.es/\" itemprop=\"item\"><span itemprop=\"name\">Todos los productos</span><meta content=\"https://www.oscaro.es/\" itemprop=\"url\"/></a><meta content=\"1\" itemprop=\"position\"/></li><li class=\"breadcrumb-item\" itemprop=\"itemListElement\" itemscope=\"\" itemtype=\"http://schema.org/ListItem\"><a href=\"https://www.oscaro.es/filtros-y-aceite-702615-c\" itemprop=\"item\"><span itemprop=\"name\">Filtros y aceite</span><meta content=\"https://www.oscaro.es/filtros-y-aceite-702615-c\" itemprop=\"url\"/></a><meta content=\"2\" itemprop=\"position\"/></li><li class=\"breadcrumb-item\" itemprop=\"itemListElement\" itemscope=\"\" itemtype=\"http://schema.org/ListItem\"><a href=\"https://www.oscaro.es/filtro-702617-sc\" itemprop=\"item\"><span itemprop=\"name\">Filtro</span><meta content=\"https://www.oscaro.es/filtro-702617-sc\" itemprop=\"url\"/></a><meta content=\"3\" itemprop=\"position\"/></li><li class=\"breadcrumb-item\" itemprop=\"itemListElement\" itemscope=\"\" itemtype=\"http://schema.org/ListItem\"><div itemid=\"https://www.oscaro.es/filtro-de-aceite-7-g\" itemprop=\"item\" itemscope=\"\" itemtype=\"http://schema.org/Thing\"><span itemprop=\"name\">Filtro de aceite</span></div><meta content=\"4\" itemprop=\"position\"/><meta content=\"Filtro de aceite\" itemprop=\"name\"/></li></ul></nav></div><div class=\"usp\"><ul class=\"container flxaround\"><li><span class=\"ico-best-price\"></span><p><span class=\"bold\">Piezas nuevas y originales</span><span>al mejor precio</span></p></li><li><span class=\"ico-catalog\"></span><p><span class=\"bold\">El mayor catÃ¡logo</span><span>de Europa</span></p></li><li><span class=\"ico-truck\"></span><p><span class=\"bold\">Entrega</span><span>adaptada a tus necesidades</span></p></li><li><span class=\"ico-new365j\"></span><p><span class=\"bold\">90 dÃ­as</span><span>para tus devoluciones</span></p></li></ul></div><form class=\"form-row newsletter\"><h2 class=\"newsletter-title\">SuscrÃ­bete a nuestra Newsletter</h2><p class=\"newsletter-p\">Y no te pierdas ninguna de nuestras ofertas excepcionales</p><div class=\"form-item input\"><div class=\"input ico-mail\"><input id=\"newsletter\" name=\"newsletter\" placeholder=\"Tu email\" required=\"required\" type=\"email\" value=\"\"/></div></div><div class=\"form-item submit\"><button class=\"btn-primary\" type=\"submit\">Ok</button></div><p class=\"newsletter-legal-text\">Al registrar tu direcciÃ³n de correo electrÃ³nico, estas aceptando recibir ofertas especiales y comunicaciones de Oscaro por correo electrÃ³nico. Puedes darte de baja en cualquier momento.<br class=\"hidden-xs\"/> <!-- -->Por favor, consulta nuestra<!-- --> <a href=\"/es/info/legal-confidencialidad\">PolÃ­tica de protecciÃ³n de datos personales</a></p></form><div class=\"bg-footer\"><div class=\"container\"><footer class=\"footer\"><ul><li><a href=\"/es/faq\" title=\"Ayuda y contacto\">Ayuda y contacto</a></li> <li><a href=\"/es/faq/sav/return\" title=\"DevoluciÃ³n de una pieza\">DevoluciÃ³n de una pieza</a></li> <li><a href=\"/es/info/envio\" title=\"Modalidad de envÃ­o\">Modalidad de envÃ­o</a></li> <li><a href=\"/es/info/metodos-de-pago\" title=\"MÃ©todos de pago\">MÃ©todos de pago</a></li> <li><span class=\"sprite-common-cc-mastercard\"></span> <span class=\"sprite-common-cc-maestro\"></span> <span class=\"sprite-common-cc-visa\"></span> <span class=\"sprite-common-cc-visa-electron\"></span> <span class=\"sprite-common-cc-voxpay\"></span> </li><li><span class=\"sprite-common-cc-paypal\"></span> <span class=\"sprite-common-cc-transfert\"></span> <span class=\"sprite-common-cc-acr\"></span> <span class=\"sprite-common-cc-3x\"></span> <span class=\"sprite-common-cc-4x\"></span> </li></ul><ul><li><a href=\"/es/info/quienes-somos\" title=\"Â¿QuiÃ©nes somos?\">Â¿QuiÃ©nes somos?</a></li> <li><a href=\"/es/consejos-mecanicos\" title=\"Consejos mecÃ¡nicos\">Consejos mecÃ¡nicos</a></li> <li><a href=\"/es/all-manufacturers\" title=\"Marcas de coche\">Marcas de coche</a></li> <li><a href=\"/es/contenido/oscaro-app\" title=\"Oscaro APP\">Oscaro APP</a></li> </ul><ul><li><p>Gestionar mis cookies</p></li><li><a href=\"/es/info/legal-confidencialidad\" title=\"PolÃ­tica de protecciÃ³n de datos personales\">PolÃ­tica de protecciÃ³n de datos personales</a></li> <li><a href=\"/es/info/cgv\" title=\"Condiciones generales de venta\">Condiciones generales de venta</a></li> <li><a href=\"/es/info/condiciones-generales-utilizacion\" title=\"Condiciones generales de utilizaciÃ³n\">Condiciones generales de utilizaciÃ³n</a></li> <li><a href=\"/es/info/menciones-legales\" title=\"Menciones legales\">Menciones legales</a></li> </ul><ul><li>Oscaro internacional:</li><li><a class=\"sprite-common-flag-de\" href=\"https://www.oscaro.de/olfilter-7-g\" title=\"Oscaro.de\"><span class=\"flag\">Autoteile - Oscaro Deutschland</span></a></li> <li><a class=\"sprite-common-flag-pt\" href=\"https://www.oscaro.pt/pt/filtro-de-oleo\" title=\"Oscaro.pt\"><span class=\"flag\">PeÃ§as auto - Oscaro Portugal</span></a></li> <li><a class=\"sprite-common-flag-be\" href=\"https://www.oscaro.be/fr/filtre-a-huile\" title=\"Oscaro.be\"><span class=\"flag\">PiÃ¨ces auto - Oscaro Belgique</span></a></li> <li><a class=\"sprite-common-flag-fr\" href=\"https://www.oscaro.com/filtre-a-huile-7-g\" title=\"Oscaro.com\"><span class=\"flag\">PiÃ¨ces auto - Oscaro France</span></a></li> <li class=\"social\"><a class=\"sprite-common-soc-fb\" href=\"https://www.facebook.com/OscaroES/\" title=\"\"><span></span></a><a class=\"sprite-common-soc-twitter\" href=\"https://twitter.com/oscaro_ES\" title=\"\"><span></span></a><a class=\"sprite-common-soc-youtube\" href=\"https://www.youtube.com/user/oscaroespana\" title=\"\"><span></span></a></li></ul></footer></div></div><div class=\"copyright\"><p>Copyright 2011-2022 - OSCARO SL - Todos los derechos reservados</p><a class=\"link-fevad-footer\" href=\"https://www.confianzaonline.es/empresas/oscarorecambios.htm\" rel=\"noopener\" target=\"_blank\"><span><img alt=\"\" class=\"copyright-img\" src=\"https://oscaro.media/mu/layout/copyright/es/confianza.png\"/></span>Oscaro.es se afilia al cÃ³digo Ã©tico de Confianza Online y al sistema de mediaciÃ³n del comercio electrÃ³nico</a><div><span><img alt=\"TecDoc Inside\" class=\"copyright-img-legal\" src=\"https://oscaro.media/mu/layout/copyright/Tecdoc.png\"/></span><p>EstÃ¡ prohibida la copia de los datos aquÃ­ presentados, en especial la totalidad de la base de datos. Igualmente, no estÃ¡ permitida la reproducciÃ³n o distribuciÃ³n de datos o de toda la base de datos por cuenta propia o de terceros, sin la autorizaciÃ³n previa de TecDoc. La infracciÃ³n de lo anterior constituye una violaciÃ³n de los derechos de propiedad intelectual y en consecuencia serÃ¡ perseguida legalmente.</p></div></div><script type=\"application/ld+json\">{\"@context\":\"http://schema.org\",\"@type\":\"Organization\",\"name\":\"Oscaro.es\",\"url\":\"https://www.oscaro.es\",\"sameAs\":[\"https://www.facebook.com/OscaroES/\",\"https://twitter.com/oscaro_ES\",\"https://www.youtube.com/user/oscaroespana\"],\"aggregateRating\":{\"@type\":\"AggregateRating\",\"ratingValue\":\"4.1\",\"bestRating\":\"5\",\"worstRating\":\"1\",\"ratingCount\":\"6245\"},\"contactPoint\":{\"@type\":\"ContactPoint\",\"telephone\":\"+34935677650\",\"contactType\":\"technical support\",\"areaServed\":\"ES\"}}</script></main></div>\n",
       "<script id=\"genartShopLink\" type=\"application/transit+json\">[\"~#'\",null]</script><script id=\"facetsCountsRaw\" type=\"application/transit+json\">[\"~#'\",null]</script><script id=\"topSubcategories\" type=\"application/transit+json\">[\"~#'\",null]</script><script id=\"vehicleData\" type=\"application/transit+json\">[\"^ \",\"~:loading\",false,\"~:vehicle\",null]</script><script id=\"facetsData\" type=\"application/transit+json\">[\"^ \"]</script><script id=\"categoriesTreeTransit\" type=\"application/transit+json\">[\"~#'\",null]</script><script id=\"multifitmentsTagsCount\" type=\"application/transit+json\">[\"~#'\",null]</script><script id=\"topGenarts\" type=\"application/transit+json\">[\"~#list\",[[\"^ \",\"~:score\",912490,\"~:genart-fitment-type\",\"semi-technical\",\"~:id\",\"1862\",\"~:labels\",[\"^ \",\"~:label\",[\"^ \",\"~:es\",\"Aceite de motor\"]]],[\"^ \",\"^1\",353474,\"^2\",\"technical\",\"^3\",\"9\",\"^4\",[\"^ \",\"^5\",[\"^ \",\"^6\",\"Filtro combustible\"]]],[\"^ \",\"^1\",309702,\"^2\",\"technical\",\"^3\",\"8\",\"^4\",[\"^ \",\"^5\",[\"^ \",\"^6\",\"Filtro de aire\"]]],[\"^ \",\"^1\",298547,\"^2\",\"technical\",\"^3\",\"424\",\"^4\",[\"^ \",\"^5\",[\"^ \",\"^6\",\"Filtro, aire habitÃ¡culo\"]]],[\"^ \",\"^1\",67706,\"^2\",\"technical\",\"^3\",\"135\",\"^4\",[\"^ \",\"^5\",[\"^ \",\"^6\",\"Anillo de junta, tapÃ³n roscado de vaciado de aceite\"]]],[\"^ \",\"^1\",46812,\"^2\",\"technical\",\"^3\",\"593\",\"^4\",[\"^ \",\"^5\",[\"^ \",\"^6\",\"TapÃ³n del cambio de aceite\"]]],[\"^ \",\"^1\",18907,\"^2\",\"technical\",\"^3\",\"417\",\"^4\",[\"^ \",\"^5\",[\"^ \",\"^6\",\"Filtro hidrÃ¡ulico, direcciÃ³n\"]]],[\"^ \",\"^1\",15487,\"^2\",\"universal\",\"^3\",\"10107\",\"^4\",[\"^ \",\"^5\",[\"^ \",\"^6\",\"Kit para el cambio de aceite\"]]],[\"^ \",\"^1\",8189,\"^2\",\"universal\",\"^3\",\"10987\",\"^4\",[\"^ \",\"^5\",[\"^ \",\"^6\",\"Llave para filtros\"]]]]]</script><script id=\"contextData\" type=\"application/transit+json\">[\"^ \",\"~:my-vehicles-history-jwt-config\",[\"^ \",\"~:cookie-key\",\"Y-OSCD-MVH-1\",\"~:cookie-max-age\",31536000],\"~:free-delivery-genarts\",[\"^ \",\"4400\",[\"^ \",\"~:fr\",\"~:free-delivery\",\"~:be\",null,\"~:es\",null,\"~:pt\",null,\"~:de\",null]],\"~:seo-meta-data\",[\"^ \",\"~:url\",\"https://www.oscaro.es\",\"~:contact-point-phone\",\"+34935677650\",\"~:same-as\",[\"https://www.facebook.com/OscaroES/\",\"https://twitter.com/oscaro_ES\",\"https://www.youtube.com/user/oscaroespana\"]],\"~:cross-sell\",[\"^ \",\"~:products-slide-step\",4],\"~:pixel-tracking-url\",\"https://wte.oscaro.es/img/yoda.gif?utm_campaign=loading-ping-yoda&amp;utm_content=\",\"~:genart-alternatives\",[\"^ \",\"70\",[[\"^ \",\"~:genart-id\",\"10021\",\"~:position\",[\"^ \",\"^5\",\"Roue avant\",\"^8\",\"Rueda delantera\",\"^:\",\"Vorderrad\",\"~:class\",\"front\"]],[\"^ \",\"^C\",\"10022\",\"^D\",[\"^ \",\"^5\",\"Roue arriÃ¨re\",\"^8\",\"Rueda trasera\",\"^:\",\"Hinterrad\",\"^E\",\"back\"]]],\"82\",[[\"^ \",\"^C\",\"10018\",\"^D\",[\"^ \",\"^5\",\"Roue avant\",\"^8\",\"Rueda delantera\",\"^:\",\"Vorderrad\",\"^E\",\"front\"]],[\"^ \",\"^C\",\"10020\",\"^D\",[\"^ \",\"^5\",\"Roue arriÃ¨re\",\"^8\",\"Rueda trasera\",\"^:\",\"Hinterrad\",\"^E\",\"back\"]]],\"123\",[[\"^ \",\"^C\",\"10015\",\"^D\",[\"^ \",\"^5\",\"Roue avant\",\"^8\",\"Rueda delantera\",\"^:\",\"Vorderrad\",\"^E\",\"front\"]],[\"^ \",\"^C\",\"10016\",\"^D\",[\"^ \",\"^5\",\"Roue arriÃ¨re\",\"^8\",\"Rueda trasera\",\"^:\",\"Hinterrad\",\"^E\",\"back\"]]],\"402\",[[\"^ \",\"^C\",\"10017\",\"^D\",[\"^ \",\"^5\",\"Roue avant\",\"^8\",\"Rueda delantera\",\"^:\",\"Vorderrad\",\"^E\",\"front\"]],[\"^ \",\"^C\",\"10019\",\"^D\",[\"^ \",\"^5\",\"Roue arriÃ¨re\",\"^8\",\"Rueda trasera\",\"^:\",\"Hinterrad\",\"^E\",\"back\"]]],\"854\",[[\"^ \",\"^C\",\"10375\",\"^D\",[\"^ \",\"^5\",\"Roue avant\",\"^8\",\"Rueda delantera\",\"^:\",\"Vorderrad\",\"^E\",\"front\"]],[\"^ \",\"^C\",\"10376\",\"^D\",[\"^ \",\"^5\",\"Roue arriÃ¨re\",\"^8\",\"Rueda trasera\",\"^:\",\"Hinterrad\",\"^E\",\"back\"]],[\"^ \",\"^C\",\"10003\",\"^D\",[\"^ \",\"^5\",\"Avant gauche\",\"^8\",\"Delantera izquierda\",\"^:\",\"Vorderachse links\",\"^E\",\"front left\"]],[\"^ \",\"^C\",\"10006\",\"^D\",[\"^ \",\"^5\",\"ArriÃ¨re gauche\",\"^8\",\"Trasera izquierda\",\"^:\",\"Hinterachse links\",\"^E\",\"back left\"]],[\"^ \",\"^C\",\"10002\",\"^D\",[\"^ \",\"^5\",\"Avant droite\",\"^8\",\"Delantera derecha\",\"^:\",\"Vorderachse rechts\",\"^E\",\"front right\"]],[\"^ \",\"^C\",\"10007\",\"^D\",[\"^ \",\"^5\",\"ArriÃ¨re droite\",\"^8\",\"Trasera derecha\",\"^:\",\"Hinterachse rechts\",\"^E\",\"back right\"]]],\"3277\",[[\"^ \",\"^C\",\"219\",\"^D\",[\"^ \",\"^5\",\"de hayon, de coffre\",\"^8\",\"de maletero\",\"^:\",\"Heckklappe\",\"^E\",\"left boot\"]],[\"^ \",\"^C\",\"514\",\"^D\",[\"^ \",\"^5\",\"capot-moteur\",\"^8\",\"capÃ³ de motor\",\"^:\",\"Motorhaube\",\"^E\",\"right hood\"]]],\"3539\",[[\"^ \",\"^C\",\"10004\",\"^D\",[\"^ \",\"^5\",\"Roue avant\",\"^8\",\"Rueda delantera\",\"^:\",\"Vorderrad\",\"^E\",\"front\"]],[\"^ \",\"^C\",\"10005\",\"^D\",[\"^ \",\"^5\",\"Roue arriÃ¨re\",\"^8\",\"Rueda trasera\",\"^:\",\"Hinterrad\",\"^E\",\"back\"]]],\"3859\",[[\"^ \",\"^C\",\"10069\",\"^D\",[\"^ \",\"^5\",\"Roue avant\",\"^8\",\"Rueda delantera\",\"^:\",\"Vorderrad\",\"^E\",\"front\"]],[\"^ \",\"^C\",\"10070\",\"^D\",[\"^ \",\"^5\",\"Roue arriÃ¨re\",\"^8\",\"Rueda trasera\",\"^:\",\"Hinterrad\",\"^E\",\"back\"]]]],\"~:trackers-check-url\",\"https://oscaro.media/tk/trackers.check.js\",\"~:base-url-parts-navigation\",\"https://recambios-coche.oscaro.es/\",\"~:page-type\",\"~:g\",\"~:cart-jwt-config\",[\"^ \",\"^1\",\"W-OSCD\"],\"~:gtm-container-id\",\"GTM-TB4F5JH\",\"~:resources-url\",\"https://oscaro.media/yd/5.7.27\",\"~:domains\",null,\"~:list-page\",[\"^ \",\"~:page-size\",20],\"~:all-facets\",false,\"~:wizards\",[\"^ \",\"10745\",\"~:wizard-chaine-neige\",\"oth-286\",\"^U\",\"^4\",\"~:wizard-pneu\",\"oth-1547\",\"^W\"],\"~:base-url-vehicle-manufacturer-navigation\",\"https://marcas-coche.oscaro.es/\",\"~:base-url-img\",\"https://oscaro.media/catalog/images\",\"~:wt1-script-url\",\"https://scripts.oscaro.com/wt1/track.js\",\"~:preload-resources\",[[\"^ \",\"~:path\",\"/fonts/icoscaro.woff2\",\"~:kind\",\"font\",\"~:mime-type\",\"font/woff2\"],[\"^ \",\"^11\",\"/img/common/sprite/dist/svg/sprite-supplier.svg\",\"^12\",\"image\",\"^13\",\"image/svg+xml\"],[\"^ \",\"^11\",\"/img/common/sprite/dist/svg/sprite-common.svg\",\"^12\",\"image\",\"^13\",\"image/svg+xml\"],[\"^ \",\"^11\",\"/img/common/sprite/dist/jpg/sprite-category.jpg\",\"^12\",\"image\",\"^13\",\"image/jpeg\"]],\"~:trustpilot-widget\",[\"^ \",\"~:params\",[\"^ \",\"~:data-locale\",\"es-ES\",\"~:data-template-id\",\"54ad5defc6454f065c28af8b\",\"~:data-businessunit-id\",\"565ebbb80000ff0005863595\",\"~:data-style-height\",\"240px\",\"~:data-style-width\",\"100%\",\"~:data-theme\",\"light\",\"~:data-schema-type\",\"Organization\",\"~:data-stars\",\"4,5\"],\"^&lt;\",\"https://fr.trustpilot.com/review/oscaro.com\"],\"~:return-tire-policy\",[\"^ \",\"^5\",\"https://www.oscaro.com/fr/faq/sav/return#je-retourne-un-article-encombrant-pneu\",\"^8\",\"https://www.oscaro.es/es/faq/sav/return\",\"^7\",\"https://www.oscaro.be/fr/faq/sav/return\",\"^9\",\"https://www.oscaro.pt/pt/faq/sav/return\",\"^:\",\"https://www.oscaro.de/de/faq/sav/return\"],\"~:top-categories-id\",null,\"~:trackers\",[\"^ \",\"~:gr-conversion-id\",1003756673,\"~:gr-conversion-label\",\"ydLTCI-v1QMQgbnQ3gM\",\"~:wt1-track-url\",\"https://wt.oscaro.es/rec\",\"~:fb-pixel-id\",\"141073353117015\",\"~:iadvize-sid\",null,\"~:olark-id\",null,\"~:inspectlet-id\",null],\"~:lang\",\"es\",\"~:trackers-url\",\"https://oscaro.media/tk/main.js?v=1.2\",\"~:google-optimize-container-id\",\"OPT-P34KRHV\",\"~:css-url\",\"/css/yoda.css\",\"~:current-vehicle-jwt-config\",[\"^ \",\"^1\",\"Y-OSCD-CV-1\",\"^2\",31536000],\"~:mobile-app\",false,\"~:ab-test\",[[\"^ \",\"~:test-id\",\"ABC_test\",\"~:group-id\",\"control\",\"~:ab-test-bin\",7],[\"^ \",\"^1O\",\"AB_test\",\"^1P\",\"control\",\"^1Q\",7],[\"^ \",\"^1O\",\"behavioral_vouchers\",\"^1P\",\"control\",\"^1Q\",7]],\"~:opcom-banner\",null,\"~:tempura\",[\"^ \",\"^8\",[\"^ \",\"~:aside-vehicle-info\",[\"^ \",\"~:more-infos-label\",\"MÃ¡s informaciÃ³n\",\"~:new-immatriculation-date-label\",\"1a matriculaciÃ³n:\",\"~:engine-code-label\",\"CÃ³digo de motor:\",\"~:less-infos-label\",\"Menos informaciÃ³n\",\"~:gearbox-code-label\",\"CÃ³digo de caja :\",\"~:vin-label\",\"VIN:\"],\"~:quotation-mail\",[\"^ \",\"~:client-demand\",\"Motivo de la solicitud\",\"~:aircon\",\"ClimatizaciÃ³n:\",\"~:power-steering\",\"DirecciÃ³n asistida:\",\"~:new-quotation-created\",\"Una solicitud de presupuesto ha sido creada. AquÃ­ tienes los detalles necesarios para el tratamiento de la solicitud.\",\"~:customer-details\",\"Datos del cliente\",\"~:esp\",\"ESP:\",\"~:vehicle-production-date\",\"Fecha de puesta en circulaciÃ³n:\",\"~:vehicle-Identification\",\"VehÃ­culo seleccionado\",\"~:hello\",\"Hola\",\"~:plate-number\",\"MatrÃ­cula :\",\"~:abs\",\"ABS:\",\"~:complementery-information\",\"InformaciÃ³n complementaria\"],\"~:products-list\",[\"^ \",\"~:show-more-products\",\"ver mÃ¡s productos\"],\"~:genart-descriptions\",[\"^ \",\"~:other-questions-title\",\"Otras preguntas sobre %1\"],\"~:chaines-neige\",[\"^ \",\"~:selection-label\",\"%1 para %2 / %3 R%4\"],\"~:superheader\",[\"^ \",\"~:for-your-car\",\"%1 para tu %2\"],\"~:vehicule-block\",[\"^ \",\"~:chose-the-right-product\",\"Para escoger el producto adecuado:\",\"~:chooose-your-article\",\"Puedes elegir tu pieza\"],\"~:fitment-groups\",[\"^ \",\"~:group-title\",\"Tipo %1\",\"~:select-group\",\"Elige el tipo de piezas\",\"~:select-group2\",\"CÃ³mo elegir tu grupo\",\"~:selected\",\"Seleccionado\",\"~:see-one-product\",\"Ver 1 pieza\",\"~:see-multiple-products\",\"Ver %1 piezas\"],\"~:wizard-compatibility\",[\"^ \",\"~:text-no-vehicle\",\"Selecciona un vehÃ­culo para ver los productos compatibles\",\"~:text-vehicle\",\"Mostrar sÃ³lo los aceites compatibles con mi vehÃ­culo\"],\"~:wizard-selector\",[\"^ \",\"~:delivery-free\",\"EnvÃ­o [[gratis]]\",\"~:height-label\",\"Altura\",\"~:title-wizard-pneu\",\"Para encontrar tus neumÃ¡ticos, indica su talla:\",\"~:submit\",\"Ok\",\"~:width-label\",\"Ancho\",\"~:velocity-label\",\"Ãndice velocidad\",\"~:diameter-label\",\"DiÃ¡metro\",\"~:title-wizard-huile-moteur\",\"Para encontrar tu aceite, introduce la siguiente informaciÃ³n:\",\"~:title-wizard-default\",\"Para encontrar tu producto, introduce la siguiente informaciÃ³n:\",\"~:title-wizard-ampoule\",\"Para encontrar tu bombilla, introduce la siguiente informaciÃ³n:\",\"~:load-label\",\"Indice de carga\",\"~:title-wizard-chaine-neige\",\"Para encontrar tus cadenas, indica la medida de tus neumÃ¡ticos :\"],\"~:newsletter-form\",[\"^ \",\"~:your-email\",\"Tu email\",\"~:valid-email\",\"E-mail vÃ¡lido\",\"~:thank-you\",\"Â¡Gracias!\",\"~:newsletter-legal-text-part2\",\"Por favor, consulta nuestra\",\"~:join-our-newsletter\",\"SuscrÃ­bete a nuestra Newsletter\",\"~:invalid-email\",\"Este formato de email no es vÃ¡lido\",\"~:subscribe-newsletter-consent\",\"Al registrar tu direcciÃ³n de correo electrÃ³nico, estas aceptando recibir ofertas especiales y comunicaciones de Oscaro por correo electrÃ³nico. Puedes darte de baja en cualquier momento.\",\"~:validation-message\",\"Tu inscripciÃ³n ha sido validada\",\"~:error-api\",\"Se ha producÃ­do un error, intentalo de nuevo\",\"~:do-not-miss-offers\",\"Y no te pierdas ninguna de nuestras ofertas excepcionales\"],\"~:meta\",[\"^ \",\"~:v-title\",\"Piezas %1 baratas - %2 - recambios de coche\",\"~:sc-description\",\"Venta de %1 %2 - Recambios nuevos al mejor precio - 1 aÃ±o para tus devoluciones - GarantÃ­a de compatibilidad de piezas\",\"~:quotation-description\",\"%1 : Solicita un presupuesto, nuestros expertos en mecÃ¡nica te atenderÃ¡n lo antes posible. LÃ­der en recambios de coche nuevos y de origen al mejor precio\",\"~:e-title\",\"%1 piezas coche - Piezas de repuesto baratas - %2\",\"~:constructeurs-description\",\"%1 - Recambios de coche nuevos y de origen - MÃ¡s de 1 MillÃ³n de piezas - 1 aÃ±o para tus devoluciones - EnvÃ­o en punto de entrega o a domicilio.\",\"~:smartbanner-title\",\"Oscaro - Recambios de Coche\",\"~:sc-title\",\"%1 %2 - %3\",\"~:gt-description\",\"Venta de %1 %2 - Recambios nuevos al mejor precio - 1 aÃ±o para tus devoluciones - GarantÃ­a de compatibilidad de piezas - %3\",\"~:home-title\",\"%1: NÂº1 en recambios de coche nuevos y de origen al mejor precio\",\"~:c-title\",\"%1 %2 - %3\",\"~:f-description\",\"Compra en %1 a precios bajos tus piezas de repuesto para %2 : todos los modelos disponibles. Pago seguro, envÃ­o en 24h.\",\"~:eg-title\",\"%1 %2 al mejor precio- %3\",\"~:conseil-home-title\",\"Cambiar tu recambios - Consejos mecÃ¡nicos - %1\",\"~:subnav-all-autoparts\",\"Todos los recambios de coche\",\"~:gv-title\",\"%1 %2 - %3\",\"~:egv-title\",\"%1 %2 para %3 - %4\",\"~:abstract\",\"Oscaro entrega en 48 h recambios de automÃ³vil de origen con descuento\",\"~:search-title-with-query\",\"Resultados de tu bÃºsqueda : %1\",\"~:oe-description\",\"Todas nuestras referencias de origen idÃ©nticas a %1 %2\",\"~:genart-synonyms-subtitle\",\"TambiÃ©n conocido como:\",\"~:g-title\",\"%1 al mejor precio - %2\",\"~:constructeurs-title\",\"Repuestos de coche nuevos y de origen por fabricante - %1\",\"~:gu-title\",\"%1 al mejor precio - %2\",\"~:gv-description\",\"%1 - %2 al mejor precio, recambio nuevo y original : todas las mejores marcas para %3 - Pago seguro - EnvÃ­o en punto de entrega o a domicilio.\",\"~:g-description\",\"%2 de coche al mejor precio, piezas nuevas y de origen : las mejores marcas - EnvÃ­o en punto de entrega o a domicilio - %1\",\"~:equipementiers-description\",\"%1 - Repuestos de coche nuevos y de origen - MÃ¡s de 1 MillÃ³n de piezas - 1 aÃ±o para tus devoluciones - EnvÃ­o en punto de entrega o a domicilio.\",\"~:p-title-seo\",\"%1 %2 %3 - al mejor precio - %4\",\"~:gf-description\",\"Compra tu %1 para %2 - Recambios de origen baratos - Devoluciones 365 dÃ­as - El mayor catÃ¡logo de Europa - %3\",\"~:c-description\",\"Venta de %1 %2 - Recambios nuevos al mejor precio - 1 aÃ±o para tus devoluciones - GarantÃ­a de compatibilidad de piezas\",\"~:gt-title\",\"%1 %2 al mejor precio - %3\",\"~:smartbanner-price-suffix-google\",\"en Google Play\",\"~:v-description\",\"Compra en %1 a precios bajos tus repuestos de coche para %2: todos los modelos disponibles. Pago seguro, envÃ­o en 24h.\",\"~:smartbanner-button\",\"Ver\",\"~:egv-description\",\"Compra en %1 a precios bajos : %2 %3 para %4. Pago seguro, envÃ­o en 24h\",\"~:t-title\",\"%1 - Recambios de coche %2\",\"~:equipementiers-title\",\"Repuestos coche nuevos y de origen por fabricante- %1\",\"~:subnav-all-autoparts-for-car\",\"Todos los recambios de coche para vuestro %1\",\"~:quotation-headline-title\",\"Solicitud de presupuesto\",\"~:p-description\",\"Compra tu %2 %3 %4 - Recambios de origen baratos - %1\",\"~:conseil-title\",\"Cambiar sus %1 - Consejos mecÃ¡nica - %2\",\"~:eg-description\",\"Compra recambio coche : %1 %2 al mejor precio en Oscaro. Pago seguro, envÃ­o en 24h.\",\"~:home-description\",\"%1: lÃ­der en recambios de coche nuevos y de origen al mejor precio - MÃ¡s de 1 MillÃ³n de piezas - Pago seguro - Ofertas de envÃ­o gratis.\",\"~:gu-description\",\"%2 de coche al mejor precio, piezas nuevas y de origen : las mejores marcas - EnvÃ­o en punto de entrega o a domicilio - %1\",\"~:subject\",\"Â¡Pide tus recambios de automÃ³vil por Internet!\",\"~:quotation-title\",\"Solicitud de presupuesto - %1\",\"~:e-description\",\"Compra piezas de repuesto coche: %1 al mejor precio en Oscaro. Pago seguro, envÃ­o en 24h.\",\"~:conseil-home-description\",\"Consejos de mecÃ¡nica de automÃ³vil - Recambios y accesorios de automÃ³vil de origen (Correa de distribuciÃ³n, tensor, bomba de agua, ...) entregados a domicilio por Oscaro\",\"~:t-description\",\"%1 - Recambios de coche %2\",\"~:conseil-description\",\"Sigue nuestros consejos de mantenimiento y reparaciÃ³n para cambiar con total seguridad tus pinzas de freno.\",\"~:f-title\",\"Repuestos coche %1 - %2 - recambios baratos\",\"~:gf-title\",\"%1 %2 al mejor precio - %3\"],\"~:delivery-promises\",[\"^ \",\"~:delivery-from\",\"Entrega a partir del [[{from}]]\",\"^6\",\"Entrega [[1|gratis]] a partir del [[2|{de}]]\"],\"~:engagements\",[\"^ \",\"~:expert-1\",\"Expertos en mecÃ¡nica\",\"~:return-2\",\"para tus devoluciones\",\"~:part-1\",\"Piezas nuevas y originales\",\"~:anniversary-2\",\"Experiencia\",\"~:catalog-2\",\"de Europa\",\"~:payement-fr-2\",\"con tarjeta de crÃ©dito sin costes adicionales\",\"~:return-1\",\"90 dÃ­as\",\"~:anniversary-1\",\"AÃ±os\",\"~:catalog-1\",\"El mayor catÃ¡logo\",\"~:return-180-2\",\"180 dÃ­as\",\"~:payement-fr-1\",\"Pago en 3 o 4 veces\",\"~:expert-2\",\"a tu disposiciÃ³n\",\"~:return-180-1\",\"PolÃ­tica de Reembolso\",\"~:delivery-1\",\"Entrega\",\"~:delivery-2\",\"adaptada a tus necesidades\",\"~:part-2\",\"al mejor precio\"],\"~:cookie-popin\",[\"^ \",\"~:accept-all\",\"Aceptar todo\",\"~:disabled\",\"Desactivado\",\"~:always-enabled\",\"Siguen Activadas\",\"~:used-cookies\",\"Cookies utilizadas\",\"~:save\",\"Guardar mi configuraciÃ³n\",\"~:title\",\"GestiÃ³n de las cookies\",\"~:tracker-details-link\",\"PolÃ­tica de cookies\",\"~:enabled\",\"Activado\",\"~:refuse-all\",\"Rechazar todo\"],\"~:product-block\",[\"^ \",\"~:product-information-about\",\"Hay que saber:\",\"~:title-description\",\"DescripciÃ³n\",\"~:hide-detail\",\"Ver menos\",\"~:sell-by\",\"Vendido por %1\",\"~:refundable-explaination\",\"%1 del crÃ©dito\",\"~:references-constructurer\",\"Equivalente a estas referencias constructor:\",\"~:oscaro-promotion-percent-label\",\"PromociÃ³n\",\"~:product-vehicle-compatible\",\"Adaptado a este vehÃ­culo\",\"~:references\",\"Otras referencias del producto:\",\"~:price-public\",\"precio recomendado\",\"~:unavailable-product\",\"No disponible\",\"~:constraints-title\",\"Para vehÃ­culo con:\",\"~:without\",\"No incluido\",\"~:refundable-when-buy\",\"%1 precio inicial, de los que %2 serÃ¡n reembolsados por la pieza de intercambio\",\"~:popin-unavailable-intro\",\"Este artÃ­culo no estÃ¡ disponible por el momento\",\"~:promo-from-date-to-date\",\"Del {start} al {end}\",\"~:popin-unavailable-content\",\"Te invitamos a seleccionar una referencia compatible de la lista.\",\"~:with\",\"Incluido\",\"~:to-product-page\",\"Detalles\",\"~:show-detail\",\"Ver mÃ¡s\",\"~:quantity-new\",\"%1\",\"~:components-title-new\",\"Vendido con:\",\"~:add-to-cart\",\"AÃ±adir a la cesta\",\"~:popin-ok\",\"OK\",\"~:reject-prefix\",\"salvo\",\"~:equivalent-match\",\"Equivalente a %1 : %2\",\"~:technical-doc\",\"DocumentaciÃ³n tÃ©cnica\",\"~:guaranteed-compatibility\",\"Compatibilidad garantizada\",\"~:components-title-not-new\",\"Vendido sin:\",\"~:block-ref\",\"Referencias\",\"~:about\",\"Saber todo acerca de la pieza\",\"~:references-manufaturer\",\"Equivalente a estas referencias fabricante:\",\"~:constraints-or-separator-new\",\"o para vehÃ­culo con:\"],\"~:value\",[\"^ \",\"~:interval-from\",\"A partir de %1 %2\",\"~:interval-from-to\",\"De %1 a %2 %3\",\"~:boolean-yes\",\"Si\",\"~:boolean-no\",\"No\",\"~:boolean-or\",\"o\",\"^5H\",\"Incluido\",\"^5C\",\"No incluido\",\"~:interval-to\",\"Hasta %1 %2\"],\"~:account-link\",[\"^ \",\"~:hello-user\",\"Hola %1\"],\"~:article\",[\"^ \",\"~:content-property-value\",\"{boxes, plural, =1    {1 paquete}\\n                                                    other {# paquetes}} de {parts, plural, =1    {1 artÃ­culo}\\n                                                                                         other {# artÃ­culos}}\",\"~:le-lot\",\"El lote\",\"~:content-property-key\",\"contiene\",\"~:prix-par-piece\",\"o %1/ la pieza\"],\"~:links-list\",[\"^ \",\"~:manufacturers\",\"Marcas de coche mÃ¡s buscadas\"],\"~:advisor-overlay\",[\"^ \",\"^28\",\"Hola\"],\"~:voucher-layout\",[\"^ \",\"~:title-delivery\",\"EnvÃ­o gratis\",\"~:thanks-message\",\"El descuento se ha aplicado correctamente\",\"~:condition\",\"A partir de {min-amount} de compra.\",\"^52\",\"[[{amount} gratis]]\",\"~:error-message\",\"[[Se ha producido un error]], intÃ©ntalo mÃ¡s tarde.\",\"~:ok-voucher-button\",\"Â¡ Aprovecha !\"],\"^14\",[\"^ \",\"~:text\",\"Es la razÃ³n por la que Oscaro se ha asociado con Trustpilot, una de las webs de opiniÃ³n de consumidores mÃ¡s fiable del mundo, para atenderte de la mejor manera posible.\",\"^52\",\"Tu experiencia nos ayuda a mejorar la calidad de nuestros servicios dÃ­a a dÃ­a.\"],\"~:tutorials\",[\"^ \",\"~:singular-hour\",\"hora\",\"~:difficulty\",\"Dificultad\",\"~:difficulty-average\",\"Medio\",\"~:plural-hours\",\"horas\",\"~:duration\",\"DuraciÃ³n\",\"~:difficulty-confirmed\",\"Avanzado\",\"~:tutorial-fitment\",\"Tutorial de montage\",\"~:difficulty-easy\",\"FÃ¡cil\",\"~:minutes\",\"minutos\",\"~:tutorial\",\"Tutorial\",\"~:stepbystep\",\"Ver etapa por etapa\",\"~:difficulty-expert\",\"Experto\",\"~:difficulty-very-easy\",\"Muy fÃ¡cil\",\"~:step\",\"Etapas\"],\"~:footer\",[\"^ \",\"~:oscaro-international\",\"Oscaro internacional:\",\"~:cookies\",\"Gestionar mis cookies\"],\"~:category-card\",[\"^ \",\"~:see-offer\",\"Ver oferta\",\"~:price-from\",\"a partir de:\"],\"~:gt-warning-message\",[\"^ \",\"~:chaine-neige-warning-message\",\"Algunos vehÃ­culos recientes necesitan cadenas frontales.\",\"~:pneu-warning-message\",\"La polÃ­tica de devoluciÃ³n es diferente para neumÃ¡ticos.\",\"~:pneu-warning-link-text\",\"Ver condiciones\"],\"~:header\",[\"^ \",\"~:our-categories\",\"Nuestras categorÃ­as\",\"~:logo-alt\",\"Oscaro es lÃ­der en repuestos nuevos y originales al mejor precio\"],\"~:header-menu\",[\"^ \",\"~:auto-parts\",\"Recambios de coche\",\"~:see-more-of-category\",\"Toda la oferta %1\",\"~:back\",\"Volver\"],\"~:popin\",[\"^ \",\"~:deposit-title\",\"MÃ¡s informaciÃ³n sobre la pieza de intercambio\",\"~:close\",\"Cerrar\",\"~:cross-sell-back-button\",\"Seguir comprando\",\"~:next\",\"Siguiente\",\"~:deposit-products\",\"Algunos productos como alternadores, motores de arranque, pinzas de freno, cardanes, bombas hidrÃ¡ulicas o inyectores se venden en cambio estÃ¡ndar.\",\"~:cross-sell-cart-button\",\"Ir a la cesta\",\"~:deposit-return\",\"Con el fin de facilitar la devoluciÃ³n de tu pieza de intercambio, ponemos a tu disposiciÃ³n las etiquetas de transporte prepagadas disponibles en tu cuenta cliente. Dispones de un plazo de 365 dÃ­as desde la recepciÃ³n de tu pedido para reenviarnos tu pieza usada.\",\"~:previous\",\"Anterior\",\"~:cross-sell-title\",\"Â¡El artÃ­culo ha sido aÃ±adido a la cesta!\",\"~:deposit-refund\",\"El precio de venta de los productos reacondicionados comprados en Oscaro.es incluye una cantidad en concepto de intercambio que deberÃ¡s abonar en el momento de la compra. Esta cantidad se te devolverÃ¡ cuando reenvÃ­es la pieza usada de tu vehÃ­culo. El reembolso serÃ¡ efectuado segÃºn el mÃ©todo de pago inicial de tu pedido.\"],\"~:search-engin\",[\"^ \",\"~:popular-title\",\"BÃºsquedas populares\",\"~:new-placeholder\",\"Ej.: BaterÃ­a, GDB1330, â¦\",\"~:placeholder-t-search\",\"Â¿QuÃ© estÃ¡s buscando?\"],\"~:quick-login-defaults\",[\"^ \",\"~:email\",\"DirecciÃ³n de e-mail\"],\"~:quick-login\",[\"^ \",\"~:incorrect-email-or-password-error\",\"La direcciÃ³n de correo electrÃ³nico o la contraseÃ±a no coinciden.\",\"^52\",\"Mi cuenta\",\"~:forgotten-password\",\"Â¿Olvidaste la contraseÃ±a?\",\"~:create-account\",\"Crear mi cuenta\",\"~:stay-logged-in\",\"Seguir conectado/a\",\"~:password\",\"ContraseÃ±a\",\"~:form-submit-label\",\"Inicia sesiÃ³n\",\"~:email-placeholder\",\"email@messagerie.com\"],\"~:cookie-banner\",[\"^ \",\"~:refuse-all-cookies\",\"Rechazar todo\",\"~:accept-all-cookies\",\"Aceptar todo\",\"~:select-cookies-btn\",\"Administrar cookies\"],\"~:product\",[\"^ \",\"~:see-more\",\"Ver mÃ¡s\",\"~:specify-model-to-access-parts\",\"Precisa tu modelo para ver todas tus piezas\",\"~:see-less\",\"Ver menos\",\"~:specify-your-vehicle\",\"Encuentra tu %1 precisando tu vehÃ­culo\",\"~:all-offer\",\"Todos los productos\",\"~:show-all-manufacturers\",\"Todas las marcas de coche\",\"~:more-pieces\",\"MÃ¡s piezas\",\"~:top-genarts\",\"Otros productos que podrÃ­an interesarte\",\"~:not-available\",\"No disponible por el momento\",\"~:show-all-models\",\"Ver todos los modelos\",\"~:specify-your-vehicle-model\",\"Encuentra tu %1 precisando tu modelo\",\"~:compatible-label\",\"Solamente compatible con tu vehÃ­culo\"],\"~:tag-oscaro\",[\"^ \",\"~:oscaro-selection\",\"SelecciÃ³n Oscaro\"],\"~:top-subcategories\",[\"^ \",\"~:most-popular\",\"Lo MÃ¡s popular\"],\"~:cookie-management-popin\",[\"^ \",\"~:text-1\",\"Oscaro y sus colaboradores utilizan las cookies para proporcionarte contenido y anuncios personalizados, analizar el trÃ¡fico y el rendimiento de la pÃ¡gina web.\",\"~:text-2\",\"Para elegir tus preferencias de las Cookies, pincha en el banner\\n     \\\"Administrar mis cookies\\\", o tambiÃ©n puedes acceder en la parte inferior de la pÃ¡gina.\",\"~:learn-more\",\"MÃ¡s informaciÃ³n\",\"~:cookie-management\",\"GestiÃ³n de las cookies\"],\"~:pagination\",[\"^ \",\"~:previous-feminine\",\"Anterior\",\"~:next-feminine\",\"Siguiente\",\"~:seo-go-to-page\",\"Ir a la pÃ¡gina\"],\"~:search-car-selector\",[\"^ \",\"^52\",\"Para mayor precisiÃ³n, selecciona tu vehÃ­culo\"],\"~:quotation-form\",[\"^ \",\"~:your-detailed-demand\",\"Tu solicitud detallada\",\"~:date-of-reqistration\",\"Fecha de puesta en circulaciÃ³n del vehÃ­culo (opcional)\",\"~:specify-your-request\",\"Por favor, indica el motivo de tu solicitud.\",\"~:february\",\"Febrero\",\"^7H\",\"Email\",\"~:yes\",\"Si\",\"^33\",\"Tu email\",\"~:your-details\",\"Tus datos de contacto\",\"~:do-have-air-con\",\"Â¿Tu coche dispone de climatizaciÃ³n?\",\"~:july\",\"Julio\",\"~:do-not-know\",\"No lo sÃ©\",\"~:do-have-power-steering\",\"Â¿Tu coche dispone de direcciÃ³n asistida?\",\"~:january\",\"Enero\",\"~:your-firstname\",\"Tu nombre\",\"~:select-a-vehicle\",\"Para que podamos responder con precisiÃ³n a tu solicitud, identifica tu vehÃ­culo introduciendo tu nÃºmero de chasis o con ayuda del selector de vehÃ­culos.\",\"^35\",\"Â¡Gracias!\",\"~:validate-my-request\",\"Validar mi solicitud de presupuesto\",\"~:surname\",\"Apellidos\",\"~:inform-non-sell-parts\",\"AtenciÃ³n: Los siguientes productos no estÃ¡n en venta: carrocerÃ­a (parachoques, alerones, ...), habitÃ¡culo (sillas, cuadro de mando, ...).\",\"~:advise-to-answer-questions\",\"Para que podamos darte una respuesta rÃ¡pida y precisa, te aconsejamos que respondas a las siguientes preguntas\",\"~:do-have-esp\",\"Â¿Tu coche dispone de ESP?\",\"~:your-surname\",\"Tus apellidos\",\"~:choose-month\",\"Selecciona el mes\",\"~:demand-from\",\"Solicitud de Consejo de pieza de %1 %2 del %3\",\"~:firstname\",\"Nombre\",\"~:error-firstname\",\"Indica tu nombre\",\"~:april\",\"Abril\",\"~:error-mail\",\"Indica tu email\",\"~:december\",\"Diciembre\",\"~:do-have-abs-breaks\",\"Â¿Tu coche dispone de sistema de frenado ABS?\",\"~:your-vehicle\",\"Identifica tu vehÃ­culo\",\"~:we-thank-you-for-your-confidence\",\"Todo el equipo %1 te agradece tu confianza\",\"~:september\",\"Septiembre\",\"~:may\",\"Mayo\",\"~:error-surname\",\"Indica tus apellidos\",\"~:click-here\",\"pincha aquÃ­.\",\"~:june\",\"Junio\",\"~:october\",\"Octubre\",\"~:march\",\"Marzo\",\"~:november\",\"Noviembre\",\"~:give-us-your-details\",\"Por favor, precisa tu nombre y tus apellidos e indica una direcciÃ³n de email a la que te enviaremos tu presupuesto.\",\"^2;\",\"InformaciÃ³n complementaria\",\"~:no\",\"No\",\"~:august\",\"Agosto\",\"~:we-have-recived-your-mail\",\"Hemos registrado tu solicitud. \\nNuestro servicio de atenciÃ³n al cliente te responderÃ¡ en el plazo de 24 a 48 horas laborables. \\nSi necesitas contactarnos por otros motivos,\"],\"~:tc-header\",[\"^ \",\"~:one-user-search-result\",\"1 resultado\",\"~:search-a-customer\",\"Buscar un cliente\",\"^7H\",\"DirecciÃ³n e-mail\",\"~:shipping-discount\",\"[[{discount}]] de descuento en el envÃ­o\",\"~:no-result-text\",\"Tu bÃºsqueda no ha dado ningÃºn resultado.\",\"~:email-colon\",\"Email:\",\"~:user-search-or\",\"O\",\"~:change-client\",\"Cambiar de cliente\",\"~:logout\",\"Desconectarme\",\"~:new-order\",\"Nuevo pedido\",\"~:no-coupons-available\",\"NingÃºn gesto comercial disponible.\",\"~:client\",\"Cliente:\",\"~:search\",\"Buscar\",\"~:login\",\"Conectarme\",\"~:coupon-sent-by-email\",\"Â¡ Enviado !\",\"~:phone-colon\",\"NÃºmero de telÃ©fono :\",\"~:as-a-customer\",\"como cliente\",\"~:tc-vouchers\",\"Gestos comerciales\",\"~:impersonate-error\",\"ConexiÃ³n imposible a ese cliente\",\"~:user-search-error\",\"Se ha producido un error. Por favor, vuÃ©lvelo a intentar en unos minutos.\",\"~:n-user-search-results\",\"%1 resultados\",\"~:order-discount\",\"[[{discount}]] de descuento en el pedido\",\"~:useful-links\",\"Enlaces Ãºtiles\",\"~:available-coupon-templates\",\"Gestos comerciales disponibles\",\"~:send-coupon-by-email\",\"Enviar por correo electrÃ³nico\",\"~:no-user-search-results\",\"NingÃºn resultado\",\"~:go-on-website\",\"Ir a %1\"],\"~:cross-sell-product-card\",[\"^ \",\"^5M\",\"AÃ±adir\",\"~:package\",\"El lote\"],\"~:boutique-switch\",[\"^ \",\"^7Z\",\"Ver todo el catÃ¡logo\"],\"~:selectors-popin\",[\"^ \",\"^52\",\"Selecciona tu vehÃ­culo\",\"~:looking-for-genart\",\"Â¿Busca \\\"%1\\\"?\",\"~:choose-vehicle-for-compatibility-check\",\"Selecciona tu vehÃ­culo para verificar la compatibilidad.\",\"~:or-separator\",\"o\"],\"~:quotation\",[\"^ \",\"~:no-vehicle-error\",\"Por favor, completa la selecciÃ³n de tu vehÃ­culo\",\"~:empty-text-error\",\"Por favor, indica el motivo de tu solicitud.\"],\"~:product-list\",[\"^ \",\"~:new-vehicle-compatible-title-ko\",\"Montaje no garantizado para tu vehÃ­culo\",\"~:vehicle-compatible-text\",\"Identifica tu vehÃ­culo para verificar la compatibilidad del producto\",\"~:vehicle-waiting\",\"Por favor, espera un instante\",\"~:nojs-message-text\",\"JavaScript es necesario para la identificaciÃ³n de tu vehÃ­culo y para verificar la compatibilidad de este producto.\",\"~:new-vehicle-compatible-title\",\"Comprueba la compatibilidad\",\"~:vehicle-not-compatible-see-other-products\",\"Ver los otros productos\",\"~:empty-list\",\"Por el momento, no disponemos de ninguna %1 vÃ¡lida para tu vehÃ­culo.\",\"~:empty-list-no-vehicle\",\"NingÃºn producto de tipo %1 estÃ¡ disponible actualmente.\",\"~:similar-products\",\"Productos similares\",\"~:price-recommended-notification\",\"* Precio de referencia basado en el precio recomendado por el fabricante (Ã­ndice de precios %1).\",\"~:vehicle-no-product-see-products\",\"Productos para tu vehÃ­culo\",\"~:vehicle-compatible-text-with-alternatives\",\"Precisa tu bÃºsqueda para %1:\",\"~:vehicle-compatible-title-ok\",\"Producto compatible\",\"~:vehicle-compatible-button\",\"Identificar mi vehÃ­culo\",\"~:vehicle-not-compatible-see-products\",\"Ver los productos compatibles\",\"~:nojs-message-title\",\"Habilitar JavaScript\",\"~:all-products-compatible\",\"Estos productos son compatibles\"],\"~:aside-filter\",[\"^ \",\"~:mobile-aside-title-filter\",\"Filtro\",\"~:sort-text\",\"Orden\",\"~:mobile-aside-title\",\"Filtro/ SelecciÃ³n\",\"~:filters\",\"Filtros (%1)\",\"~:refine-sort\",\"Filtrar / Ordenar\",\"~:refine\",\"Filtrar\",\"~:filters-title\",\"Filtros\",\"~:sort-price-desc\",\"Precio de mayor a menor\",\"~:sort-relevance\",\"Pertinencia\",\"~:filters-sort\",\"Filtros / SelecciÃ³n (%1)\",\"~:footer-apply\",\"Aplicar\",\"~:footer-reset-all\",\"Restablecer\",\"~:sort-price-asc\",\"Precio de menor a mayor\"],\"~:facets\",[\"^ \",\"~:show-more-with-count\",\"Ver mÃ¡s (%1)\",\"~:show-less\",\"Ver menos\"],\"~:breadcrumb\",[\"^ \",\"~:home\",\"PÃ¡gina de inicio\",\"~:my-vehicle\",\"Mi vehÃ­culo\",\"~:all-products\",\"Todos los productos\",\"~:promo-app-message\",\"[[Precios bajos,]] [[todos los dÃ­as]] [[en la app Oscaro]]\",\"~:dispo-app-message\",\"[[Disponible]] [[ahora en :]]\",\"~:return\",\"Volver\",\"~:all-manufacturers\",\"Todas las marcas de coche\",\"~:all-autoparts\",\"Todos los recambios de coche\"],\"~:gt-car-selector\",[\"^ \",\"^52\",\"Selecciona tu vehÃ­culo\"],\"~:car-selector\",[\"^ \",\"~:vin-link\",\"Por nÃºmero de bastidor\",\"~:cnit-and-vin-link\",\"Por nÃºmero de bastidor\",\"~:cnit-and-vin-other-link\",\"Por nÃºmero de bastidor\",\"~:manual-link\",\"Por modelo\",\"~:my-vehicles-link\",\"Mis vehÃ­culos\"],\"~:vehicle-selector\",[\"^ \",\"~:all-types\",\"Todos los tipos\",\"~:vin-help-text\",\"Indica el nÃºmero de bastidor de tu vehÃ­culo\",\"~:kba-format-error\",\"Formato de nÃºmero de KBA incorrecto.\",\"~:commercial-vehicle\",\"VehÃ­culo comercial\",\"~:change-vehicle\",\"Cambiar\",\"~:all-models\",\"Todos los modelos\",\"~:cnit-popin-content\",\"Para poder acceder al catÃ¡logo de piezas para tu vehÃ­culo introduce tu nÃºmero de bastidor, que aparece en el permiso de circulaciÃ³n.\",\"~:vehicle-title\",\"Modelo\",\"~:family\",\"FamÃ­lia\",\"~:bad-format\",\"El formato es incorrecto.\",\"~:bad-format-kba2\",\"3 caracteres alfanumÃ©ricos\",\"~:kba-title\",\"KBA\",\"~:numberplate-title\",\"MatrÃ­cula\",\"~:kba-help-text\",\"Indica el nÃºmero KBA de tu vehÃ­culo\",\"~:bad-format-kba1\",\"4 caracteres alfanumÃ©ricos\",\"~:no-kba\",\"Lo sentimos, lamentablemente no pudimos encontrar el nÃºmero de KBA.\",\"~:top-10-family\",\"CategorÃ­as mÃ¡s buscadas\",\"^2U\",\"Ok\",\"~:vehicle-popin-content\",\"Para poder acceder al catÃ¡logo de piezas para tu vehÃ­culo introduce la marca, modelo y tipo de tu vehÃ­culo.\",\"~:type\",\"Tipo\",\"~:by-vin-title\",\"NÃºmero de bastidor\",\"~:kba-popin-content\",\"Para acceder al catÃ¡logo de piezas de tu vehÃ­culo introduce el nÃºmero de KBA\",\"~:all-brands\",\"Todas las marcas\",\"~:brand\",\"Marca\",\"~:bad-format-plate\",\"El formato de esta matrÃ­cula es incorrecto.\",\"~:year\",\"AÃ±o\",\"~:cnit-title\",\"Permiso de circulaciÃ³n\",\"~:vehicle-help-text\",\"Selecciona tu vehÃ­culo\",\"~:new-no-vehicle-found-with-plate\",\"No reconocemos esta matrÃ­cula. LlÃ¡manos al %1 para que podamos ayudarte.\",\"~:contact-crc\",\"Puedes contactar a nuestro Servicio de AtenciÃ³n al Cliente\",\"~:my-vehicles-label\",\"Mis vehÃ­culos\",\"~:all-years\",\"Todos los aÃ±os\",\"~:by-vin-popin-content\",\"Para poder acceder al catÃ¡logo de piezas para tu vehÃ­culo introduce tu nÃºmero de bastidor, que aparece en el permiso de circulaciÃ³n.\",\"~:car-model-label\",\"Por modelo\",\"~:plate-selector-label\",\"Por placa de matrÃ­cula\",\"~:kba-selector-label\",\"Por KBA\",\"~:top-10-brands\",\"Marcas mÃ¡s buscadas\",\"~:all-family\",\"Todas las categorÃ­as\",\"~:numberplate-popin-content\",\"Para poder acceder al catÃ¡logo de piezas para tu vehÃ­culo introduce tu matrÃ­cula.\",\"~:numberplate-help-text\",\"Indica la matrÃ­cula de tu vehÃ­culo\",\"~:model\",\"Modelo\"],\"~:search-results\",[\"^ \",\"~:show-more-useful-links-with-count\",\"Ver mÃ¡s (%1)\",\"~:show-less-useful-links\",\"Ver menos\",\"~:result-s-not-compatible-with-vehicle\",\"{count, plural, one {}\\n           =1 {1 resultado para \\\"{query}\\\" sin compatibilidad confirmada con tu {vehicle}}\\n           other {# resultados para \\\"{query}\\\" sin compatibilidad confirmada con tu {vehicle}}}\",\"~:your-results\",\"Tus resultados para\",\"~:result-s-compatible-with-vehicle\",\"{count, plural, one {}\\n            =1 {1 resultado para \\\"{query}\\\" compatible con tu {vehicle}}\\n            other {# resultados para \\\"{query}\\\" compatibles con tu {vehicle}}}\",\"^:B\",\"No hay resultados para tu bÃºsqueda\"],\"~:best-product\",[\"^ \",\"^52\",\"Productos para %1\"],\"~:license-plate-selector\",[\"^ \",\"~:multiple-vehicles\",\"Precisa tu vehÃ­culo\",\"~:my-vehicles-select-placeholder-plural\",\"Mis %1 vehÃ­culos\",\"~:my-vehicles-select-placeholder-singular\",\"Mi vehÃ­culo\"],\"~:product-card\",[\"^ \",\"~:added\",\"Â¡AÃ±adido!\"],\"~:pneu\",[\"^ \",\"^2A\",\"%1 para %2 / %3 R%4 %5 %6\"],\"~:cart-layout\",[\"^ \",\"^7A\",\"Nuestras sugerencias\"]]],\"~:navigation-links\",[\"^ \",\"^71\",[\"^ \",\"^63\",[\"^ \",\"~:label\",\"Mi cuenta\",\"~:href\",\"/es/account/home\",\"~:track-id\",\"my-account-link\"],\"^6&lt;\",[\"^ \",\"~:tabs\",[[\"^ \",\"~:id\",\"~:customer-search\",\"~:xhr-search-user-endpoint\",\"/api/customer-advisor/1/search-user/es/es\",\"~:xhr-impersonate-user-endpoint\",\"/api/customer-advisor/1/impersonate-user/es/es\"],[\"^ \",\"^&lt;S\",\"^9X\",\"~:links\",[[\"^ \",\"^&lt;Q\",\"queuemetrics\",\"^&lt;O\",\"QueueMetrics\",\"^&lt;P\",\"http://10.17.35.200:8080/queuemetrics/autenticazione.jsp\"],[\"^ \",\"^&lt;Q\",\"ax-es\",\"^&lt;O\",\"AX\",\"^&lt;P\",\"https://oscaxiis.oscaroad.com/sites/DynamicsAx/oscSalesAction/Enterprise%20Portal/oscSalesTableList.aspx?WCMP=S02\"],[\"^ \",\"^&lt;Q\",\"dimelo\",\"^&lt;O\",\"Dimelo\",\"^&lt;P\",\"https://oscaro.engagement.dimelo.com/users/sign_in\"],[\"^ \",\"^&lt;Q\",\"dionysos\",\"^&lt;O\",\"Dionysos\",\"^&lt;P\",\"http://dionysos.oscaroad.com/index.html\"],[\"^ \",\"^&lt;Q\",\"partslink\",\"^&lt;O\",\"Partslink\",\"^&lt;P\",\"https://www.partslink24.com/partslink24/user/login.do\"],[\"^ \",\"^&lt;Q\",\"schaeffler\",\"^&lt;O\",\"Schaeffler\",\"^&lt;P\",\"https://webcat.schaeffler.com/web/schaeffler/es/ENG/applicationSearch.xhtml?reset=1\"],[\"^ \",\"^&lt;Q\",\"drive-es\",\"^&lt;O\",\"Drive\",\"^&lt;P\",\"https://drive.google.com/drive/folders/0B4n53xDeiMNYNnpfbWl5SnZYNWc\"]]],[\"^ \",\"^&lt;S\",\"^9S\",\"~:xhr-templates-endpoint\",\"/api/customer-advisor/1/templates/es\",\"~:xhr-template-endpoint\",\"/api/customer-advisor/1/template/es\"]],\"~:customer-reset\",[\"^ \",\"^&lt;P\",\"/es/customer-advisor/flush-user\",\"^&lt;Q\",\"crc-reset-client-link\"],\"^9J\",[\"^ \",\"^&lt;P\",\"/es/customer-advisor/logout\",\"^&lt;Q\",\"crc-logout-link\"]],\"~:media-base-url\",[\"^ \",\"^&lt;P\",\"https://oscaro.media/mu/\"],\"~:external-links\",[],\"~:crc\",[\"^ \",\"~:crc_label_1\",\"Teleconsejero : \",\"~:crc_label_2\",\"Cliente : \",\"~:crc_logout\",[\"^ \",\"^&lt;P\",\"/Authentication/LogOff/\",\"^&lt;O\",\"DesconexiÃ³n\",\"^&lt;Q\",\"crc-logout-link\"],\"~:crc_customer_switch\",[\"^ \",\"^&lt;P\",\"/Account/Authentication/AlreadyMember/\",\"^&lt;O\",\"Cambiar Clientes\",\"^&lt;Q\",\"crc-reset-client-link\"],\"~:crc_menu\",[\"^ \",\"^&lt;P\",\"/Authentication/CRC/\",\"^&lt;O\",\"Inicio TC\",\"^&lt;Q\",\"crc-menu-link\"]],\"~:genarts\",[[\"^ \",\"^&lt;O\",\"Aceite de motor\",\"^&lt;S\",\"1862\"]],\"~:search-engine\",[\"^ \",\"~:xhr-get-popular-endpoint\",\"xhr/popular/es/es\",\"~:xhr-get-suggestions-endpoint\",\"xhr/autocomplete/es/es\"],\"~:sign-up-link\",[\"^ \",\"^&lt;Q\",\"sign-up-link\",\"^&lt;P\",\"/es/form/login\"],\"~:catalog-images-path2\",\"eu/categories/grey\",\"~:categories\",[[\"^ \",\"^&lt;O\",\"Herramientas\",\"^&lt;S\",\"702627\"]],\"~:quick-access\",[[\"^ \",\"^&lt;O\",\"Equipamiento para ruedas\",\"~:children\",[[\"^ \",\"^&lt;O\",\"Cadenas para nieve\",\"^&lt;S\",\"10745\"],[\"^ \",\"^&lt;O\",\"Tapacubos de rueda\",\"^&lt;S\",\"1436\"],[\"^ \",\"^&lt;O\",\"Equipamientos y herramientas\",\"^&lt;S\",\"702700\"]]],[\"^ \",\"^&lt;O\",\"Accesorios y limpieza\",\"^=?\",[[\"^ \",\"^&lt;O\",\"Barras de techo y transporte\",\"^&lt;S\",\"702675\"],[\"^ \",\"^&lt;O\",\"Accesorios y equipamiento\",\"^&lt;S\",\"702666\"],[\"^ \",\"^&lt;O\",\"Mantenimiento y limpieza\",\"^&lt;S\",\"702667\"]]]],\"~:basket-link\",[\"^ \",\"^&lt;O\",\"Mi cesta\",\"^&lt;P\",\"/es/cart\",\"^&lt;Q\",\"my-cart-link\"],\"~:help-link\",[\"^ \",\"^&lt;O\",\"Ayuda y contacto\",\"^&lt;P\",\"/es/faq\",\"^&lt;Q\",\"faq-link\"],\"~:login-url\",\"/api/authentication/1/login/es/es\",\"~:forgotten-password-link\",[\"^ \",\"^&lt;Q\",\"forgotten-password-link\",\"^&lt;P\",\"/es/form/login\"]],\"^6S\",[\"^ \",\"~:footer-3\",[[\"^ \",\"^&lt;O\",\"PolÃ­tica de protecciÃ³n de datos personales\",\"^52\",\"PolÃ­tica de protecciÃ³n de datos personales\",\"^&lt;P\",\"/es/info/legal-confidencialidad\"],[\"^ \",\"^&lt;O\",\"Condiciones generales de venta\",\"^52\",\"Condiciones generales de venta\",\"^&lt;P\",\"/es/info/cgv\"],[\"^ \",\"^&lt;O\",\"Condiciones generales de utilizaciÃ³n\",\"^52\",\"Condiciones generales de utilizaciÃ³n\",\"^&lt;P\",\"/es/info/condiciones-generales-utilizacion\"],[\"^ \",\"^&lt;O\",\"Menciones legales\",\"^52\",\"Menciones legales\",\"^&lt;P\",\"/es/info/menciones-legales\"]],\"~:legal-federation\",\"https://www.confianzaonline.es/empresas/oscarorecambios.htm\",\"~:social-links\",[[\"^ \",\"^&lt;P\",\"https://www.facebook.com/OscaroES/\",\"^52\",\"\",\"^E\",\"sprite-common-soc-fb\"],[\"^ \",\"^&lt;P\",\"https://twitter.com/oscaro_ES\",\"^52\",\"\",\"^E\",\"sprite-common-soc-twitter\"],[\"^ \",\"^&lt;P\",\"https://www.youtube.com/user/oscaroespana\",\"^52\",\"\",\"^E\",\"sprite-common-soc-youtube\"]],\"~:footer-2\",[[\"^ \",\"^&lt;O\",\"Â¿QuiÃ©nes somos?\",\"^52\",\"Â¿QuiÃ©nes somos?\",\"^&lt;P\",\"/es/info/quienes-somos\",\"~:url-base\",\"https://www.oscaro.es\"],[\"^ \",\"^&lt;O\",\"Consejos mecÃ¡nicos\",\"^52\",\"Consejos mecÃ¡nicos\",\"^&lt;P\",\"/es/consejos-mecanicos\",\"^=H\",\"https://www.oscaro.es\"],[\"^ \",\"^&lt;O\",\"Marcas de coche\",\"^52\",\"Marcas de coche\",\"^&lt;P\",\"/es/all-manufacturers\",\"^=H\",\"https://www.oscaro.es\"],[\"^ \",\"^&lt;O\",\"Oscaro APP\",\"^52\",\"Oscaro APP\",\"^&lt;P\",\"/es/contenido/oscaro-app\",\"^=H\",\"https://www.oscaro.es\"]],\"^6T\",\"Oscaro internacional:\",\"~:legal-federation-image-2\",\"https://oscaro.media/mu/layout/copyright/es/confianza.png\",\"~:copyright\",\"Copyright 2011-2022 - OSCARO SL - Todos los derechos reservados\",\"~:copyright-federation\",\"Oscaro.es se afilia al cÃ³digo Ã©tico de Confianza Online y al sistema de mediaciÃ³n del comercio electrÃ³nico\",\"~:legal-federation-image\",\"/img/common/components/copyright/es/confianza.png\",\"~:copyright-tecdoc-img\",\"https://oscaro.media/mu/layout/copyright/Tecdoc.png\",\"~:ask-estimate\",\"https://www.oscaro.es/pedir-presupuesto\",\"~:payment-method-2\",[[\"^ \",\"^E\",\"sprite-common-cc-paypal\"],[\"^ \",\"^E\",\"sprite-common-cc-transfert\"],[\"^ \",\"^E\",\"sprite-common-cc-acr\"],[\"^ \",\"^E\",\"sprite-common-cc-3x\"],[\"^ \",\"^E\",\"sprite-common-cc-4x\"]],\"~:copyright-tecdoc-legal\",\"EstÃ¡ prohibida la copia de los datos aquÃ­ presentados, en especial la totalidad de la base de datos. Igualmente, no estÃ¡ permitida la reproducciÃ³n o distribuciÃ³n de datos o de toda la base de datos por cuenta propia o de terceros, sin la autorizaciÃ³n previa de TecDoc. La infracciÃ³n de lo anterior constituye una violaciÃ³n de los derechos de propiedad intelectual y en consecuencia serÃ¡ perseguida legalmente.\",\"~:privacy-page-link\",[\"^ \",\"^&lt;O\",\"PolÃ­tica de protecciÃ³n de datos personales\",\"^&lt;P\",\"/es/info/legal-confidencialidad\"],\"~:footer-4\",[[\"^ \",\"~:data-hreflang\",\"de-DE\",\"^&lt;O\",\"Autoteile - Oscaro Deutschland\",\"^52\",\"Oscaro.de\",\"^&lt;P\",\"https://www.oscaro.de\",\"^E\",\"sprite-common-flag-de\"],[\"^ \",\"^=S\",\"pt-PT\",\"^&lt;O\",\"PeÃ§as auto - Oscaro Portugal\",\"^52\",\"Oscaro.pt\",\"^&lt;P\",\"https://www.oscaro.pt\",\"^E\",\"sprite-common-flag-pt\"],[\"^ \",\"^=S\",\"fr-BE\",\"^&lt;O\",\"PiÃ¨ces auto - Oscaro Belgique\",\"^52\",\"Oscaro.be\",\"^&lt;P\",\"https://www.oscaro.be\",\"^E\",\"sprite-common-flag-be\"],[\"^ \",\"^=S\",\"fr-FR\",\"^&lt;O\",\"PiÃ¨ces auto - Oscaro France\",\"^52\",\"Oscaro.com\",\"^&lt;P\",\"https://www.oscaro.com\",\"^E\",\"sprite-common-flag-fr\"]],\"~:copyright-tecdoc-alt\",\"TecDoc Inside\",\"~:footer-1\",[[\"^ \",\"^&lt;O\",\"Ayuda y contacto\",\"^52\",\"Ayuda y contacto\",\"^&lt;P\",\"/es/faq\"],[\"^ \",\"^&lt;O\",\"DevoluciÃ³n de una pieza\",\"^52\",\"DevoluciÃ³n de una pieza\",\"^&lt;P\",\"/es/faq/sav/return\"],[\"^ \",\"^&lt;O\",\"Modalidad de envÃ­o\",\"^52\",\"Modalidad de envÃ­o\",\"^&lt;P\",\"/es/info/envio\"],[\"^ \",\"^&lt;O\",\"MÃ©todos de pago\",\"^52\",\"MÃ©todos de pago\",\"^&lt;P\",\"/es/info/metodos-de-pago\"]],\"~:payment-method-1\",[[\"^ \",\"^E\",\"sprite-common-cc-mastercard\"],[\"^ \",\"^E\",\"sprite-common-cc-maestro\"],[\"^ \",\"^E\",\"sprite-common-cc-visa\"],[\"^ \",\"^E\",\"sprite-common-cc-visa-electron\"],[\"^ \",\"^E\",\"sprite-common-cc-voxpay\"]]],\"~:voucher\",[\"^ \",\"~:xhr-get-torino-state-endpoint\",\"xhr/torino-state/es\",\"~:xhr-mute-voucher-endpoint\",\"xhr/mute-voucher/es\",\"~:xhr-add-cart-voucher-endpoint\",\"api/cart/1/add-voucher/es/es\"],\"^1@\",[\"^ \",\"~:set-trackers-choices-endpoint\",\"xhr/set-trackers-choices/es\",\"~:xhr-get-trackers-categories-endpoint\",\"xhr/trackers-categories/es/es\",\"~:detail-links\",[\"^ \",\"~:general\",\"es/info/legal-confidencialidad\"]],\"^?\",[\"^ \",\"~:xhr-add-to-cart-endpoint\",\"api/cart/1/add/es/es\"],\"~:new-header\",[\"^ \",\"^63\",[\"^ \",\"^&lt;O\",\"Mi cuenta\",\"^&lt;P\",\"/es/account/home\",\"^&lt;Q\",\"my-account-link\"],\"^6&lt;\",[\"^ \",\"^&lt;R\",[[\"^ \",\"^&lt;S\",\"^&lt;T\",\"^&lt;U\",\"/api/customer-advisor/1/search-user/es/es\",\"^&lt;V\",\"/api/customer-advisor/1/impersonate-user/es/es\"],[\"^ \",\"^&lt;S\",\"^9X\",\"^&lt;W\",[[\"^ \",\"^&lt;Q\",\"queuemetrics\",\"^&lt;O\",\"QueueMetrics\",\"^&lt;P\",\"http://10.17.35.200:8080/queuemetrics/autenticazione.jsp\"],[\"^ \",\"^&lt;Q\",\"ax-es\",\"^&lt;O\",\"AX\",\"^&lt;P\",\"https://oscaxiis.oscaroad.com/sites/DynamicsAx/oscSalesAction/Enterprise%20Portal/oscSalesTableList.aspx?WCMP=S02\"],[\"^ \",\"^&lt;Q\",\"dimelo\",\"^&lt;O\",\"Dimelo\",\"^&lt;P\",\"https://oscaro.engagement.dimelo.com/users/sign_in\"],[\"^ \",\"^&lt;Q\",\"dionysos\",\"^&lt;O\",\"Dionysos\",\"^&lt;P\",\"http://dionysos.oscaroad.com/index.html\"],[\"^ \",\"^&lt;Q\",\"partslink\",\"^&lt;O\",\"Partslink\",\"^&lt;P\",\"https://www.partslink24.com/partslink24/user/login.do\"],[\"^ \",\"^&lt;Q\",\"schaeffler\",\"^&lt;O\",\"Schaeffler\",\"^&lt;P\",\"https://webcat.schaeffler.com/web/schaeffler/es/ENG/applicationSearch.xhtml?reset=1\"],[\"^ \",\"^&lt;Q\",\"drive-es\",\"^&lt;O\",\"Drive\",\"^&lt;P\",\"https://drive.google.com/drive/folders/0B4n53xDeiMNYNnpfbWl5SnZYNWc\"]]],[\"^ \",\"^&lt;S\",\"^9S\",\"^&lt;X\",\"/api/customer-advisor/1/templates/es\",\"^&lt;Y\",\"/api/customer-advisor/1/template/es\"]],\"^&lt;Z\",[\"^ \",\"^&lt;P\",\"/es/customer-advisor/flush-user\",\"^&lt;Q\",\"crc-reset-client-link\"],\"^9J\",[\"^ \",\"^&lt;P\",\"/es/customer-advisor/logout\",\"^&lt;Q\",\"crc-logout-link\"]],\"^&lt;[\",[\"^ \",\"^&lt;P\",\"https://oscaro.media/mu/\"],\"^=0\",[],\"^=1\",[\"^ \",\"^=2\",\"Teleconsejero : \",\"^=3\",\"Cliente : \",\"^=4\",[\"^ \",\"^&lt;P\",\"/Authentication/LogOff/\",\"^&lt;O\",\"DesconexiÃ³n\",\"^&lt;Q\",\"crc-logout-link\"],\"^=5\",[\"^ \",\"^&lt;P\",\"/Account/Authentication/AlreadyMember/\",\"^&lt;O\",\"Cambiar Clientes\",\"^&lt;Q\",\"crc-reset-client-link\"],\"^=6\",[\"^ \",\"^&lt;P\",\"/Authentication/CRC/\",\"^&lt;O\",\"Inicio TC\",\"^&lt;Q\",\"crc-menu-link\"]],\"^=7\",[[\"^ \",\"^&lt;O\",\"Aceite de motor\",\"^&lt;S\",\"1862\"]],\"^=8\",[\"^ \",\"^=9\",\"xhr/popular/es/es\",\"^=:\",\"xhr/autocomplete/es/es\"],\"^=;\",[\"^ \",\"^&lt;Q\",\"sign-up-link\",\"^&lt;P\",\"/es/form/login\"],\"^=&lt;\",\"eu/categories/grey\",\"^==\",[[\"^ \",\"^&lt;O\",\"Herramientas\",\"^&lt;S\",\"702627\"]],\"^=&gt;\",[[\"^ \",\"^&lt;O\",\"Equipamiento para ruedas\",\"^=?\",[[\"^ \",\"^&lt;O\",\"Cadenas para nieve\",\"^&lt;S\",\"10745\"],[\"^ \",\"^&lt;O\",\"Tapacubos de rueda\",\"^&lt;S\",\"1436\"],[\"^ \",\"^&lt;O\",\"Equipamientos y herramientas\",\"^&lt;S\",\"702700\"]]],[\"^ \",\"^&lt;O\",\"Accesorios y limpieza\",\"^=?\",[[\"^ \",\"^&lt;O\",\"Barras de techo y transporte\",\"^&lt;S\",\"702675\"],[\"^ \",\"^&lt;O\",\"Accesorios y equipamiento\",\"^&lt;S\",\"702666\"],[\"^ \",\"^&lt;O\",\"Mantenimiento y limpieza\",\"^&lt;S\",\"702667\"]]]],\"^=@\",[\"^ \",\"^&lt;O\",\"Mi cesta\",\"^&lt;P\",\"/es/cart\",\"^&lt;Q\",\"my-cart-link\"],\"^=A\",[\"^ \",\"^&lt;O\",\"Ayuda y contacto\",\"^&lt;P\",\"/es/faq\",\"^&lt;Q\",\"faq-link\"],\"^=B\",\"/api/authentication/1/login/es/es\",\"^=C\",[\"^ \",\"^&lt;Q\",\"forgotten-password-link\",\"^&lt;P\",\"/es/form/login\"]]],\"~:page-template\",\"^;3\",\"~:base-url-navigation\",\"https://www.oscaro.es/\",\"~:logo-url\",\"https://oscaro.media/mu/layout/logo/logo-opengraph.png\",\"~:device\",null,\"~:env-name\",\"prod\",\"~:cookie-domains\",\".oscaro.es\",\"^;B\",[\"^ \",\"~:selector-parts\",[\"~:plate\",\"~:manual\",\"~:vin\"],\"~:part-opts\",[\"^ \",\"^&gt;=\",[\"^ \",\"~:order\",[\"^;Y\",\"^;K\",\"^&lt;&gt;\",\"^;U\"]]]],\"~:trustpilot\",[\"^ \",\"~:badFit\",null,\"~:numberOfReviews\",[\"^ \",\"~:total\",6245,\"~:usedForTrustScoreCalculation\",6136,\"~:oneStar\",882,\"~:twoStars\",313,\"~:threeStars\",431,\"~:fourStars\",952,\"~:fiveStars\",3667],\"~:displayName\",\"Oscaro.es\",\"~:websiteUrl\",\"http://www.oscaro.es/\",\"~:name\",[\"^ \",\"~:referring\",[\"oscaro.es\",\"www.oscaro.es\"],\"~:identifying\",\"oscaro.es\"],\"~:status\",\"active\",\"^&lt;S\",\"565ebbb80000ff0005863595\",\"~:score\",[\"^ \",\"~:stars\",4,\"~:trustScore\",4.1],\"~:entity\",\"es\",\"~:country\",\"ES\",\"^&lt;W\",[[\"^ \",\"^&lt;P\",\"https://api.trustpilot.com/v1/business-units/565ebbb80000ff0005863595/reviews\",\"~:rel\",\"business-units-reviews\",\"~:method\",\"GET\"],[\"^ \",\"^&lt;P\",\"https://api.trustpilot.com/v1/business-units/565ebbb80000ff0005863595/web-links\",\"^&gt;V\",\"business-units-web-links\",\"^&gt;W\",\"GET\"],[\"^ \",\"^&lt;P\",\"https://api.trustpilot.com/v1/resources/strings/stars/4\",\"^&gt;V\",\"resources-strings-stars\",\"^&gt;W\",\"GET\"],[\"^ \",\"^&lt;P\",\"https://api.trustpilot.com/v1/resources/images/stars/4\",\"^&gt;V\",\"resources-images-stars\",\"^&gt;W\",\"GET\"]]],\"~:strapi\",[\"^ \",\"~:contacts\",[\"~#list\",[[\"^ \",\"~:pagetype\",\"product\",\"~:faq_helpbox_intro\",[\"^ \",\"^&lt;S\",9,\"~:intro_question\",\"Â¿Dudas en la elecciÃ³n de tus piezas?\",\"~:published_at\",\"2022-04-04T12:18:52.120Z\",\"~:created_at\",\"2022-04-04T12:18:49.763Z\",\"~:updated_at\",\"2022-04-04T12:18:52.132Z\",\"^&gt;T\",\"es\",\"~:locale\",\"es\"],\"~:faq_mail_block\",[\"^ \",\"~:main_text\",\"Nuestros expertos responderÃ¡n a tus preguntas en 24 horas, salvo fines de semana y festivos.\",\"~:button_text\",\"Hacer una peticiÃ³n por email\",\"~:zoho_form_title\",\"Solicitud de consejo de pieza\",\"^?5\",\"es\",\"~:zoho_form_url\",\"https://forms.zohopublic.eu/oscarofrance/form/ESSolicituddeconsejo/formperma/Igx8v_SJAeWsMUXIYx1_szgbKYi3qeoxlHT9RtDvdQA\",\"~:hint\",\"ES - demande de conseil\",\"^?2\",\"2022-04-04T13:45:42.334Z\",\"^?4\",\"2022-04-04T13:45:42.356Z\",\"~:destination_email\",null,\"^&lt;S\",17,\"^&gt;T\",\"es\",\"^?3\",\"2022-04-04T13:45:40.299Z\"],\"~:faq_phone_block\",[\"^ \",\"^?7\",\"Nuestros expertos responden a tus preguntas de lunes a viernes de 9:00h a 19:00h\",\"~:phone_number\",\"936 07 20 36\",\"^?8\",\"Llamar a un experto\",\"^?5\",\"es\",\"^?2\",\"2022-04-04T13:50:32.480Z\",\"^?4\",\"2022-04-04T13:50:32.493Z\",\"^&lt;S\",8,\"^&gt;T\",\"es\",\"^?3\",\"2022-04-04T13:50:30.875Z\"]],[\"^ \",\"^&gt;[\",\"list\",\"^?0\",[\"^ \",\"^&lt;S\",9,\"^?1\",\"Â¿Dudas en la elecciÃ³n de tus piezas?\",\"^?2\",\"2022-04-04T12:18:52.120Z\",\"^?3\",\"2022-04-04T12:18:49.763Z\",\"^?4\",\"2022-04-04T12:18:52.132Z\",\"^&gt;T\",\"es\",\"^?5\",\"es\"],\"^?6\",[\"^ \",\"^?7\",\"Nuestros expertos responderÃ¡n a tus preguntas en 24 horas, salvo fines de semana y festivos.\",\"^?8\",\"Hacer una peticiÃ³n por email\",\"^?9\",\"Solicitud de consejo de pieza\",\"^?5\",\"es\",\"^?:\",\"https://forms.zohopublic.eu/oscarofrance/form/ESSolicituddeconsejo/formperma/Igx8v_SJAeWsMUXIYx1_szgbKYi3qeoxlHT9RtDvdQA\",\"^?;\",\"ES - demande de conseil\",\"^?2\",\"2022-04-04T13:45:42.334Z\",\"^?4\",\"2022-04-04T13:45:42.356Z\",\"^?&lt;\",null,\"^&lt;S\",17,\"^&gt;T\",\"es\",\"^?3\",\"2022-04-04T13:45:40.299Z\"],\"^?=\",[\"^ \",\"^?7\",\"Nuestros expertos responden a tus preguntas de lunes a viernes de 9:00h a 19:00h\",\"^?&gt;\",\"936 07 20 36\",\"^?8\",\"Llamar a un experto\",\"^?5\",\"es\",\"^?2\",\"2022-04-04T13:50:32.480Z\",\"^?4\",\"2022-04-04T13:50:32.493Z\",\"^&lt;S\",8,\"^&gt;T\",\"es\",\"^?3\",\"2022-04-04T13:50:30.875Z\"]]]]],\"~:version\",\"5.7.27\",\"~:genart-shop-link\",[\"^ \",\"1862\",[[\"^ \",\"^&lt;S\",\"7\",\"~:genart-fitment-type\",\"~:technical\",\"~:pos\",1],[\"^ \",\"^&lt;S\",\"10117\",\"^?B\",\"~:universal\",\"^?D\",2],[\"^ \",\"^&lt;S\",\"1667\",\"^?B\",\"^?C\",\"^?D\",3],[\"^ \",\"^&lt;S\",\"3069\",\"^?B\",\"^?C\",\"^?D\",4],[\"^ \",\"^&lt;S\",\"10691\",\"^?B\",\"^?E\",\"^?D\",5]]],\"^&gt;T\",\"es\",\"~:contact\",[\"^ \",\"~:crc-phone\",\"936 07 20 36\",\"~:site-name\",\"Oscaro.es\"],\"~:pricing\",[\"^ \",\"~:display-vat\",true],\"~:is-client-mounted\",false,\"~:trackers-choice-jwt-config\",[\"^ \",\"^1\",\"Y-OSCD-TCK-1\",\"^2\",34164000],\"~:base-api-root\",\"/\",\"~:munch_assets_base_url\",\"https://oscaro.media/mu\",\"~:g-page\",[\"^ \",\"^Q\",12]]</script><script id=\"opcoms\" type=\"application/transit+json\">[\"^ \",\"~:products\",[],\"~:pages\",[\"^ \",\"~:banner\",[\"~#list\",[[\"^ \",\"~:color-text\",\"#ffffff\",\"~:home-page\",\"yes\",\"~:cart-page\",\"yes\",\"~:end-date\",\"2022-08-05 23:59:59\",\"~:background-color\",\"#F95E4C\",\"~:link-to\",\"\",\"~:navigation-page\",\"yes\",\"~:lang\",\"es\",\"~:closable\",\"no\",\"~:text-mobile\",\"ENVÃO GRATIS A PARTIR DE 99â¬* EN UN PUNTO DE RECOGIDA\",\"~:op-name\",\"LG 99 Relais\",\"~:target\",null,\"~:start-date\",\"2022-07-06 00:00:00\",\"~:tracker-id\",\"header-desktop-20220301-es-lg-web\",\"~:entity\",\"es\",\"~:text-desktop\",\"ENVÃO GRATIS A PARTIR DE 99â¬* EN UN PUNTO DE RECOGIDA\"]]],\"~:carrousel\",[\"^3\",[[\"^ \",\"^5\",\"yes\",\"~:image-url-xs\",\"https://oscaro.media/opcoms/es/carrousel/banner-20220729-es-app5-xs.jpg\",\"^7\",\"2022-08-05 23:59:59\",\"~:image-url-xl\",\"https://oscaro.media/opcoms/es/carrousel/banner-20220729-es-app5-xl.jpg\",\"^9\",\"https://oscaro.media/opcoms/es/popup/popup-20220729-es-app5.jpg\",\"^:\",\"yes\",\"^;\",\"es\",\"~:image-url-md\",\"https://oscaro.media/opcoms/es/carrousel/banner-20220729-es-app5-md.jpg\",\"^&gt;\",\"Code APP5\",\"^?\",\"popin\",\"^@\",\"2022-07-29 00:00:00\",\"^A\",\"banner-20220729-es-app5\",\"^B\",\"es\"],[\"^ \",\"^5\",\"yes\",\"^E\",\"https://oscaro.media/opcoms/es/carrousel/banner-20210705-es-seleccion-verano-xs.jpg\",\"^7\",\"2022-08-30 23:59:59\",\"^F\",\"https://oscaro.media/opcoms/es/carrousel/banner-20210705-es-seleccion-verano-xl.jpg\",\"^9\",\"https://www.oscaro.es/es/operaciones-especiales/operacion-verano\",\"^:\",\"yes\",\"^;\",\"es\",\"^G\",\"https://oscaro.media/opcoms/es/carrousel/banner-20210705-es-seleccion-verano-md.jpg\",\"^&gt;\",\"SÃ©lection ÃtÃ©\",\"^?\",\"new-tab\",\"^@\",\"2021-07-05 00:00:00\",\"^A\",\"banner-20210705-es-seleccion-verano\",\"^B\",\"es\"],[\"^ \",\"^5\",\"yes\",\"^E\",\"https://oscaro.media/opcoms/es/carrousel/banner-20220810-es-lg-99-xs.jpg\",\"^7\",\"2022-08-05 23:59:59\",\"^F\",\"https://oscaro.media/opcoms/es/carrousel/banner-20220810-es-lg-99-xl.jpg\",\"^9\",\"https://oscaro.media/opcoms/es/popup/popup-20220810-es-lg-99.jpg\",\"^:\",\"yes\",\"^;\",\"es\",\"^G\",\"https://oscaro.media/opcoms/es/carrousel/banner-20220810-es-lg-99-md.jpg\",\"^&gt;\",\"LG 99 Relais\",\"^?\",\"popin\",\"^@\",\"2022-06-29 00:00:00\",\"^A\",\"banner-20220629-es-lg-99\",\"^B\",\"es\"]]],\"~:carrousel-page-t\",[\"^3\",[]],\"~:homepage-image\",[\"^3\",[]]],\"~:is-header-closed\",false]</script><script id=\"tutorials\" type=\"application/transit+json\">[\"~#'\",null]</script><script id=\"autocompleteData\" type=\"application/transit+json\">[\"^ \",\"~:results\",null,\"~:query\",\"Filtro de aceite\"]</script><script id=\"eiffelState\" type=\"application/transit+json\">[\"^ \",\"~:cache\",[\"~#cmap\",[[\"^ \",\"~:category-id\",\"11008\",\"~:significant-vehicle\",true],[\"^ \",\"~:page-type\",\"g\",\"~:url\",\"https://www.oscaro.es/bombilla-led-faros-delanteros-11008-g\",\"~:status\",\"~:resolved\"],[\"^ \",\"^2\",\"7\"],[\"^ \",\"^6\",\"^7\"],[\"^ \",\"^2\",\"1561\"],[\"^ \",\"^6\",\"^7\"],[\"^ \",\"^2\",\"10170\"],[\"^ \",\"^4\",\"gu\",\"^5\",\"https://www.oscaro.es/pate-seam-10170-gu\",\"^6\",\"^7\"],[\"^ \",\"^2\",\"494\",\"^3\",true],[\"^ \",\"^4\",\"g\",\"^5\",\"https://www.oscaro.es/soporte-de-lampara-piloto-posterior-494-g\",\"^6\",\"^7\"],[\"^ \",\"^2\",\"7\",\"^3\",true,\"~:vid\",\"ma-192\"],[\"^ \",\"^4\",\"gv\",\"^5\",\"https://www.oscaro.es/filtro-de-aceite-seat-7-192-gv\",\"^6\",\"^7\"],[\"^ \",\"^2\",\"1361\"],[\"^ \",\"^6\",\"^7\"],[\"^ \",\"^2\",\"318\",\"^3\",true],[\"^ \",\"^4\",\"g\",\"^5\",\"https://www.oscaro.es/junta-culata-318-g\",\"^6\",\"^7\"],[\"^ \",\"^2\",\"1566\",\"^3\",true],[\"^ \",\"^4\",\"g\",\"^5\",\"https://www.oscaro.es/soporte-parachoques-1566-g\",\"^6\",\"^7\"],[\"^ \",\"^2\",\"10395\",\"^3\",true],[\"^ \",\"^4\",\"gu\",\"^5\",\"https://www.oscaro.es/cepillo-10395-gu\",\"^6\",\"^7\"],[\"^ \",\"^2\",\"10411\",\"^3\",true],[\"^ \",\"^4\",\"gu\",\"^5\",\"https://www.oscaro.es/compresor-10411-gu\",\"^6\",\"^7\"],[\"^ \",\"^2\",\"7\",\"^3\",true,\"^8\",\"ma-141\"],[\"^ \",\"^4\",\"gv\",\"^5\",\"https://www.oscaro.es/filtro-de-aceite-mini-7-141-gv\",\"^6\",\"^7\"],[\"^ \",\"^2\",\"630\",\"^3\",true],[\"^ \",\"^4\",\"g\",\"^5\",\"https://www.oscaro.es/anillo-reten-diferencial-630-g\",\"^6\",\"^7\"],[\"^ \",\"~:product-id\",5434433],[\"^ \",\"^4\",\"p\",\"^5\",\"https://www.oscaro.es/filtro-de-aceite-bosch-f-026-407-126-5434433-7-p\",\"^6\",\"^7\"],[\"^ \",\"^2\",\"1260\"],[\"^ \",\"^6\",\"^7\"],[\"^ \",\"^2\",\"27\"],[\"^ \",\"^6\",\"^7\"],[\"^ \",\"^2\",\"10082\"],[\"^ \",\"^4\",\"gu\",\"^5\",\"https://www.oscaro.es/parasoles-10082-gu\",\"^6\",\"^7\"],[\"^ \",\"^2\",\"27\",\"^3\",true],[\"^ \",\"^4\",\"g\",\"^5\",\"https://www.oscaro.es/junta-colector-de-escape-27-g\",\"^6\",\"^7\"],[\"^ \",\"^2\",\"10017\",\"^3\",true],[\"^ \",\"^4\",\"g\",\"^5\",\"https://www.oscaro.es/juego-delantero-de-4-pastillas-de-freno-10017-g\",\"^6\",\"^7\"],[\"^ \",\"^2\",\"1479\"],[\"^ \",\"^4\",\"gu\",\"^5\",\"https://www.oscaro.es/interruptor-1479-gu\",\"^6\",\"^7\"],[\"^ \",\"^2\",\"7\",\"^3\",true,\"^8\",\"ma-137\"],[\"^ \",\"^4\",\"gv\",\"^5\",\"https://www.oscaro.es/filtro-de-aceite-mazda-7-137-gv\",\"^6\",\"^7\"],[\"^ \",\"^2\",\"10170\",\"^3\",true],[\"^ \",\"^4\",\"g\",\"^5\",\"https://www.oscaro.es/pate-seam-10170-g\",\"^6\",\"^7\"],[\"^ \",\"^2\",\"593\",\"^3\",true],[\"^ \",\"^4\",\"g\",\"^5\",\"https://www.oscaro.es/tapon-del-cambio-de-aceite-593-g\",\"^6\",\"^7\"],[\"^ \",\"^2\",\"702617\",\"^3\",true],[\"^ \",\"^4\",\"sc\",\"^5\",\"https://www.oscaro.es/filtro-702617-sc\",\"^6\",\"^7\"],[\"^ \",\"^2\",\"3074\",\"^3\",true],[\"^ \",\"^4\",\"g\",\"^5\",\"https://www.oscaro.es/herramienta-de-montaje-rotula-de-suspencioncarga-3074-g\",\"^6\",\"^7\"],[\"^ \",\"^2\",\"259\",\"^3\",true],[\"^ \",\"^4\",\"g\",\"^5\",\"https://www.oscaro.es/faro-principal-259-g\",\"^6\",\"^7\"],[\"^ \",\"^2\",\"2232\"],[\"^ \",\"^6\",\"^7\"],[\"^ \",\"^2\",\"702700\",\"^3\",true],[\"^ \",\"^4\",\"c\",\"^5\",\"https://www.oscaro.es/equipamiento-para-ruedas-702700-c\",\"^6\",\"^7\"],[\"^ \",\"^2\",\"10915\"],[\"^ \",\"^4\",\"gu\",\"^5\",\"https://www.oscaro.es/accesorios-para-circuitos-de-automoviles-10915-gu\",\"^6\",\"^7\"],[\"^ \",\"^2\",\"7\",\"^3\",true,\"^8\",\"ma-220\"],[\"^ \",\"^4\",\"gv\",\"^5\",\"https://www.oscaro.es/filtro-de-aceite-toyota-7-220-gv\",\"^6\",\"^7\"],[\"^ \",\"^2\",\"244\"],[\"^ \",\"^6\",\"^7\"],[\"^ \",\"^2\",\"135\",\"^3\",true],[\"^ \",\"^4\",\"g\",\"^5\",\"https://www.oscaro.es/anillo-de-junta-tapon-roscado-de-vaciado-de-aceite-135-g\",\"^6\",\"^7\"],[\"^ \",\"^2\",\"1560\",\"^3\",true],[\"^ \",\"^4\",\"g\",\"^5\",\"https://www.oscaro.es/revestimiento-pasarruedas-1560-g\",\"^6\",\"^7\"],[\"^ \",\"^2\",\"139\"],[\"^ \",\"^6\",\"^7\"],[\"^ \",\"^2\",\"702717\"],[\"^ \",\"^4\",\"c\",\"^5\",\"https://www.oscaro.es/juntas-y-accesorios-de-sellado-y-otros-equipamientos-702717-c\",\"^6\",\"^7\"],[\"^ \",\"^2\",\"702611\",\"^3\",true],[\"^ \",\"^4\",\"c\",\"^5\",\"https://www.oscaro.es/embraguecaja-de-cambios-702611-c\",\"^6\",\"^7\"],[\"^ \",\"^2\",\"702558\",\"^3\",true],[\"^ \",\"^4\",\"c\",\"^5\",\"https://www.oscaro.es/direccion-suspension-tren-702558-c\",\"^6\",\"^7\"],[\"^ \",\"^2\",\"10395\"],[\"^ \",\"^4\",\"gu\",\"^5\",\"https://www.oscaro.es/cepillo-10395-gu\",\"^6\",\"^7\"],[\"^ \",\"^2\",\"4790\"],[\"^ \",\"^6\",\"^7\"],[\"^ \",\"^2\",\"3252\",\"^3\",true],[\"^ \",\"^4\",\"g\",\"^5\",\"https://www.oscaro.es/sensor-angulo-direccion-3252-g\",\"^6\",\"^7\"],[\"^ \",\"^2\",\"7\",\"^3\",true,\"^8\",\"ma-158\"],[\"^ \",\"^4\",\"gv\",\"^5\",\"https://www.oscaro.es/filtro-de-aceite-nissan-7-158-gv\",\"^6\",\"^7\"],[\"^ \",\"^2\",\"702615\"],[\"^ \",\"^4\",\"c\",\"^5\",\"https://www.oscaro.es/filtros-y-aceite-702615-c\",\"^6\",\"^7\"],[\"^ \",\"^2\",\"7\",\"^3\",true,\"^8\",\"ma-98\"],[\"^ \",\"^4\",\"gv\",\"^5\",\"https://www.oscaro.es/filtro-de-aceite-honda-7-98-gv\",\"^6\",\"^7\"],[\"^ \",\"^2\",\"1566\"],[\"^ \",\"^6\",\"^7\"],[\"^ \",\"^2\",\"3230\"],[\"^ \",\"^6\",\"^7\"],[\"^ \",\"^2\",\"2232\",\"^3\",true],[\"^ \",\"^4\",\"g\",\"^5\",\"https://www.oscaro.es/sensor-de-ruedas-control-presion-neumaticos-2232-g\",\"^6\",\"^7\"],[\"^ \",\"^2\",\"9\",\"^3\",true],[\"^ \",\"^4\",\"g\",\"^5\",\"https://www.oscaro.es/filtro-combustible-9-g\",\"^6\",\"^7\"],[\"^ \",\"^2\",\"470\"],[\"^ \",\"^6\",\"^7\"],[\"^ \",\"^2\",\"624\",\"^3\",true],[\"^ \",\"^4\",\"g\",\"^5\",\"https://www.oscaro.es/anillo-reten-caja-de-cambios-624-g\",\"^6\",\"^7\"],[\"^ \",\"^2\",\"10032\",\"^3\",true],[\"^ \",\"^4\",\"g\",\"^5\",\"https://www.oscaro.es/libro-revision-tecnica-10032-g\",\"^6\",\"^7\"],[\"^ \",\"^2\",\"7\",\"^3\",true,\"^8\",\"ma-77\"],[\"^ \",\"^4\",\"gv\",\"^5\",\"https://www.oscaro.es/filtro-de-aceite-ford-7-77-gv\",\"^6\",\"^7\"],[\"^ \",\"^2\",\"10745\"],[\"^ \",\"^4\",\"gu\",\"^5\",\"https://www.oscaro.es/cadenas-10745-gu\",\"^6\",\"^7\"],[\"^ \",\"^2\",\"702644\"],[\"^ \",\"^4\",\"c\",\"^5\",\"https://www.oscaro.es/carroceria-ventanillas-pintura-702644-c\",\"^6\",\"^7\"],[\"^ \",\"^2\",\"702600\"],[\"^ \",\"^4\",\"c\",\"^5\",\"https://www.oscaro.es/sistema-de-arranque-y-carga-702600-c\",\"^6\",\"^7\"],[\"^ \",\"^2\",\"4790\",\"^3\",true],[\"^ \",\"^4\",\"g\",\"^5\",\"https://www.oscaro.es/sensor-control-de-bateria-4790-g\",\"^6\",\"^7\"],[\"^ \",\"^2\",\"110\"],[\"^ \",\"^6\",\"^7\"],[\"^ \",\"^2\",\"4280\"],[\"^ \",\"^4\",\"gu\",\"^5\",\"https://www.oscaro.es/kit-de-juntas-climatizacion-4280-gu\",\"^6\",\"^7\"],[\"^ \",\"^2\",\"2234\"],[\"^ \",\"^6\",\"^7\"],[\"^ \",\"^2\",\"1361\",\"^3\",true],[\"^ \",\"^4\",\"g\",\"^5\",\"https://www.oscaro.es/cerradura-de-puerta-1361-g\",\"^6\",\"^7\"],[\"^ \",\"^2\",\"1457\",\"^3\",true],[\"^ \",\"^4\",\"g\",\"^5\",\"https://www.oscaro.es/lampara-1457-g\",\"^6\",\"^7\"],[\"^ \",\"^2\",\"7\",\"^3\",true,\"^8\",\"ma-76\"],[\"^ \",\"^4\",\"gv\",\"^5\",\"https://www.oscaro.es/filtro-de-aceite-fiat-7-76-gv\",\"^6\",\"^7\"],[\"^ \",\"^2\",\"654\",\"^3\",true],[\"^ \",\"^4\",\"g\",\"^5\",\"https://www.oscaro.es/cojinete-de-rueda-654-g\",\"^6\",\"^7\"],[\"^ \",\"^2\",\"1563\",\"^3\",true],[\"^ \",\"^4\",\"g\",\"^5\",\"https://www.oscaro.es/conmutador-en-la-columna-de-direccion-1563-g\",\"^6\",\"^7\"],[\"^ \",\"^2\",\"1479\",\"^3\",true],[\"^ \",\"^4\",\"gu\",\"^5\",\"https://www.oscaro.es/interruptor-1479-gu\",\"^6\",\"^7\"],[\"^ \",\"^2\",\"3507\",\"^3\",true],[\"^ \",\"^4\",\"g\",\"^5\",\"https://www.oscaro.es/junta-valvula-recirc-gases-escape-3507-g\",\"^6\",\"^7\"],[\"^ \",\"^2\",\"10070\",\"^3\",true],[\"^ \",\"^4\",\"g\",\"^5\",\"https://www.oscaro.es/kit-de-frenos-premontados-traseros-10070-g\",\"^6\",\"^7\"],[\"^ \",\"^2\",\"2585\"],[\"^ \",\"^6\",\"^7\"],[\"^ \",\"^2\",\"3437\",\"^3\",true],[\"^ \",\"^4\",\"g\",\"^5\",\"https://www.oscaro.es/silenciador-trasero-3437-g\",\"^6\",\"^7\"],[\"^ \",\"^2\",\"10196\"],[\"^ \",\"^4\",\"gu\",\"^5\",\"https://www.oscaro.es/llave-dinamometrica-10196-gu\",\"^6\",\"^7\"],[\"^ \",\"^2\",\"702627\",\"^3\",true],[\"^ \",\"^4\",\"c\",\"^5\",\"https://www.oscaro.es/herramientas-702627-c\",\"^6\",\"^7\"],[\"^ \",\"^2\",\"50\",\"^3\",true],[\"^ \",\"^4\",\"g\",\"^5\",\"https://www.oscaro.es/retrovisor-exterior-50-g\",\"^6\",\"^7\"],[\"^ \",\"^2\",\"2669\",\"^3\",true],[\"^ \",\"^4\",\"g\",\"^5\",\"https://www.oscaro.es/ventilador-habitaculo-2669-g\",\"^6\",\"^7\"],[\"^ \",\"^2\",\"7\",\"^3\",true,\"^8\",\"ma-231\"],[\"^ \",\"^4\",\"gv\",\"^5\",\"https://www.oscaro.es/filtro-de-aceite-volvo-7-231-gv\",\"^6\",\"^7\"],[\"^ \",\"^2\",\"10392\",\"^3\",true],[\"^ \",\"^4\",\"gu\",\"^5\",\"https://www.oscaro.es/gamuza-de-piel-10392-gu\",\"^6\",\"^7\"],[\"^ \",\"^2\",\"7\",\"^3\",true,\"^8\",\"ma-33\"],[\"^ \",\"^4\",\"gv\",\"^5\",\"https://www.oscaro.es/filtro-de-aceite-bmw-7-33-gv\",\"^6\",\"^7\"],[\"^ \",\"^2\",\"10107\",\"^3\",true],[\"^ \",\"^4\",\"gu\",\"^5\",\"https://www.oscaro.es/kit-para-el-cambio-de-aceite-10107-gu\",\"^6\",\"^7\"],[\"^ \",\"^2\",\"10115\",\"^3\",true],[\"^ \",\"^4\",\"gu\",\"^5\",\"https://www.oscaro.es/aditivo-carburante-diesel-10115-gu\",\"^6\",\"^7\"],[\"^ \",\"^2\",\"702551\"],[\"^ \",\"^4\",\"c\",\"^5\",\"https://www.oscaro.es/frenado-702551-c\",\"^6\",\"^7\"],[\"^ \",\"^2\",\"10650\"],[\"^ \",\"^6\",\"^7\"],[\"^ \",\"^2\",\"3437\"],[\"^ \",\"^6\",\"^7\"],[\"^ \",\"^2\",\"7\",\"^3\",true,\"^8\",\"ma-54\"],[\"^ \",\"^4\",\"gv\",\"^5\",\"https://www.oscaro.es/filtro-de-aceite-dacia-7-54-gv\",\"^6\",\"^7\"],[\"^ \",\"^2\",\"10196\",\"^3\",true],[\"^ \",\"^4\",\"gu\",\"^5\",\"https://www.oscaro.es/llave-dinamometrica-10196-gu\",\"^6\",\"^7\"],[\"^ \",\"^2\",\"2412\",\"^3\",true],[\"^ \",\"^4\",\"g\",\"^5\",\"https://www.oscaro.es/sensor-auxiliar-de-aparcamiento-2412-g\",\"^6\",\"^7\"],[\"^ \",\"^2\",\"46\",\"^3\",true],[\"^ \",\"^4\",\"g\",\"^5\",\"https://www.oscaro.es/antena-46-g\",\"^6\",\"^7\"],[\"^ \",\"^2\",\"219\"],[\"^ \",\"^6\",\"^7\"],[\"^ \",\"^9\",83145],[\"^ \",\"^4\",\"p\",\"^5\",\"https://www.oscaro.es/filtro-de-aceite-bosch-0-986-452-000-83145-7-p\",\"^6\",\"^7\"],[\"^ \",\"^2\",\"3944\"],[\"^ \",\"^6\",\"^7\"],[\"^ \",\"^2\",\"135\"],[\"^ \",\"^6\",\"^7\"],[\"^ \",\"^2\",\"2763\"],[\"^ \",\"^4\",\"gu\",\"^5\",\"https://www.oscaro.es/borne-de-bateria-2763-gu\",\"^6\",\"^7\"],[\"^ \",\"^2\",\"666\",\"^3\",true],[\"^ \",\"^4\",\"g\",\"^5\",\"https://www.oscaro.es/junta-bomba-de-vacio-666-g\",\"^6\",\"^7\"],[\"^ \",\"^2\",\"1059\"],[\"^ \",\"^6\",\"^7\"],[\"^ \",\"^2\",\"10454\",\"^3\",true],[\"^ \",\"^4\",\"g\",\"^5\",\"https://www.oscaro.es/enchufe-de-traccion-10454-g\",\"^6\",\"^7\"],[\"^ \",\"^2\",\"11008\"],[\"^ \",\"^6\",\"^7\"],[\"^ \",\"^2\",\"3230\",\"^3\",true],[\"^ \",\"^4\",\"g\",\"^5\",\"https://www.oscaro.es/travesanosbarras-suspension-ruedas-3230-g\",\"^6\",\"^7\"],[\"^ \",\"^2\",\"10847\"],[\"^ \",\"^4\",\"gu\",\"^5\",\"https://www.oscaro.es/perilla-de-cambio-de-marcha-10847-gu\",\"^6\",\"^7\"],[\"^ \",\"^2\",\"7\",\"^3\",true,\"^8\",\"ma-168\"],[\"^ \",\"^4\",\"gv\",\"^5\",\"https://www.oscaro.es/filtro-de-aceite-peugeot-7-168-gv\",\"^6\",\"^7\"],[\"^ \",\"^2\",\"10745\",\"^3\",true],[\"^ \",\"^4\",\"gu\",\"^5\",\"https://www.oscaro.es/cadenas-10745-gu\",\"^6\",\"^7\"],[\"^ \",\"^2\",\"10864\",\"^3\",true],[\"^ \",\"^4\",\"gu\",\"^5\",\"https://www.oscaro.es/reparar-clips-10864-gu\",\"^6\",\"^7\"],[\"^ \",\"^2\",\"10608\",\"^3\",true],[\"^ \",\"^4\",\"gu\",\"^5\",\"https://www.oscaro.es/silla-para-ninos-10608-gu\",\"^6\",\"^7\"],[\"^ \"],[\"^ \",\"^4\",\"home\",\"^5\",\"https://www.oscaro.es/\",\"^6\",\"^7\"],[\"^ \",\"^2\",\"702667\"],[\"^ \",\"^4\",\"c\",\"^5\",\"https://www.oscaro.es/mantenimiento-y-limpieza-702667-c\",\"^6\",\"^7\"],[\"^ \",\"^9\",1375363],[\"^ \",\"^4\",\"p\",\"^5\",\"https://www.oscaro.es/filtro-de-aceite-mann-filter-wp-931-1375363-7-p\",\"^6\",\"^7\"],[\"^ \",\"^2\",\"13\"],[\"^ \",\"^6\",\"^7\"],[\"^ \",\"^2\",\"10070\"],[\"^ \",\"^6\",\"^7\"],[\"^ \",\"^2\",\"2\",\"^3\",true],[\"^ \",\"^4\",\"g\",\"^5\",\"https://www.oscaro.es/motor-de-arranque-2-g\",\"^6\",\"^7\"],[\"^ \",\"^9\",70317],[\"^ \",\"^4\",\"p\",\"^5\",\"https://www.oscaro.es/filtro-de-aceite-bosch-0-451-103-367-70317-7-p\",\"^6\",\"^7\"],[\"^ \",\"^2\",\"702600\",\"^3\",true],[\"^ \",\"^4\",\"c\",\"^5\",\"https://www.oscaro.es/sistema-de-arranque-y-carga-702600-c\",\"^6\",\"^7\"],[\"^ \",\"^2\",\"1180\"],[\"^ \",\"^6\",\"^7\"],[\"^ \",\"^2\",\"1632\"],[\"^ \",\"^6\",\"^7\"],[\"^ \",\"^2\",\"702538\"],[\"^ \",\"^4\",\"c\",\"^5\",\"https://www.oscaro.es/piezas-de-motor-702538-c\",\"^6\",\"^7\"],[\"^ \",\"^2\",\"7\",\"^3\",true,\"^8\",\"ma-208\"],[\"^ \",\"^4\",\"gv\",\"^5\",\"https://www.oscaro.es/filtro-de-aceite-suzuki-7-208-gv\",\"^6\",\"^7\"],[\"^ \",\"^2\",\"3714\"],[\"^ \",\"^6\",\"^7\"],[\"^ \",\"^2\",\"702627\"],[\"^ \",\"^4\",\"c\",\"^5\",\"https://www.oscaro.es/herramientas-702627-c\",\"^6\",\"^7\"],[\"^ \",\"^2\",\"7\",\"^3\",true,\"^8\",\"ma-163\"],[\"^ \",\"^4\",\"gv\",\"^5\",\"https://www.oscaro.es/filtro-de-aceite-opel-7-163-gv\",\"^6\",\"^7\"],[\"^ \",\"^2\",\"702578\"],[\"^ \",\"^4\",\"c\",\"^5\",\"https://www.oscaro.es/escobillas-limpiaparabrisas-y-otras-piezas-702578-c\",\"^6\",\"^7\"],[\"^ \",\"^2\",\"702578\",\"^3\",true],[\"^ \",\"^4\",\"c\",\"^5\",\"https://www.oscaro.es/escobillas-limpiaparabrisas-y-otras-piezas-702578-c\",\"^6\",\"^7\"],[\"^ \",\"^2\",\"10611\",\"^3\",true],[\"^ \",\"^4\",\"gu\",\"^5\",\"https://www.oscaro.es/rejilla-separadora-10611-gu\",\"^6\",\"^7\"],[\"^ \",\"^2\",\"110\",\"^3\",true],[\"^ \",\"^4\",\"g\",\"^5\",\"https://www.oscaro.es/lampara-incandescente-luz-traserade-freno-110-g\",\"^6\",\"^7\"],[\"^ \",\"^2\",\"7\",\"^3\",true,\"^8\",\"ma-140\"],[\"^ \",\"^4\",\"gv\",\"^5\",\"https://www.oscaro.es/filtro-de-aceite-mercedes-benz-7-140-gv\",\"^6\",\"^7\"],[\"^ \",\"^2\",\"188\"],[\"^ \",\"^6\",\"^7\"],[\"^ \",\"^2\",\"247\",\"^3\",true],[\"^ \",\"^4\",\"g\",\"^5\",\"https://www.oscaro.es/soporte-motor-247-g\",\"^6\",\"^7\"],[\"^ \",\"^2\",\"10082\",\"^3\",true],[\"^ \",\"^4\",\"gu\",\"^5\",\"https://www.oscaro.es/parasoles-10082-gu\",\"^6\",\"^7\"],[\"^ \",\"^2\",\"10659\"],[\"^ \",\"^6\",\"^7\"],[\"^ \",\"^2\",\"10721\",\"^3\",true],[\"^ \",\"^4\",\"gu\",\"^5\",\"https://www.oscaro.es/autoradio-10721-gu\",\"^6\",\"^7\"],[\"^ \",\"^2\",\"1560\"],[\"^ \",\"^6\",\"^7\"],[\"^ \",\"^2\",\"702717\",\"^3\",true],[\"^ \",\"^4\",\"c\",\"^5\",\"https://www.oscaro.es/juntas-y-accesorios-de-sellado-y-otros-equipamientos-702717-c\",\"^6\",\"^7\"],[\"^ \",\"^2\",\"412\"],[\"^ \",\"^6\",\"^7\"],[\"^ \",\"^2\",\"7\",\"^3\",true,\"^8\",\"ma-100\"],[\"^ \",\"^4\",\"gv\",\"^5\",\"https://www.oscaro.es/filtro-de-aceite-hyundai-7-100-gv\",\"^6\",\"^7\"],[\"^ \",\"^2\",\"1145\",\"^3\",true],[\"^ \",\"^4\",\"g\",\"^5\",\"https://www.oscaro.es/valvula-agr-1145-g\",\"^6\",\"^7\"],[\"^ \",\"^2\",\"3074\"],[\"^ \",\"^4\",\"gu\",\"^5\",\"https://www.oscaro.es/herramienta-de-montaje-rotula-de-suspencioncarga-3074-gu\",\"^6\",\"^7\"],[\"^ \",\"^2\",\"1186\",\"^3\",true],[\"^ \",\"^4\",\"g\",\"^5\",\"https://www.oscaro.es/sensor-temperaura-exterior-1186-g\",\"^6\",\"^7\"],[\"^ \",\"^2\",\"10650\",\"^3\",true],[\"^ \",\"^4\",\"g\",\"^5\",\"https://www.oscaro.es/barras-de-techo-10650-g\",\"^6\",\"^7\"],[\"^ \",\"^2\",\"1180\",\"^3\",true],[\"^ \",\"^4\",\"g\",\"^5\",\"https://www.oscaro.es/cojinete-columna-suspension-1180-g\",\"^6\",\"^7\"],[\"^ \",\"^2\",\"10296\",\"^3\",true],[\"^ \",\"^4\",\"gu\",\"^5\",\"https://www.oscaro.es/gato-10296-gu\",\"^6\",\"^7\"],[\"^ \",\"^2\",\"74\"],[\"^ \",\"^6\",\"^7\"],[\"^ \",\"^2\",\"219\",\"^3\",true],[\"^ \",\"^4\",\"g\",\"^5\",\"https://www.oscaro.es/muelle-neumatico-maleterocompartimento-de-carga-219-g\",\"^6\",\"^7\"],[\"^ \",\"^2\",\"188\",\"^3\",true],[\"^ \",\"^4\",\"g\",\"^5\",\"https://www.oscaro.es/juego-de-2-muelle-de-suspension-188-g\",\"^6\",\"^7\"],[\"^ \",\"^2\",\"702644\",\"^3\",true],[\"^ \",\"^4\",\"c\",\"^5\",\"https://www.oscaro.es/carroceria-ventanillas-pintura-702644-c\",\"^6\",\"^7\"],[\"^ \",\"^2\",\"624\"],[\"^ \",\"^6\",\"^7\"],[\"^ \",\"^2\",\"10146\",\"^3\",true],[\"^ \",\"^4\",\"gu\",\"^5\",\"https://www.oscaro.es/limpieza-climatizacion-10146-gu\",\"^6\",\"^7\"],[\"^ \",\"^2\",\"3252\"],[\"^ \",\"^6\",\"^7\"],[\"^ \",\"^2\",\"7\",\"^3\",true,\"^8\",\"ma-178\"],[\"^ \",\"^4\",\"gv\",\"^5\",\"https://www.oscaro.es/filtro-de-aceite-renault-7-178-gv\",\"^6\",\"^7\"],[\"^ \",\"^2\",\"10504\"],[\"^ \",\"^4\",\"gu\",\"^5\",\"https://www.oscaro.es/kit-renovateur-doptiques-10504-gu\",\"^6\",\"^7\"],[\"^ \",\"^2\",\"3096\"],[\"^ \",\"^6\",\"^7\"],[\"^ \",\"^2\",\"702538\",\"^3\",true],[\"^ \",\"^4\",\"c\",\"^5\",\"https://www.oscaro.es/piezas-de-motor-702538-c\",\"^6\",\"^7\"],[\"^ \",\"^2\",\"297\",\"^3\",true],[\"^ \",\"^4\",\"g\",\"^5\",\"https://www.oscaro.es/claxon-297-g\",\"^6\",\"^7\"],[\"^ \",\"^2\",\"4\"],[\"^ \",\"^6\",\"^7\"],[\"^ \",\"^2\",\"10518\"],[\"^ \",\"^6\",\"^7\"],[\"^ \",\"^2\",\"10847\",\"^3\",true],[\"^ \",\"^4\",\"gu\",\"^5\",\"https://www.oscaro.es/perilla-de-cambio-de-marcha-10847-gu\",\"^6\",\"^7\"],[\"^ \",\"^2\",\"10149\",\"^3\",true],[\"^ \",\"^4\",\"gu\",\"^5\",\"https://www.oscaro.es/limpiador-frenos-10149-gu\",\"^6\",\"^7\"],[\"^ \",\"^2\",\"702611\"],[\"^ \",\"^4\",\"c\",\"^5\",\"https://www.oscaro.es/embraguecaja-de-cambios-702611-c\",\"^6\",\"^7\"],[\"^ \",\"^2\",\"105\"],[\"^ \",\"^6\",\"^7\"],[\"^ \",\"^2\",\"1059\",\"^3\",true],[\"^ \",\"^4\",\"g\",\"^5\",\"https://www.oscaro.es/soporte-sistema-de-escape-1059-g\",\"^6\",\"^7\"],[\"^ \",\"^2\",\"10504\",\"^3\",true],[\"^ \",\"^4\",\"gu\",\"^5\",\"https://www.oscaro.es/kit-renovateur-doptiques-10504-gu\",\"^6\",\"^7\"],[\"^ \",\"^2\",\"286\",\"^3\",true],[\"^ \",\"^4\",\"g\",\"^5\",\"https://www.oscaro.es/engranaje-de-direccion-286-g\",\"^6\",\"^7\"],[\"^ \",\"^2\",\"2412\"],[\"^ \",\"^6\",\"^7\"],[\"^ \",\"^2\",\"2669\"],[\"^ \",\"^6\",\"^7\"],[\"^ \",\"^2\",\"10832\",\"^3\",true],[\"^ \",\"^4\",\"gu\",\"^5\",\"https://www.oscaro.es/sello-adhesivo-de-poliuretano-10832-gu\",\"^6\",\"^7\"],[\"^ \",\"^2\",\"46\"],[\"^ \",\"^4\",\"gu\",\"^5\",\"https://www.oscaro.es/antena-46-gu\",\"^6\",\"^7\"],[\"^ \",\"^2\",\"702605\"],[\"^ \",\"^4\",\"c\",\"^5\",\"https://www.oscaro.es/escape-702605-c\",\"^6\",\"^7\"],[\"^ \",\"^2\",\"2415\",\"^3\",true],[\"^ \",\"^4\",\"g\",\"^5\",\"https://www.oscaro.es/conmutador-accionamiento-embrague-control-veloc--2415-g\",\"^6\",\"^7\"],[\"^ \",\"^2\",\"1436\",\"^3\",true],[\"^ \",\"^4\",\"gu\",\"^5\",\"https://www.oscaro.es/tapacubos-ruedas-1436-gu\",\"^6\",\"^7\"],[\"^ \",\"^2\",\"914\"],[\"^ \",\"^6\",\"^7\"],[\"^ \",\"^2\",\"833\",\"^3\",true],[\"^ \",\"^4\",\"g\",\"^5\",\"https://www.oscaro.es/generador-de-impulsos-ciguenal-833-g\",\"^6\",\"^7\"],[\"^ \",\"^9\",11691162],[\"^ \",\"^4\",\"p\",\"^5\",\"https://www.oscaro.es/filtro-de-aceite-quinton-hazell-qfl0366-11691162-7-p\",\"^6\",\"^7\"],[\"^ \",\"^2\",\"702715\"],[\"^ \",\"^6\",\"^7\"],[\"^ \",\"^2\",\"914\",\"^3\",true],[\"^ \",\"^4\",\"g\",\"^5\",\"https://www.oscaro.es/rotula-barra-de-acoplamiento-914-g\",\"^6\",\"^7\"],[\"^ \",\"^2\",\"2057\"],[\"^ \",\"^6\",\"^7\"],[\"^ \",\"^2\",\"10206\",\"^3\",true],[\"^ \",\"^4\",\"gu\",\"^5\",\"https://www.oscaro.es/estuche-de-calado-10206-gu\",\"^6\",\"^7\"],[\"^ \",\"^2\",\"10018\"],[\"^ \",\"^6\",\"^7\"],[\"^ \",\"^2\",\"4280\",\"^3\",true],[\"^ \",\"^4\",\"gu\",\"^5\",\"https://www.oscaro.es/kit-de-juntas-climatizacion-4280-gu\",\"^6\",\"^7\"],[\"^ \",\"^2\",\"139\",\"^3\",true],[\"^ \",\"^4\",\"g\",\"^5\",\"https://www.oscaro.es/junta-termostato-139-g\",\"^6\",\"^7\"],[\"^ \",\"^2\",\"10768\"],[\"^ \",\"^4\",\"gu\",\"^5\",\"https://www.oscaro.es/sistema-de-cierre-centralizado-10768-gu\",\"^6\",\"^7\"],[\"^ \",\"^9\",11388971],[\"^ \",\"^4\",\"p\",\"^5\",\"https://www.oscaro.es/filtro-de-aceite-blue-print-adb112123-11388971-7-p\",\"^6\",\"^7\"],[\"^ \",\"^2\",\"7\",\"^3\",true,\"^8\",\"ma-114\"],[\"^ \",\"^4\",\"gv\",\"^5\",\"https://www.oscaro.es/filtro-de-aceite-kia-7-114-gv\",\"^6\",\"^7\"],[\"^ \",\"^2\",\"107\",\"^3\",true],[\"^ \",\"^4\",\"g\",\"^5\",\"https://www.oscaro.es/lampara-faro-principal-107-g\",\"^6\",\"^7\"],[\"^ \",\"^2\",\"7\",\"^3\",true],[\"^ \",\"^4\",\"g\",\"^5\",\"https://www.oscaro.es/filtro-de-aceite-7-g\",\"^6\",\"^7\"],[\"^ \",\"^2\",\"1561\",\"^3\",true],[\"^ \",\"^4\",\"g\",\"^5\",\"https://www.oscaro.es/mecanismo-de-elevalunas-1561-g\",\"^6\",\"^7\"],[\"^ \",\"^2\",\"1186\"],[\"^ \",\"^6\",\"^7\"],[\"^ \",\"^2\",\"3902\",\"^3\",true],[\"^ \",\"^4\",\"g\",\"^5\",\"https://www.oscaro.es/inyector-3902-g\",\"^6\",\"^7\"],[\"^ \",\"^2\",\"259\"],[\"^ \",\"^6\",\"^7\"],[\"^ \",\"^2\",\"478\",\"^3\",true],[\"^ \",\"^4\",\"g\",\"^5\",\"https://www.oscaro.es/cable-de-accionamiento-accionamiento-del-embrague-478-g\",\"^6\",\"^7\"],[\"^ \",\"^2\",\"494\"],[\"^ \",\"^6\",\"^7\"],[\"^ \",\"^2\",\"7\",\"^3\",true,\"^8\",\"ma-49\"],[\"^ \",\"^4\",\"gv\",\"^5\",\"https://www.oscaro.es/filtro-de-aceite-citroen-7-49-gv\",\"^6\",\"^7\"],[\"^ \",\"^9\",1370125],[\"^ \",\"^4\",\"p\",\"^5\",\"https://www.oscaro.es/filtro-de-aceite-mann-filter-w-7143-1370125-7-p\",\"^6\",\"^7\"],[\"^ \",\"^2\",\"2415\"],[\"^ \",\"^6\",\"^7\"],[\"^ \",\"^2\",\"273\",\"^3\",true],[\"^ \",\"^4\",\"g\",\"^5\",\"https://www.oscaro.es/barra-oscilante-suspension-de-ruedas-273-g\",\"^6\",\"^7\"],[\"^ \",\"^2\",\"10411\"],[\"^ \",\"^4\",\"gu\",\"^5\",\"https://www.oscaro.es/compresor-10411-gu\",\"^6\",\"^7\"],[\"^ \",\"^2\",\"1862\"],[\"^ \",\"^6\",\"^7\"],[\"^ \",\"^2\",\"247\"],[\"^ \",\"^6\",\"^7\"],[\"^ \",\"^2\",\"7\",\"^3\",true,\"^8\",\"ma-12\"],[\"^ \",\"^4\",\"gv\",\"^5\",\"https://www.oscaro.es/filtro-de-aceite-alfa-romeo-7-12-gv\",\"^6\",\"^7\"],[\"^ \",\"^2\",\"4826\",\"^3\",true],[\"^ \",\"^4\",\"g\",\"^5\",\"https://www.oscaro.es/muelle-espiral-airbag-4826-g\",\"^6\",\"^7\"],[\"^ \",\"^2\",\"10296\"],[\"^ \",\"^4\",\"gu\",\"^5\",\"https://www.oscaro.es/gato-10296-gu\",\"^6\",\"^7\"],[\"^ \",\"^2\",\"591\",\"^3\",true],[\"^ \",\"^4\",\"g\",\"^5\",\"https://www.oscaro.es/junta-carcasa-del-filtro-de-aceite-591-g\",\"^6\",\"^7\"],[\"^ \",\"^2\",\"3507\"],[\"^ \",\"^6\",\"^7\"],[\"^ \",\"^2\",\"702605\",\"^3\",true],[\"^ \",\"^4\",\"c\",\"^5\",\"https://www.oscaro.es/escape-702605-c\",\"^6\",\"^7\"],[\"^ \",\"^9\",70129],[\"^ \",\"^4\",\"p\",\"^5\",\"https://www.oscaro.es/filtro-de-aceite-bosch-0-451-103-084-70129-7-p\",\"^6\",\"^7\"],[\"^ \",\"^2\",\"666\"],[\"^ \",\"^6\",\"^7\"],[\"^ \",\"^2\",\"3096\",\"^3\",true],[\"^ \",\"^4\",\"g\",\"^5\",\"https://www.oscaro.es/bomba-de-agua-kit-correa-distribucion-3096-g\",\"^6\",\"^7\"],[\"^ \",\"^2\",\"2234\",\"^3\",true],[\"^ \",\"^4\",\"g\",\"^5\",\"https://www.oscaro.es/turbocompresor-sobrealimentacion-2234-g\",\"^6\",\"^7\"],[\"^ \",\"^2\",\"298\",\"^3\",true],[\"^ \",\"^4\",\"g\",\"^5\",\"https://www.oscaro.es/limpiaparabrisas-298-g\",\"^6\",\"^7\"],[\"^ \",\"^2\",\"10987\",\"^3\",true],[\"^ \",\"^4\",\"gu\",\"^5\",\"https://www.oscaro.es/llave-para-filtros-10987-gu\",\"^6\",\"^7\"],[\"^ \",\"^2\",\"478\"],[\"^ \",\"^6\",\"^7\"],[\"^ \",\"^2\",\"10206\"],[\"^ \",\"^4\",\"gu\",\"^5\",\"https://www.oscaro.es/estuche-de-calado-10206-gu\",\"^6\",\"^7\"],[\"^ \",\"^2\",\"243\"],[\"^ \",\"^6\",\"^7\"],[\"^ \",\"^2\",\"7\",\"^3\",true,\"^8\",\"ma-21\"],[\"^ \",\"^4\",\"gv\",\"^5\",\"https://www.oscaro.es/filtro-de-aceite-audi-7-21-gv\",\"^6\",\"^7\"],[\"^ \",\"^2\",\"702551\",\"^3\",true],[\"^ \",\"^4\",\"c\",\"^5\",\"https://www.oscaro.es/frenado-702551-c\",\"^6\",\"^7\"],[\"^ \",\"^2\",\"591\"],[\"^ \",\"^6\",\"^7\"],[\"^ \",\"^2\",\"702558\"],[\"^ \",\"^4\",\"c\",\"^5\",\"https://www.oscaro.es/direccion-suspension-tren-702558-c\",\"^6\",\"^7\"],[\"^ \",\"^2\",\"50\"],[\"^ \",\"^6\",\"^7\"],[\"^ \",\"^2\",\"10915\",\"^3\",true],[\"^ \",\"^4\",\"gu\",\"^5\",\"https://www.oscaro.es/accesorios-para-circuitos-de-automoviles-10915-gu\",\"^6\",\"^7\"],[\"^ \",\"^2\",\"10032\"],[\"^ \",\"^6\",\"^7\"],[\"^ \",\"^2\",\"8\",\"^3\",true],[\"^ \",\"^4\",\"g\",\"^5\",\"https://www.oscaro.es/filtro-de-aire-8-g\",\"^6\",\"^7\"],[\"^ \",\"^2\",\"833\"],[\"^ \",\"^6\",\"^7\"],[\"^ \",\"^2\",\"10815\"],[\"^ \",\"^4\",\"gu\",\"^5\",\"https://www.oscaro.es/conector-de-sensor-lambda-10815-gu\",\"^6\",\"^7\"],[\"^ \",\"^2\",\"702667\",\"^3\",true],[\"^ \",\"^4\",\"c\",\"^5\",\"https://www.oscaro.es/mantenimiento-y-limpieza-702667-c\",\"^6\",\"^7\"],[\"^ \",\"^2\",\"1005\",\"^3\",true],[\"^ \",\"^4\",\"g\",\"^5\",\"https://www.oscaro.es/liston-embellecedorprotector-puerta-1005-g\",\"^6\",\"^7\"],[\"^ \",\"^2\",\"10525\",\"^3\",true],[\"^ \",\"^4\",\"gu\",\"^5\",\"https://www.oscaro.es/aditivo-descontaminacion-10525-gu\",\"^6\",\"^7\"],[\"^ \",\"^2\",\"3902\"],[\"^ \",\"^6\",\"^7\"],[\"^ \",\"^2\",\"2\"],[\"^ \",\"^6\",\"^7\"],[\"^ \",\"^2\",\"273\"],[\"^ \",\"^6\",\"^7\"],[\"^ \",\"^2\",\"654\"],[\"^ \",\"^6\",\"^7\"],[\"^ \",\"^2\",\"10004\"],[\"^ \",\"^6\",\"^7\"],[\"^ \",\"^9\",3828826],[\"^ \",\"^4\",\"p\",\"^5\",\"https://www.oscaro.es/filtro-de-aceite-purflux-ls939-3828826-7-p\",\"^6\",\"^7\"],[\"^ \",\"^2\",\"447\"],[\"^ \",\"^6\",\"^7\"],[\"^ \",\"^2\",\"686\"],[\"^ \",\"^6\",\"^7\"],[\"^ \",\"^2\",\"297\"],[\"^ \",\"^6\",\"^7\"],[\"^ \",\"^2\",\"286\"],[\"^ \",\"^6\",\"^7\"],[\"^ \",\"^2\",\"795\"],[\"^ \",\"^6\",\"^7\"],[\"^ \",\"^2\",\"107\"],[\"^ \",\"^6\",\"^7\"],[\"^ \",\"^2\",\"10392\"],[\"^ \",\"^4\",\"gu\",\"^5\",\"https://www.oscaro.es/gamuza-de-piel-10392-gu\",\"^6\",\"^7\"],[\"^ \",\"^2\",\"686\",\"^3\",true],[\"^ \",\"^4\",\"g\",\"^5\",\"https://www.oscaro.es/bujia-de-encendido-686-g\",\"^6\",\"^7\"],[\"^ \",\"^2\",\"2057\",\"^3\",true],[\"^ \",\"^4\",\"g\",\"^5\",\"https://www.oscaro.es/junta-de-puerta-2057-g\",\"^6\",\"^7\"],[\"^ \",\"^2\",\"702666\"],[\"^ \",\"^4\",\"c\",\"^5\",\"https://www.oscaro.es/accesorios-y-equipos-702666-c\",\"^6\",\"^7\"],[\"^ \",\"^2\",\"10107\"],[\"^ \",\"^4\",\"gu\",\"^5\",\"https://www.oscaro.es/kit-para-el-cambio-de-aceite-10107-gu\",\"^6\",\"^7\"],[\"^ \",\"^2\",\"13\",\"^3\",true],[\"^ \",\"^4\",\"g\",\"^5\",\"https://www.oscaro.es/cardan-13-g\",\"^6\",\"^7\"],[\"^ \",\"^2\",\"702573\"],[\"^ \",\"^4\",\"c\",\"^5\",\"https://www.oscaro.es/calefaccion-y-climatizacion-702573-c\",\"^6\",\"^7\"],[\"^ \",\"^2\",\"417\",\"^3\",true],[\"^ \",\"^4\",\"g\",\"^5\",\"https://www.oscaro.es/filtro-hidraulico-direccion-417-g\",\"^6\",\"^7\"],[\"^ \",\"^2\",\"78\",\"^3\",true],[\"^ \",\"^4\",\"g\",\"^5\",\"https://www.oscaro.es/pinza-de-freno-78-g\",\"^6\",\"^7\"],[\"^ \",\"^2\",\"243\",\"^3\",true],[\"^ \",\"^4\",\"g\",\"^5\",\"https://www.oscaro.es/bujia-de-precalentamiento-243-g\",\"^6\",\"^7\"],[\"^ \",\"^2\",\"7\",\"^3\",true,\"^8\",\"ma-142\"],[\"^ \",\"^4\",\"gv\",\"^5\",\"https://www.oscaro.es/filtro-de-aceite-mitsubishi-7-142-gv\",\"^6\",\"^7\"],[\"^ \",\"^2\",\"1563\"],[\"^ \",\"^6\",\"^7\"],[\"^ \",\"^2\",\"702700\"],[\"^ \",\"^4\",\"c\",\"^5\",\"https://www.oscaro.es/equipamiento-para-ruedas-702700-c\",\"^6\",\"^7\"],[\"^ \",\"^2\",\"1632\",\"^3\",true],[\"^ \",\"^4\",\"g\",\"^5\",\"https://www.oscaro.es/kit-reparacion-apoyo-columna-amortiguacion-1632-g\",\"^6\",\"^7\"],[\"^ \",\"^2\",\"105\",\"^3\",true],[\"^ \",\"^4\",\"g\",\"^5\",\"https://www.oscaro.es/lampara-luz-intermitente-105-g\",\"^6\",\"^7\"],[\"^ \",\"^2\",\"10004\",\"^3\",true],[\"^ \",\"^4\",\"g\",\"^5\",\"https://www.oscaro.es/juego-de-2-amortiguadores-delanteros-10004-g\",\"^6\",\"^7\"],[\"^ \",\"^2\",\"10146\"],[\"^ \",\"^4\",\"gu\",\"^5\",\"https://www.oscaro.es/limpieza-climatizacion-10146-gu\",\"^6\",\"^7\"],[\"^ \",\"^2\",\"702675\"],[\"^ \",\"^4\",\"c\",\"^5\",\"https://www.oscaro.es/enganche-y-transporte-702675-c\",\"^6\",\"^7\"],[\"^ \",\"^2\",\"10115\"],[\"^ \",\"^4\",\"gu\",\"^5\",\"https://www.oscaro.es/aditivo-carburante-diesel-10115-gu\",\"^6\",\"^7\"],[\"^ \",\"^2\",\"10608\"],[\"^ \",\"^4\",\"gu\",\"^5\",\"https://www.oscaro.es/silla-para-ninos-10608-gu\",\"^6\",\"^7\"],[\"^ \",\"^2\",\"702675\",\"^3\",true],[\"^ \",\"^4\",\"c\",\"^5\",\"https://www.oscaro.es/enganche-y-transporte-702675-c\",\"^6\",\"^7\"],[\"^ \",\"^2\",\"3714\",\"^3\",true],[\"^ \",\"^4\",\"g\",\"^5\",\"https://www.oscaro.es/kit-de-montaje-capo-3714-g\",\"^6\",\"^7\"],[\"^ \",\"^2\",\"630\"],[\"^ \",\"^6\",\"^7\"],[\"^ \",\"^2\",\"10659\",\"^3\",true],[\"^ \",\"^4\",\"g\",\"^5\",\"https://www.oscaro.es/corchete-de-tablero-10659-g\",\"^6\",\"^7\"],[\"^ \",\"^2\",\"1260\",\"^3\",true],[\"^ \",\"^4\",\"g\",\"^5\",\"https://www.oscaro.es/bomba-de-agua-1260-g\",\"^6\",\"^7\"],[\"^ \",\"^2\",\"298\"],[\"^ \",\"^6\",\"^7\"],[\"^ \",\"^9\",428619],[\"^ \",\"^4\",\"p\",\"^5\",\"https://www.oscaro.es/filtro-de-aceite-ufi-filters-spa-23-162-02-428619-7-p\",\"^6\",\"^7\"],[\"^ \",\"^2\",\"447\",\"^3\",true],[\"^ \",\"^4\",\"g\",\"^5\",\"https://www.oscaro.es/compresor-aire-acondicionado-447-g\",\"^6\",\"^7\"],[\"^ \",\"^2\",\"10694\"],[\"^ \",\"^4\",\"gu\",\"^5\",\"https://www.oscaro.es/bateria-de-la-motocicleta-10694-gu\",\"^6\",\"^7\"],[\"^ \",\"^2\",\"10280\",\"^3\",true],[\"^ \",\"^4\",\"gu\",\"^5\",\"https://www.oscaro.es/reposicionador-de-pistones-de-frenos-10280-gu\",\"^6\",\"^7\"],[\"^ \",\"^2\",\"2763\",\"^3\",true],[\"^ \",\"^4\",\"gu\",\"^5\",\"https://www.oscaro.es/borne-de-bateria-2763-gu\",\"^6\",\"^7\"],[\"^ \",\"^2\",\"412\",\"^3\",true],[\"^ \",\"^4\",\"g\",\"^5\",\"https://www.oscaro.es/sensor-revoluciones-de-la-rueda-412-g\",\"^6\",\"^7\"],[\"^ \",\"^2\",\"78\"],[\"^ \",\"^6\",\"^7\"],[\"^ \",\"^2\",\"429\"],[\"^ \",\"^6\",\"^7\"],[\"^ \",\"^2\",\"795\",\"^3\",true],[\"^ \",\"^4\",\"g\",\"^5\",\"https://www.oscaro.es/bomba-de-agua-de-lavado-lavado-de-faros-795-g\",\"^6\",\"^7\"],[\"^ \",\"^2\",\"702617\"],[\"^ \",\"^6\",\"^7\"],[\"^ \",\"^2\",\"10768\",\"^3\",true],[\"^ \",\"^4\",\"gu\",\"^5\",\"https://www.oscaro.es/sistema-de-cierre-centralizado-10768-gu\",\"^6\",\"^7\"],[\"^ \",\"^2\",\"10694\",\"^3\",true],[\"^ \",\"^4\",\"gu\",\"^5\",\"https://www.oscaro.es/bateria-de-la-motocicleta-10694-gu\",\"^6\",\"^7\"],[\"^ \",\"^2\",\"702583\",\"^3\",true],[\"^ \",\"^4\",\"c\",\"^5\",\"https://www.oscaro.es/piezas-habitaculo-702583-c\",\"^6\",\"^7\"],[\"^ \",\"^2\",\"702716\",\"^3\",true],[\"^ \",\"^4\",\"c\",\"^5\",\"https://www.oscaro.es/captores-y-sondas-702716-c\",\"^6\",\"^7\"],[\"^ \",\"^2\",\"244\",\"^3\",true],[\"^ \",\"^4\",\"g\",\"^5\",\"https://www.oscaro.es/rejilla-de-ventilacion-parachoques-244-g\",\"^6\",\"^7\"],[\"^ \",\"^2\",\"10721\"],[\"^ \",\"^4\",\"gu\",\"^5\",\"https://www.oscaro.es/autoradio-10721-gu\",\"^6\",\"^7\"],[\"^ \",\"^2\",\"479\"],[\"^ \",\"^6\",\"^7\"],[\"^ \",\"^2\",\"10518\",\"^3\",true],[\"^ \",\"^4\",\"g\",\"^5\",\"https://www.oscaro.es/pluma-acabado-de-vehiculos-10518-g\",\"^6\",\"^7\"],[\"^ \",\"^2\",\"3926\",\"^3\",true],[\"^ \",\"^4\",\"g\",\"^5\",\"https://www.oscaro.es/medidor-de-la-masa-de-aire-3926-g\",\"^6\",\"^7\"],[\"^ \",\"^2\",\"10611\"],[\"^ \",\"^4\",\"gu\",\"^5\",\"https://www.oscaro.es/rejilla-separadora-10611-gu\",\"^6\",\"^7\"],[\"^ \",\"^2\",\"702716\"],[\"^ \",\"^4\",\"c\",\"^5\",\"https://www.oscaro.es/captores-y-sondas-702716-c\",\"^6\",\"^7\"],[\"^ \",\"^2\",\"470\",\"^3\",true],[\"^ \",\"^4\",\"g\",\"^5\",\"https://www.oscaro.es/radiador-refrigeracion-del-motor-470-g\",\"^6\",\"^7\"],[\"^ \",\"^2\",\"4\",\"^3\",true],[\"^ \",\"^4\",\"g\",\"^5\",\"https://www.oscaro.es/alternador-4-g\",\"^6\",\"^7\"],[\"^ \",\"^2\",\"318\"],[\"^ \",\"^6\",\"^7\"],[\"^ \",\"^2\",\"7\",\"^3\",true,\"^8\",\"ma-200\"],[\"^ \",\"^4\",\"gv\",\"^5\",\"https://www.oscaro.es/filtro-de-aceite-skoda-7-200-gv\",\"^6\",\"^7\"],[\"^ \",\"^9\",1370275],[\"^ \",\"^4\",\"p\",\"^5\",\"https://www.oscaro.es/filtro-de-aceite-mann-filter-w-9144-1370275-7-p\",\"^6\",\"^7\"],[\"^ \",\"^2\",\"1145\"],[\"^ \",\"^6\",\"^7\"],[\"^ \",\"^2\",\"3079\"],[\"^ \",\"^6\",\"^7\"],[\"^ \",\"^2\",\"702573\",\"^3\",true],[\"^ \",\"^4\",\"c\",\"^5\",\"https://www.oscaro.es/calefaccion-y-climatizacion-702573-c\",\"^6\",\"^7\"],[\"^ \",\"^2\",\"4826\"],[\"^ \",\"^6\",\"^7\"],[\"^ \",\"^2\",\"1862\",\"^3\",true],[\"^ \",\"^4\",\"g\",\"^5\",\"https://www.oscaro.es/aceite-de-motor-1862-g\",\"^6\",\"^7\"],[\"^ \",\"^2\",\"10864\"],[\"^ \",\"^4\",\"gu\",\"^5\",\"https://www.oscaro.es/reparar-clips-10864-gu\",\"^6\",\"^7\"],[\"^ \",\"^2\",\"10815\",\"^3\",true],[\"^ \",\"^4\",\"gu\",\"^5\",\"https://www.oscaro.es/conector-de-sensor-lambda-10815-gu\",\"^6\",\"^7\"],[\"^ \",\"^2\",\"10149\"],[\"^ \",\"^4\",\"gu\",\"^5\",\"https://www.oscaro.es/limpiador-frenos-10149-gu\",\"^6\",\"^7\"],[\"^ \",\"^2\",\"702666\",\"^3\",true],[\"^ \",\"^4\",\"c\",\"^5\",\"https://www.oscaro.es/accesorios-y-equipos-702666-c\",\"^6\",\"^7\"],[\"^ \",\"^2\",\"2585\",\"^3\",true],[\"^ \",\"^4\",\"g\",\"^5\",\"https://www.oscaro.es/bateria-2585-g\",\"^6\",\"^7\"],[\"^ \",\"^9\",70134],[\"^ \",\"^4\",\"p\",\"^5\",\"https://www.oscaro.es/filtro-de-aceite-bosch-0-451-103-093-70134-7-p\",\"^6\",\"^7\"],[\"^ \",\"^2\",\"10832\"],[\"^ \",\"^4\",\"gu\",\"^5\",\"https://www.oscaro.es/sello-adhesivo-de-poliuretano-10832-gu\",\"^6\",\"^7\"],[\"^ \",\"^2\",\"74\",\"^3\",true],[\"^ \",\"^4\",\"g\",\"^5\",\"https://www.oscaro.es/servofrenos-74-g\",\"^6\",\"^7\"],[\"^ \",\"^2\",\"424\",\"^3\",true],[\"^ \",\"^4\",\"g\",\"^5\",\"https://www.oscaro.es/filtro-aire-habitaculo-424-g\",\"^6\",\"^7\"],[\"^ \",\"^2\",\"1457\"],[\"^ \",\"^6\",\"^7\"],[\"^ \",\"^2\",\"10280\"],[\"^ \",\"^4\",\"gu\",\"^5\",\"https://www.oscaro.es/reposicionador-de-pistones-de-frenos-10280-gu\",\"^6\",\"^7\"],[\"^ \",\"^2\",\"7\",\"^3\",true,\"^8\",\"ma-230\"],[\"^ \",\"^4\",\"gv\",\"^5\",\"https://www.oscaro.es/filtro-de-aceite-volkswagen-7-230-gv\",\"^6\",\"^7\"],[\"^ \",\"^2\",\"10525\"],[\"^ \",\"^4\",\"gu\",\"^5\",\"https://www.oscaro.es/aditivo-descontaminacion-10525-gu\",\"^6\",\"^7\"],[\"^ \",\"^2\",\"429\",\"^3\",true],[\"^ \",\"^4\",\"g\",\"^5\",\"https://www.oscaro.es/catalizador-429-g\",\"^6\",\"^7\"],[\"^ \",\"^2\",\"3944\",\"^3\",true],[\"^ \",\"^4\",\"g\",\"^5\",\"https://www.oscaro.es/sensor-temperatura-del-refrigerante-3944-g\",\"^6\",\"^7\"],[\"^ \",\"^2\",\"10017\"],[\"^ \",\"^6\",\"^7\"],[\"^ \",\"^2\",\"479\",\"^3\",true],[\"^ \",\"^4\",\"g\",\"^5\",\"https://www.oscaro.es/kit-de-embrague-479-g\",\"^6\",\"^7\"],[\"^ \",\"^2\",\"10454\"],[\"^ \",\"^4\",\"gu\",\"^5\",\"https://www.oscaro.es/enchufe-de-traccion-10454-gu\",\"^6\",\"^7\"],[\"^ \",\"^2\",\"10018\",\"^3\",true],[\"^ \",\"^4\",\"g\",\"^5\",\"https://www.oscaro.es/juego-delantero-de-2-discos-de-freno-10018-g\",\"^6\",\"^7\"],[\"^ \",\"^2\",\"1005\"],[\"^ \",\"^6\",\"^7\"],[\"^ \",\"^2\",\"702715\",\"^3\",true],[\"^ \",\"^4\",\"c\",\"^5\",\"https://www.oscaro.es/opticas-faros-bombillas-702715-c\",\"^6\",\"^7\"],[\"^ \",\"^2\",\"3079\",\"^3\",true],[\"^ \",\"^4\",\"g\",\"^5\",\"https://www.oscaro.es/alternador-arrancador-3079-g\",\"^6\",\"^7\"],[\"^ \",\"^2\",\"1436\"],[\"^ \",\"^4\",\"gu\",\"^5\",\"https://www.oscaro.es/tapacubos-ruedas-1436-gu\",\"^6\",\"^7\"],[\"^ \",\"^2\",\"3926\"],[\"^ \",\"^6\",\"^7\"],[\"^ \",\"^2\",\"702583\"],[\"^ \",\"^4\",\"c\",\"^5\",\"https://www.oscaro.es/piezas-habitaculo-702583-c\",\"^6\",\"^7\"],[\"^ \",\"^2\",\"702615\",\"^3\",true],[\"^ \",\"^4\",\"c\",\"^5\",\"https://www.oscaro.es/filtros-y-aceite-702615-c\",\"^6\",\"^7\"]]]]</script><script id=\"oeData\" type=\"application/transit+json\">[\"~#'\",null]</script><script id=\"categorySelectedData\" type=\"application/transit+json\">[\"^ \",\"~:score\",617326,\"~:genart-fitment-type\",\"technical\",\"~:level\",3,\"~:id\",\"7\",\"~:leaf\",true,\"~:labels\",[\"^ \",\"~:label\",[\"^ \",\"~:es\",\"Filtro de aceite\"]],\"~:ancestors\",[\"~#list\",[[\"^ \",\"^2\",1,\"~:image-path\",\"/img/listnav/702615.jpg\",\"^3\",\"702615\",\"^5\",[\"^ \",\"^6\",[\"^ \",\"^7\",\"Filtros y aceite\"]]],[\"^ \",\"^2\",2,\"^3\",\"702617\",\"^5\",[\"^ \",\"^6\",[\"^ \",\"^7\",\"Filtro\"]]]]]]</script><script id=\"genartDescriptions\" type=\"application/transit+json\">[[\"^ \",\"~:description\",\"El filtro de aceite es una parte muy importante de la vida de su motor y no debe ser descuidado. Garantiza la pureza del aceite del motor y reduce la fricciÃ³n. Filtra las partÃ­culas metÃ¡licas, el polvo y los residuos del proceso de combustiÃ³n. Si se acumulan impurezas en el aceite del motor, Ã©ste se atascarÃ¡. Los daÃ±os causados pueden ser irreversibles. El cartucho filtrante se coloca directamente en el motor o dentro de una carcasa de filtro.\\nPara activar la compatibilidad con el lector de pantalla, pulse Ctrl+Alt+Z Para los atajos de teclado, pulse Ctrl+barra\",\"~:title\",\"Â¿CuÃ¡l es el papel de tu filtro de aceite?\"],[\"^ \",\"^0\",\"El filtro de aceite es una parte muy importante de la vida de su motor, por lo que no debe ser descuidado. Garantiza la pureza del aceite del motor y reduce la fricciÃ³n. Filtra las partÃ­culas metÃ¡licas, el polvo y los residuos de la combustiÃ³n. Si se acumulan impurezas en el aceite del motor, Ã©ste se atasca. Los daÃ±os causados pueden ser irreversibles. Se trata de un cartucho filtrante que se coloca directamente en el motor o en una carcasa diseÃ±ada para ello.\",\"^1\",\"Â¿CÃ³mo se cambia el filtro de aceite?\"],[\"^ \",\"^0\",\"Al evitar que las partÃ­culas o los residuos de la combustiÃ³n lleguen al aceite de su motor, el filtro de aceite garantiza un rendimiento Ã³ptimo y duradero de su motor. Es importante cambiarlo porque puede obstruirse o daÃ±ar la lubricaciÃ³n. El aceite que ya no se filtra provoca un desgaste prematuro de su motor, hasta 30 veces mÃ¡s rÃ¡pido que el desgaste normal.\",\"^1\",\"Â¿Por quÃ© cambiar el filtro de aceite?\"]]</script><script id=\"searchResultsData\" type=\"application/transit+json\">[\"~#'\",null]</script><script id=\"topCategoryGenarts\" type=\"application/transit+json\">[\"~#'\",null]</script><script id=\"filtersData\" type=\"application/transit+json\">[\"^ \",\"~:constraints\",[\"^ \"],\"~:properties\",[\"^ \"],\"~:fitment-group\",null,\"~:linked-property\",null]</script><script id=\"vehiclesLinks\" type=\"application/transit+json\">[[\"^ \",\"~:score\",26708709,\"~:level\",1,\"~:logo\",\"Renault.jpg\",\"~:id\",\"ma-178\",\"~:labels\",[\"^ \",\"~:full-label\",[\"^ \",\"~:es\",\"RENAULT\"],\"~:label\",[\"^ \",\"^6\",\"RENAULT\"],\"~:full-label-fragment\",[\"^ \",\"^6\",\"RENAULT\"]]],[\"^ \",\"^0\",24846439,\"^1\",1,\"^2\",\"PeugeoT.jpg\",\"^3\",\"ma-168\",\"^4\",[\"^ \",\"^5\",[\"^ \",\"^6\",\"PEUGEOT\"],\"^7\",[\"^ \",\"^6\",\"PEUGEOT\"],\"^8\",[\"^ \",\"^6\",\"PEUGEOT\"]]],[\"^ \",\"^0\",17061493,\"^1\",1,\"^2\",\"Citroen.jpg\",\"^3\",\"ma-49\",\"^4\",[\"^ \",\"^5\",[\"^ \",\"^6\",\"CITROÃN\"],\"^7\",[\"^ \",\"^6\",\"CITROÃN\"],\"^8\",[\"^ \",\"^6\",\"CITROÃN\"]]],[\"^ \",\"^0\",14657513,\"^1\",1,\"^2\",\"Volkswagen.jpg\",\"^3\",\"ma-230\",\"^4\",[\"^ \",\"^5\",[\"^ \",\"^6\",\"VOLKSWAGEN\"],\"^7\",[\"^ \",\"^6\",\"VOLKSWAGEN\"],\"^8\",[\"^ \",\"^6\",\"VOLKSWAGEN\"]]],[\"^ \",\"^0\",8122174,\"^1\",1,\"^2\",\"BMW.jpg\",\"^3\",\"ma-33\",\"^4\",[\"^ \",\"^5\",[\"^ \",\"^6\",\"BMW\"],\"^7\",[\"^ \",\"^6\",\"BMW\"],\"^8\",[\"^ \",\"^6\",\"BMW\"]]],[\"^ \",\"^0\",7184458,\"^1\",1,\"^2\",\"FORD.jpg\",\"^3\",\"ma-77\",\"^4\",[\"^ \",\"^5\",[\"^ \",\"^6\",\"FORD\"],\"^7\",[\"^ \",\"^6\",\"FORD\"],\"^8\",[\"^ \",\"^6\",\"FORD\"]]],[\"^ \",\"^0\",7035346,\"^1\",1,\"^2\",\"AUDI.jpg\",\"^3\",\"ma-21\",\"^4\",[\"^ \",\"^5\",[\"^ \",\"^6\",\"AUDI\"],\"^7\",[\"^ \",\"^6\",\"AUDI\"],\"^8\",[\"^ \",\"^6\",\"AUDI\"]]],[\"^ \",\"^0\",6429662,\"^1\",1,\"^2\",\"MERCEDES.JPG\",\"^3\",\"ma-140\",\"^4\",[\"^ \",\"^5\",[\"^ \",\"^6\",\"MERCEDES-BENZ\"],\"^7\",[\"^ \",\"^6\",\"MERCEDES-BENZ\"],\"^8\",[\"^ \",\"^6\",\"MERCEDES-BENZ\"]]],[\"^ \",\"^0\",6182449,\"^1\",1,\"^2\",\"OPEL.jpg\",\"^3\",\"ma-163\",\"^4\",[\"^ \",\"^5\",[\"^ \",\"^6\",\"OPEL\"],\"^7\",[\"^ \",\"^6\",\"OPEL\"],\"^8\",[\"^ \",\"^6\",\"OPEL\"]]],[\"^ \",\"^0\",4740593,\"^1\",1,\"^2\",\"SEAT.jpg\",\"^3\",\"ma-192\",\"^4\",[\"^ \",\"^5\",[\"^ \",\"^6\",\"SEAT\"],\"^7\",[\"^ \",\"^6\",\"SEAT\"],\"^8\",[\"^ \",\"^6\",\"SEAT\"]]],[\"^ \",\"^0\",4528727,\"^1\",1,\"^2\",\"FIAT.JPG\",\"^3\",\"ma-76\",\"^4\",[\"^ \",\"^5\",[\"^ \",\"^6\",\"FIAT\"],\"^7\",[\"^ \",\"^6\",\"FIAT\"],\"^8\",[\"^ \",\"^6\",\"FIAT\"]]],[\"^ \",\"^0\",3886336,\"^1\",1,\"^2\",\"NISSAN.JPG\",\"^3\",\"ma-158\",\"^4\",[\"^ \",\"^5\",[\"^ \",\"^6\",\"NISSAN\"],\"^7\",[\"^ \",\"^6\",\"NISSAN\"],\"^8\",[\"^ \",\"^6\",\"NISSAN\"]]],[\"^ \",\"^0\",3861347,\"^1\",1,\"^2\",\"TOYOTA.jpg\",\"^3\",\"ma-220\",\"^4\",[\"^ \",\"^5\",[\"^ \",\"^6\",\"TOYOTA\"],\"^7\",[\"^ \",\"^6\",\"TOYOTA\"],\"^8\",[\"^ \",\"^6\",\"TOYOTA\"]]],[\"^ \",\"^0\",2145667,\"^1\",1,\"^2\",\"dacia.jpg\",\"^3\",\"ma-54\",\"^4\",[\"^ \",\"^5\",[\"^ \",\"^6\",\"DACIA\"],\"^7\",[\"^ \",\"^6\",\"DACIA\"],\"^8\",[\"^ \",\"^6\",\"DACIA\"]]],[\"^ \",\"^0\",1824820,\"^1\",1,\"^2\",\"HYUNDAI.jpg\",\"^3\",\"ma-100\",\"^4\",[\"^ \",\"^5\",[\"^ \",\"^6\",\"HYUNDAI\"],\"^7\",[\"^ \",\"^6\",\"HYUNDAI\"],\"^8\",[\"^ \",\"^6\",\"HYUNDAI\"]]],[\"^ \",\"^0\",1468838,\"^1\",1,\"^2\",\"KIA.jpg\",\"^3\",\"ma-114\",\"^4\",[\"^ \",\"^5\",[\"^ \",\"^6\",\"KIA\"],\"^7\",[\"^ \",\"^6\",\"KIA\"],\"^8\",[\"^ \",\"^6\",\"KIA\"]]],[\"^ \",\"^0\",1399359,\"^1\",1,\"^2\",\"ALFAROMEO.jpg\",\"^3\",\"ma-12\",\"^4\",[\"^ \",\"^5\",[\"^ \",\"^6\",\"ALFA ROMEO\"],\"^7\",[\"^ \",\"^6\",\"ALFA ROMEO\"],\"^8\",[\"^ \",\"^6\",\"ALFA ROMEO\"]]],[\"^ \",\"^0\",1362323,\"^1\",1,\"^2\",\"MINI.jpg\",\"^3\",\"ma-141\",\"^4\",[\"^ \",\"^5\",[\"^ \",\"^6\",\"MINI\"],\"^7\",[\"^ \",\"^6\",\"MINI\"],\"^8\",[\"^ \",\"^6\",\"MINI\"]]],[\"^ \",\"^0\",1260659,\"^1\",1,\"^2\",\"SKODA.JPG\",\"^3\",\"ma-200\",\"^4\",[\"^ \",\"^5\",[\"^ \",\"^6\",\"SKODA\"],\"^7\",[\"^ \",\"^6\",\"SKODA\"],\"^8\",[\"^ \",\"^6\",\"SKODA\"]]],[\"^ \",\"^0\",1224027,\"^1\",1,\"^2\",\"SUZUKI.jpg\",\"^3\",\"ma-208\",\"^4\",[\"^ \",\"^5\",[\"^ \",\"^6\",\"SUZUKI\"],\"^7\",[\"^ \",\"^6\",\"SUZUKI\"],\"^8\",[\"^ \",\"^6\",\"SUZUKI\"]]],[\"^ \",\"^0\",1174825,\"^1\",1,\"^2\",\"HONDA.jpg\",\"^3\",\"ma-98\",\"^4\",[\"^ \",\"^5\",[\"^ \",\"^6\",\"HONDA\"],\"^7\",[\"^ \",\"^6\",\"HONDA\"],\"^8\",[\"^ \",\"^6\",\"HONDA\"]]],[\"^ \",\"^0\",1084586,\"^1\",1,\"^2\",\"VOLVO.jpg\",\"^3\",\"ma-231\",\"^4\",[\"^ \",\"^5\",[\"^ \",\"^6\",\"VOLVO\"],\"^7\",[\"^ \",\"^6\",\"VOLVO\"],\"^8\",[\"^ \",\"^6\",\"VOLVO\"]]],[\"^ \",\"^0\",985937,\"^1\",1,\"^2\",\"MITSUBISHI.jpg\",\"^3\",\"ma-142\",\"^4\",[\"^ \",\"^5\",[\"^ \",\"^6\",\"MITSUBISHI\"],\"^7\",[\"^ \",\"^6\",\"MITSUBISHI\"],\"^8\",[\"^ \",\"^6\",\"MITSUBISHI\"]]],[\"^ \",\"^0\",929030,\"^1\",1,\"^3\",\"ma-137\",\"^4\",[\"^ \",\"^5\",[\"^ \",\"^6\",\"MAZDA\"],\"^7\",[\"^ \",\"^6\",\"MAZDA\"],\"^8\",[\"^ \",\"^6\",\"MAZDA\"]]],[\"^ \",\"^0\",706567,\"^1\",1,\"^2\",\"LANDROVER.jpg\",\"^3\",\"ma-121\",\"^4\",[\"^ \",\"^5\",[\"^ \",\"^6\",\"LAND ROVER\"],\"^7\",[\"^ \",\"^6\",\"LAND ROVER\"],\"^8\",[\"^ \",\"^6\",\"LAND ROVER\"]]],[\"^ \",\"^0\",650092,\"^1\",1,\"^2\",\"CHEVROLET.jpg\",\"^3\",\"ma-46\",\"^4\",[\"^ \",\"^5\",[\"^ \",\"^6\",\"CHEVROLET\"],\"^7\",[\"^ \",\"^6\",\"CHEVROLET\"],\"^8\",[\"^ \",\"^6\",\"CHEVROLET\"]]],[\"^ \",\"^0\",534013,\"^1\",1,\"^3\",\"ma-107\",\"^4\",[\"^ \",\"^5\",[\"^ \",\"^6\",\"IVECO\"],\"^7\",[\"^ \",\"^6\",\"IVECO\"],\"^8\",[\"^ \",\"^6\",\"IVECO\"]]],[\"^ \",\"^0\",509055,\"^1\",1,\"^2\",\"PORSCHE.jpg\",\"^3\",\"ma-170\",\"^4\",[\"^ \",\"^5\",[\"^ \",\"^6\",\"PORSCHE\"],\"^7\",[\"^ \",\"^6\",\"PORSCHE\"],\"^8\",[\"^ \",\"^6\",\"PORSCHE\"]]],[\"^ \",\"^0\",460371,\"^1\",1,\"^2\",\"JEEP.jpg\",\"^3\",\"ma-109\",\"^4\",[\"^ \",\"^5\",[\"^ \",\"^6\",\"JEEP\"],\"^7\",[\"^ \",\"^6\",\"JEEP\"],\"^8\",[\"^ \",\"^6\",\"JEEP\"]]],[\"^ \",\"^0\",299124,\"^1\",1,\"^2\",\"CHRYSLER.jpg\",\"^3\",\"ma-47\",\"^4\",[\"^ \",\"^5\",[\"^ \",\"^6\",\"CHRYSLER\"],\"^7\",[\"^ \",\"^6\",\"CHRYSLER\"],\"^8\",[\"^ \",\"^6\",\"CHRYSLER\"]]],[\"^ \",\"^0\",255612,\"^1\",1,\"^2\",\"SMART.JPG\",\"^3\",\"ma-138\",\"^4\",[\"^ \",\"^5\",[\"^ \",\"^6\",\"SMART\"],\"^7\",[\"^ \",\"^6\",\"SMART\"],\"^8\",[\"^ \",\"^6\",\"SMART\"]]],[\"^ \",\"^0\",241580,\"^1\",1,\"^2\",\"JAGUAR.jpg\",\"^3\",\"ma-108\",\"^4\",[\"^ \",\"^5\",[\"^ \",\"^6\",\"JAGUAR\"],\"^7\",[\"^ \",\"^6\",\"JAGUAR\"],\"^8\",[\"^ \",\"^6\",\"JAGUAR\"]]],[\"^ \",\"^0\",215084,\"^1\",1,\"^2\",\"LANCIA.JPG\",\"^3\",\"ma-120\",\"^4\",[\"^ \",\"^5\",[\"^ \",\"^6\",\"LANCIA\"],\"^7\",[\"^ \",\"^6\",\"LANCIA\"],\"^8\",[\"^ \",\"^6\",\"LANCIA\"]]],[\"^ \",\"^0\",189038,\"^1\",1,\"^2\",\"SAAB.jpg\",\"^3\",\"ma-181\",\"^4\",[\"^ \",\"^5\",[\"^ \",\"^6\",\"SAAB\"],\"^7\",[\"^ \",\"^6\",\"SAAB\"],\"^8\",[\"^ \",\"^6\",\"SAAB\"]]],[\"^ \",\"^0\",178663,\"^1\",1,\"^2\",\"SSANGYONG.jpg\",\"^3\",\"ma-204\",\"^4\",[\"^ \",\"^5\",[\"^ \",\"^6\",\"SSANGYONG\"],\"^7\",[\"^ \",\"^6\",\"SSANGYONG\"],\"^8\",[\"^ \",\"^6\",\"SSANGYONG\"]]],[\"^ \",\"^0\",153040,\"^1\",1,\"^2\",\"SUBARU.jpg\",\"^3\",\"ma-206\",\"^4\",[\"^ \",\"^5\",[\"^ \",\"^6\",\"SUBARU\"],\"^7\",[\"^ \",\"^6\",\"SUBARU\"],\"^8\",[\"^ \",\"^6\",\"SUBARU\"]]],[\"^ \",\"^0\",149156,\"^1\",1,\"^2\",\"ROVER.jpg\",\"^3\",\"ma-179\",\"^4\",[\"^ \",\"^5\",[\"^ \",\"^6\",\"ROVER\"],\"^7\",[\"^ \",\"^6\",\"ROVER\"],\"^8\",[\"^ \",\"^6\",\"ROVER\"]]],[\"^ \",\"^0\",137831,\"^1\",1,\"^2\",\"lexus.jpg\",\"^3\",\"ma-124\",\"^4\",[\"^ \",\"^5\",[\"^ \",\"^6\",\"LEXUS\"],\"^7\",[\"^ \",\"^6\",\"LEXUS\"],\"^8\",[\"^ \",\"^6\",\"LEXUS\"]]],[\"^ \",\"^0\",126182,\"^1\",1,\"^3\",\"ma-309\",\"^4\",[\"^ \",\"^5\",[\"^ \",\"^6\",\"DS\"],\"^7\",[\"^ \",\"^6\",\"DS\"],\"^8\",[\"^ \",\"^6\",\"DS\"]]],[\"^ \",\"^0\",99382,\"^1\",1,\"^3\",\"ma-180\",\"^4\",[\"^ \",\"^5\",[\"^ \",\"^6\",\"R.V.I.\"],\"^7\",[\"^ \",\"^6\",\"R.V.I.\"],\"^8\",[\"^ \",\"^6\",\"R.V.I.\"]]],[\"^ \",\"^0\",86028,\"^1\",1,\"^2\",\"dodge.jpg\",\"^3\",\"ma-256\",\"^4\",[\"^ \",\"^5\",[\"^ \",\"^6\",\"DODGE\"],\"^7\",[\"^ \",\"^6\",\"DODGE\"],\"^8\",[\"^ \",\"^6\",\"DODGE\"]]],[\"^ \",\"^0\",85003,\"^1\",1,\"^2\",\"santana.jpg\",\"^3\",\"ma-187\",\"^4\",[\"^ \",\"^5\",[\"^ \",\"^6\",\"SANTANA\"],\"^7\",[\"^ \",\"^6\",\"SANTANA\"],\"^8\",[\"^ \",\"^6\",\"SANTANA\"]]],[\"^ \",\"^0\",78929,\"^1\",1,\"^2\",\"DAEWOO.jpg\",\"^3\",\"ma-55\",\"^4\",[\"^ \",\"^5\",[\"^ \",\"^6\",\"DAEWOO\"],\"^7\",[\"^ \",\"^6\",\"DAEWOO\"],\"^8\",[\"^ \",\"^6\",\"DAEWOO\"]]],[\"^ \",\"^0\",75620,\"^1\",1,\"^3\",\"ma-303\",\"^4\",[\"^ \",\"^5\",[\"^ \",\"^6\",\"ABARTH\"],\"^7\",[\"^ \",\"^6\",\"ABARTH\"],\"^8\",[\"^ \",\"^6\",\"ABARTH\"]]],[\"^ \",\"^0\",69065,\"^1\",1,\"^2\",\"isuzu.jpg\",\"^3\",\"ma-105\",\"^4\",[\"^ \",\"^5\",[\"^ \",\"^6\",\"ISUZU\"],\"^7\",[\"^ \",\"^6\",\"ISUZU\"],\"^8\",[\"^ \",\"^6\",\"ISUZU\"]]],[\"^ \",\"^0\",54558,\"^1\",1,\"^3\",\"ma-302\",\"^4\",[\"^ \",\"^5\",[\"^ \",\"^6\",\"INFINITI\"],\"^7\",[\"^ \",\"^6\",\"INFINITI\"],\"^8\",[\"^ \",\"^6\",\"INFINITI\"]]],[\"^ \",\"^0\",52512,\"^1\",1,\"^2\",\"LADA.jpg\",\"^3\",\"ma-119\",\"^4\",[\"^ \",\"^5\",[\"^ \",\"^6\",\"LADA\"],\"^7\",[\"^ \",\"^6\",\"LADA\"],\"^8\",[\"^ \",\"^6\",\"LADA\"]]],[\"^ \",\"^0\",52434,\"^1\",1,\"^2\",\"DAIHATSU.jpg\",\"^3\",\"ma-57\",\"^4\",[\"^ \",\"^5\",[\"^ \",\"^6\",\"DAIHATSU\"],\"^7\",[\"^ \",\"^6\",\"DAIHATSU\"],\"^8\",[\"^ \",\"^6\",\"DAIHATSU\"]]],[\"^ \",\"^0\",47485,\"^1\",1,\"^2\",\"MG.jpg\",\"^3\",\"ma-259\",\"^4\",[\"^ \",\"^5\",[\"^ \",\"^6\",\"MG\"],\"^7\",[\"^ \",\"^6\",\"MG\"],\"^8\",[\"^ \",\"^6\",\"MG\"]]],[\"^ \",\"^0\",41070,\"^1\",1,\"^2\",\"TALBOT.jpg\",\"^3\",\"ma-210\",\"^4\",[\"^ \",\"^5\",[\"^ \",\"^6\",\"TALBOT\"],\"^7\",[\"^ \",\"^6\",\"TALBOT\"],\"^8\",[\"^ \",\"^6\",\"TALBOT\"]]],[\"^ \",\"^0\",24639,\"^1\",1,\"^2\",\"ferrari.jpg\",\"^3\",\"ma-264\",\"^4\",[\"^ \",\"^5\",[\"^ \",\"^6\",\"FERRARI\"],\"^7\",[\"^ \",\"^6\",\"FERRARI\"],\"^8\",[\"^ \",\"^6\",\"FERRARI\"]]],[\"^ \",\"^0\",20516,\"^1\",1,\"^2\",\"ford usa.jpg\",\"^3\",\"ma-269\",\"^4\",[\"^ \",\"^5\",[\"^ \",\"^6\",\"FORD USA\"],\"^7\",[\"^ \",\"^6\",\"FORD USA\"],\"^8\",[\"^ \",\"^6\",\"FORD USA\"]]],[\"^ \",\"^0\",18415,\"^1\",1,\"^2\",\"maserati.jpg\",\"^3\",\"ma-267\",\"^4\",[\"^ \",\"^5\",[\"^ \",\"^6\",\"MASERATI\"],\"^7\",[\"^ \",\"^6\",\"MASERATI\"],\"^8\",[\"^ \",\"^6\",\"MASERATI\"]]],[\"^ \",\"^0\",14682,\"^1\",1,\"^3\",\"ma-260\",\"^4\",[\"^ \",\"^5\",[\"^ \",\"^6\",\"AUSTIN\"],\"^7\",[\"^ \",\"^6\",\"AUSTIN\"],\"^8\",[\"^ \",\"^6\",\"AUSTIN\"]]],[\"^ \",\"^0\",13283,\"^1\",1,\"^2\",\"lotus.jog\",\"^3\",\"ma-270\",\"^4\",[\"^ \",\"^5\",[\"^ \",\"^6\",\"LOTUS\"],\"^7\",[\"^ \",\"^6\",\"LOTUS\"],\"^8\",[\"^ \",\"^6\",\"LOTUS\"]]],[\"^ \",\"^0\",13036,\"^1\",1,\"^3\",\"ma-285\",\"^4\",[\"^ \",\"^5\",[\"^ \",\"^6\",\"EBRO\"],\"^7\",[\"^ \",\"^6\",\"EBRO\"],\"^8\",[\"^ \",\"^6\",\"EBRO\"]]],[\"^ \",\"^0\",12986,\"^1\",1,\"^2\",\"vauxhall.jpg\",\"^3\",\"ma-226\",\"^4\",[\"^ \",\"^5\",[\"^ \",\"^6\",\"VAUXHALL\"],\"^7\",[\"^ \",\"^6\",\"VAUXHALL\"],\"^8\",[\"^ \",\"^6\",\"VAUXHALL\"]]],[\"^ \",\"^0\",12189,\"^1\",1,\"^2\",\"triumph.jpg\",\"^3\",\"ma-263\",\"^4\",[\"^ \",\"^5\",[\"^ \",\"^6\",\"TRIUMPH\"],\"^7\",[\"^ \",\"^6\",\"TRIUMPH\"],\"^8\",[\"^ \",\"^6\",\"TRIUMPH\"]]],[\"^ \",\"^0\",10622,\"^1\",1,\"^2\",\"autobianchi.jpg\",\"^3\",\"ma-23\",\"^4\",[\"^ \",\"^5\",[\"^ \",\"^6\",\"AUTOBIANCHI\"],\"^7\",[\"^ \",\"^6\",\"AUTOBIANCHI\"],\"^8\",[\"^ \",\"^6\",\"AUTOBIANCHI\"]]],[\"^ \",\"^0\",8608,\"^1\",1,\"^3\",\"ma-292\",\"^4\",[\"^ \",\"^5\",[\"^ \",\"^6\",\"PIAGGIO\"],\"^7\",[\"^ \",\"^6\",\"PIAGGIO\"],\"^8\",[\"^ \",\"^6\",\"PIAGGIO\"]]],[\"^ \",\"^0\",8402,\"^1\",1,\"^2\",\"cadillac.jpg\",\"^3\",\"ma-257\",\"^4\",[\"^ \",\"^5\",[\"^ \",\"^6\",\"CADILLAC\"],\"^7\",[\"^ \",\"^6\",\"CADILLAC\"],\"^8\",[\"^ \",\"^6\",\"CADILLAC\"]]],[\"^ \",\"^0\",4671,\"^1\",1,\"^3\",\"ma-84\",\"^4\",[\"^ \",\"^5\",[\"^ \",\"^6\",\"GALLOPER\"],\"^7\",[\"^ \",\"^6\",\"GALLOPER\"],\"^8\",[\"^ \",\"^6\",\"GALLOPER\"]]],[\"^ \",\"^0\",4567,\"^1\",1,\"^3\",\"ma-398\",\"^4\",[\"^ \",\"^5\",[\"^ \",\"^6\",\"CUPRA\"],\"^7\",[\"^ \",\"^6\",\"CUPRA\"],\"^8\",[\"^ \",\"^6\",\"CUPRA\"]]],[\"^ \",\"^0\",4167,\"^1\",1,\"^2\",\"Bedford.jpg\",\"^3\",\"ma-25\",\"^4\",[\"^ \",\"^5\",[\"^ \",\"^6\",\"BEDFORD\"],\"^7\",[\"^ \",\"^6\",\"BEDFORD\"],\"^8\",[\"^ \",\"^6\",\"BEDFORD\"]]],[\"^ \",\"^0\",3702,\"^1\",1,\"^2\",\"alpine.jpg\",\"^3\",\"ma-271\",\"^4\",[\"^ \",\"^5\",[\"^ \",\"^6\",\"ALPINE\"],\"^7\",[\"^ \",\"^6\",\"ALPINE\"],\"^8\",[\"^ \",\"^6\",\"ALPINE\"]]],[\"^ \",\"^0\",3486,\"^1\",1,\"^3\",\"ma-280\",\"^4\",[\"^ \",\"^5\",[\"^ \",\"^6\",\"BENTLEY\"],\"^7\",[\"^ \",\"^6\",\"BENTLEY\"],\"^8\",[\"^ \",\"^6\",\"BENTLEY\"]]],[\"^ \",\"^0\",3252,\"^1\",1,\"^3\",\"ma-92\",\"^4\",[\"^ \",\"^5\",[\"^ \",\"^6\",\"G.M.E.\"],\"^7\",[\"^ \",\"^6\",\"G.M.E.\"],\"^8\",[\"^ \",\"^6\",\"G.M.E.\"]]],[\"^ \",\"^0\",3049,\"^1\",1,\"^2\",\"lamborghini.jpg\",\"^3\",\"ma-265\",\"^4\",[\"^ \",\"^5\",[\"^ \",\"^6\",\"LAMBORGHINI\"],\"^7\",[\"^ \",\"^6\",\"LAMBORGHINI\"],\"^8\",[\"^ \",\"^6\",\"LAMBORGHINI\"]]],[\"^ \",\"^0\",2822,\"^1\",1,\"^3\",\"ma-298\",\"^4\",[\"^ \",\"^5\",[\"^ \",\"^6\",\"U.M.M.\"],\"^7\",[\"^ \",\"^6\",\"U.M.M.\"],\"^8\",[\"^ \",\"^6\",\"U.M.M.\"]]],[\"^ \",\"^0\",2640,\"^1\",1,\"^3\",\"ma-335\",\"^4\",[\"^ \",\"^5\",[\"^ \",\"^6\",\"HUMMER\"],\"^7\",[\"^ \",\"^6\",\"HUMMER\"],\"^8\",[\"^ \",\"^6\",\"HUMMER\"]]],[\"^ \",\"^0\",2374,\"^1\",1,\"^3\",\"ma-294\",\"^4\",[\"^ \",\"^5\",[\"^ \",\"^6\",\"TATA\"],\"^7\",[\"^ \",\"^6\",\"TATA\"],\"^8\",[\"^ \",\"^6\",\"TATA\"]]],[\"^ \",\"^0\",2158,\"^1\",1,\"^2\",\"daf.jpg\",\"^3\",\"ma-56\",\"^4\",[\"^ \",\"^5\",[\"^ \",\"^6\",\"DAF\"],\"^7\",[\"^ \",\"^6\",\"DAF\"],\"^8\",[\"^ \",\"^6\",\"DAF\"]]],[\"^ \",\"^0\",2047,\"^1\",1,\"^2\",\"aston.jpg\",\"^3\",\"ma-273\",\"^4\",[\"^ \",\"^5\",[\"^ \",\"^6\",\"ASTON MARTIN\"],\"^7\",[\"^ \",\"^6\",\"ASTON MARTIN\"],\"^8\",[\"^ \",\"^6\",\"ASTON MARTIN\"]]],[\"^ \",\"^0\",2030,\"^1\",1,\"^2\",\"ligier.jpg\",\"^3\",\"ma-274\",\"^4\",[\"^ \",\"^5\",[\"^ \",\"^6\",\"LIGIER\"],\"^7\",[\"^ \",\"^6\",\"LIGIER\"],\"^8\",[\"^ \",\"^6\",\"LIGIER\"]]],[\"^ \",\"^0\",1986,\"^1\",1,\"^3\",\"ma-277\",\"^4\",[\"^ \",\"^5\",[\"^ \",\"^6\",\"ARO\"],\"^7\",[\"^ \",\"^6\",\"ARO\"],\"^8\",[\"^ \",\"^6\",\"ARO\"]]],[\"^ \",\"^0\",1842,\"^1\",1,\"^2\",\"pontiac.jpg\",\"^3\",\"ma-268\",\"^4\",[\"^ \",\"^5\",[\"^ \",\"^6\",\"PONTIAC\"],\"^7\",[\"^ \",\"^6\",\"PONTIAC\"],\"^8\",[\"^ \",\"^6\",\"PONTIAC\"]]],[\"^ \",\"^0\",1836,\"^1\",1,\"^2\",\"maruti.jpg\",\"^3\",\"ma-136\",\"^4\",[\"^ \",\"^5\",[\"^ \",\"^6\",\"MARUTI\"],\"^7\",[\"^ \",\"^6\",\"MARUTI\"],\"^8\",[\"^ \",\"^6\",\"MARUTI\"]]],[\"^ \",\"^0\",1758,\"^1\",1,\"^2\",\"deamler.jpg\",\"^3\",\"ma-261\",\"^4\",[\"^ \",\"^5\",[\"^ \",\"^6\",\"DAIMLER\"],\"^7\",[\"^ \",\"^6\",\"DAIMLER\"],\"^8\",[\"^ \",\"^6\",\"DAIMLER\"]]],[\"^ \",\"^0\",1513,\"^1\",1,\"^3\",\"ma-123\",\"^4\",[\"^ \",\"^5\",[\"^ \",\"^6\",\"LDV\"],\"^7\",[\"^ \",\"^6\",\"LDV\"],\"^8\",[\"^ \",\"^6\",\"LDV\"]]],[\"^ \",\"^0\",1510,\"^1\",1,\"^3\",\"ma-304\",\"^4\",[\"^ \",\"^5\",[\"^ \",\"^6\",\"BERTONE\"],\"^7\",[\"^ \",\"^6\",\"BERTONE\"],\"^8\",[\"^ \",\"^6\",\"BERTONE\"]]],[\"^ \",\"^0\",1279,\"^1\",1,\"^2\",\"INNOCENTI.jpg\",\"^3\",\"ma-103\",\"^4\",[\"^ \",\"^5\",[\"^ \",\"^6\",\"INNOCENTI\"],\"^7\",[\"^ \",\"^6\",\"INNOCENTI\"],\"^8\",[\"^ \",\"^6\",\"INNOCENTI\"]]],[\"^ \",\"^0\",1190,\"^1\",1,\"^3\",\"ma-289\",\"^4\",[\"^ \",\"^5\",[\"^ \",\"^6\",\"MORGAN\"],\"^7\",[\"^ \",\"^6\",\"MORGAN\"],\"^8\",[\"^ \",\"^6\",\"MORGAN\"]]],[\"^ \",\"^0\",1162,\"^1\",1,\"^3\",\"ma-272\",\"^4\",[\"^ \",\"^5\",[\"^ \",\"^6\",\"ALPINA\"],\"^7\",[\"^ \",\"^6\",\"ALPINA\"],\"^8\",[\"^ \",\"^6\",\"ALPINA\"]]],[\"^ \",\"^0\",1150,\"^1\",1,\"^3\",\"ma-288\",\"^4\",[\"^ \",\"^5\",[\"^ \",\"^6\",\"MAHINDRA\"],\"^7\",[\"^ \",\"^6\",\"MAHINDRA\"],\"^8\",[\"^ \",\"^6\",\"MAHINDRA\"]]],[\"^ \",\"^0\",977,\"^1\",1,\"^3\",\"ma-278\",\"^4\",[\"^ \",\"^5\",[\"^ \",\"^6\",\"ASIA\"],\"^7\",[\"^ \",\"^6\",\"ASIA\"],\"^8\",[\"^ \",\"^6\",\"ASIA\"]]],[\"^ \",\"^0\",738,\"^1\",1,\"^2\",\"rolls royce.jpg\",\"^3\",\"ma-266\",\"^4\",[\"^ \",\"^5\",[\"^ \",\"^6\",\"ROLLS-ROYCE\"],\"^7\",[\"^ \",\"^6\",\"ROLLS-ROYCE\"],\"^8\",[\"^ \",\"^6\",\"ROLLS-ROYCE\"]]],[\"^ \",\"^0\",563,\"^1\",1,\"^3\",\"ma-287\",\"^4\",[\"^ \",\"^5\",[\"^ \",\"^6\",\"LTI\"],\"^7\",[\"^ \",\"^6\",\"LTI\"],\"^8\",[\"^ \",\"^6\",\"LTI\"]]],[\"^ \",\"^0\",490,\"^1\",1,\"^3\",\"ma-308\",\"^4\",[\"^ \",\"^5\",[\"^ \",\"^6\",\"TATA PL\"],\"^7\",[\"^ \",\"^6\",\"TATA PL\"],\"^8\",[\"^ \",\"^6\",\"TATA PL\"]]],[\"^ \",\"^0\",464,\"^1\",1,\"^3\",\"ma-125\",\"^4\",[\"^ \",\"^5\",[\"^ \",\"^6\",\"LEYLAND\"],\"^7\",[\"^ \",\"^6\",\"LEYLAND\"],\"^8\",[\"^ \",\"^6\",\"LEYLAND\"]]],[\"^ \",\"^0\",352,\"^1\",1,\"^3\",\"ma-286\",\"^4\",[\"^ \",\"^5\",[\"^ \",\"^6\",\"F.S.O. / POLSKI\"],\"^7\",[\"^ \",\"^6\",\"F.S.O. / POLSKI\"],\"^8\",[\"^ \",\"^6\",\"F.S.O. / POLSKI\"]]],[\"^ \",\"^0\",325,\"^1\",1,\"^3\",\"ma-297\",\"^4\",[\"^ \",\"^5\",[\"^ \",\"^6\",\"TVR\"],\"^7\",[\"^ \",\"^6\",\"TVR\"],\"^8\",[\"^ \",\"^6\",\"TVR\"]]],[\"^ \",\"^0\",306,\"^1\",1,\"^2\",\"morris.jpg\",\"^3\",\"ma-262\",\"^4\",[\"^ \",\"^5\",[\"^ \",\"^6\",\"MORRIS\"],\"^7\",[\"^ \",\"^6\",\"MORRIS\"],\"^8\",[\"^ \",\"^6\",\"MORRIS\"]]],[\"^ \",\"^0\",270,\"^1\",1,\"^3\",\"ma-300\",\"^4\",[\"^ \",\"^5\",[\"^ \",\"^6\",\"YUGO/ZASTAVA\"],\"^7\",[\"^ \",\"^6\",\"YUGO/ZASTAVA\"],\"^8\",[\"^ \",\"^6\",\"YUGO/ZASTAVA\"]]],[\"^ \",\"^0\",248,\"^1\",1,\"^2\",\"proton.jpg\",\"^3\",\"ma-172\",\"^4\",[\"^ \",\"^5\",[\"^ \",\"^6\",\"PROTON\"],\"^7\",[\"^ \",\"^6\",\"PROTON\"],\"^8\",[\"^ \",\"^6\",\"PROTON\"]]],[\"^ \",\"^0\",166,\"^1\",1,\"^3\",\"ma-299\",\"^4\",[\"^ \",\"^5\",[\"^ \",\"^6\",\"WARTBURG\"],\"^7\",[\"^ \",\"^6\",\"WARTBURG\"],\"^8\",[\"^ \",\"^6\",\"WARTBURG\"]]],[\"^ \",\"^0\",144,\"^1\",1,\"^2\",\"maybach.jpg\",\"^3\",\"ma-255\",\"^4\",[\"^ \",\"^5\",[\"^ \",\"^6\",\"MAYBACH\"],\"^7\",[\"^ \",\"^6\",\"MAYBACH\"],\"^8\",[\"^ \",\"^6\",\"MAYBACH\"]]],[\"^ \",\"^0\",135,\"^1\",1,\"^3\",\"ma-283\",\"^4\",[\"^ \",\"^5\",[\"^ \",\"^6\",\"BUICK\"],\"^7\",[\"^ \",\"^6\",\"BUICK\"],\"^8\",[\"^ \",\"^6\",\"BUICK\"]]],[\"^ \",\"^0\",84,\"^1\",1,\"^3\",\"ma-293\",\"^4\",[\"^ \",\"^5\",[\"^ \",\"^6\",\"RELIANT\"],\"^7\",[\"^ \",\"^6\",\"RELIANT\"],\"^8\",[\"^ \",\"^6\",\"RELIANT\"]]],[\"^ \",\"^0\",36,\"^1\",1,\"^3\",\"ma-301\",\"^4\",[\"^ \",\"^5\",[\"^ \",\"^6\",\"ZAZ TAVRIA\"],\"^7\",[\"^ \",\"^6\",\"ZAZ TAVRIA\"],\"^8\",[\"^ \",\"^6\",\"ZAZ TAVRIA\"]]],[\"^ \",\"^0\",17,\"^1\",1,\"^3\",\"ma-397\",\"^4\",[\"^ \",\"^5\",[\"^ \",\"^6\",\"POLESTAR\"],\"^7\",[\"^ \",\"^6\",\"POLESTAR\"],\"^8\",[\"^ \",\"^6\",\"POLESTAR\"]]]]</script>\n",
       "<img alt=\"\" id=\"navigationProductsData\" src=\"data:image/png;base64,WyJ+IyciLG51bGxd\" style=\"display:none;\"/><img alt=\"\" id=\"productsData\" src=\"data:image/png;base64,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\" style=\"display:none;\"/><img alt=\"\" id=\"vehicleSearchData\" src=\"data:image/png;base64,WyJeICIsIn46cmVzdWx0cyIsW10sIn46ZXJyb3IiLG51bGwsIn46c2VhcmNoaW5nIixmYWxzZSwifjphY3RpdmUtdmVoaWNsZS1zZWxlY3RvciIsIn46cGxhdGUiXQ==\" style=\"display:none;\"/><img alt=\"\" id=\"seoData\" src=\"data:image/png;base64,WyJeICIsIn46YnJlYWRjcnVtYi1kZXNjcmlwdGlvbnMiLFsifiNsaXN0IixbW1siXiAiLCJ+OmNhdGVnb3J5IixbIl4gIiwifjpsZXZlbCIsMSwifjppbWFnZS1wYXRoIiwiL2ltZy9saXN0bmF2LzcwMjYxNS5qcGciLCJ+OmlkIiwiNzAyNjE1IiwifjpsYWJlbHMiLFsiXiAiLCJ+OmxhYmVsIixbIl4gIiwifjplcyIsIkZpbHRyb3MgeSBhY2VpdGUiXV0sIn46c2lnbmlmaWNhbnQtdmVoaWNsZSIsdHJ1ZV1dLFsiXiAiLCJeMiIsWyJeICIsIl4zIiwxLCJeNCIsIi9pbWcvbGlzdG5hdi83MDI2MTUuanBnIiwiXjUiLCI3MDI2MTUiLCJeNiIsWyJeICIsIl43IixbIl4gIiwiXjgiLCJGaWx0cm9zIHkgYWNlaXRlIl1dLCJeOSIsZmFsc2VdXV0sW1siXiAiLCJeMiIsWyJeICIsIl4zIiwyLCJeNSIsIjcwMjYxNyIsIl42IixbIl4gIiwiXjciLFsiXiAiLCJeOCIsIkZpbHRybyJdXSwiXjkiLHRydWVdXSxbIl4gIiwiXjIiLFsiXiAiLCJeMyIsMiwiXjUiLCI3MDI2MTciLCJeNiIsWyJeICIsIl43IixbIl4gIiwiXjgiLCJGaWx0cm8iXV0sIl45IixmYWxzZV1dXSxbWyJeICIsIl4yIixbIl4gIiwifjpzY29yZSIsNjE3MzI2LCJ+OmdlbmFydC1maXRtZW50LXR5cGUiLCJ0ZWNobmljYWwiLCJeMyIsMywiXjUiLCI3IiwifjpsZWFmIix0cnVlLCJeNiIsWyJeICIsIl43IixbIl4gIiwiXjgiLCJGaWx0cm8gZGUgYWNlaXRlIl1dLCJ+OmFuY2VzdG9ycyIsWyJeMSIsW1siXiAiLCJeMyIsMSwiXjQiLCIvaW1nL2xpc3RuYXYvNzAyNjE1LmpwZyIsIl41IiwiNzAyNjE1IiwiXjYiLFsiXiAiLCJeNyIsWyJeICIsIl44IiwiRmlsdHJvcyB5IGFjZWl0ZSJdXV0sWyJeICIsIl4zIiwyLCJeNSIsIjcwMjYxNyIsIl42IixbIl4gIiwiXjciLFsiXiAiLCJeOCIsIkZpbHRybyJdXV1dXSwiXjkiLHRydWVdXSxbIl4gIiwiXjIiLFsiXiAiLCJeOiIsNjE3MzI2LCJeOyIsInRlY2huaWNhbCIsIl4zIiwzLCJeNSIsIjciLCJePCIsdHJ1ZSwiXjYiLFsiXiAiLCJeNyIsWyJeICIsIl44IiwiRmlsdHJvIGRlIGFjZWl0ZSJdXSwiXj0iLFsiXjEiLFtbIl4gIiwiXjMiLDEsIl40IiwiL2ltZy9saXN0bmF2LzcwMjYxNS5qcGciLCJeNSIsIjcwMjYxNSIsIl42IixbIl4gIiwiXjciLFsiXiAiLCJeOCIsIkZpbHRyb3MgeSBhY2VpdGUiXV1dLFsiXiAiLCJeMyIsMiwiXjUiLCI3MDI2MTciLCJeNiIsWyJeICIsIl43IixbIl4gIiwiXjgiLCJGaWx0cm8iXV1dXV0sIl45IixmYWxzZV1dXV1dLCJ+Om5hdmlnYXRpb24tYnJlYWRjcnVtYiIsWyJeMSIsW1siXiAiLCJeNyIsIkZpbHRyb3MgeSBhY2VpdGUiLCJeMiIsWyJeICIsIl41IiwiNzAyNjE1Il1dLFsiXiAiLCJeNyIsIkZpbHRybyIsIl4yIixbIl4gIiwiXjUiLCI3MDI2MTciXV0sWyJeICIsIl43IiwiRmlsdHJvIGRlIGFjZWl0ZSIsIl4yIixbIl4gIiwiXjUiLCI3Il1dXV0sIn46bm8taW5kZXgiLGZhbHNlXQ==\" style=\"display:none;\"/>\n",
       "<script src=\"https://polyfill.io/v3/polyfill.min.js?features=default%2CElement.prototype.classList%2CMap%2CSet%2CrequestAnimationFrame%2CPromise%2CElement.prototype.closest%2CURLSearchParams\" type=\"application/javascript\"></script>\n",
       "<script src=\"https://oscaro.media/yd/5.7.27/js/main.js\" type=\"text/javascript\"></script>\n",
       "<script type=\"application/javascript\">yoda.core.init()</script>\n",
       "<img alt=\"Yoda pixel\" class=\"hidden\" height=\"1\" src=\"https://wte.oscaro.es/img/yoda.gif?utm_campaign=loading-ping-yoda&amp;utm_content=g\" width=\"1\"/>\n",
       "</body>\n",
       "</html>"
      ]
     },
     "execution_count": 46,
     "metadata": {},
     "output_type": "execute_result"
    }
   ],
   "source": [
    "soup"
   ]
  },
  {
   "cell_type": "code",
   "execution_count": 47,
   "metadata": {},
   "outputs": [
    {
     "data": {
      "text/plain": [
       "[<span class=\"price\"> 11,90 â¬ </span>]"
      ]
     },
     "execution_count": 47,
     "metadata": {},
     "output_type": "execute_result"
    }
   ],
   "source": [
    "#Seleccionamos selector CSS de interés dentro del objeto soup\n",
    "soup.select(\"#navigationProducts > div > article:nth-child(1) > p > span\")"
   ]
  },
  {
   "cell_type": "code",
   "execution_count": 48,
   "metadata": {},
   "outputs": [],
   "source": [
    "#Definimos el elemento y nos quedamos con el texto\n",
    "elem1 = soup.select(\"#navigationProducts > div > article:nth-child(1) > p > span\")"
   ]
  },
  {
   "cell_type": "code",
   "execution_count": 49,
   "metadata": {},
   "outputs": [
    {
     "data": {
      "text/plain": [
       "'11,90 â\\x82¬'"
      ]
     },
     "execution_count": 49,
     "metadata": {},
     "output_type": "execute_result"
    }
   ],
   "source": [
    "elem1[0].text.strip() #strip() quita retorno y saltos de línea"
   ]
  },
  {
   "cell_type": "code",
   "execution_count": 50,
   "metadata": {},
   "outputs": [],
   "source": [
    "precio_1 = elem1[0].text.strip().replace(' â\\x82¬','').replace(\",\",\".\")"
   ]
  },
  {
   "cell_type": "code",
   "execution_count": 51,
   "metadata": {},
   "outputs": [
    {
     "data": {
      "text/plain": [
       "'11.90'"
      ]
     },
     "execution_count": 51,
     "metadata": {},
     "output_type": "execute_result"
    }
   ],
   "source": [
    "precio_1"
   ]
  },
  {
   "cell_type": "code",
   "execution_count": 52,
   "metadata": {},
   "outputs": [],
   "source": [
    "#Cogemos elemento 2 y 3\n",
    "elem2 = soup.select(\"#navigationProducts > div > article:nth-child(2) > p > span\")\n",
    "elem3 = soup.select(\"#navigationProducts > div > article:nth-child(3) > p > span\")\n",
    "precio_2 = elem2[0].text.strip().replace(' â\\x82¬','').replace(\",\",\".\")\n",
    "precio_3 = elem3[0].text.strip().replace(' â\\x82¬','').replace(\",\",\".\")"
   ]
  },
  {
   "cell_type": "code",
   "execution_count": 53,
   "metadata": {},
   "outputs": [],
   "source": [
    "import numpy as np"
   ]
  },
  {
   "cell_type": "code",
   "execution_count": 54,
   "metadata": {},
   "outputs": [],
   "source": [
    "array_precios = np.array([float(precio_1), float(precio_2), float(precio_3)])"
   ]
  },
  {
   "cell_type": "code",
   "execution_count": 55,
   "metadata": {},
   "outputs": [],
   "source": [
    "precio_promedio = np.mean(array_precios)"
   ]
  },
  {
   "cell_type": "code",
   "execution_count": 56,
   "metadata": {},
   "outputs": [
    {
     "data": {
      "text/plain": [
       "12.166666666666666"
      ]
     },
     "execution_count": 56,
     "metadata": {},
     "output_type": "execute_result"
    }
   ],
   "source": [
    "precio_promedio"
   ]
  },
  {
   "cell_type": "markdown",
   "metadata": {},
   "source": [
    "# 6. Automatización lectura emails"
   ]
  },
  {
   "cell_type": "code",
   "execution_count": 145,
   "metadata": {},
   "outputs": [],
   "source": [
    "import imapclient #--> pip install imapclient"
   ]
  },
  {
   "cell_type": "markdown",
   "metadata": {},
   "source": [
    "## 6.1 Conexión y descarga email bruto "
   ]
  },
  {
   "cell_type": "code",
   "execution_count": 146,
   "metadata": {},
   "outputs": [],
   "source": [
    "con = imapclient.IMAPClient(\"imap.gmail.com\", ssl=True)"
   ]
  },
  {
   "cell_type": "code",
   "execution_count": 147,
   "metadata": {},
   "outputs": [
    {
     "data": {
      "text/plain": [
       "b'cursoipaipd@gmail.com authenticated (Success)'"
      ]
     },
     "execution_count": 147,
     "metadata": {},
     "output_type": "execute_result"
    }
   ],
   "source": [
    "con.login(\"cursoipaipd@gmail.com\",\"hcuhorfnrcvnazsw\") #Insertar contraseña de aplicaciones"
   ]
  },
  {
   "cell_type": "code",
   "execution_count": 148,
   "metadata": {},
   "outputs": [
    {
     "data": {
      "text/plain": [
       "{b'PERMANENTFLAGS': (b'\\\\Answered',\n",
       "  b'\\\\Flagged',\n",
       "  b'\\\\Draft',\n",
       "  b'\\\\Deleted',\n",
       "  b'\\\\Seen',\n",
       "  b'$NotPhishing',\n",
       "  b'$Phishing',\n",
       "  b'\\\\*'),\n",
       " b'FLAGS': (b'\\\\Answered',\n",
       "  b'\\\\Flagged',\n",
       "  b'\\\\Draft',\n",
       "  b'\\\\Deleted',\n",
       "  b'\\\\Seen',\n",
       "  b'$NotPhishing',\n",
       "  b'$Phishing'),\n",
       " b'UIDVALIDITY': 1,\n",
       " b'EXISTS': 6,\n",
       " b'RECENT': 0,\n",
       " b'UIDNEXT': 14,\n",
       " b'HIGHESTMODSEQ': 2867,\n",
       " b'READ-WRITE': True}"
      ]
     },
     "execution_count": 148,
     "metadata": {},
     "output_type": "execute_result"
    }
   ],
   "source": [
    "con.select_folder(\"INBOX\") #Habitualmente es \"INBOX\" el nombre de la bandeja genérica de entrada"
   ]
  },
  {
   "cell_type": "code",
   "execution_count": 149,
   "metadata": {},
   "outputs": [],
   "source": [
    "#Filtrar por asunto contiene una palabra\n",
    "UIDs_asunto = con.search(\"SUBJECT Solicitud\")"
   ]
  },
  {
   "cell_type": "code",
   "execution_count": 150,
   "metadata": {},
   "outputs": [
    {
     "data": {
      "text/plain": [
       "[4, 5, 13]"
      ]
     },
     "execution_count": 150,
     "metadata": {},
     "output_type": "execute_result"
    }
   ],
   "source": [
    "UIDs_asunto"
   ]
  },
  {
   "cell_type": "code",
   "execution_count": 151,
   "metadata": {},
   "outputs": [],
   "source": [
    "#Coger un email en base a su ID\n",
    "mail_bruto = con.fetch([4], [\"BODY[]\",\"FLAGS\"])"
   ]
  },
  {
   "cell_type": "code",
   "execution_count": 152,
   "metadata": {},
   "outputs": [
    {
     "data": {
      "text/plain": [
       "defaultdict(dict,\n",
       "            {4: {b'SEQ': 1,\n",
       "              b'FLAGS': (b'\\\\Seen',),\n",
       "              b'BODY[]': b'Delivered-To: cursoipaipd@gmail.com\\r\\nReceived: by 2002:a05:6a20:1e4d:b0:84:d40:84a7 with SMTP id cy13csp3831059pzb;\\r\\n        Tue, 21 Jun 2022 07:31:43 -0700 (PDT)\\r\\nX-Received: by 2002:a05:6a00:84b:b0:51c:21e3:b542 with SMTP id q11-20020a056a00084b00b0051c21e3b542mr30328870pfk.31.1655821903316;\\r\\n        Tue, 21 Jun 2022 07:31:43 -0700 (PDT)\\r\\nARC-Seal: i=1; a=rsa-sha256; t=1655821903; cv=none;\\r\\n        d=google.com; s=arc-20160816;\\r\\n        b=D9J8a5/W57iiPa9ktPQTNXER3//xdJxkbV03sIZ4Sf+R2Bz913wA3KZbae45n/s/6P\\r\\n         qGTdo60HugMFoJD0uix/dyA+O1U5R+nc4eU35umYKbqHqxPpoJao4IP6If63FPQtlQg9\\r\\n         ej61Y2Y61XKlua1Dw2MsLUWgrBkU5nivxDxt6e75aEvQ0o/w+gnDjdjkrevyBCQg/wf2\\r\\n         R1ZExbhXMhiapCORgnIxhZKpxR2f6TANl8afFxamE4+xnPhAimQrBJM6UO5Ms58G0Tg1\\r\\n         yL2ZO9p5dqnk8Vk+BQSiacVmEwVOnsN2wwpqphozasg3gyMaZsd9xOYc+WO4jsd6FK+S\\r\\n         REmw==\\r\\nARC-Message-Signature: i=1; a=rsa-sha256; c=relaxed/relaxed; d=google.com; s=arc-20160816;\\r\\n        h=to:subject:message-id:date:from:mime-version:dkim-signature;\\r\\n        bh=xL9o2y+1wiRlPsnLiC6Wz6OP37hRksxDrIIe+aCP1Ls=;\\r\\n        b=sBArmAqFnjEqVQjLcmMCvijkDgAJBjssVpzLRLBDfI977TRy/Z1MQxO/RUhOxjSmET\\r\\n         MA02k90r9qBLXGvvFZot2KuI2O5oEzkYvL1Pp0ziAW4G0wst75lCc/P6KyMxZ04JP5Rv\\r\\n         hFfvUFPPGatvVzNJhDdngjHGSkhB2veWVWuJbOlNR2uc759znd1yS9pvE+6bvBaaLUFp\\r\\n         aaGO6KAeLbJuKhRRh/wzMYm23DwDNA8iXdvlxj+k1U/qQhCjDlmKvsOTeUVEvQ9KOR7e\\r\\n         GQMEIOeqlq/3fOjOZ2tJy6UzNAtabbrQ4bZ/xRhRWaBGwWI3mNeKB6Ka06yZj0Jb2u1k\\r\\n         fo0g==\\r\\nARC-Authentication-Results: i=1; mx.google.com;\\r\\n       dkim=pass header.i=@gmail.com header.s=20210112 header.b=CFuegXMe;\\r\\n       spf=pass (google.com: domain of ivanlosar@gmail.com designates 209.85.220.41 as permitted sender) smtp.mailfrom=ivanlosar@gmail.com;\\r\\n       dmarc=pass (p=NONE sp=QUARANTINE dis=NONE) header.from=gmail.com\\r\\nReturn-Path: <ivanlosar@gmail.com>\\r\\nReceived: from mail-sor-f41.google.com (mail-sor-f41.google.com. [209.85.220.41])\\r\\n        by mx.google.com with SMTPS id e2-20020a636902000000b0040c74303958sor3925046pgc.57.2022.06.21.07.31.43\\r\\n        for <cursoipaipd@gmail.com>\\r\\n        (Google Transport Security);\\r\\n        Tue, 21 Jun 2022 07:31:43 -0700 (PDT)\\r\\nReceived-SPF: pass (google.com: domain of ivanlosar@gmail.com designates 209.85.220.41 as permitted sender) client-ip=209.85.220.41;\\r\\nAuthentication-Results: mx.google.com;\\r\\n       dkim=pass header.i=@gmail.com header.s=20210112 header.b=CFuegXMe;\\r\\n       spf=pass (google.com: domain of ivanlosar@gmail.com designates 209.85.220.41 as permitted sender) smtp.mailfrom=ivanlosar@gmail.com;\\r\\n       dmarc=pass (p=NONE sp=QUARANTINE dis=NONE) header.from=gmail.com\\r\\nDKIM-Signature: v=1; a=rsa-sha256; c=relaxed/relaxed;\\r\\n        d=gmail.com; s=20210112;\\r\\n        h=mime-version:from:date:message-id:subject:to;\\r\\n        bh=xL9o2y+1wiRlPsnLiC6Wz6OP37hRksxDrIIe+aCP1Ls=;\\r\\n        b=CFuegXMeoW5Qu6jYXn4PhNnu6F5zAc+xbpXNeM84ZfuwPwAh8penOrtQQ2m9ix5OFD\\r\\n         hP5waGgLNzzoOE/IUdZw51kCBq/BTuMX9zzClHqw5OYt9NG1WZ7VktKFa8SMPNFDB2aI\\r\\n         ynTIBYrVcfxQ30lZzlTNDaQCYmrfFRl82JykbKDmrsuHPwAMHRGDgUQyOZlruCTzP0GI\\r\\n         WUKgvGC7g88prOsCM31gIaX63hcMxPbjUbELrVik9XYEgUXGRhAtPqK0kBP0l6mnz2zt\\r\\n         kI/8z3W8xBp7kRwM9BmRV2sxb2mc6hVfVy3omgR0PbulHdpVnEOKc4K+L1YXRm1gHqZ0\\r\\n         J0nA==\\r\\nX-Google-DKIM-Signature: v=1; a=rsa-sha256; c=relaxed/relaxed;\\r\\n        d=1e100.net; s=20210112;\\r\\n        h=x-gm-message-state:mime-version:from:date:message-id:subject:to;\\r\\n        bh=xL9o2y+1wiRlPsnLiC6Wz6OP37hRksxDrIIe+aCP1Ls=;\\r\\n        b=h8AXHHigGPjmbRG0wKelv6wZNpSP4JV8jXZBHsSYzyt1XfyOorSyFwZXdLwepR3Uqv\\r\\n         lmekZueemC33JO16YR6VnYZBjBP8lZSFHGfmuPbBhd6PzMbQoq/AvPSPn9EHQjy0HMFH\\r\\n         vWMy8X32kq5rNXz5d3+e9vYWqqDl3ng4lFI0siMEA23M7cLz0JgXyCJ8tZHcAR4wsZFj\\r\\n         clFtE1KdwoRYq1duRxHhB6vdJAwnyr//+lO3Cy2kZoQX6s2uENHkQt0/UHJ4c4Y6FIoX\\r\\n         Vy45I2YehBYpnFvM0/q1DsevBoIz4HB4+Luiik9eTZpu6dAQEKK8hUjXzHzaydvImJOi\\r\\n         /j+A==\\r\\nX-Gm-Message-State: AJIora/VaNjeP6bGaHm3H65H/RdpWOBFcOy1pxjvU/cJtNSaE5PZtB8U\\r\\n\\tGZsAlyIdh96p70yV8uqcLu54w3mVQrM2Rrlx48nZNUJ40TW0dg==\\r\\nX-Google-Smtp-Source: AGRyM1snR1PimzIPSJQZk1rnwwUf5nZI9YtuA9a8K06g7ovMmALLA7q2pnKRsBcfdarICc+BmtzaZCc0X6qCg3npAM0=\\r\\nX-Received: by 2002:a63:5522:0:b0:405:1ff7:33dd with SMTP id\\r\\n j34-20020a635522000000b004051ff733ddmr26782619pgb.86.1655821902710; Tue, 21\\r\\n Jun 2022 07:31:42 -0700 (PDT)\\r\\nMIME-Version: 1.0\\r\\nFrom: =?UTF-8?Q?Iv=C3=A1n_Pinar_Dom=C3=ADnguez?= <ivanlosar@gmail.com>\\r\\nDate: Tue, 21 Jun 2022 16:31:31 +0200\\r\\nMessage-ID: <CAPEF0gWfGzKbHqhPU88hARWL2mFWd=TouQ6aHS5PyUE0=tyGyg@mail.gmail.com>\\r\\nSubject: Solicitud precio Limpiaparabrisas\\r\\nTo: =?UTF-8?Q?Iv=C3=A1n_Pinar?= <cursoipaipd@gmail.com>\\r\\nContent-Type: multipart/alternative; boundary=\"000000000000528be105e1f614ef\"\\r\\n\\r\\n--000000000000528be105e1f614ef\\r\\nContent-Type: text/plain; charset=\"UTF-8\"\\r\\nContent-Transfer-Encoding: quoted-printable\\r\\n\\r\\nHola,\\r\\n\\r\\nSolicito el precio promedio actual para los limpiaparabrisas y as=C3=AD\\r\\nestablecer un precio =C3=B3ptimo.\\r\\n\\r\\nGracias\\r\\n\\r\\nUn saludo\\r\\n\\r\\n--000000000000528be105e1f614ef\\r\\nContent-Type: text/html; charset=\"UTF-8\"\\r\\nContent-Transfer-Encoding: quoted-printable\\r\\n\\r\\n<div dir=3D\"ltr\">Hola,<div><br></div><div>Solicito el precio promedio actua=\\r\\nl para los limpiaparabrisas y as=C3=AD establecer un precio =C3=B3ptimo.</d=\\r\\niv><div><br></div><div>Gracias</div><div><br></div><div>Un saludo</div></di=\\r\\nv>\\r\\n\\r\\n--000000000000528be105e1f614ef--\\r\\n'}})"
      ]
     },
     "execution_count": 152,
     "metadata": {},
     "output_type": "execute_result"
    }
   ],
   "source": [
    "mail_bruto"
   ]
  },
  {
   "cell_type": "markdown",
   "metadata": {},
   "source": [
    "## 6.2 Parsear email"
   ]
  },
  {
   "cell_type": "code",
   "execution_count": 153,
   "metadata": {},
   "outputs": [],
   "source": [
    "info_mail_bruto = mail_bruto[4][b'BODY[]'].decode(\"utf-8\") #.decode(\"utf-8\")  para pasar bytes a string"
   ]
  },
  {
   "cell_type": "code",
   "execution_count": 154,
   "metadata": {},
   "outputs": [
    {
     "data": {
      "text/plain": [
       "1708"
      ]
     },
     "execution_count": 154,
     "metadata": {},
     "output_type": "execute_result"
    }
   ],
   "source": [
    "#Obtener remitente (campo from)\n",
    "info_mail_bruto.find(\"smtp.mailfrom=\")"
   ]
  },
  {
   "cell_type": "code",
   "execution_count": 155,
   "metadata": {},
   "outputs": [
    {
     "data": {
      "text/plain": [
       "'smtp.mailfrom=ivanlosar@gmail.com;\\r\\n       dmarc=pass (p=NONE sp=QUARANTINE dis=NONE) header.from=gm'"
      ]
     },
     "execution_count": 155,
     "metadata": {},
     "output_type": "execute_result"
    }
   ],
   "source": [
    "info_mail_bruto[info_mail_bruto.find(\"smtp.mailfrom=\"):info_mail_bruto.find(\"smtp.mailfrom=\")+100]"
   ]
  },
  {
   "cell_type": "code",
   "execution_count": 156,
   "metadata": {},
   "outputs": [],
   "source": [
    "cad_bruta_from = info_mail_bruto[info_mail_bruto.find(\"smtp.mailfrom=\"):info_mail_bruto.find(\"smtp.mailfrom=\")+100]"
   ]
  },
  {
   "cell_type": "code",
   "execution_count": 157,
   "metadata": {},
   "outputs": [],
   "source": [
    "info_mail_from = cad_bruta_from[len(\"smtp.mailfrom=\"):cad_bruta_from.find(\";\")]"
   ]
  },
  {
   "cell_type": "code",
   "execution_count": 158,
   "metadata": {},
   "outputs": [
    {
     "data": {
      "text/plain": [
       "'ivanlosar@gmail.com'"
      ]
     },
     "execution_count": 158,
     "metadata": {},
     "output_type": "execute_result"
    }
   ],
   "source": [
    "info_mail_from"
   ]
  },
  {
   "cell_type": "code",
   "execution_count": 159,
   "metadata": {},
   "outputs": [],
   "source": [
    "#Obtener asunto (campo subject)\n",
    "cad_bruta_subject = info_mail_bruto[info_mail_bruto.find(\"Subject: \"):info_mail_bruto.find(\"Subject: \")+300]\n",
    "info_mail_subject = cad_bruta_subject[len(\"Subject: \"):cad_bruta_subject.find(\"\\r\\n\")]"
   ]
  },
  {
   "cell_type": "code",
   "execution_count": 160,
   "metadata": {},
   "outputs": [
    {
     "data": {
      "text/plain": [
       "'Solicitud precio Limpiaparabrisas'"
      ]
     },
     "execution_count": 160,
     "metadata": {},
     "output_type": "execute_result"
    }
   ],
   "source": [
    "info_mail_subject"
   ]
  },
  {
   "cell_type": "code",
   "execution_count": 161,
   "metadata": {},
   "outputs": [],
   "source": [
    "#### Bucle para recorrer todos los emails con el asunto objetivo\n",
    "remitentes=[]\n",
    "asuntos=[]\n",
    "for email_ID in UIDs_asunto:\n",
    "    mail_bruto = con.fetch([email_ID], [\"BODY[]\",\"FLAGS\"])\n",
    "    info_mail_bruto = mail_bruto[email_ID][b'BODY[]'].decode(\"utf-8\")\n",
    "    #Coger remitente\n",
    "    cad_bruta_from = info_mail_bruto[info_mail_bruto.find(\"smtp.mailfrom=\"):info_mail_bruto.find(\"smtp.mailfrom=\")+100]\n",
    "    info_mail_from = cad_bruta_from[len(\"smtp.mailfrom=\"):cad_bruta_from.find(\";\")]\n",
    "    remitentes.append(info_mail_from)\n",
    "    #Coger asunto\n",
    "    cad_bruta_subject = info_mail_bruto[info_mail_bruto.find(\"Subject: \"):info_mail_bruto.find(\"Subject: \")+300]\n",
    "    info_mail_subject = cad_bruta_subject[len(\"Subject: \"):cad_bruta_subject.find(\"\\r\\n\")]\n",
    "    asuntos.append(info_mail_subject)    "
   ]
  },
  {
   "cell_type": "code",
   "execution_count": 162,
   "metadata": {},
   "outputs": [
    {
     "data": {
      "text/plain": [
       "['ivanlosar@gmail.com',\n",
       " 'ivanlosar@gmail.com',\n",
       " 'analisis.al.cuadrado.ipd@gmail.com']"
      ]
     },
     "execution_count": 162,
     "metadata": {},
     "output_type": "execute_result"
    }
   ],
   "source": [
    "remitentes"
   ]
  },
  {
   "cell_type": "code",
   "execution_count": 163,
   "metadata": {},
   "outputs": [
    {
     "data": {
      "text/plain": [
       "['Solicitud precio Limpiaparabrisas',\n",
       " 'Solicitud precio Filtro de aceite',\n",
       " 'Solicitud precio Limpiaparabrisas']"
      ]
     },
     "execution_count": 163,
     "metadata": {},
     "output_type": "execute_result"
    }
   ],
   "source": [
    "asuntos"
   ]
  },
  {
   "cell_type": "markdown",
   "metadata": {},
   "source": [
    "## 6.3 Analizar solicitud y obtener resultado "
   ]
  },
  {
   "cell_type": "code",
   "execution_count": 164,
   "metadata": {},
   "outputs": [],
   "source": [
    "from selenium import webdriver\n",
    "from selenium.webdriver.firefox.service import Service\n",
    "from selenium.webdriver.common.by import By\n",
    "import bs4\n",
    "import requests\n",
    "import lxml\n",
    "import json\n",
    "import numpy as np\n",
    "import time\n"
   ]
  },
  {
   "cell_type": "code",
   "execution_count": 165,
   "metadata": {},
   "outputs": [],
   "source": [
    "ser = Service(\".\\geckodriver-v0.31.0-win64\\geckodriver.exe\") # Si queremos usar Firefox: Instalar geckodriver --> https://github.com/mozilla/geckodriver/releases/tag/v0.31.0"
   ]
  },
  {
   "cell_type": "code",
   "execution_count": 166,
   "metadata": {},
   "outputs": [],
   "source": [
    "driver = webdriver.Firefox(service=ser)"
   ]
  },
  {
   "cell_type": "code",
   "execution_count": 167,
   "metadata": {},
   "outputs": [],
   "source": [
    "#Conveniente definir el elemento headers a la hora de leer desde la web para que el navegador piense que somos un humano\n",
    "headers = {\n",
    "    \"User-Agent\":\n",
    "    \"Mozilla/5.0 (Windows NT 10.0; Win64; x64) AppleWebKit/537.36 (KHTML, like Gecko) Chrome/70.0.3538.102 Safari/537.36 Edge/18.19582\"\n",
    "}"
   ]
  },
  {
   "cell_type": "code",
   "execution_count": 168,
   "metadata": {},
   "outputs": [
    {
     "name": "stdout",
     "output_type": "stream",
     "text": [
      "Iteración 0\n",
      "Iteración 1\n",
      "Iteración 2\n"
     ]
    }
   ],
   "source": [
    "precio_promedio_analisis=[]\n",
    "contador=0\n",
    "\n",
    "for num_solicitud in range(len(remitentes)):\n",
    "    print(\"Iteración \"+str(num_solicitud))\n",
    "    producto = asuntos[num_solicitud][17:] #Quitamos la cadena inicial del asunto \"Solicitud precio \"\n",
    "    driver.get(\"https://www.oscaro.es/\")\n",
    "    time.sleep(1) # Esperar 1 segundos para asegurar que sale el banner de las cookies\n",
    "    if contador == 0: #Solo quitar el banner de las cookies en la primera iteración del bucle\n",
    "        elem_cookie = driver.find_element(By.CSS_SELECTOR, 'button.btn-secondary:nth-child(3)')\n",
    "        elem_cookie.click()\n",
    "    elem_busqueda = driver.find_element(By.CSS_SELECTOR, '#search-input-header')\n",
    "    elem_busqueda.send_keys(producto)\n",
    "    elem_busqueda.submit()\n",
    "    #Creamos objeto BeautifulSoup cogiendo la URL activa\n",
    "    time.sleep(3) # Esperar 3 segundos para asegurar que ha cargado\n",
    "    URL = driver.current_url\n",
    "    res = requests.get(URL,headers=headers)\n",
    "    soup = bs4.BeautifulSoup(res.text, 'lxml')\n",
    "    elem1 = soup.select(\"#navigationProducts > div > article:nth-child(1) > p > span\")\n",
    "    elem2 = soup.select(\"#navigationProducts > div > article:nth-child(2) > p > span\")\n",
    "    elem3 = soup.select(\"#navigationProducts > div > article:nth-child(3) > p > span\")\n",
    "    precio_1 = elem1[0].text.strip().replace(' â\\x82¬','').replace(\",\",\".\")\n",
    "    precio_2 = elem2[0].text.strip().replace(' â\\x82¬','').replace(\",\",\".\")\n",
    "    precio_3 = elem3[0].text.strip().replace(' â\\x82¬','').replace(\",\",\".\")\n",
    "    array_precios = np.array([float(precio_1), float(precio_2), float(precio_3)])\n",
    "    precio_promedio = np.mean(array_precios)\n",
    "    precio_promedio_analisis.append(precio_promedio)\n",
    "    contador=1\n",
    "    "
   ]
  },
  {
   "cell_type": "code",
   "execution_count": 169,
   "metadata": {},
   "outputs": [
    {
     "data": {
      "text/plain": [
       "[22.600000000000005, 12.166666666666666, 22.600000000000005]"
      ]
     },
     "execution_count": 169,
     "metadata": {},
     "output_type": "execute_result"
    }
   ],
   "source": [
    "precio_promedio_analisis"
   ]
  },
  {
   "cell_type": "markdown",
   "metadata": {},
   "source": [
    "# 7. Automatización envío emails"
   ]
  },
  {
   "cell_type": "code",
   "execution_count": 170,
   "metadata": {},
   "outputs": [],
   "source": [
    "import smtplib"
   ]
  },
  {
   "cell_type": "code",
   "execution_count": 171,
   "metadata": {},
   "outputs": [],
   "source": [
    "con = smtplib.SMTP('smtp.gmail.com',587)"
   ]
  },
  {
   "cell_type": "code",
   "execution_count": 172,
   "metadata": {},
   "outputs": [
    {
     "data": {
      "text/plain": [
       "(250,\n",
       " b'smtp.gmail.com at your service, [188.26.218.90]\\nSIZE 35882577\\n8BITMIME\\nSTARTTLS\\nENHANCEDSTATUSCODES\\nPIPELINING\\nCHUNKING\\nSMTPUTF8')"
      ]
     },
     "execution_count": 172,
     "metadata": {},
     "output_type": "execute_result"
    }
   ],
   "source": [
    "con.ehlo() #Iniciar la conexión"
   ]
  },
  {
   "cell_type": "code",
   "execution_count": 173,
   "metadata": {},
   "outputs": [
    {
     "data": {
      "text/plain": [
       "(220, b'2.0.0 Ready to start TLS')"
      ]
     },
     "execution_count": 173,
     "metadata": {},
     "output_type": "execute_result"
    }
   ],
   "source": [
    "con.starttls() #conexión encriptada"
   ]
  },
  {
   "cell_type": "code",
   "execution_count": 174,
   "metadata": {},
   "outputs": [
    {
     "data": {
      "text/plain": [
       "(235, b'2.7.0 Accepted')"
      ]
     },
     "execution_count": 174,
     "metadata": {},
     "output_type": "execute_result"
    }
   ],
   "source": [
    "con.login(\"cursoipaipd@gmail.com\",\"hcuhorfnrcvnazsw\") #Insertar contraseña de aplicaciones"
   ]
  },
  {
   "cell_type": "code",
   "execution_count": 175,
   "metadata": {},
   "outputs": [],
   "source": [
    "#Contestar a cada solicitud por email\n",
    "for rem in range(len(remitentes)):\n",
    "    producto = asuntos[rem][17:] #Quitamos la cadena inicial del asunto \"Solicitud precio \"\n",
    "    con.sendmail(\"cursoipaipd@gmail.com\",remitentes[rem],\"Subject: Respuesta solicitud \\n\\n Hola, el precio promedio del producto \"+producto+\" es de \"+str(precio_promedio_analisis[rem])) # from / to / body, en el body el caracter \\n\\n finaliza el asunto para empezar el cuerpo"
   ]
  },
  {
   "cell_type": "code",
   "execution_count": 176,
   "metadata": {},
   "outputs": [
    {
     "data": {
      "text/plain": [
       "(221,\n",
       " b'2.0.0 closing connection w5-20020a5d6805000000b0021ea1bcc300sm11534999wru.56 - gsmtp')"
      ]
     },
     "execution_count": 176,
     "metadata": {},
     "output_type": "execute_result"
    }
   ],
   "source": [
    "con.quit() #Cerrar conexión"
   ]
  },
  {
   "cell_type": "markdown",
   "metadata": {},
   "source": [
    "# 8. Aplicación Inteligencia Artificial - Recomendaciones de productos (Reglas Asociación)"
   ]
  },
  {
   "cell_type": "code",
   "execution_count": 3,
   "metadata": {},
   "outputs": [],
   "source": [
    "from sklearn.linear_model import LinearRegression\n",
    "from sklearn.metrics import mean_squared_error\n",
    "from sklearn.model_selection import train_test_split\n",
    "import pandas as pd\n",
    "from sklearn.model_selection import cross_val_score\n",
    "import numpy as np"
   ]
  },
  {
   "cell_type": "markdown",
   "metadata": {},
   "source": [
    "## 8.1 Importamos datos en un Dataframe"
   ]
  },
  {
   "cell_type": "code",
   "execution_count": 4,
   "metadata": {},
   "outputs": [
    {
     "data": {
      "text/html": [
       "<div>\n",
       "<style scoped>\n",
       "    .dataframe tbody tr th:only-of-type {\n",
       "        vertical-align: middle;\n",
       "    }\n",
       "\n",
       "    .dataframe tbody tr th {\n",
       "        vertical-align: top;\n",
       "    }\n",
       "\n",
       "    .dataframe thead th {\n",
       "        text-align: right;\n",
       "    }\n",
       "</style>\n",
       "<table border=\"1\" class=\"dataframe\">\n",
       "  <thead>\n",
       "    <tr style=\"text-align: right;\">\n",
       "      <th></th>\n",
       "      <th>Comercial</th>\n",
       "      <th>Unidades</th>\n",
       "      <th>Precio Unitario</th>\n",
       "      <th>Total Venta</th>\n",
       "      <th>Fecha</th>\n",
       "      <th>Línea de Producto</th>\n",
       "      <th>Código de Producto</th>\n",
       "      <th>País</th>\n",
       "      <th>Territorio</th>\n",
       "      <th>Beneficio</th>\n",
       "    </tr>\n",
       "  </thead>\n",
       "  <tbody>\n",
       "    <tr>\n",
       "      <th>0</th>\n",
       "      <td>José A</td>\n",
       "      <td>31</td>\n",
       "      <td>100.00</td>\n",
       "      <td>4305.28</td>\n",
       "      <td>2022-01-04</td>\n",
       "      <td>Classic Cars</td>\n",
       "      <td>S10_4962</td>\n",
       "      <td>France</td>\n",
       "      <td>EMEA</td>\n",
       "      <td>861.0560</td>\n",
       "    </tr>\n",
       "    <tr>\n",
       "      <th>1</th>\n",
       "      <td>Esteban F</td>\n",
       "      <td>39</td>\n",
       "      <td>100.00</td>\n",
       "      <td>4164.42</td>\n",
       "      <td>2022-01-04</td>\n",
       "      <td>Trucks and Buses</td>\n",
       "      <td>S18_2319</td>\n",
       "      <td>France</td>\n",
       "      <td>EMEA</td>\n",
       "      <td>3331.5360</td>\n",
       "    </tr>\n",
       "    <tr>\n",
       "      <th>2</th>\n",
       "      <td>Luis M</td>\n",
       "      <td>45</td>\n",
       "      <td>68.67</td>\n",
       "      <td>3090.15</td>\n",
       "      <td>2022-01-04</td>\n",
       "      <td>Trucks and Buses</td>\n",
       "      <td>S18_2432</td>\n",
       "      <td>France</td>\n",
       "      <td>EMEA</td>\n",
       "      <td>2194.0065</td>\n",
       "    </tr>\n",
       "    <tr>\n",
       "      <th>3</th>\n",
       "      <td>María G</td>\n",
       "      <td>48</td>\n",
       "      <td>100.00</td>\n",
       "      <td>8209.44</td>\n",
       "      <td>2022-01-04</td>\n",
       "      <td>Classic Cars</td>\n",
       "      <td>S18_3232</td>\n",
       "      <td>France</td>\n",
       "      <td>EMEA</td>\n",
       "      <td>1806.0768</td>\n",
       "    </tr>\n",
       "    <tr>\n",
       "      <th>4</th>\n",
       "      <td>Iván M</td>\n",
       "      <td>41</td>\n",
       "      <td>100.00</td>\n",
       "      <td>4815.45</td>\n",
       "      <td>2022-01-04</td>\n",
       "      <td>Trucks and Buses</td>\n",
       "      <td>S18_4600</td>\n",
       "      <td>France</td>\n",
       "      <td>EMEA</td>\n",
       "      <td>3756.0510</td>\n",
       "    </tr>\n",
       "  </tbody>\n",
       "</table>\n",
       "</div>"
      ],
      "text/plain": [
       "   Comercial  Unidades  Precio Unitario  Total Venta      Fecha  \\\n",
       "0     José A        31           100.00      4305.28 2022-01-04   \n",
       "1  Esteban F        39           100.00      4164.42 2022-01-04   \n",
       "2     Luis M        45            68.67      3090.15 2022-01-04   \n",
       "3    María G        48           100.00      8209.44 2022-01-04   \n",
       "4     Iván M        41           100.00      4815.45 2022-01-04   \n",
       "\n",
       "  Línea de Producto Código de Producto    País Territorio  Beneficio  \n",
       "0      Classic Cars           S10_4962  France       EMEA   861.0560  \n",
       "1  Trucks and Buses           S18_2319  France       EMEA  3331.5360  \n",
       "2  Trucks and Buses           S18_2432  France       EMEA  2194.0065  \n",
       "3      Classic Cars           S18_3232  France       EMEA  1806.0768  \n",
       "4  Trucks and Buses           S18_4600  France       EMEA  3756.0510  "
      ]
     },
     "execution_count": 4,
     "metadata": {},
     "output_type": "execute_result"
    }
   ],
   "source": [
    "df_ventas.head() # Variable objetivo: \"Beneficio\""
   ]
  },
  {
   "cell_type": "code",
   "execution_count": 30,
   "metadata": {},
   "outputs": [],
   "source": [
    "#Creamos dataframe Machine Learning seleccionando columnas para entrentamiento"
   ]
  },
  {
   "cell_type": "code",
   "execution_count": 5,
   "metadata": {},
   "outputs": [],
   "source": [
    "df_ml = df_ventas.drop(['Fecha','Código de Producto','País'], axis=1)"
   ]
  },
  {
   "cell_type": "code",
   "execution_count": 6,
   "metadata": {},
   "outputs": [
    {
     "data": {
      "text/html": [
       "<div>\n",
       "<style scoped>\n",
       "    .dataframe tbody tr th:only-of-type {\n",
       "        vertical-align: middle;\n",
       "    }\n",
       "\n",
       "    .dataframe tbody tr th {\n",
       "        vertical-align: top;\n",
       "    }\n",
       "\n",
       "    .dataframe thead th {\n",
       "        text-align: right;\n",
       "    }\n",
       "</style>\n",
       "<table border=\"1\" class=\"dataframe\">\n",
       "  <thead>\n",
       "    <tr style=\"text-align: right;\">\n",
       "      <th></th>\n",
       "      <th>Comercial</th>\n",
       "      <th>Unidades</th>\n",
       "      <th>Precio Unitario</th>\n",
       "      <th>Total Venta</th>\n",
       "      <th>Línea de Producto</th>\n",
       "      <th>Territorio</th>\n",
       "      <th>Beneficio</th>\n",
       "    </tr>\n",
       "  </thead>\n",
       "  <tbody>\n",
       "    <tr>\n",
       "      <th>0</th>\n",
       "      <td>José A</td>\n",
       "      <td>31</td>\n",
       "      <td>100.00</td>\n",
       "      <td>4305.28</td>\n",
       "      <td>Classic Cars</td>\n",
       "      <td>EMEA</td>\n",
       "      <td>861.0560</td>\n",
       "    </tr>\n",
       "    <tr>\n",
       "      <th>1</th>\n",
       "      <td>Esteban F</td>\n",
       "      <td>39</td>\n",
       "      <td>100.00</td>\n",
       "      <td>4164.42</td>\n",
       "      <td>Trucks and Buses</td>\n",
       "      <td>EMEA</td>\n",
       "      <td>3331.5360</td>\n",
       "    </tr>\n",
       "    <tr>\n",
       "      <th>2</th>\n",
       "      <td>Luis M</td>\n",
       "      <td>45</td>\n",
       "      <td>68.67</td>\n",
       "      <td>3090.15</td>\n",
       "      <td>Trucks and Buses</td>\n",
       "      <td>EMEA</td>\n",
       "      <td>2194.0065</td>\n",
       "    </tr>\n",
       "    <tr>\n",
       "      <th>3</th>\n",
       "      <td>María G</td>\n",
       "      <td>48</td>\n",
       "      <td>100.00</td>\n",
       "      <td>8209.44</td>\n",
       "      <td>Classic Cars</td>\n",
       "      <td>EMEA</td>\n",
       "      <td>1806.0768</td>\n",
       "    </tr>\n",
       "    <tr>\n",
       "      <th>4</th>\n",
       "      <td>Iván M</td>\n",
       "      <td>41</td>\n",
       "      <td>100.00</td>\n",
       "      <td>4815.45</td>\n",
       "      <td>Trucks and Buses</td>\n",
       "      <td>EMEA</td>\n",
       "      <td>3756.0510</td>\n",
       "    </tr>\n",
       "  </tbody>\n",
       "</table>\n",
       "</div>"
      ],
      "text/plain": [
       "   Comercial  Unidades  Precio Unitario  Total Venta Línea de Producto  \\\n",
       "0     José A        31           100.00      4305.28      Classic Cars   \n",
       "1  Esteban F        39           100.00      4164.42  Trucks and Buses   \n",
       "2     Luis M        45            68.67      3090.15  Trucks and Buses   \n",
       "3    María G        48           100.00      8209.44      Classic Cars   \n",
       "4     Iván M        41           100.00      4815.45  Trucks and Buses   \n",
       "\n",
       "  Territorio  Beneficio  \n",
       "0       EMEA   861.0560  \n",
       "1       EMEA  3331.5360  \n",
       "2       EMEA  2194.0065  \n",
       "3       EMEA  1806.0768  \n",
       "4       EMEA  3756.0510  "
      ]
     },
     "execution_count": 6,
     "metadata": {},
     "output_type": "execute_result"
    }
   ],
   "source": [
    "df_ml.head()"
   ]
  },
  {
   "cell_type": "markdown",
   "metadata": {},
   "source": [
    "## 8.2 Convertir Variables categóricas de entrada (X)"
   ]
  },
  {
   "cell_type": "code",
   "execution_count": 7,
   "metadata": {},
   "outputs": [],
   "source": [
    "df_X = df_ml.drop('Beneficio', axis=1) #Quitamos la variable objetivo \"beneficio\""
   ]
  },
  {
   "cell_type": "code",
   "execution_count": 8,
   "metadata": {},
   "outputs": [],
   "source": [
    "df_X = pd.get_dummies(df_X)"
   ]
  },
  {
   "cell_type": "code",
   "execution_count": 9,
   "metadata": {},
   "outputs": [
    {
     "data": {
      "text/html": [
       "<div>\n",
       "<style scoped>\n",
       "    .dataframe tbody tr th:only-of-type {\n",
       "        vertical-align: middle;\n",
       "    }\n",
       "\n",
       "    .dataframe tbody tr th {\n",
       "        vertical-align: top;\n",
       "    }\n",
       "\n",
       "    .dataframe thead th {\n",
       "        text-align: right;\n",
       "    }\n",
       "</style>\n",
       "<table border=\"1\" class=\"dataframe\">\n",
       "  <thead>\n",
       "    <tr style=\"text-align: right;\">\n",
       "      <th></th>\n",
       "      <th>Unidades</th>\n",
       "      <th>Precio Unitario</th>\n",
       "      <th>Total Venta</th>\n",
       "      <th>Comercial_Abraham C</th>\n",
       "      <th>Comercial_Ana G</th>\n",
       "      <th>Comercial_Blanca G</th>\n",
       "      <th>Comercial_Carlos N</th>\n",
       "      <th>Comercial_David G</th>\n",
       "      <th>Comercial_David R</th>\n",
       "      <th>Comercial_Esteban F</th>\n",
       "      <th>...</th>\n",
       "      <th>Línea de Producto_Classic Cars</th>\n",
       "      <th>Línea de Producto_Motorcycles</th>\n",
       "      <th>Línea de Producto_Planes</th>\n",
       "      <th>Línea de Producto_Ships</th>\n",
       "      <th>Línea de Producto_Trains</th>\n",
       "      <th>Línea de Producto_Trucks and Buses</th>\n",
       "      <th>Línea de Producto_Vintage Cars</th>\n",
       "      <th>Territorio_APAC</th>\n",
       "      <th>Territorio_EMEA</th>\n",
       "      <th>Territorio_Japan</th>\n",
       "    </tr>\n",
       "  </thead>\n",
       "  <tbody>\n",
       "    <tr>\n",
       "      <th>0</th>\n",
       "      <td>31</td>\n",
       "      <td>100.00</td>\n",
       "      <td>4305.28</td>\n",
       "      <td>0</td>\n",
       "      <td>0</td>\n",
       "      <td>0</td>\n",
       "      <td>0</td>\n",
       "      <td>0</td>\n",
       "      <td>0</td>\n",
       "      <td>0</td>\n",
       "      <td>...</td>\n",
       "      <td>1</td>\n",
       "      <td>0</td>\n",
       "      <td>0</td>\n",
       "      <td>0</td>\n",
       "      <td>0</td>\n",
       "      <td>0</td>\n",
       "      <td>0</td>\n",
       "      <td>0</td>\n",
       "      <td>1</td>\n",
       "      <td>0</td>\n",
       "    </tr>\n",
       "    <tr>\n",
       "      <th>1</th>\n",
       "      <td>39</td>\n",
       "      <td>100.00</td>\n",
       "      <td>4164.42</td>\n",
       "      <td>0</td>\n",
       "      <td>0</td>\n",
       "      <td>0</td>\n",
       "      <td>0</td>\n",
       "      <td>0</td>\n",
       "      <td>0</td>\n",
       "      <td>1</td>\n",
       "      <td>...</td>\n",
       "      <td>0</td>\n",
       "      <td>0</td>\n",
       "      <td>0</td>\n",
       "      <td>0</td>\n",
       "      <td>0</td>\n",
       "      <td>1</td>\n",
       "      <td>0</td>\n",
       "      <td>0</td>\n",
       "      <td>1</td>\n",
       "      <td>0</td>\n",
       "    </tr>\n",
       "    <tr>\n",
       "      <th>2</th>\n",
       "      <td>45</td>\n",
       "      <td>68.67</td>\n",
       "      <td>3090.15</td>\n",
       "      <td>0</td>\n",
       "      <td>0</td>\n",
       "      <td>0</td>\n",
       "      <td>0</td>\n",
       "      <td>0</td>\n",
       "      <td>0</td>\n",
       "      <td>0</td>\n",
       "      <td>...</td>\n",
       "      <td>0</td>\n",
       "      <td>0</td>\n",
       "      <td>0</td>\n",
       "      <td>0</td>\n",
       "      <td>0</td>\n",
       "      <td>1</td>\n",
       "      <td>0</td>\n",
       "      <td>0</td>\n",
       "      <td>1</td>\n",
       "      <td>0</td>\n",
       "    </tr>\n",
       "    <tr>\n",
       "      <th>3</th>\n",
       "      <td>48</td>\n",
       "      <td>100.00</td>\n",
       "      <td>8209.44</td>\n",
       "      <td>0</td>\n",
       "      <td>0</td>\n",
       "      <td>0</td>\n",
       "      <td>0</td>\n",
       "      <td>0</td>\n",
       "      <td>0</td>\n",
       "      <td>0</td>\n",
       "      <td>...</td>\n",
       "      <td>1</td>\n",
       "      <td>0</td>\n",
       "      <td>0</td>\n",
       "      <td>0</td>\n",
       "      <td>0</td>\n",
       "      <td>0</td>\n",
       "      <td>0</td>\n",
       "      <td>0</td>\n",
       "      <td>1</td>\n",
       "      <td>0</td>\n",
       "    </tr>\n",
       "    <tr>\n",
       "      <th>4</th>\n",
       "      <td>41</td>\n",
       "      <td>100.00</td>\n",
       "      <td>4815.45</td>\n",
       "      <td>0</td>\n",
       "      <td>0</td>\n",
       "      <td>0</td>\n",
       "      <td>0</td>\n",
       "      <td>0</td>\n",
       "      <td>0</td>\n",
       "      <td>0</td>\n",
       "      <td>...</td>\n",
       "      <td>0</td>\n",
       "      <td>0</td>\n",
       "      <td>0</td>\n",
       "      <td>0</td>\n",
       "      <td>0</td>\n",
       "      <td>1</td>\n",
       "      <td>0</td>\n",
       "      <td>0</td>\n",
       "      <td>1</td>\n",
       "      <td>0</td>\n",
       "    </tr>\n",
       "  </tbody>\n",
       "</table>\n",
       "<p>5 rows × 31 columns</p>\n",
       "</div>"
      ],
      "text/plain": [
       "   Unidades  Precio Unitario  Total Venta  Comercial_Abraham C  \\\n",
       "0        31           100.00      4305.28                    0   \n",
       "1        39           100.00      4164.42                    0   \n",
       "2        45            68.67      3090.15                    0   \n",
       "3        48           100.00      8209.44                    0   \n",
       "4        41           100.00      4815.45                    0   \n",
       "\n",
       "   Comercial_Ana G  Comercial_Blanca G  Comercial_Carlos N  Comercial_David G  \\\n",
       "0                0                   0                   0                  0   \n",
       "1                0                   0                   0                  0   \n",
       "2                0                   0                   0                  0   \n",
       "3                0                   0                   0                  0   \n",
       "4                0                   0                   0                  0   \n",
       "\n",
       "   Comercial_David R  Comercial_Esteban F  ...  \\\n",
       "0                  0                    0  ...   \n",
       "1                  0                    1  ...   \n",
       "2                  0                    0  ...   \n",
       "3                  0                    0  ...   \n",
       "4                  0                    0  ...   \n",
       "\n",
       "   Línea de Producto_Classic Cars  Línea de Producto_Motorcycles  \\\n",
       "0                               1                              0   \n",
       "1                               0                              0   \n",
       "2                               0                              0   \n",
       "3                               1                              0   \n",
       "4                               0                              0   \n",
       "\n",
       "   Línea de Producto_Planes  Línea de Producto_Ships  \\\n",
       "0                         0                        0   \n",
       "1                         0                        0   \n",
       "2                         0                        0   \n",
       "3                         0                        0   \n",
       "4                         0                        0   \n",
       "\n",
       "   Línea de Producto_Trains  Línea de Producto_Trucks and Buses  \\\n",
       "0                         0                                   0   \n",
       "1                         0                                   1   \n",
       "2                         0                                   1   \n",
       "3                         0                                   0   \n",
       "4                         0                                   1   \n",
       "\n",
       "   Línea de Producto_Vintage Cars  Territorio_APAC  Territorio_EMEA  \\\n",
       "0                               0                0                1   \n",
       "1                               0                0                1   \n",
       "2                               0                0                1   \n",
       "3                               0                0                1   \n",
       "4                               0                0                1   \n",
       "\n",
       "   Territorio_Japan  \n",
       "0                 0  \n",
       "1                 0  \n",
       "2                 0  \n",
       "3                 0  \n",
       "4                 0  \n",
       "\n",
       "[5 rows x 31 columns]"
      ]
     },
     "execution_count": 9,
     "metadata": {},
     "output_type": "execute_result"
    }
   ],
   "source": [
    "df_X.head()"
   ]
  },
  {
   "cell_type": "code",
   "execution_count": 10,
   "metadata": {},
   "outputs": [],
   "source": [
    "#Crear un array (dataframe) con las variables de entrada (X) y otro para la variable de salida (y)\n",
    "X = df_X.values\n",
    "y = df_ml['Beneficio'].values"
   ]
  },
  {
   "cell_type": "code",
   "execution_count": 11,
   "metadata": {},
   "outputs": [
    {
     "data": {
      "text/plain": [
       "array([[3.10000e+01, 1.00000e+02, 4.30528e+03, ..., 0.00000e+00,\n",
       "        1.00000e+00, 0.00000e+00],\n",
       "       [3.90000e+01, 1.00000e+02, 4.16442e+03, ..., 0.00000e+00,\n",
       "        1.00000e+00, 0.00000e+00],\n",
       "       [4.50000e+01, 6.86700e+01, 3.09015e+03, ..., 0.00000e+00,\n",
       "        1.00000e+00, 0.00000e+00],\n",
       "       ...,\n",
       "       [4.60000e+01, 3.62900e+01, 1.66934e+03, ..., 0.00000e+00,\n",
       "        0.00000e+00, 0.00000e+00],\n",
       "       [5.60000e+01, 3.05900e+01, 1.71304e+03, ..., 0.00000e+00,\n",
       "        0.00000e+00, 0.00000e+00],\n",
       "       [7.20000e+01, 1.00000e+02, 1.00368e+04, ..., 0.00000e+00,\n",
       "        0.00000e+00, 0.00000e+00]])"
      ]
     },
     "execution_count": 11,
     "metadata": {},
     "output_type": "execute_result"
    }
   ],
   "source": [
    "X"
   ]
  },
  {
   "cell_type": "code",
   "execution_count": 12,
   "metadata": {},
   "outputs": [
    {
     "data": {
      "text/plain": [
       "array([ 861.056 , 3331.536 , 2194.0065, ...,  166.934 ,  188.4344,\n",
       "       2810.304 ])"
      ]
     },
     "execution_count": 12,
     "metadata": {},
     "output_type": "execute_result"
    }
   ],
   "source": [
    "y"
   ]
  },
  {
   "cell_type": "markdown",
   "metadata": {},
   "source": [
    "## 8.3 Dividir datos en conjunto de \"Training\" (ej: 80%) y conjunto de \"Test\" (ej:20%)"
   ]
  },
  {
   "cell_type": "code",
   "execution_count": 13,
   "metadata": {},
   "outputs": [],
   "source": [
    "X_train, X_test, y_train, y_test = train_test_split(X, y, test_size = 0.2, random_state=42)"
   ]
  },
  {
   "cell_type": "markdown",
   "metadata": {},
   "source": [
    "## 8.4 Construir Modelos Regresión Lineal y entrenamiento"
   ]
  },
  {
   "cell_type": "code",
   "execution_count": 14,
   "metadata": {},
   "outputs": [],
   "source": [
    "reg = LinearRegression()"
   ]
  },
  {
   "cell_type": "code",
   "execution_count": 15,
   "metadata": {},
   "outputs": [
    {
     "data": {
      "text/plain": [
       "LinearRegression()"
      ]
     },
     "execution_count": 15,
     "metadata": {},
     "output_type": "execute_result"
    }
   ],
   "source": [
    "reg.fit(X_train, y_train)"
   ]
  },
  {
   "cell_type": "markdown",
   "metadata": {},
   "source": [
    "## 8.5 Cross-validación - Verificación Precisión"
   ]
  },
  {
   "cell_type": "code",
   "execution_count": 16,
   "metadata": {},
   "outputs": [
    {
     "name": "stdout",
     "output_type": "stream",
     "text": [
      "[0.6542309  0.74359655 0.71026224 0.78156141 0.79710684]\n",
      "Promedio 5-Fold CV Score: 0.7373515888444665\n"
     ]
    }
   ],
   "source": [
    "# Compute 5-fold cross-validation scores: cv_scores\n",
    "cv_scores = cross_val_score(reg,X_train,y_train,cv=5)\n",
    "\n",
    "# Print the 5-fold cross-validation scores\n",
    "print(cv_scores)\n",
    "\n",
    "print(\"Promedio 5-Fold CV Score: {}\".format(np.mean(cv_scores)))"
   ]
  },
  {
   "cell_type": "markdown",
   "metadata": {},
   "source": [
    "## 8.6 Predicción con los datos de TEST "
   ]
  },
  {
   "cell_type": "code",
   "execution_count": 17,
   "metadata": {},
   "outputs": [],
   "source": [
    "y_pred = reg.predict(X_test)"
   ]
  },
  {
   "cell_type": "code",
   "execution_count": 18,
   "metadata": {},
   "outputs": [
    {
     "data": {
      "text/plain": [
       "array([ 3.33585075e+03,  1.04665176e+03,  1.77701532e+03,  1.05407718e+03,\n",
       "        3.09882770e+03,  1.05362094e+02,  1.01648127e+03,  8.30004729e+02,\n",
       "        7.28445256e+02,  1.60195086e+02,  2.90246817e+02,  7.24886135e+02,\n",
       "       -2.15144368e+02,  2.34812329e+03,  4.55667102e+02,  2.14611087e+03,\n",
       "        1.73184092e+03,  1.10000760e+03,  1.81127917e+03,  3.10219912e+03,\n",
       "        1.67927665e+03,  1.44429246e+03,  5.56058615e+02,  3.33527063e+03,\n",
       "        8.15218663e+02,  2.85111961e+03,  1.02123155e+03, -3.09927170e+02,\n",
       "        2.74710809e+03,  3.98166462e+02,  7.94644900e+02,  2.45486095e+02,\n",
       "        8.49985606e+02, -4.93108274e+02,  1.73568480e+03,  4.58208033e+02,\n",
       "        4.82729571e+02,  1.76079028e+03,  1.64954291e+03, -1.67166008e+02,\n",
       "       -4.09761699e+02,  4.72398083e+02,  2.88705354e+03,  1.50299598e+03,\n",
       "       -3.91518028e+02,  1.84808099e+03,  5.16155089e+02,  1.03314798e+03,\n",
       "        2.65327928e+03,  1.67144305e+03,  3.14844808e+03,  5.85578301e+02,\n",
       "        2.36639464e+03,  3.00678573e+03,  1.87075177e+03,  4.35212659e+03,\n",
       "        2.41848745e+03,  5.02047118e+02,  4.06404864e+03,  9.04050925e+02,\n",
       "        3.20886715e+02,  2.92331220e+03,  3.77061382e+02,  4.15029414e+01,\n",
       "        9.78401033e+01,  2.22505066e+03,  1.26484375e+03,  3.98539436e+01,\n",
       "        3.07919046e+03,  2.63196443e+03,  1.69690551e+02,  1.43243562e+03,\n",
       "        2.40231516e+03,  1.15843590e+03,  1.88027869e+03,  8.59478887e+01,\n",
       "        1.21658829e+03, -4.74817576e+02,  5.28151208e+03,  2.01177848e+03,\n",
       "        1.13096316e+03,  7.32108081e+02,  4.37715732e+02,  2.95326949e+01,\n",
       "        1.32948555e+02,  6.70537299e+02,  9.54015247e+02,  7.86010110e+02,\n",
       "       -6.58618886e+01,  5.63582139e+02,  3.62424207e+03,  6.88913353e+02,\n",
       "        1.47141596e+03,  5.69730719e+02,  7.27185844e+02,  1.52194705e+03,\n",
       "        2.73575922e+02,  5.15258210e+03,  3.55766258e+03, -2.71873567e+02,\n",
       "        1.12213721e+03, -6.69150836e+02,  1.98233781e+03,  2.79678007e+03,\n",
       "        5.40078559e+02,  1.40935756e+03,  2.10045151e+03,  2.27751613e+03,\n",
       "        5.92825510e+01, -3.07508145e-01,  3.03740481e+02, -4.22719111e+02,\n",
       "        1.69681509e+03,  9.31661518e+02,  4.33465338e+02,  4.09298668e+02,\n",
       "        3.87802588e+03,  4.13365442e+02,  2.67177863e+03,  2.10966286e+03,\n",
       "        5.86949056e+02,  5.70531198e+02, -2.34893702e+02,  2.79277553e+03,\n",
       "        1.27978005e+03,  2.45206941e+03,  1.74756220e+03,  7.59718419e+02,\n",
       "        2.01419056e+03,  9.74528172e+02,  3.09014193e+03,  1.01199384e+03,\n",
       "        5.27426889e+02,  9.17425919e+02,  8.30291584e+02,  5.18569173e+02,\n",
       "        2.58044609e+03,  4.40559332e+02,  9.65332294e+02,  1.68767949e+02,\n",
       "        2.21809187e+03,  5.07076772e+02,  3.30757241e+03, -6.92105988e+01,\n",
       "       -1.14276928e+02,  1.71413798e+03, -3.16121613e+02, -4.75373453e+02,\n",
       "        4.11957012e+02,  2.59504843e+03, -1.00716384e+02,  7.55487286e+02,\n",
       "        9.25173945e+02,  9.39935665e+02, -4.13864292e+01,  2.02818663e+03,\n",
       "        3.37932274e+03,  3.73611685e+03, -6.40340621e+02,  3.62882361e+02,\n",
       "        1.84532607e+03,  1.71036228e+03,  3.51331141e+03,  2.78509964e+03,\n",
       "        9.58800209e+02,  7.60050103e+03,  2.09548642e+03, -6.21952985e+02,\n",
       "        4.79604184e+02,  1.45537610e+03,  1.81030978e+03,  2.87860253e+03,\n",
       "       -8.27109359e+01,  1.18114922e+03,  1.45930485e+03, -2.06356002e+02,\n",
       "        2.82086503e+03,  2.66260305e+02, -4.69067737e+02,  1.23257060e+03,\n",
       "        2.05623649e+03,  8.21181460e+02,  1.06395058e+03,  1.88356918e+03,\n",
       "        1.34847490e+03,  5.24431509e+02,  4.47791700e+02, -4.27767514e+02,\n",
       "        1.10392510e+03,  2.07408881e+02,  1.25254418e+02,  1.02372303e+03,\n",
       "        2.85949489e+02,  4.97156372e+03,  2.59951660e+03,  2.75996913e+03,\n",
       "        1.22925601e+03,  5.55871064e+01,  2.01208637e+02,  2.69009882e+03,\n",
       "        3.75644110e+03,  1.27586814e+03,  1.61390063e+03,  3.23227311e+03,\n",
       "        9.57958065e+02,  3.62135461e+03,  1.79530750e+03,  2.93597853e+02,\n",
       "        4.24905077e+02,  5.22499716e+02,  5.95637618e+02,  1.60097889e+03,\n",
       "        1.37292470e+02,  2.93723127e+02,  7.26272358e+02,  1.11690767e+03,\n",
       "        2.35380245e+03,  2.94506544e+03,  6.55642374e+02,  9.16674723e+02,\n",
       "        6.99098356e+02, -9.84381570e+00, -6.46751503e+02,  1.25695686e+03,\n",
       "        8.83897476e+02,  3.16350392e+03,  9.64266994e+02,  2.21528316e+03,\n",
       "        1.67369900e+02,  1.89050812e+02,  1.18837996e+03,  8.88137368e+02,\n",
       "        1.16386418e+03,  2.40696200e+03,  3.34840830e+03,  5.58671996e+02,\n",
       "        3.84979002e+03,  1.19936193e+03,  2.94008856e+03,  2.46312788e+03,\n",
       "        6.04105051e+02,  1.82869215e+03,  8.63391958e+02, -9.22339836e+01,\n",
       "        9.84031896e+02,  3.44828563e+03,  5.08566985e+02,  2.29799845e+03,\n",
       "        5.64935743e+02,  2.03472509e+03,  4.23355904e+03,  4.01397767e+03,\n",
       "        1.50755112e+01, -8.20003246e+02,  2.58474115e+03,  2.47846784e+02,\n",
       "        2.44591076e+03,  6.61019310e+01,  1.17443472e+03,  1.67025936e+03,\n",
       "        7.07109381e+02,  6.84085805e+02,  2.77916775e+03])"
      ]
     },
     "execution_count": 18,
     "metadata": {},
     "output_type": "execute_result"
    }
   ],
   "source": [
    "y_pred"
   ]
  },
  {
   "cell_type": "code",
   "execution_count": 19,
   "metadata": {
    "scrolled": true
   },
   "outputs": [
    {
     "name": "stdout",
     "output_type": "stream",
     "text": [
      "R^2: 0.7538586636481189\n",
      "Root Mean Squared Error: 655.7705192537401\n"
     ]
    }
   ],
   "source": [
    "#Computar el error cuadrático medio RMSE\n",
    "print(\"R^2: {}\".format(reg.score(X_test, y_test)))\n",
    "rmse = np.sqrt(mean_squared_error(y_test, y_pred))\n",
    "print(\"Root Mean Squared Error: {}\".format(rmse))"
   ]
  },
  {
   "cell_type": "markdown",
   "metadata": {},
   "source": [
    "# 8.7 Predicción beneficio siguientes ventas por comercial"
   ]
  },
  {
   "cell_type": "code",
   "execution_count": 20,
   "metadata": {},
   "outputs": [],
   "source": [
    "df_ventas_pred_beneficios = pd.read_excel('.\\Inputs\\Ventas_productos_automóvil.xlsx',sheet_name=\"Predicción\")"
   ]
  },
  {
   "cell_type": "code",
   "execution_count": 21,
   "metadata": {},
   "outputs": [
    {
     "data": {
      "text/html": [
       "<div>\n",
       "<style scoped>\n",
       "    .dataframe tbody tr th:only-of-type {\n",
       "        vertical-align: middle;\n",
       "    }\n",
       "\n",
       "    .dataframe tbody tr th {\n",
       "        vertical-align: top;\n",
       "    }\n",
       "\n",
       "    .dataframe thead th {\n",
       "        text-align: right;\n",
       "    }\n",
       "</style>\n",
       "<table border=\"1\" class=\"dataframe\">\n",
       "  <thead>\n",
       "    <tr style=\"text-align: right;\">\n",
       "      <th></th>\n",
       "      <th>Comercial</th>\n",
       "      <th>Unidades</th>\n",
       "      <th>Precio Unitario</th>\n",
       "      <th>Total Venta</th>\n",
       "      <th>Fecha</th>\n",
       "      <th>Línea de Producto</th>\n",
       "      <th>Código de Producto</th>\n",
       "      <th>País</th>\n",
       "      <th>Territorio</th>\n",
       "      <th>Beneficio</th>\n",
       "    </tr>\n",
       "  </thead>\n",
       "  <tbody>\n",
       "    <tr>\n",
       "      <th>0</th>\n",
       "      <td>José A</td>\n",
       "      <td>62</td>\n",
       "      <td>100.00</td>\n",
       "      <td>8100.0</td>\n",
       "      <td>2022-01-04</td>\n",
       "      <td>Classic Cars</td>\n",
       "      <td>S10_4962</td>\n",
       "      <td>France</td>\n",
       "      <td>EMEA</td>\n",
       "      <td>NaN</td>\n",
       "    </tr>\n",
       "    <tr>\n",
       "      <th>1</th>\n",
       "      <td>Esteban F</td>\n",
       "      <td>55</td>\n",
       "      <td>100.00</td>\n",
       "      <td>6215.0</td>\n",
       "      <td>2022-01-04</td>\n",
       "      <td>Trucks and Buses</td>\n",
       "      <td>S18_2319</td>\n",
       "      <td>France</td>\n",
       "      <td>Japan</td>\n",
       "      <td>NaN</td>\n",
       "    </tr>\n",
       "    <tr>\n",
       "      <th>2</th>\n",
       "      <td>Iván M</td>\n",
       "      <td>15</td>\n",
       "      <td>100.00</td>\n",
       "      <td>2700.0</td>\n",
       "      <td>2022-01-08</td>\n",
       "      <td>Motorcycles</td>\n",
       "      <td>S18_3232</td>\n",
       "      <td>Finland</td>\n",
       "      <td>APAC</td>\n",
       "      <td>NaN</td>\n",
       "    </tr>\n",
       "    <tr>\n",
       "      <th>3</th>\n",
       "      <td>Abraham C</td>\n",
       "      <td>88</td>\n",
       "      <td>54.33</td>\n",
       "      <td>6524.0</td>\n",
       "      <td>2022-01-08</td>\n",
       "      <td>Vintage Cars</td>\n",
       "      <td>S24_1444</td>\n",
       "      <td>Finland</td>\n",
       "      <td>EMEA</td>\n",
       "      <td>NaN</td>\n",
       "    </tr>\n",
       "    <tr>\n",
       "      <th>4</th>\n",
       "      <td>Ana G</td>\n",
       "      <td>25</td>\n",
       "      <td>100.00</td>\n",
       "      <td>3250.0</td>\n",
       "      <td>2022-01-12</td>\n",
       "      <td>Planes</td>\n",
       "      <td>S10_1678</td>\n",
       "      <td>USA</td>\n",
       "      <td>NaN</td>\n",
       "      <td>NaN</td>\n",
       "    </tr>\n",
       "  </tbody>\n",
       "</table>\n",
       "</div>"
      ],
      "text/plain": [
       "   Comercial  Unidades  Precio Unitario  Total Venta      Fecha  \\\n",
       "0     José A        62           100.00       8100.0 2022-01-04   \n",
       "1  Esteban F        55           100.00       6215.0 2022-01-04   \n",
       "2     Iván M        15           100.00       2700.0 2022-01-08   \n",
       "3  Abraham C        88            54.33       6524.0 2022-01-08   \n",
       "4      Ana G        25           100.00       3250.0 2022-01-12   \n",
       "\n",
       "  Línea de Producto Código de Producto     País Territorio  Beneficio  \n",
       "0      Classic Cars           S10_4962   France       EMEA        NaN  \n",
       "1  Trucks and Buses           S18_2319   France      Japan        NaN  \n",
       "2       Motorcycles           S18_3232  Finland       APAC        NaN  \n",
       "3      Vintage Cars           S24_1444  Finland       EMEA        NaN  \n",
       "4            Planes           S10_1678      USA        NaN        NaN  "
      ]
     },
     "execution_count": 21,
     "metadata": {},
     "output_type": "execute_result"
    }
   ],
   "source": [
    "df_ventas_pred_beneficios.head()"
   ]
  },
  {
   "cell_type": "code",
   "execution_count": 22,
   "metadata": {},
   "outputs": [],
   "source": [
    "df_ventas_pred_beneficios_X = df_ventas_pred_beneficios.drop(['Fecha','Código de Producto','País','Beneficio'], axis=1)"
   ]
  },
  {
   "cell_type": "code",
   "execution_count": 23,
   "metadata": {},
   "outputs": [],
   "source": [
    "df_ventas_pred_beneficios_X = pd.get_dummies(df_ventas_pred_beneficios_X)"
   ]
  },
  {
   "cell_type": "code",
   "execution_count": 24,
   "metadata": {},
   "outputs": [
    {
     "data": {
      "text/html": [
       "<div>\n",
       "<style scoped>\n",
       "    .dataframe tbody tr th:only-of-type {\n",
       "        vertical-align: middle;\n",
       "    }\n",
       "\n",
       "    .dataframe tbody tr th {\n",
       "        vertical-align: top;\n",
       "    }\n",
       "\n",
       "    .dataframe thead th {\n",
       "        text-align: right;\n",
       "    }\n",
       "</style>\n",
       "<table border=\"1\" class=\"dataframe\">\n",
       "  <thead>\n",
       "    <tr style=\"text-align: right;\">\n",
       "      <th></th>\n",
       "      <th>Unidades</th>\n",
       "      <th>Precio Unitario</th>\n",
       "      <th>Total Venta</th>\n",
       "      <th>Comercial_Abraham C</th>\n",
       "      <th>Comercial_Ana G</th>\n",
       "      <th>Comercial_Blanca G</th>\n",
       "      <th>Comercial_Carlos N</th>\n",
       "      <th>Comercial_David G</th>\n",
       "      <th>Comercial_David R</th>\n",
       "      <th>Comercial_Esteban F</th>\n",
       "      <th>...</th>\n",
       "      <th>Línea de Producto_Classic Cars</th>\n",
       "      <th>Línea de Producto_Motorcycles</th>\n",
       "      <th>Línea de Producto_Planes</th>\n",
       "      <th>Línea de Producto_Ships</th>\n",
       "      <th>Línea de Producto_Trains</th>\n",
       "      <th>Línea de Producto_Trucks and Buses</th>\n",
       "      <th>Línea de Producto_Vintage Cars</th>\n",
       "      <th>Territorio_APAC</th>\n",
       "      <th>Territorio_EMEA</th>\n",
       "      <th>Territorio_Japan</th>\n",
       "    </tr>\n",
       "  </thead>\n",
       "  <tbody>\n",
       "    <tr>\n",
       "      <th>0</th>\n",
       "      <td>62</td>\n",
       "      <td>100.00</td>\n",
       "      <td>8100.00</td>\n",
       "      <td>0</td>\n",
       "      <td>0</td>\n",
       "      <td>0</td>\n",
       "      <td>0</td>\n",
       "      <td>0</td>\n",
       "      <td>0</td>\n",
       "      <td>0</td>\n",
       "      <td>...</td>\n",
       "      <td>1</td>\n",
       "      <td>0</td>\n",
       "      <td>0</td>\n",
       "      <td>0</td>\n",
       "      <td>0</td>\n",
       "      <td>0</td>\n",
       "      <td>0</td>\n",
       "      <td>0</td>\n",
       "      <td>1</td>\n",
       "      <td>0</td>\n",
       "    </tr>\n",
       "    <tr>\n",
       "      <th>1</th>\n",
       "      <td>55</td>\n",
       "      <td>100.00</td>\n",
       "      <td>6215.00</td>\n",
       "      <td>0</td>\n",
       "      <td>0</td>\n",
       "      <td>0</td>\n",
       "      <td>0</td>\n",
       "      <td>0</td>\n",
       "      <td>0</td>\n",
       "      <td>1</td>\n",
       "      <td>...</td>\n",
       "      <td>0</td>\n",
       "      <td>0</td>\n",
       "      <td>0</td>\n",
       "      <td>0</td>\n",
       "      <td>0</td>\n",
       "      <td>1</td>\n",
       "      <td>0</td>\n",
       "      <td>0</td>\n",
       "      <td>0</td>\n",
       "      <td>1</td>\n",
       "    </tr>\n",
       "    <tr>\n",
       "      <th>2</th>\n",
       "      <td>15</td>\n",
       "      <td>100.00</td>\n",
       "      <td>2700.00</td>\n",
       "      <td>0</td>\n",
       "      <td>0</td>\n",
       "      <td>0</td>\n",
       "      <td>0</td>\n",
       "      <td>0</td>\n",
       "      <td>0</td>\n",
       "      <td>0</td>\n",
       "      <td>...</td>\n",
       "      <td>0</td>\n",
       "      <td>1</td>\n",
       "      <td>0</td>\n",
       "      <td>0</td>\n",
       "      <td>0</td>\n",
       "      <td>0</td>\n",
       "      <td>0</td>\n",
       "      <td>1</td>\n",
       "      <td>0</td>\n",
       "      <td>0</td>\n",
       "    </tr>\n",
       "    <tr>\n",
       "      <th>3</th>\n",
       "      <td>88</td>\n",
       "      <td>54.33</td>\n",
       "      <td>6524.00</td>\n",
       "      <td>1</td>\n",
       "      <td>0</td>\n",
       "      <td>0</td>\n",
       "      <td>0</td>\n",
       "      <td>0</td>\n",
       "      <td>0</td>\n",
       "      <td>0</td>\n",
       "      <td>...</td>\n",
       "      <td>0</td>\n",
       "      <td>0</td>\n",
       "      <td>0</td>\n",
       "      <td>0</td>\n",
       "      <td>0</td>\n",
       "      <td>0</td>\n",
       "      <td>1</td>\n",
       "      <td>0</td>\n",
       "      <td>1</td>\n",
       "      <td>0</td>\n",
       "    </tr>\n",
       "    <tr>\n",
       "      <th>4</th>\n",
       "      <td>25</td>\n",
       "      <td>100.00</td>\n",
       "      <td>3250.00</td>\n",
       "      <td>0</td>\n",
       "      <td>1</td>\n",
       "      <td>0</td>\n",
       "      <td>0</td>\n",
       "      <td>0</td>\n",
       "      <td>0</td>\n",
       "      <td>0</td>\n",
       "      <td>...</td>\n",
       "      <td>0</td>\n",
       "      <td>0</td>\n",
       "      <td>1</td>\n",
       "      <td>0</td>\n",
       "      <td>0</td>\n",
       "      <td>0</td>\n",
       "      <td>0</td>\n",
       "      <td>0</td>\n",
       "      <td>0</td>\n",
       "      <td>0</td>\n",
       "    </tr>\n",
       "    <tr>\n",
       "      <th>5</th>\n",
       "      <td>50</td>\n",
       "      <td>38.40</td>\n",
       "      <td>1852.00</td>\n",
       "      <td>0</td>\n",
       "      <td>0</td>\n",
       "      <td>1</td>\n",
       "      <td>0</td>\n",
       "      <td>0</td>\n",
       "      <td>0</td>\n",
       "      <td>0</td>\n",
       "      <td>...</td>\n",
       "      <td>0</td>\n",
       "      <td>0</td>\n",
       "      <td>0</td>\n",
       "      <td>1</td>\n",
       "      <td>0</td>\n",
       "      <td>0</td>\n",
       "      <td>0</td>\n",
       "      <td>0</td>\n",
       "      <td>0</td>\n",
       "      <td>0</td>\n",
       "    </tr>\n",
       "    <tr>\n",
       "      <th>6</th>\n",
       "      <td>28</td>\n",
       "      <td>38.40</td>\n",
       "      <td>1255.00</td>\n",
       "      <td>0</td>\n",
       "      <td>0</td>\n",
       "      <td>1</td>\n",
       "      <td>0</td>\n",
       "      <td>0</td>\n",
       "      <td>0</td>\n",
       "      <td>0</td>\n",
       "      <td>...</td>\n",
       "      <td>0</td>\n",
       "      <td>0</td>\n",
       "      <td>0</td>\n",
       "      <td>0</td>\n",
       "      <td>1</td>\n",
       "      <td>0</td>\n",
       "      <td>0</td>\n",
       "      <td>0</td>\n",
       "      <td>0</td>\n",
       "      <td>0</td>\n",
       "    </tr>\n",
       "    <tr>\n",
       "      <th>7</th>\n",
       "      <td>42</td>\n",
       "      <td>100.00</td>\n",
       "      <td>4758.18</td>\n",
       "      <td>0</td>\n",
       "      <td>0</td>\n",
       "      <td>0</td>\n",
       "      <td>0</td>\n",
       "      <td>0</td>\n",
       "      <td>0</td>\n",
       "      <td>0</td>\n",
       "      <td>...</td>\n",
       "      <td>1</td>\n",
       "      <td>0</td>\n",
       "      <td>0</td>\n",
       "      <td>0</td>\n",
       "      <td>0</td>\n",
       "      <td>0</td>\n",
       "      <td>0</td>\n",
       "      <td>0</td>\n",
       "      <td>1</td>\n",
       "      <td>0</td>\n",
       "    </tr>\n",
       "    <tr>\n",
       "      <th>8</th>\n",
       "      <td>31</td>\n",
       "      <td>100.00</td>\n",
       "      <td>7023.98</td>\n",
       "      <td>0</td>\n",
       "      <td>0</td>\n",
       "      <td>0</td>\n",
       "      <td>0</td>\n",
       "      <td>0</td>\n",
       "      <td>0</td>\n",
       "      <td>0</td>\n",
       "      <td>...</td>\n",
       "      <td>0</td>\n",
       "      <td>1</td>\n",
       "      <td>0</td>\n",
       "      <td>0</td>\n",
       "      <td>0</td>\n",
       "      <td>0</td>\n",
       "      <td>0</td>\n",
       "      <td>0</td>\n",
       "      <td>1</td>\n",
       "      <td>0</td>\n",
       "    </tr>\n",
       "    <tr>\n",
       "      <th>9</th>\n",
       "      <td>35</td>\n",
       "      <td>93.54</td>\n",
       "      <td>3273.90</td>\n",
       "      <td>0</td>\n",
       "      <td>0</td>\n",
       "      <td>0</td>\n",
       "      <td>0</td>\n",
       "      <td>0</td>\n",
       "      <td>0</td>\n",
       "      <td>0</td>\n",
       "      <td>...</td>\n",
       "      <td>0</td>\n",
       "      <td>1</td>\n",
       "      <td>0</td>\n",
       "      <td>0</td>\n",
       "      <td>0</td>\n",
       "      <td>0</td>\n",
       "      <td>0</td>\n",
       "      <td>0</td>\n",
       "      <td>1</td>\n",
       "      <td>0</td>\n",
       "    </tr>\n",
       "    <tr>\n",
       "      <th>10</th>\n",
       "      <td>47</td>\n",
       "      <td>100.00</td>\n",
       "      <td>6287.66</td>\n",
       "      <td>0</td>\n",
       "      <td>0</td>\n",
       "      <td>0</td>\n",
       "      <td>0</td>\n",
       "      <td>0</td>\n",
       "      <td>0</td>\n",
       "      <td>0</td>\n",
       "      <td>...</td>\n",
       "      <td>0</td>\n",
       "      <td>0</td>\n",
       "      <td>0</td>\n",
       "      <td>0</td>\n",
       "      <td>0</td>\n",
       "      <td>1</td>\n",
       "      <td>0</td>\n",
       "      <td>0</td>\n",
       "      <td>1</td>\n",
       "      <td>0</td>\n",
       "    </tr>\n",
       "    <tr>\n",
       "      <th>11</th>\n",
       "      <td>24</td>\n",
       "      <td>45.99</td>\n",
       "      <td>1103.76</td>\n",
       "      <td>0</td>\n",
       "      <td>0</td>\n",
       "      <td>0</td>\n",
       "      <td>0</td>\n",
       "      <td>0</td>\n",
       "      <td>0</td>\n",
       "      <td>0</td>\n",
       "      <td>...</td>\n",
       "      <td>0</td>\n",
       "      <td>0</td>\n",
       "      <td>0</td>\n",
       "      <td>0</td>\n",
       "      <td>0</td>\n",
       "      <td>1</td>\n",
       "      <td>0</td>\n",
       "      <td>0</td>\n",
       "      <td>1</td>\n",
       "      <td>0</td>\n",
       "    </tr>\n",
       "    <tr>\n",
       "      <th>12</th>\n",
       "      <td>45</td>\n",
       "      <td>92.83</td>\n",
       "      <td>4177.35</td>\n",
       "      <td>0</td>\n",
       "      <td>0</td>\n",
       "      <td>0</td>\n",
       "      <td>0</td>\n",
       "      <td>0</td>\n",
       "      <td>0</td>\n",
       "      <td>0</td>\n",
       "      <td>...</td>\n",
       "      <td>0</td>\n",
       "      <td>1</td>\n",
       "      <td>0</td>\n",
       "      <td>0</td>\n",
       "      <td>0</td>\n",
       "      <td>0</td>\n",
       "      <td>0</td>\n",
       "      <td>0</td>\n",
       "      <td>1</td>\n",
       "      <td>0</td>\n",
       "    </tr>\n",
       "    <tr>\n",
       "      <th>13</th>\n",
       "      <td>24</td>\n",
       "      <td>100.00</td>\n",
       "      <td>3025.92</td>\n",
       "      <td>0</td>\n",
       "      <td>0</td>\n",
       "      <td>0</td>\n",
       "      <td>0</td>\n",
       "      <td>0</td>\n",
       "      <td>0</td>\n",
       "      <td>0</td>\n",
       "      <td>...</td>\n",
       "      <td>0</td>\n",
       "      <td>1</td>\n",
       "      <td>0</td>\n",
       "      <td>0</td>\n",
       "      <td>0</td>\n",
       "      <td>0</td>\n",
       "      <td>0</td>\n",
       "      <td>0</td>\n",
       "      <td>0</td>\n",
       "      <td>0</td>\n",
       "    </tr>\n",
       "    <tr>\n",
       "      <th>14</th>\n",
       "      <td>29</td>\n",
       "      <td>70.84</td>\n",
       "      <td>2054.36</td>\n",
       "      <td>0</td>\n",
       "      <td>0</td>\n",
       "      <td>0</td>\n",
       "      <td>0</td>\n",
       "      <td>0</td>\n",
       "      <td>0</td>\n",
       "      <td>0</td>\n",
       "      <td>...</td>\n",
       "      <td>0</td>\n",
       "      <td>0</td>\n",
       "      <td>0</td>\n",
       "      <td>0</td>\n",
       "      <td>1</td>\n",
       "      <td>0</td>\n",
       "      <td>0</td>\n",
       "      <td>0</td>\n",
       "      <td>0</td>\n",
       "      <td>0</td>\n",
       "    </tr>\n",
       "    <tr>\n",
       "      <th>15</th>\n",
       "      <td>29</td>\n",
       "      <td>100.00</td>\n",
       "      <td>4444.54</td>\n",
       "      <td>0</td>\n",
       "      <td>0</td>\n",
       "      <td>0</td>\n",
       "      <td>1</td>\n",
       "      <td>0</td>\n",
       "      <td>0</td>\n",
       "      <td>0</td>\n",
       "      <td>...</td>\n",
       "      <td>1</td>\n",
       "      <td>0</td>\n",
       "      <td>0</td>\n",
       "      <td>0</td>\n",
       "      <td>0</td>\n",
       "      <td>0</td>\n",
       "      <td>0</td>\n",
       "      <td>0</td>\n",
       "      <td>0</td>\n",
       "      <td>0</td>\n",
       "    </tr>\n",
       "    <tr>\n",
       "      <th>16</th>\n",
       "      <td>40</td>\n",
       "      <td>100.00</td>\n",
       "      <td>7492.40</td>\n",
       "      <td>0</td>\n",
       "      <td>0</td>\n",
       "      <td>0</td>\n",
       "      <td>0</td>\n",
       "      <td>1</td>\n",
       "      <td>0</td>\n",
       "      <td>0</td>\n",
       "      <td>...</td>\n",
       "      <td>0</td>\n",
       "      <td>0</td>\n",
       "      <td>0</td>\n",
       "      <td>0</td>\n",
       "      <td>0</td>\n",
       "      <td>0</td>\n",
       "      <td>1</td>\n",
       "      <td>0</td>\n",
       "      <td>1</td>\n",
       "      <td>0</td>\n",
       "    </tr>\n",
       "    <tr>\n",
       "      <th>17</th>\n",
       "      <td>32</td>\n",
       "      <td>37.17</td>\n",
       "      <td>1189.44</td>\n",
       "      <td>0</td>\n",
       "      <td>0</td>\n",
       "      <td>0</td>\n",
       "      <td>0</td>\n",
       "      <td>0</td>\n",
       "      <td>1</td>\n",
       "      <td>0</td>\n",
       "      <td>...</td>\n",
       "      <td>0</td>\n",
       "      <td>0</td>\n",
       "      <td>0</td>\n",
       "      <td>0</td>\n",
       "      <td>0</td>\n",
       "      <td>0</td>\n",
       "      <td>1</td>\n",
       "      <td>0</td>\n",
       "      <td>1</td>\n",
       "      <td>0</td>\n",
       "    </tr>\n",
       "    <tr>\n",
       "      <th>18</th>\n",
       "      <td>46</td>\n",
       "      <td>100.00</td>\n",
       "      <td>7381.16</td>\n",
       "      <td>0</td>\n",
       "      <td>0</td>\n",
       "      <td>0</td>\n",
       "      <td>0</td>\n",
       "      <td>0</td>\n",
       "      <td>0</td>\n",
       "      <td>0</td>\n",
       "      <td>...</td>\n",
       "      <td>1</td>\n",
       "      <td>0</td>\n",
       "      <td>0</td>\n",
       "      <td>0</td>\n",
       "      <td>0</td>\n",
       "      <td>0</td>\n",
       "      <td>0</td>\n",
       "      <td>0</td>\n",
       "      <td>0</td>\n",
       "      <td>0</td>\n",
       "    </tr>\n",
       "    <tr>\n",
       "      <th>19</th>\n",
       "      <td>46</td>\n",
       "      <td>100.00</td>\n",
       "      <td>7381.16</td>\n",
       "      <td>0</td>\n",
       "      <td>0</td>\n",
       "      <td>0</td>\n",
       "      <td>0</td>\n",
       "      <td>0</td>\n",
       "      <td>0</td>\n",
       "      <td>0</td>\n",
       "      <td>...</td>\n",
       "      <td>1</td>\n",
       "      <td>0</td>\n",
       "      <td>0</td>\n",
       "      <td>0</td>\n",
       "      <td>0</td>\n",
       "      <td>0</td>\n",
       "      <td>0</td>\n",
       "      <td>0</td>\n",
       "      <td>0</td>\n",
       "      <td>0</td>\n",
       "    </tr>\n",
       "    <tr>\n",
       "      <th>20</th>\n",
       "      <td>46</td>\n",
       "      <td>100.00</td>\n",
       "      <td>7381.16</td>\n",
       "      <td>0</td>\n",
       "      <td>0</td>\n",
       "      <td>0</td>\n",
       "      <td>0</td>\n",
       "      <td>0</td>\n",
       "      <td>0</td>\n",
       "      <td>0</td>\n",
       "      <td>...</td>\n",
       "      <td>1</td>\n",
       "      <td>0</td>\n",
       "      <td>0</td>\n",
       "      <td>0</td>\n",
       "      <td>0</td>\n",
       "      <td>0</td>\n",
       "      <td>0</td>\n",
       "      <td>0</td>\n",
       "      <td>0</td>\n",
       "      <td>0</td>\n",
       "    </tr>\n",
       "    <tr>\n",
       "      <th>21</th>\n",
       "      <td>46</td>\n",
       "      <td>100.00</td>\n",
       "      <td>7381.16</td>\n",
       "      <td>0</td>\n",
       "      <td>0</td>\n",
       "      <td>0</td>\n",
       "      <td>0</td>\n",
       "      <td>0</td>\n",
       "      <td>0</td>\n",
       "      <td>0</td>\n",
       "      <td>...</td>\n",
       "      <td>1</td>\n",
       "      <td>0</td>\n",
       "      <td>0</td>\n",
       "      <td>0</td>\n",
       "      <td>0</td>\n",
       "      <td>0</td>\n",
       "      <td>0</td>\n",
       "      <td>0</td>\n",
       "      <td>0</td>\n",
       "      <td>0</td>\n",
       "    </tr>\n",
       "    <tr>\n",
       "      <th>22</th>\n",
       "      <td>46</td>\n",
       "      <td>100.00</td>\n",
       "      <td>7381.16</td>\n",
       "      <td>0</td>\n",
       "      <td>0</td>\n",
       "      <td>0</td>\n",
       "      <td>0</td>\n",
       "      <td>0</td>\n",
       "      <td>0</td>\n",
       "      <td>0</td>\n",
       "      <td>...</td>\n",
       "      <td>1</td>\n",
       "      <td>0</td>\n",
       "      <td>0</td>\n",
       "      <td>0</td>\n",
       "      <td>0</td>\n",
       "      <td>0</td>\n",
       "      <td>0</td>\n",
       "      <td>0</td>\n",
       "      <td>0</td>\n",
       "      <td>0</td>\n",
       "    </tr>\n",
       "    <tr>\n",
       "      <th>23</th>\n",
       "      <td>46</td>\n",
       "      <td>100.00</td>\n",
       "      <td>7381.16</td>\n",
       "      <td>0</td>\n",
       "      <td>0</td>\n",
       "      <td>0</td>\n",
       "      <td>0</td>\n",
       "      <td>0</td>\n",
       "      <td>0</td>\n",
       "      <td>0</td>\n",
       "      <td>...</td>\n",
       "      <td>1</td>\n",
       "      <td>0</td>\n",
       "      <td>0</td>\n",
       "      <td>0</td>\n",
       "      <td>0</td>\n",
       "      <td>0</td>\n",
       "      <td>0</td>\n",
       "      <td>0</td>\n",
       "      <td>0</td>\n",
       "      <td>0</td>\n",
       "    </tr>\n",
       "    <tr>\n",
       "      <th>24</th>\n",
       "      <td>46</td>\n",
       "      <td>100.00</td>\n",
       "      <td>7381.16</td>\n",
       "      <td>0</td>\n",
       "      <td>0</td>\n",
       "      <td>0</td>\n",
       "      <td>0</td>\n",
       "      <td>0</td>\n",
       "      <td>0</td>\n",
       "      <td>0</td>\n",
       "      <td>...</td>\n",
       "      <td>1</td>\n",
       "      <td>0</td>\n",
       "      <td>0</td>\n",
       "      <td>0</td>\n",
       "      <td>0</td>\n",
       "      <td>0</td>\n",
       "      <td>0</td>\n",
       "      <td>0</td>\n",
       "      <td>0</td>\n",
       "      <td>0</td>\n",
       "    </tr>\n",
       "    <tr>\n",
       "      <th>25</th>\n",
       "      <td>46</td>\n",
       "      <td>100.00</td>\n",
       "      <td>7381.16</td>\n",
       "      <td>0</td>\n",
       "      <td>0</td>\n",
       "      <td>0</td>\n",
       "      <td>0</td>\n",
       "      <td>0</td>\n",
       "      <td>0</td>\n",
       "      <td>0</td>\n",
       "      <td>...</td>\n",
       "      <td>1</td>\n",
       "      <td>0</td>\n",
       "      <td>0</td>\n",
       "      <td>0</td>\n",
       "      <td>0</td>\n",
       "      <td>0</td>\n",
       "      <td>0</td>\n",
       "      <td>0</td>\n",
       "      <td>0</td>\n",
       "      <td>0</td>\n",
       "    </tr>\n",
       "    <tr>\n",
       "      <th>26</th>\n",
       "      <td>46</td>\n",
       "      <td>100.00</td>\n",
       "      <td>7381.16</td>\n",
       "      <td>0</td>\n",
       "      <td>0</td>\n",
       "      <td>0</td>\n",
       "      <td>1</td>\n",
       "      <td>0</td>\n",
       "      <td>0</td>\n",
       "      <td>0</td>\n",
       "      <td>...</td>\n",
       "      <td>1</td>\n",
       "      <td>0</td>\n",
       "      <td>0</td>\n",
       "      <td>0</td>\n",
       "      <td>0</td>\n",
       "      <td>0</td>\n",
       "      <td>0</td>\n",
       "      <td>0</td>\n",
       "      <td>0</td>\n",
       "      <td>0</td>\n",
       "    </tr>\n",
       "    <tr>\n",
       "      <th>27</th>\n",
       "      <td>46</td>\n",
       "      <td>100.00</td>\n",
       "      <td>7381.16</td>\n",
       "      <td>0</td>\n",
       "      <td>0</td>\n",
       "      <td>0</td>\n",
       "      <td>0</td>\n",
       "      <td>1</td>\n",
       "      <td>0</td>\n",
       "      <td>0</td>\n",
       "      <td>...</td>\n",
       "      <td>1</td>\n",
       "      <td>0</td>\n",
       "      <td>0</td>\n",
       "      <td>0</td>\n",
       "      <td>0</td>\n",
       "      <td>0</td>\n",
       "      <td>0</td>\n",
       "      <td>0</td>\n",
       "      <td>0</td>\n",
       "      <td>0</td>\n",
       "    </tr>\n",
       "    <tr>\n",
       "      <th>28</th>\n",
       "      <td>46</td>\n",
       "      <td>100.00</td>\n",
       "      <td>7381.16</td>\n",
       "      <td>0</td>\n",
       "      <td>0</td>\n",
       "      <td>0</td>\n",
       "      <td>0</td>\n",
       "      <td>0</td>\n",
       "      <td>1</td>\n",
       "      <td>0</td>\n",
       "      <td>...</td>\n",
       "      <td>1</td>\n",
       "      <td>0</td>\n",
       "      <td>0</td>\n",
       "      <td>0</td>\n",
       "      <td>0</td>\n",
       "      <td>0</td>\n",
       "      <td>0</td>\n",
       "      <td>0</td>\n",
       "      <td>0</td>\n",
       "      <td>0</td>\n",
       "    </tr>\n",
       "  </tbody>\n",
       "</table>\n",
       "<p>29 rows × 31 columns</p>\n",
       "</div>"
      ],
      "text/plain": [
       "    Unidades  Precio Unitario  Total Venta  Comercial_Abraham C  \\\n",
       "0         62           100.00      8100.00                    0   \n",
       "1         55           100.00      6215.00                    0   \n",
       "2         15           100.00      2700.00                    0   \n",
       "3         88            54.33      6524.00                    1   \n",
       "4         25           100.00      3250.00                    0   \n",
       "5         50            38.40      1852.00                    0   \n",
       "6         28            38.40      1255.00                    0   \n",
       "7         42           100.00      4758.18                    0   \n",
       "8         31           100.00      7023.98                    0   \n",
       "9         35            93.54      3273.90                    0   \n",
       "10        47           100.00      6287.66                    0   \n",
       "11        24            45.99      1103.76                    0   \n",
       "12        45            92.83      4177.35                    0   \n",
       "13        24           100.00      3025.92                    0   \n",
       "14        29            70.84      2054.36                    0   \n",
       "15        29           100.00      4444.54                    0   \n",
       "16        40           100.00      7492.40                    0   \n",
       "17        32            37.17      1189.44                    0   \n",
       "18        46           100.00      7381.16                    0   \n",
       "19        46           100.00      7381.16                    0   \n",
       "20        46           100.00      7381.16                    0   \n",
       "21        46           100.00      7381.16                    0   \n",
       "22        46           100.00      7381.16                    0   \n",
       "23        46           100.00      7381.16                    0   \n",
       "24        46           100.00      7381.16                    0   \n",
       "25        46           100.00      7381.16                    0   \n",
       "26        46           100.00      7381.16                    0   \n",
       "27        46           100.00      7381.16                    0   \n",
       "28        46           100.00      7381.16                    0   \n",
       "\n",
       "    Comercial_Ana G  Comercial_Blanca G  Comercial_Carlos N  \\\n",
       "0                 0                   0                   0   \n",
       "1                 0                   0                   0   \n",
       "2                 0                   0                   0   \n",
       "3                 0                   0                   0   \n",
       "4                 1                   0                   0   \n",
       "5                 0                   1                   0   \n",
       "6                 0                   1                   0   \n",
       "7                 0                   0                   0   \n",
       "8                 0                   0                   0   \n",
       "9                 0                   0                   0   \n",
       "10                0                   0                   0   \n",
       "11                0                   0                   0   \n",
       "12                0                   0                   0   \n",
       "13                0                   0                   0   \n",
       "14                0                   0                   0   \n",
       "15                0                   0                   1   \n",
       "16                0                   0                   0   \n",
       "17                0                   0                   0   \n",
       "18                0                   0                   0   \n",
       "19                0                   0                   0   \n",
       "20                0                   0                   0   \n",
       "21                0                   0                   0   \n",
       "22                0                   0                   0   \n",
       "23                0                   0                   0   \n",
       "24                0                   0                   0   \n",
       "25                0                   0                   0   \n",
       "26                0                   0                   1   \n",
       "27                0                   0                   0   \n",
       "28                0                   0                   0   \n",
       "\n",
       "    Comercial_David G  Comercial_David R  Comercial_Esteban F  ...  \\\n",
       "0                   0                  0                    0  ...   \n",
       "1                   0                  0                    1  ...   \n",
       "2                   0                  0                    0  ...   \n",
       "3                   0                  0                    0  ...   \n",
       "4                   0                  0                    0  ...   \n",
       "5                   0                  0                    0  ...   \n",
       "6                   0                  0                    0  ...   \n",
       "7                   0                  0                    0  ...   \n",
       "8                   0                  0                    0  ...   \n",
       "9                   0                  0                    0  ...   \n",
       "10                  0                  0                    0  ...   \n",
       "11                  0                  0                    0  ...   \n",
       "12                  0                  0                    0  ...   \n",
       "13                  0                  0                    0  ...   \n",
       "14                  0                  0                    0  ...   \n",
       "15                  0                  0                    0  ...   \n",
       "16                  1                  0                    0  ...   \n",
       "17                  0                  1                    0  ...   \n",
       "18                  0                  0                    0  ...   \n",
       "19                  0                  0                    0  ...   \n",
       "20                  0                  0                    0  ...   \n",
       "21                  0                  0                    0  ...   \n",
       "22                  0                  0                    0  ...   \n",
       "23                  0                  0                    0  ...   \n",
       "24                  0                  0                    0  ...   \n",
       "25                  0                  0                    0  ...   \n",
       "26                  0                  0                    0  ...   \n",
       "27                  1                  0                    0  ...   \n",
       "28                  0                  1                    0  ...   \n",
       "\n",
       "    Línea de Producto_Classic Cars  Línea de Producto_Motorcycles  \\\n",
       "0                                1                              0   \n",
       "1                                0                              0   \n",
       "2                                0                              1   \n",
       "3                                0                              0   \n",
       "4                                0                              0   \n",
       "5                                0                              0   \n",
       "6                                0                              0   \n",
       "7                                1                              0   \n",
       "8                                0                              1   \n",
       "9                                0                              1   \n",
       "10                               0                              0   \n",
       "11                               0                              0   \n",
       "12                               0                              1   \n",
       "13                               0                              1   \n",
       "14                               0                              0   \n",
       "15                               1                              0   \n",
       "16                               0                              0   \n",
       "17                               0                              0   \n",
       "18                               1                              0   \n",
       "19                               1                              0   \n",
       "20                               1                              0   \n",
       "21                               1                              0   \n",
       "22                               1                              0   \n",
       "23                               1                              0   \n",
       "24                               1                              0   \n",
       "25                               1                              0   \n",
       "26                               1                              0   \n",
       "27                               1                              0   \n",
       "28                               1                              0   \n",
       "\n",
       "    Línea de Producto_Planes  Línea de Producto_Ships  \\\n",
       "0                          0                        0   \n",
       "1                          0                        0   \n",
       "2                          0                        0   \n",
       "3                          0                        0   \n",
       "4                          1                        0   \n",
       "5                          0                        1   \n",
       "6                          0                        0   \n",
       "7                          0                        0   \n",
       "8                          0                        0   \n",
       "9                          0                        0   \n",
       "10                         0                        0   \n",
       "11                         0                        0   \n",
       "12                         0                        0   \n",
       "13                         0                        0   \n",
       "14                         0                        0   \n",
       "15                         0                        0   \n",
       "16                         0                        0   \n",
       "17                         0                        0   \n",
       "18                         0                        0   \n",
       "19                         0                        0   \n",
       "20                         0                        0   \n",
       "21                         0                        0   \n",
       "22                         0                        0   \n",
       "23                         0                        0   \n",
       "24                         0                        0   \n",
       "25                         0                        0   \n",
       "26                         0                        0   \n",
       "27                         0                        0   \n",
       "28                         0                        0   \n",
       "\n",
       "    Línea de Producto_Trains  Línea de Producto_Trucks and Buses  \\\n",
       "0                          0                                   0   \n",
       "1                          0                                   1   \n",
       "2                          0                                   0   \n",
       "3                          0                                   0   \n",
       "4                          0                                   0   \n",
       "5                          0                                   0   \n",
       "6                          1                                   0   \n",
       "7                          0                                   0   \n",
       "8                          0                                   0   \n",
       "9                          0                                   0   \n",
       "10                         0                                   1   \n",
       "11                         0                                   1   \n",
       "12                         0                                   0   \n",
       "13                         0                                   0   \n",
       "14                         1                                   0   \n",
       "15                         0                                   0   \n",
       "16                         0                                   0   \n",
       "17                         0                                   0   \n",
       "18                         0                                   0   \n",
       "19                         0                                   0   \n",
       "20                         0                                   0   \n",
       "21                         0                                   0   \n",
       "22                         0                                   0   \n",
       "23                         0                                   0   \n",
       "24                         0                                   0   \n",
       "25                         0                                   0   \n",
       "26                         0                                   0   \n",
       "27                         0                                   0   \n",
       "28                         0                                   0   \n",
       "\n",
       "    Línea de Producto_Vintage Cars  Territorio_APAC  Territorio_EMEA  \\\n",
       "0                                0                0                1   \n",
       "1                                0                0                0   \n",
       "2                                0                1                0   \n",
       "3                                1                0                1   \n",
       "4                                0                0                0   \n",
       "5                                0                0                0   \n",
       "6                                0                0                0   \n",
       "7                                0                0                1   \n",
       "8                                0                0                1   \n",
       "9                                0                0                1   \n",
       "10                               0                0                1   \n",
       "11                               0                0                1   \n",
       "12                               0                0                1   \n",
       "13                               0                0                0   \n",
       "14                               0                0                0   \n",
       "15                               0                0                0   \n",
       "16                               1                0                1   \n",
       "17                               1                0                1   \n",
       "18                               0                0                0   \n",
       "19                               0                0                0   \n",
       "20                               0                0                0   \n",
       "21                               0                0                0   \n",
       "22                               0                0                0   \n",
       "23                               0                0                0   \n",
       "24                               0                0                0   \n",
       "25                               0                0                0   \n",
       "26                               0                0                0   \n",
       "27                               0                0                0   \n",
       "28                               0                0                0   \n",
       "\n",
       "    Territorio_Japan  \n",
       "0                  0  \n",
       "1                  1  \n",
       "2                  0  \n",
       "3                  0  \n",
       "4                  0  \n",
       "5                  0  \n",
       "6                  0  \n",
       "7                  0  \n",
       "8                  0  \n",
       "9                  0  \n",
       "10                 0  \n",
       "11                 0  \n",
       "12                 0  \n",
       "13                 0  \n",
       "14                 0  \n",
       "15                 0  \n",
       "16                 0  \n",
       "17                 0  \n",
       "18                 0  \n",
       "19                 0  \n",
       "20                 0  \n",
       "21                 0  \n",
       "22                 0  \n",
       "23                 0  \n",
       "24                 0  \n",
       "25                 0  \n",
       "26                 0  \n",
       "27                 0  \n",
       "28                 0  \n",
       "\n",
       "[29 rows x 31 columns]"
      ]
     },
     "execution_count": 24,
     "metadata": {},
     "output_type": "execute_result"
    }
   ],
   "source": [
    "df_ventas_pred_beneficios_X"
   ]
  },
  {
   "cell_type": "code",
   "execution_count": 25,
   "metadata": {
    "scrolled": true
   },
   "outputs": [],
   "source": [
    "y_pred_ventas_pred_beneficios = reg.predict(df_ventas_pred_beneficios_X)"
   ]
  },
  {
   "cell_type": "code",
   "execution_count": 26,
   "metadata": {},
   "outputs": [
    {
     "data": {
      "text/plain": [
       "array([2366.88113079, 3793.26739154,  321.53752932, 1529.14976388,\n",
       "       1805.22638811, -538.07668794, -566.78232205, 1437.38291569,\n",
       "       1814.26432718,  623.81619398, 3834.31341235, 2345.16270227,\n",
       "        940.78210676,  783.49370534, -397.03077068, 1269.1324379 ,\n",
       "       1730.03458368,  192.79652123, 2443.46424344, 2184.13228807,\n",
       "       2180.87160348, 2153.91821054, 2141.90331647, 2206.87655173,\n",
       "       2484.76112488, 2249.84042157, 2210.99909451, 2196.5401343 ,\n",
       "       2470.46333303])"
      ]
     },
     "execution_count": 26,
     "metadata": {},
     "output_type": "execute_result"
    }
   ],
   "source": [
    "y_pred_ventas_pred_beneficios"
   ]
  },
  {
   "cell_type": "code",
   "execution_count": 27,
   "metadata": {},
   "outputs": [],
   "source": [
    "df_ventas_pred_beneficios['PREDICCIÓN BENEFICIO']=pd.DataFrame(y_pred_ventas_pred_beneficios)"
   ]
  },
  {
   "cell_type": "code",
   "execution_count": 28,
   "metadata": {
    "scrolled": true
   },
   "outputs": [
    {
     "data": {
      "text/html": [
       "<div>\n",
       "<style scoped>\n",
       "    .dataframe tbody tr th:only-of-type {\n",
       "        vertical-align: middle;\n",
       "    }\n",
       "\n",
       "    .dataframe tbody tr th {\n",
       "        vertical-align: top;\n",
       "    }\n",
       "\n",
       "    .dataframe thead th {\n",
       "        text-align: right;\n",
       "    }\n",
       "</style>\n",
       "<table border=\"1\" class=\"dataframe\">\n",
       "  <thead>\n",
       "    <tr style=\"text-align: right;\">\n",
       "      <th></th>\n",
       "      <th>Comercial</th>\n",
       "      <th>Unidades</th>\n",
       "      <th>Precio Unitario</th>\n",
       "      <th>Total Venta</th>\n",
       "      <th>Fecha</th>\n",
       "      <th>Línea de Producto</th>\n",
       "      <th>Código de Producto</th>\n",
       "      <th>País</th>\n",
       "      <th>Territorio</th>\n",
       "      <th>Beneficio</th>\n",
       "      <th>PREDICCIÓN BENEFICIO</th>\n",
       "    </tr>\n",
       "  </thead>\n",
       "  <tbody>\n",
       "    <tr>\n",
       "      <th>0</th>\n",
       "      <td>José A</td>\n",
       "      <td>62</td>\n",
       "      <td>100.00</td>\n",
       "      <td>8100.00</td>\n",
       "      <td>2022-01-04</td>\n",
       "      <td>Classic Cars</td>\n",
       "      <td>S10_4962</td>\n",
       "      <td>France</td>\n",
       "      <td>EMEA</td>\n",
       "      <td>NaN</td>\n",
       "      <td>2366.881131</td>\n",
       "    </tr>\n",
       "    <tr>\n",
       "      <th>1</th>\n",
       "      <td>Esteban F</td>\n",
       "      <td>55</td>\n",
       "      <td>100.00</td>\n",
       "      <td>6215.00</td>\n",
       "      <td>2022-01-04</td>\n",
       "      <td>Trucks and Buses</td>\n",
       "      <td>S18_2319</td>\n",
       "      <td>France</td>\n",
       "      <td>Japan</td>\n",
       "      <td>NaN</td>\n",
       "      <td>3793.267392</td>\n",
       "    </tr>\n",
       "    <tr>\n",
       "      <th>2</th>\n",
       "      <td>Iván M</td>\n",
       "      <td>15</td>\n",
       "      <td>100.00</td>\n",
       "      <td>2700.00</td>\n",
       "      <td>2022-01-08</td>\n",
       "      <td>Motorcycles</td>\n",
       "      <td>S18_3232</td>\n",
       "      <td>Finland</td>\n",
       "      <td>APAC</td>\n",
       "      <td>NaN</td>\n",
       "      <td>321.537529</td>\n",
       "    </tr>\n",
       "    <tr>\n",
       "      <th>3</th>\n",
       "      <td>Abraham C</td>\n",
       "      <td>88</td>\n",
       "      <td>54.33</td>\n",
       "      <td>6524.00</td>\n",
       "      <td>2022-01-08</td>\n",
       "      <td>Vintage Cars</td>\n",
       "      <td>S24_1444</td>\n",
       "      <td>Finland</td>\n",
       "      <td>EMEA</td>\n",
       "      <td>NaN</td>\n",
       "      <td>1529.149764</td>\n",
       "    </tr>\n",
       "    <tr>\n",
       "      <th>4</th>\n",
       "      <td>Ana G</td>\n",
       "      <td>25</td>\n",
       "      <td>100.00</td>\n",
       "      <td>3250.00</td>\n",
       "      <td>2022-01-12</td>\n",
       "      <td>Planes</td>\n",
       "      <td>S10_1678</td>\n",
       "      <td>USA</td>\n",
       "      <td>NaN</td>\n",
       "      <td>NaN</td>\n",
       "      <td>1805.226388</td>\n",
       "    </tr>\n",
       "    <tr>\n",
       "      <th>5</th>\n",
       "      <td>Blanca G</td>\n",
       "      <td>50</td>\n",
       "      <td>38.40</td>\n",
       "      <td>1852.00</td>\n",
       "      <td>2022-01-12</td>\n",
       "      <td>Ships</td>\n",
       "      <td>S50_1341</td>\n",
       "      <td>USA</td>\n",
       "      <td>NaN</td>\n",
       "      <td>NaN</td>\n",
       "      <td>-538.076688</td>\n",
       "    </tr>\n",
       "    <tr>\n",
       "      <th>6</th>\n",
       "      <td>Blanca G</td>\n",
       "      <td>28</td>\n",
       "      <td>38.40</td>\n",
       "      <td>1255.00</td>\n",
       "      <td>2022-01-12</td>\n",
       "      <td>Trains</td>\n",
       "      <td>S50_1341</td>\n",
       "      <td>USA</td>\n",
       "      <td>NaN</td>\n",
       "      <td>NaN</td>\n",
       "      <td>-566.782322</td>\n",
       "    </tr>\n",
       "    <tr>\n",
       "      <th>7</th>\n",
       "      <td>Luis M</td>\n",
       "      <td>42</td>\n",
       "      <td>100.00</td>\n",
       "      <td>4758.18</td>\n",
       "      <td>2022-01-04</td>\n",
       "      <td>Classic Cars</td>\n",
       "      <td>S700_2824</td>\n",
       "      <td>France</td>\n",
       "      <td>EMEA</td>\n",
       "      <td>NaN</td>\n",
       "      <td>1437.382916</td>\n",
       "    </tr>\n",
       "    <tr>\n",
       "      <th>8</th>\n",
       "      <td>María G</td>\n",
       "      <td>31</td>\n",
       "      <td>100.00</td>\n",
       "      <td>7023.98</td>\n",
       "      <td>2022-01-07</td>\n",
       "      <td>Motorcycles</td>\n",
       "      <td>S10_4698</td>\n",
       "      <td>France</td>\n",
       "      <td>EMEA</td>\n",
       "      <td>NaN</td>\n",
       "      <td>1814.264327</td>\n",
       "    </tr>\n",
       "    <tr>\n",
       "      <th>9</th>\n",
       "      <td>Luisa L</td>\n",
       "      <td>35</td>\n",
       "      <td>93.54</td>\n",
       "      <td>3273.90</td>\n",
       "      <td>2022-01-07</td>\n",
       "      <td>Motorcycles</td>\n",
       "      <td>S24_1578</td>\n",
       "      <td>France</td>\n",
       "      <td>EMEA</td>\n",
       "      <td>NaN</td>\n",
       "      <td>623.816194</td>\n",
       "    </tr>\n",
       "    <tr>\n",
       "      <th>10</th>\n",
       "      <td>Juan L</td>\n",
       "      <td>47</td>\n",
       "      <td>100.00</td>\n",
       "      <td>6287.66</td>\n",
       "      <td>2022-01-08</td>\n",
       "      <td>Trucks and Buses</td>\n",
       "      <td>S18_2319</td>\n",
       "      <td>Finland</td>\n",
       "      <td>EMEA</td>\n",
       "      <td>NaN</td>\n",
       "      <td>3834.313412</td>\n",
       "    </tr>\n",
       "    <tr>\n",
       "      <th>11</th>\n",
       "      <td>Vega P</td>\n",
       "      <td>24</td>\n",
       "      <td>45.99</td>\n",
       "      <td>1103.76</td>\n",
       "      <td>2022-01-08</td>\n",
       "      <td>Trucks and Buses</td>\n",
       "      <td>S32_2509</td>\n",
       "      <td>Finland</td>\n",
       "      <td>EMEA</td>\n",
       "      <td>NaN</td>\n",
       "      <td>2345.162702</td>\n",
       "    </tr>\n",
       "    <tr>\n",
       "      <th>12</th>\n",
       "      <td>Luis P</td>\n",
       "      <td>45</td>\n",
       "      <td>92.83</td>\n",
       "      <td>4177.35</td>\n",
       "      <td>2022-01-12</td>\n",
       "      <td>Motorcycles</td>\n",
       "      <td>S10_1678</td>\n",
       "      <td>France</td>\n",
       "      <td>EMEA</td>\n",
       "      <td>NaN</td>\n",
       "      <td>940.782107</td>\n",
       "    </tr>\n",
       "    <tr>\n",
       "      <th>13</th>\n",
       "      <td>Jorge N</td>\n",
       "      <td>24</td>\n",
       "      <td>100.00</td>\n",
       "      <td>3025.92</td>\n",
       "      <td>2022-01-12</td>\n",
       "      <td>Motorcycles</td>\n",
       "      <td>S10_2016</td>\n",
       "      <td>USA</td>\n",
       "      <td>NaN</td>\n",
       "      <td>NaN</td>\n",
       "      <td>783.493705</td>\n",
       "    </tr>\n",
       "    <tr>\n",
       "      <th>14</th>\n",
       "      <td>Jorge P</td>\n",
       "      <td>29</td>\n",
       "      <td>70.84</td>\n",
       "      <td>2054.36</td>\n",
       "      <td>2022-03-06</td>\n",
       "      <td>Trains</td>\n",
       "      <td>S32_3207</td>\n",
       "      <td>USA</td>\n",
       "      <td>NaN</td>\n",
       "      <td>NaN</td>\n",
       "      <td>-397.030771</td>\n",
       "    </tr>\n",
       "    <tr>\n",
       "      <th>15</th>\n",
       "      <td>Carlos N</td>\n",
       "      <td>29</td>\n",
       "      <td>100.00</td>\n",
       "      <td>4444.54</td>\n",
       "      <td>2022-03-09</td>\n",
       "      <td>Classic Cars</td>\n",
       "      <td>S18_4721</td>\n",
       "      <td>USA</td>\n",
       "      <td>NaN</td>\n",
       "      <td>NaN</td>\n",
       "      <td>1269.132438</td>\n",
       "    </tr>\n",
       "    <tr>\n",
       "      <th>16</th>\n",
       "      <td>David G</td>\n",
       "      <td>40</td>\n",
       "      <td>100.00</td>\n",
       "      <td>7492.40</td>\n",
       "      <td>2022-03-12</td>\n",
       "      <td>Vintage Cars</td>\n",
       "      <td>S18_2795</td>\n",
       "      <td>Spain</td>\n",
       "      <td>EMEA</td>\n",
       "      <td>NaN</td>\n",
       "      <td>1730.034584</td>\n",
       "    </tr>\n",
       "    <tr>\n",
       "      <th>17</th>\n",
       "      <td>David R</td>\n",
       "      <td>32</td>\n",
       "      <td>37.17</td>\n",
       "      <td>1189.44</td>\n",
       "      <td>2022-03-12</td>\n",
       "      <td>Vintage Cars</td>\n",
       "      <td>S24_1937</td>\n",
       "      <td>Spain</td>\n",
       "      <td>EMEA</td>\n",
       "      <td>NaN</td>\n",
       "      <td>192.796521</td>\n",
       "    </tr>\n",
       "    <tr>\n",
       "      <th>18</th>\n",
       "      <td>Natalia P</td>\n",
       "      <td>46</td>\n",
       "      <td>100.00</td>\n",
       "      <td>7381.16</td>\n",
       "      <td>2022-04-04</td>\n",
       "      <td>Classic Cars</td>\n",
       "      <td>S18_2238</td>\n",
       "      <td>USA</td>\n",
       "      <td>NaN</td>\n",
       "      <td>NaN</td>\n",
       "      <td>2443.464243</td>\n",
       "    </tr>\n",
       "    <tr>\n",
       "      <th>19</th>\n",
       "      <td>María G</td>\n",
       "      <td>46</td>\n",
       "      <td>100.00</td>\n",
       "      <td>7381.16</td>\n",
       "      <td>2022-04-04</td>\n",
       "      <td>Classic Cars</td>\n",
       "      <td>S18_2238</td>\n",
       "      <td>USA</td>\n",
       "      <td>NaN</td>\n",
       "      <td>NaN</td>\n",
       "      <td>2184.132288</td>\n",
       "    </tr>\n",
       "    <tr>\n",
       "      <th>20</th>\n",
       "      <td>Luisa L</td>\n",
       "      <td>46</td>\n",
       "      <td>100.00</td>\n",
       "      <td>7381.16</td>\n",
       "      <td>2022-04-04</td>\n",
       "      <td>Classic Cars</td>\n",
       "      <td>S18_2238</td>\n",
       "      <td>USA</td>\n",
       "      <td>NaN</td>\n",
       "      <td>NaN</td>\n",
       "      <td>2180.871603</td>\n",
       "    </tr>\n",
       "    <tr>\n",
       "      <th>21</th>\n",
       "      <td>Juan L</td>\n",
       "      <td>46</td>\n",
       "      <td>100.00</td>\n",
       "      <td>7381.16</td>\n",
       "      <td>2022-04-04</td>\n",
       "      <td>Classic Cars</td>\n",
       "      <td>S18_2238</td>\n",
       "      <td>USA</td>\n",
       "      <td>NaN</td>\n",
       "      <td>NaN</td>\n",
       "      <td>2153.918211</td>\n",
       "    </tr>\n",
       "    <tr>\n",
       "      <th>22</th>\n",
       "      <td>Vega P</td>\n",
       "      <td>46</td>\n",
       "      <td>100.00</td>\n",
       "      <td>7381.16</td>\n",
       "      <td>2022-04-04</td>\n",
       "      <td>Classic Cars</td>\n",
       "      <td>S18_2238</td>\n",
       "      <td>USA</td>\n",
       "      <td>NaN</td>\n",
       "      <td>NaN</td>\n",
       "      <td>2141.903316</td>\n",
       "    </tr>\n",
       "    <tr>\n",
       "      <th>23</th>\n",
       "      <td>Luis P</td>\n",
       "      <td>46</td>\n",
       "      <td>100.00</td>\n",
       "      <td>7381.16</td>\n",
       "      <td>2022-04-04</td>\n",
       "      <td>Classic Cars</td>\n",
       "      <td>S18_2238</td>\n",
       "      <td>USA</td>\n",
       "      <td>NaN</td>\n",
       "      <td>NaN</td>\n",
       "      <td>2206.876552</td>\n",
       "    </tr>\n",
       "    <tr>\n",
       "      <th>24</th>\n",
       "      <td>Jorge N</td>\n",
       "      <td>46</td>\n",
       "      <td>100.00</td>\n",
       "      <td>7381.16</td>\n",
       "      <td>2022-04-04</td>\n",
       "      <td>Classic Cars</td>\n",
       "      <td>S18_2238</td>\n",
       "      <td>USA</td>\n",
       "      <td>NaN</td>\n",
       "      <td>NaN</td>\n",
       "      <td>2484.761125</td>\n",
       "    </tr>\n",
       "    <tr>\n",
       "      <th>25</th>\n",
       "      <td>Jorge P</td>\n",
       "      <td>46</td>\n",
       "      <td>100.00</td>\n",
       "      <td>7381.16</td>\n",
       "      <td>2022-04-04</td>\n",
       "      <td>Classic Cars</td>\n",
       "      <td>S18_2238</td>\n",
       "      <td>USA</td>\n",
       "      <td>NaN</td>\n",
       "      <td>NaN</td>\n",
       "      <td>2249.840422</td>\n",
       "    </tr>\n",
       "    <tr>\n",
       "      <th>26</th>\n",
       "      <td>Carlos N</td>\n",
       "      <td>46</td>\n",
       "      <td>100.00</td>\n",
       "      <td>7381.16</td>\n",
       "      <td>2022-04-04</td>\n",
       "      <td>Classic Cars</td>\n",
       "      <td>S18_2238</td>\n",
       "      <td>USA</td>\n",
       "      <td>NaN</td>\n",
       "      <td>NaN</td>\n",
       "      <td>2210.999095</td>\n",
       "    </tr>\n",
       "    <tr>\n",
       "      <th>27</th>\n",
       "      <td>David G</td>\n",
       "      <td>46</td>\n",
       "      <td>100.00</td>\n",
       "      <td>7381.16</td>\n",
       "      <td>2022-04-04</td>\n",
       "      <td>Classic Cars</td>\n",
       "      <td>S18_2238</td>\n",
       "      <td>USA</td>\n",
       "      <td>NaN</td>\n",
       "      <td>NaN</td>\n",
       "      <td>2196.540134</td>\n",
       "    </tr>\n",
       "    <tr>\n",
       "      <th>28</th>\n",
       "      <td>David R</td>\n",
       "      <td>46</td>\n",
       "      <td>100.00</td>\n",
       "      <td>7381.16</td>\n",
       "      <td>2022-04-04</td>\n",
       "      <td>Classic Cars</td>\n",
       "      <td>S18_2238</td>\n",
       "      <td>USA</td>\n",
       "      <td>NaN</td>\n",
       "      <td>NaN</td>\n",
       "      <td>2470.463333</td>\n",
       "    </tr>\n",
       "  </tbody>\n",
       "</table>\n",
       "</div>"
      ],
      "text/plain": [
       "    Comercial  Unidades  Precio Unitario  Total Venta      Fecha  \\\n",
       "0      José A        62           100.00      8100.00 2022-01-04   \n",
       "1   Esteban F        55           100.00      6215.00 2022-01-04   \n",
       "2      Iván M        15           100.00      2700.00 2022-01-08   \n",
       "3   Abraham C        88            54.33      6524.00 2022-01-08   \n",
       "4       Ana G        25           100.00      3250.00 2022-01-12   \n",
       "5    Blanca G        50            38.40      1852.00 2022-01-12   \n",
       "6    Blanca G        28            38.40      1255.00 2022-01-12   \n",
       "7      Luis M        42           100.00      4758.18 2022-01-04   \n",
       "8     María G        31           100.00      7023.98 2022-01-07   \n",
       "9     Luisa L        35            93.54      3273.90 2022-01-07   \n",
       "10     Juan L        47           100.00      6287.66 2022-01-08   \n",
       "11     Vega P        24            45.99      1103.76 2022-01-08   \n",
       "12     Luis P        45            92.83      4177.35 2022-01-12   \n",
       "13    Jorge N        24           100.00      3025.92 2022-01-12   \n",
       "14    Jorge P        29            70.84      2054.36 2022-03-06   \n",
       "15   Carlos N        29           100.00      4444.54 2022-03-09   \n",
       "16    David G        40           100.00      7492.40 2022-03-12   \n",
       "17    David R        32            37.17      1189.44 2022-03-12   \n",
       "18  Natalia P        46           100.00      7381.16 2022-04-04   \n",
       "19    María G        46           100.00      7381.16 2022-04-04   \n",
       "20    Luisa L        46           100.00      7381.16 2022-04-04   \n",
       "21     Juan L        46           100.00      7381.16 2022-04-04   \n",
       "22     Vega P        46           100.00      7381.16 2022-04-04   \n",
       "23     Luis P        46           100.00      7381.16 2022-04-04   \n",
       "24    Jorge N        46           100.00      7381.16 2022-04-04   \n",
       "25    Jorge P        46           100.00      7381.16 2022-04-04   \n",
       "26   Carlos N        46           100.00      7381.16 2022-04-04   \n",
       "27    David G        46           100.00      7381.16 2022-04-04   \n",
       "28    David R        46           100.00      7381.16 2022-04-04   \n",
       "\n",
       "   Línea de Producto Código de Producto     País Territorio  Beneficio  \\\n",
       "0       Classic Cars           S10_4962   France       EMEA        NaN   \n",
       "1   Trucks and Buses           S18_2319   France      Japan        NaN   \n",
       "2        Motorcycles           S18_3232  Finland       APAC        NaN   \n",
       "3       Vintage Cars           S24_1444  Finland       EMEA        NaN   \n",
       "4             Planes           S10_1678      USA        NaN        NaN   \n",
       "5              Ships           S50_1341      USA        NaN        NaN   \n",
       "6             Trains           S50_1341      USA        NaN        NaN   \n",
       "7       Classic Cars          S700_2824   France       EMEA        NaN   \n",
       "8        Motorcycles           S10_4698   France       EMEA        NaN   \n",
       "9        Motorcycles           S24_1578   France       EMEA        NaN   \n",
       "10  Trucks and Buses           S18_2319  Finland       EMEA        NaN   \n",
       "11  Trucks and Buses           S32_2509  Finland       EMEA        NaN   \n",
       "12       Motorcycles           S10_1678   France       EMEA        NaN   \n",
       "13       Motorcycles           S10_2016      USA        NaN        NaN   \n",
       "14            Trains           S32_3207      USA        NaN        NaN   \n",
       "15      Classic Cars           S18_4721      USA        NaN        NaN   \n",
       "16      Vintage Cars           S18_2795    Spain       EMEA        NaN   \n",
       "17      Vintage Cars           S24_1937    Spain       EMEA        NaN   \n",
       "18      Classic Cars           S18_2238      USA        NaN        NaN   \n",
       "19      Classic Cars           S18_2238      USA        NaN        NaN   \n",
       "20      Classic Cars           S18_2238      USA        NaN        NaN   \n",
       "21      Classic Cars           S18_2238      USA        NaN        NaN   \n",
       "22      Classic Cars           S18_2238      USA        NaN        NaN   \n",
       "23      Classic Cars           S18_2238      USA        NaN        NaN   \n",
       "24      Classic Cars           S18_2238      USA        NaN        NaN   \n",
       "25      Classic Cars           S18_2238      USA        NaN        NaN   \n",
       "26      Classic Cars           S18_2238      USA        NaN        NaN   \n",
       "27      Classic Cars           S18_2238      USA        NaN        NaN   \n",
       "28      Classic Cars           S18_2238      USA        NaN        NaN   \n",
       "\n",
       "    PREDICCIÓN BENEFICIO  \n",
       "0            2366.881131  \n",
       "1            3793.267392  \n",
       "2             321.537529  \n",
       "3            1529.149764  \n",
       "4            1805.226388  \n",
       "5            -538.076688  \n",
       "6            -566.782322  \n",
       "7            1437.382916  \n",
       "8            1814.264327  \n",
       "9             623.816194  \n",
       "10           3834.313412  \n",
       "11           2345.162702  \n",
       "12            940.782107  \n",
       "13            783.493705  \n",
       "14           -397.030771  \n",
       "15           1269.132438  \n",
       "16           1730.034584  \n",
       "17            192.796521  \n",
       "18           2443.464243  \n",
       "19           2184.132288  \n",
       "20           2180.871603  \n",
       "21           2153.918211  \n",
       "22           2141.903316  \n",
       "23           2206.876552  \n",
       "24           2484.761125  \n",
       "25           2249.840422  \n",
       "26           2210.999095  \n",
       "27           2196.540134  \n",
       "28           2470.463333  "
      ]
     },
     "execution_count": 28,
     "metadata": {},
     "output_type": "execute_result"
    }
   ],
   "source": [
    "df_ventas_pred_beneficios"
   ]
  },
  {
   "cell_type": "code",
   "execution_count": null,
   "metadata": {},
   "outputs": [],
   "source": []
  },
  {
   "cell_type": "code",
   "execution_count": null,
   "metadata": {},
   "outputs": [],
   "source": []
  },
  {
   "cell_type": "code",
   "execution_count": null,
   "metadata": {},
   "outputs": [],
   "source": []
  },
  {
   "cell_type": "code",
   "execution_count": null,
   "metadata": {},
   "outputs": [],
   "source": []
  },
  {
   "cell_type": "code",
   "execution_count": null,
   "metadata": {},
   "outputs": [],
   "source": []
  }
 ],
 "metadata": {
  "kernelspec": {
   "display_name": "Python [conda env:base] *",
   "language": "python",
   "name": "conda-base-py"
  },
  "language_info": {
   "codemirror_mode": {
    "name": "ipython",
    "version": 3
   },
   "file_extension": ".py",
   "mimetype": "text/x-python",
   "name": "python",
   "nbconvert_exporter": "python",
   "pygments_lexer": "ipython3",
   "version": "3.12.7"
  }
 },
 "nbformat": 4,
 "nbformat_minor": 4
}
