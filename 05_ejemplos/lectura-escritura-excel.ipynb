{
 "cells": [
  {
   "cell_type": "markdown",
   "id": "77e70376-5d0f-4203-a8d4-210d9afe2915",
   "metadata": {},
   "source": [
    "# Lectura"
   ]
  },
  {
   "cell_type": "code",
   "execution_count": 1,
   "id": "22a91d30-a442-4f8f-8a66-25e9300e8040",
   "metadata": {},
   "outputs": [],
   "source": [
    "import openpyxl"
   ]
  },
  {
   "cell_type": "code",
   "execution_count": 11,
   "id": "4521927f-aa47-4b63-8af1-598789a41d57",
   "metadata": {},
   "outputs": [],
   "source": [
    "libro =openpyxl.load_workbook(\"C:/Users/artha/OneDrive/Escritorio/AKKODIS/python-rda/05_ejemplos/distritos-ejemplo.xlsx\")"
   ]
  },
  {
   "cell_type": "code",
   "execution_count": 13,
   "id": "dd1debc4-bbe5-4799-9244-9249c320a368",
   "metadata": {},
   "outputs": [
    {
     "data": {
      "text/plain": [
       "['Distrito_población']"
      ]
     },
     "execution_count": 13,
     "metadata": {},
     "output_type": "execute_result"
    }
   ],
   "source": [
    "libro.sheetnames"
   ]
  },
  {
   "cell_type": "code",
   "execution_count": 15,
   "id": "4ceeefd3-643a-4ae3-a3c2-5575fce13797",
   "metadata": {},
   "outputs": [],
   "source": [
    "pestaña = libro['Distrito_población']"
   ]
  },
  {
   "cell_type": "code",
   "execution_count": 17,
   "id": "165b0cf6-a9a5-4c74-8524-03d30cf6d6d9",
   "metadata": {},
   "outputs": [
    {
     "data": {
      "text/plain": [
       "'DISTRITO'"
      ]
     },
     "execution_count": 17,
     "metadata": {},
     "output_type": "execute_result"
    }
   ],
   "source": [
    "pestaña['A1'].value"
   ]
  },
  {
   "cell_type": "code",
   "execution_count": 19,
   "id": "7d526c29-4f38-496f-9c44-2a593b667770",
   "metadata": {},
   "outputs": [
    {
     "data": {
      "text/plain": [
       "'Arganzuela'"
      ]
     },
     "execution_count": 19,
     "metadata": {},
     "output_type": "execute_result"
    }
   ],
   "source": [
    "pestaña.cell(row=2, column=1).value"
   ]
  },
  {
   "cell_type": "code",
   "execution_count": 23,
   "id": "40842d6e-cedf-4a78-9e51-2a1b1b82af56",
   "metadata": {},
   "outputs": [
    {
     "name": "stdout",
     "output_type": "stream",
     "text": [
      "DISTRITO\n",
      "Arganzuela\n",
      "Centro\n",
      "Chamberí\n",
      "Moncloa-Aravaca\n"
     ]
    }
   ],
   "source": [
    "for i in range(1,6):\n",
    "    print(pestaña.cell(row=i, column=1).value)"
   ]
  },
  {
   "cell_type": "markdown",
   "id": "25d05638-c01a-403c-8d89-97afba6a1dd0",
   "metadata": {},
   "source": [
    "# Escritura"
   ]
  },
  {
   "cell_type": "code",
   "execution_count": 28,
   "id": "00198ced-6259-4b58-b456-cbd797f8607e",
   "metadata": {},
   "outputs": [],
   "source": [
    "pestaña['C1']= 'Ranking'"
   ]
  },
  {
   "cell_type": "code",
   "execution_count": 30,
   "id": "59c3feea-fc59-4491-9c6b-f868756d0fe1",
   "metadata": {},
   "outputs": [],
   "source": [
    "pestaña2 = libro.create_sheet(title='Nueva pestaña')"
   ]
  },
  {
   "cell_type": "code",
   "execution_count": 32,
   "id": "48711f07-7981-45e3-832e-e2c62ded66bc",
   "metadata": {},
   "outputs": [],
   "source": [
    "libro.save(\"C:/Users/artha/OneDrive/Escritorio/AKKODIS/python-rda/05_ejemplos/distritos-ejemplo_v2.xlsx\")"
   ]
  }
 ],
 "metadata": {
  "kernelspec": {
   "display_name": "Python [conda env:base] *",
   "language": "python",
   "name": "conda-base-py"
  },
  "language_info": {
   "codemirror_mode": {
    "name": "ipython",
    "version": 3
   },
   "file_extension": ".py",
   "mimetype": "text/x-python",
   "name": "python",
   "nbconvert_exporter": "python",
   "pygments_lexer": "ipython3",
   "version": "3.12.7"
  }
 },
 "nbformat": 4,
 "nbformat_minor": 5
}
